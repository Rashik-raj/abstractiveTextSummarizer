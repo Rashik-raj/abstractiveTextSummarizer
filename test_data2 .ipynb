{
 "cells": [
  {
   "cell_type": "code",
   "execution_count": 1,
   "metadata": {},
   "outputs": [],
   "source": [
    "from attention import AttentionLayer"
   ]
  },
  {
   "cell_type": "code",
   "execution_count": 2,
   "metadata": {},
   "outputs": [
    {
     "name": "stderr",
     "output_type": "stream",
     "text": [
      "Using TensorFlow backend.\n"
     ]
    }
   ],
   "source": [
    "import numpy as np\n",
    "import pandas as pd \n",
    "import re\n",
    "from bs4 import BeautifulSoup\n",
    "from keras.preprocessing.text import Tokenizer \n",
    "from keras.preprocessing.sequence import pad_sequences\n",
    "from nltk.corpus import stopwords\n",
    "import tensorflow as tf\n",
    "from tensorflow.keras.layers import Input, LSTM, Embedding, Dense, Concatenate, TimeDistributed\n",
    "from tensorflow.keras.models import Model, load_model\n",
    "from tensorflow.keras.callbacks import EarlyStopping\n",
    "import warnings\n",
    "pd.set_option(\"display.max_colwidth\", 200)\n",
    "warnings.filterwarnings(\"ignore\")"
   ]
  },
  {
   "cell_type": "code",
   "execution_count": 3,
   "metadata": {},
   "outputs": [],
   "source": [
    "data=pd.read_csv(\"Reviews.csv\",nrows=100000)"
   ]
  },
  {
   "cell_type": "code",
   "execution_count": 4,
   "metadata": {},
   "outputs": [],
   "source": [
    "data.drop_duplicates(subset=['Text'],inplace=True)#dropping duplicates\n",
    "data.dropna(axis=0,inplace=True)#dropping na"
   ]
  },
  {
   "cell_type": "code",
   "execution_count": 5,
   "metadata": {},
   "outputs": [
    {
     "name": "stdout",
     "output_type": "stream",
     "text": [
      "<class 'pandas.core.frame.DataFrame'>\n",
      "Int64Index: 88425 entries, 0 to 99999\n",
      "Data columns (total 2 columns):\n",
      "Summary    88425 non-null object\n",
      "Text       88425 non-null object\n",
      "dtypes: object(2)\n",
      "memory usage: 2.0+ MB\n"
     ]
    }
   ],
   "source": [
    "data.info()"
   ]
  },
  {
   "cell_type": "code",
   "execution_count": 6,
   "metadata": {},
   "outputs": [],
   "source": [
    "contraction_mapping = {\"ain't\": \"is not\", \"aren't\": \"are not\",\"can't\": \"cannot\", \"'cause\": \"because\", \"could've\": \"could have\", \"couldn't\": \"could not\",\n",
    "                           \"didn't\": \"did not\",  \"doesn't\": \"does not\", \"don't\": \"do not\", \"hadn't\": \"had not\", \"hasn't\": \"has not\", \"haven't\": \"have not\",\n",
    "                           \"he'd\": \"he would\",\"he'll\": \"he will\", \"he's\": \"he is\", \"how'd\": \"how did\", \"how'd'y\": \"how do you\", \"how'll\": \"how will\", \"how's\": \"how is\",\n",
    "                           \"I'd\": \"I would\", \"I'd've\": \"I would have\", \"I'll\": \"I will\", \"I'll've\": \"I will have\",\"I'm\": \"I am\", \"I've\": \"I have\", \"i'd\": \"i would\",\n",
    "                           \"i'd've\": \"i would have\", \"i'll\": \"i will\",  \"i'll've\": \"i will have\",\"i'm\": \"i am\", \"i've\": \"i have\", \"isn't\": \"is not\", \"it'd\": \"it would\",\n",
    "                           \"it'd've\": \"it would have\", \"it'll\": \"it will\", \"it'll've\": \"it will have\",\"it's\": \"it is\", \"let's\": \"let us\", \"ma'am\": \"madam\",\n",
    "                           \"mayn't\": \"may not\", \"might've\": \"might have\",\"mightn't\": \"might not\",\"mightn't've\": \"might not have\", \"must've\": \"must have\",\n",
    "                           \"mustn't\": \"must not\", \"mustn't've\": \"must not have\", \"needn't\": \"need not\", \"needn't've\": \"need not have\",\"o'clock\": \"of the clock\",\n",
    "                           \"oughtn't\": \"ought not\", \"oughtn't've\": \"ought not have\", \"shan't\": \"shall not\", \"sha'n't\": \"shall not\", \"shan't've\": \"shall not have\",\n",
    "                           \"she'd\": \"she would\", \"she'd've\": \"she would have\", \"she'll\": \"she will\", \"she'll've\": \"she will have\", \"she's\": \"she is\",\n",
    "                           \"should've\": \"should have\", \"shouldn't\": \"should not\", \"shouldn't've\": \"should not have\", \"so've\": \"so have\",\"so's\": \"so as\",\n",
    "                           \"this's\": \"this is\",\"that'd\": \"that would\", \"that'd've\": \"that would have\", \"that's\": \"that is\", \"there'd\": \"there would\",\n",
    "                           \"there'd've\": \"there would have\", \"there's\": \"there is\", \"here's\": \"here is\",\"they'd\": \"they would\", \"they'd've\": \"they would have\",\n",
    "                           \"they'll\": \"they will\", \"they'll've\": \"they will have\", \"they're\": \"they are\", \"they've\": \"they have\", \"to've\": \"to have\",\n",
    "                           \"wasn't\": \"was not\", \"we'd\": \"we would\", \"we'd've\": \"we would have\", \"we'll\": \"we will\", \"we'll've\": \"we will have\", \"we're\": \"we are\",\n",
    "                           \"we've\": \"we have\", \"weren't\": \"were not\", \"what'll\": \"what will\", \"what'll've\": \"what will have\", \"what're\": \"what are\",\n",
    "                           \"what's\": \"what is\", \"what've\": \"what have\", \"when's\": \"when is\", \"when've\": \"when have\", \"where'd\": \"where did\", \"where's\": \"where is\",\n",
    "                           \"where've\": \"where have\", \"who'll\": \"who will\", \"who'll've\": \"who will have\", \"who's\": \"who is\", \"who've\": \"who have\",\n",
    "                           \"why's\": \"why is\", \"why've\": \"why have\", \"will've\": \"will have\", \"won't\": \"will not\", \"won't've\": \"will not have\",\n",
    "                           \"would've\": \"would have\", \"wouldn't\": \"would not\", \"wouldn't've\": \"would not have\", \"y'all\": \"you all\",\n",
    "                           \"y'all'd\": \"you all would\",\"y'all'd've\": \"you all would have\",\"y'all're\": \"you all are\",\"y'all've\": \"you all have\",\n",
    "                           \"you'd\": \"you would\", \"you'd've\": \"you would have\", \"you'll\": \"you will\", \"you'll've\": \"you will have\",\n",
    "                           \"you're\": \"you are\", \"you've\": \"you have\"}"
   ]
  },
  {
   "cell_type": "code",
   "execution_count": 7,
   "metadata": {},
   "outputs": [],
   "source": [
    "stop_words = set(stopwords.words('english')) \n",
    "\n",
    "def text_cleaner(text,num):\n",
    "    newString = text.lower()\n",
    "    newString = BeautifulSoup(newString, \"lxml\").text\n",
    "    newString = re.sub(r'\\([^)]*\\)', '', newString)\n",
    "    newString = re.sub('\"','', newString)\n",
    "    newString = ' '.join([contraction_mapping[t] if t in contraction_mapping else t for t in newString.split(\" \")])    \n",
    "    newString = re.sub(r\"'s\\b\",\"\",newString)\n",
    "    newString = re.sub(\"[^a-zA-Z]\", \" \", newString) \n",
    "    newString = re.sub('[m]{2,}', 'mm', newString)\n",
    "    if(num==0):\n",
    "        tokens = [w for w in newString.split() if not w in stop_words]\n",
    "    else:\n",
    "        tokens=newString.split()\n",
    "    long_words=[]\n",
    "    for i in tokens:\n",
    "        if len(i)>1:                                                 #removing short word\n",
    "            long_words.append(i)   \n",
    "    return (\" \".join(long_words)).strip()"
   ]
  },
  {
   "cell_type": "code",
   "execution_count": 8,
   "metadata": {},
   "outputs": [],
   "source": [
    "#call the function\n",
    "cleaned_text = []\n",
    "for t in data['Text']:\n",
    "    cleaned_text.append(text_cleaner(t,0))"
   ]
  },
  {
   "cell_type": "code",
   "execution_count": 9,
   "metadata": {},
   "outputs": [
    {
     "name": "stdout",
     "output_type": "stream",
     "text": [
      "<class 'list'>\n"
     ]
    }
   ],
   "source": [
    "cleaned_text[:5]\n",
    "print(type(cleaned_text))"
   ]
  },
  {
   "cell_type": "code",
   "execution_count": 10,
   "metadata": {},
   "outputs": [],
   "source": [
    "#call the function\n",
    "cleaned_summary = []\n",
    "for t in data['Summary']:\n",
    "    cleaned_summary.append(text_cleaner(t,1))"
   ]
  },
  {
   "cell_type": "code",
   "execution_count": 11,
   "metadata": {},
   "outputs": [
    {
     "data": {
      "text/plain": [
       "['good quality dog food',\n",
       " 'not as advertised',\n",
       " 'delight says it all',\n",
       " 'cough medicine',\n",
       " 'great taffy']"
      ]
     },
     "execution_count": 11,
     "metadata": {},
     "output_type": "execute_result"
    }
   ],
   "source": [
    "cleaned_summary[:5]"
   ]
  },
  {
   "cell_type": "code",
   "execution_count": 12,
   "metadata": {},
   "outputs": [
    {
     "name": "stdout",
     "output_type": "stream",
     "text": [
      "<class 'pandas.core.series.Series'>\n"
     ]
    },
    {
     "data": {
      "text/plain": [
       "(88425,)"
      ]
     },
     "execution_count": 12,
     "metadata": {},
     "output_type": "execute_result"
    }
   ],
   "source": [
    "data['cleaned_text']=cleaned_text\n",
    "data['cleaned_summary']=cleaned_summary\n",
    "print(type(data['cleaned_text']))\n",
    "(data['cleaned_text'].shape)"
   ]
  },
  {
   "cell_type": "markdown",
   "metadata": {},
   "source": [
    "# Understanding distribution of sequences"
   ]
  },
  {
   "cell_type": "code",
   "execution_count": 13,
   "metadata": {},
   "outputs": [
    {
     "data": {
      "text/plain": [
       "<Figure size 640x480 with 2 Axes>"
      ]
     },
     "metadata": {},
     "output_type": "display_data"
    }
   ],
   "source": [
    "import matplotlib.pyplot as plt\n",
    "\n",
    "text_word_count = []\n",
    "summary_word_count = []\n",
    "\n",
    "# populate the lists with sentence lengths\n",
    "for i in data['cleaned_text']:\n",
    "      text_word_count.append(len(i.split()))\n",
    "\n",
    "for i in data['cleaned_summary']:\n",
    "      summary_word_count.append(len(i.split()))\n",
    "\n",
    "length_df = pd.DataFrame({'text':text_word_count, 'summary':summary_word_count})\n",
    "\n",
    "length_df.hist(bins = 30)\n",
    "plt.show()"
   ]
  },
  {
   "cell_type": "code",
   "execution_count": 14,
   "metadata": {},
   "outputs": [
    {
     "name": "stdout",
     "output_type": "stream",
     "text": [
      "0.9788747526152106\n"
     ]
    }
   ],
   "source": [
    "cnt=0\n",
    "for i in data['cleaned_summary']:\n",
    "    if(len(i.split())<=10):\n",
    "        cnt=cnt+1\n",
    "print(cnt/len(data['cleaned_summary']))"
   ]
  },
  {
   "cell_type": "code",
   "execution_count": 15,
   "metadata": {},
   "outputs": [
    {
     "name": "stdout",
     "output_type": "stream",
     "text": [
      "0.5498105739327114\n"
     ]
    }
   ],
   "source": [
    "cnt=0\n",
    "for i in data['cleaned_text']:\n",
    "    if(len(i.split())<=30):\n",
    "        cnt=cnt+1\n",
    "print(cnt/len(data['cleaned_text']))"
   ]
  },
  {
   "cell_type": "code",
   "execution_count": 16,
   "metadata": {},
   "outputs": [],
   "source": [
    "max_text_len=30\n",
    "max_summary_len=10"
   ]
  },
  {
   "cell_type": "code",
   "execution_count": 17,
   "metadata": {},
   "outputs": [
    {
     "name": "stdout",
     "output_type": "stream",
     "text": [
      "<class 'numpy.ndarray'>\n"
     ]
    }
   ],
   "source": [
    "cleaned_text =np.array(data['cleaned_text'])\n",
    "cleaned_summary=np.array(data['cleaned_summary'])\n",
    "\n",
    "short_text=[]\n",
    "short_summary=[]\n",
    "print(type(cleaned_text))\n",
    "for i in range(len(cleaned_text)):\n",
    "    if(len(cleaned_summary[i].split())<=max_summary_len and len(cleaned_text[i].split())<=max_text_len):\n",
    "        short_text.append(cleaned_text[i])\n",
    "        short_summary.append(cleaned_summary[i])\n",
    "        \n",
    "df=pd.DataFrame({'text':short_text,'summary':short_summary})"
   ]
  },
  {
   "cell_type": "code",
   "execution_count": 18,
   "metadata": {},
   "outputs": [],
   "source": [
    "df['summary'] = df['summary'].apply(lambda x : 'sostok '+ x + ' eostok')"
   ]
  },
  {
   "cell_type": "code",
   "execution_count": 19,
   "metadata": {},
   "outputs": [],
   "source": [
    "from sklearn.model_selection import train_test_split\n",
    "x_tr,x_val,y_tr,y_val=train_test_split(np.array(df['text']),np.array(df['summary']),test_size=0.1,random_state=0,shuffle=False)"
   ]
  },
  {
   "cell_type": "markdown",
   "metadata": {},
   "source": [
    "# rare words and its coverage"
   ]
  },
  {
   "cell_type": "code",
   "execution_count": 20,
   "metadata": {},
   "outputs": [
    {
     "name": "stdout",
     "output_type": "stream",
     "text": [
      "% of rare words in vocabulary: 66.03158187820691\n",
      "Total Coverage of rare words: 2.9115526166941867\n",
      "25141 16601\n"
     ]
    }
   ],
   "source": [
    "x_tokenizer = Tokenizer() \n",
    "x_tokenizer.fit_on_texts(list(x_tr))\n",
    "\n",
    "thresh=4\n",
    "\n",
    "cnt=0\n",
    "tot_cnt=0\n",
    "freq=0\n",
    "tot_freq=0\n",
    "\n",
    "for key,value in x_tokenizer.word_counts.items():\n",
    "    tot_cnt=tot_cnt+1\n",
    "    tot_freq=tot_freq+value\n",
    "    if(value<thresh):\n",
    "        cnt=cnt+1\n",
    "        freq=freq+value\n",
    "    \n",
    "print(\"% of rare words in vocabulary:\",(cnt/tot_cnt)*100)\n",
    "print(\"Total Coverage of rare words:\",(freq/tot_freq)*100)\n",
    "print(tot_cnt,cnt)"
   ]
  },
  {
   "cell_type": "markdown",
   "metadata": {},
   "source": [
    "# text tokenizer"
   ]
  },
  {
   "cell_type": "code",
   "execution_count": 21,
   "metadata": {},
   "outputs": [
    {
     "name": "stdout",
     "output_type": "stream",
     "text": [
      "[[  34  205 6216 ...    0    0    0]\n",
      " [   5  114 2154 ...    0    0    0]\n",
      " [ 139 2396  721 ...    0    0    0]\n",
      " ...\n",
      " [  83   23  432 ...    0    0    0]\n",
      " [  11  100  367 ...    0    0    0]\n",
      " [   9  306  318 ...    0    0    0]]\n",
      "8541\n"
     ]
    }
   ],
   "source": [
    "\n",
    "#prepare a tokenizer for reviews on training data\n",
    "x_tokenizer = Tokenizer(num_words=tot_cnt-cnt) \n",
    "x_tokenizer.fit_on_texts(list(x_tr))\n",
    "\n",
    "#convert text sequences into integer sequences\n",
    "x_tr_seq    =   x_tokenizer.texts_to_sequences(x_tr) \n",
    "x_val_seq   =   x_tokenizer.texts_to_sequences(x_val)\n",
    "\n",
    "#padding zero upto maximum length\n",
    "x_tr    =   pad_sequences(x_tr_seq,  maxlen=max_text_len, padding='post')\n",
    "x_val   =   pad_sequences(x_val_seq, maxlen=max_text_len, padding='post')\n",
    "\n",
    "\n",
    "print(x_tr)\n",
    "\n",
    "#size of vocabulary ( +1 for padding token)\n",
    "x_voc = x_tokenizer.num_words + 1\n",
    "\n",
    "print(x_voc)"
   ]
  },
  {
   "cell_type": "markdown",
   "metadata": {},
   "source": [
    "# summary tokenizer"
   ]
  },
  {
   "cell_type": "code",
   "execution_count": 22,
   "metadata": {},
   "outputs": [],
   "source": [
    "#prepare a tokenizer for reviews on training data\n",
    "y_tokenizer = Tokenizer()   \n",
    "y_tokenizer.fit_on_texts(list(y_tr))"
   ]
  },
  {
   "cell_type": "markdown",
   "metadata": {},
   "source": [
    "# rare wrods and its covererage"
   ]
  },
  {
   "cell_type": "code",
   "execution_count": 23,
   "metadata": {},
   "outputs": [
    {
     "name": "stdout",
     "output_type": "stream",
     "text": [
      "% of rare words in vocabulary: 77.83405172413794\n",
      "Total Coverage of rare words: 5.262069589416412\n",
      "9280 7223\n"
     ]
    }
   ],
   "source": [
    "thresh=6\n",
    "\n",
    "cnt=0\n",
    "tot_cnt=0\n",
    "freq=0\n",
    "tot_freq=0\n",
    "\n",
    "for key,value in y_tokenizer.word_counts.items():\n",
    "    tot_cnt=tot_cnt+1\n",
    "    tot_freq=tot_freq+value\n",
    "    if(value<thresh):\n",
    "        cnt=cnt+1\n",
    "        freq=freq+value\n",
    "    \n",
    "print(\"% of rare words in vocabulary:\",(cnt/tot_cnt)*100)\n",
    "print(\"Total Coverage of rare words:\",(freq/tot_freq)*100)\n",
    "print(tot_cnt,cnt)"
   ]
  },
  {
   "cell_type": "code",
   "execution_count": 24,
   "metadata": {},
   "outputs": [
    {
     "name": "stdout",
     "output_type": "stream",
     "text": [
      "2058\n"
     ]
    }
   ],
   "source": [
    "#prepare a tokenizer for reviews on training data\n",
    "y_tokenizer = Tokenizer(num_words=tot_cnt-cnt) \n",
    "y_tokenizer.fit_on_texts(list(y_tr))\n",
    "\n",
    "#convert text sequences into integer sequences\n",
    "y_tr_seq    =   y_tokenizer.texts_to_sequences(y_tr) \n",
    "y_val_seq   =   y_tokenizer.texts_to_sequences(y_val) \n",
    "\n",
    "#padding zero upto maximum length\n",
    "y_tr    =   pad_sequences(y_tr_seq, maxlen=max_summary_len, padding='post')\n",
    "y_val   =   pad_sequences(y_val_seq, maxlen=max_summary_len, padding='post')\n",
    "\n",
    "#size of vocabulary\n",
    "y_voc  =   y_tokenizer.num_words +1\n",
    "print(y_voc)"
   ]
  },
  {
   "cell_type": "code",
   "execution_count": 25,
   "metadata": {},
   "outputs": [
    {
     "data": {
      "text/plain": [
       "(43349, 43349)"
      ]
     },
     "execution_count": 25,
     "metadata": {},
     "output_type": "execute_result"
    }
   ],
   "source": [
    "y_tokenizer.word_counts['sostok'],len(y_tr)"
   ]
  },
  {
   "cell_type": "markdown",
   "metadata": {},
   "source": [
    "# delete that contains only start and end"
   ]
  },
  {
   "cell_type": "code",
   "execution_count": 26,
   "metadata": {},
   "outputs": [],
   "source": [
    "ind=[]\n",
    "for i in range(len(y_tr)):\n",
    "    cnt=0\n",
    "    for j in y_tr[i]:\n",
    "        if j!=0:\n",
    "            cnt=cnt+1\n",
    "    if(cnt==2):\n",
    "        ind.append(i)\n",
    "\n",
    "y_tr=np.delete(y_tr,ind, axis=0)\n",
    "x_tr=np.delete(x_tr,ind, axis=0)"
   ]
  },
  {
   "cell_type": "code",
   "execution_count": 27,
   "metadata": {},
   "outputs": [],
   "source": [
    "ind=[]\n",
    "for i in range(len(y_val)):\n",
    "    cnt=0\n",
    "    for j in y_val[i]:\n",
    "        if j!=0:\n",
    "            cnt=cnt+1\n",
    "    if(cnt==2):\n",
    "        ind.append(i)\n",
    "\n",
    "y_val=np.delete(y_val,ind, axis=0)\n",
    "x_val=np.delete(x_val,ind, axis=0)"
   ]
  },
  {
   "cell_type": "markdown",
   "metadata": {},
   "source": [
    "# model building"
   ]
  },
  {
   "cell_type": "markdown",
   "metadata": {},
   "source": [
    "We are finally at the model building part. But before we do that, we need to familiarize ourselves with a few terms which are required prior to building the model.\n",
    "\n",
    "Return Sequences = True: When the return sequences parameter is set to True, LSTM produces the hidden state and cell state for every timestep\n",
    "\n",
    "Return State = True: When return state = True, LSTM produces the hidden state and cell state of the last timestep only\n",
    "\n",
    "Initial State: This is used to initialize the internal states of the LSTM for the first timestep\n",
    "\n",
    "Stacked LSTM: Stacked LSTM has multiple layers of LSTM stacked on top of each other. This leads to a better representation of the sequence. I encourage you to experiment with the multiple layers of the LSTM stacked on top of each other (it’s a great way to learn this)\n",
    "\n",
    "Here, we are building a 3 stacked LSTM for the encoder:"
   ]
  },
  {
   "cell_type": "code",
   "execution_count": 28,
   "metadata": {},
   "outputs": [
    {
     "name": "stderr",
     "output_type": "stream",
     "text": [
      "WARNING: Logging before flag parsing goes to stderr.\n",
      "W0810 21:20:17.218011 13664 deprecation_wrapper.py:119] From c:\\users\\user\\appdata\\local\\programs\\python\\python37\\lib\\site-packages\\keras\\backend\\tensorflow_backend.py:95: The name tf.reset_default_graph is deprecated. Please use tf.compat.v1.reset_default_graph instead.\n",
      "\n",
      "W0810 21:20:17.218965 13664 deprecation_wrapper.py:119] From c:\\users\\user\\appdata\\local\\programs\\python\\python37\\lib\\site-packages\\keras\\backend\\tensorflow_backend.py:98: The name tf.placeholder_with_default is deprecated. Please use tf.compat.v1.placeholder_with_default instead.\n",
      "\n",
      "W0810 21:20:17.230964 13664 deprecation_wrapper.py:119] From c:\\users\\user\\appdata\\local\\programs\\python\\python37\\lib\\site-packages\\keras\\backend\\tensorflow_backend.py:102: The name tf.get_default_graph is deprecated. Please use tf.compat.v1.get_default_graph instead.\n",
      "\n",
      "W0810 21:20:17.233956 13664 deprecation.py:506] From c:\\users\\user\\appdata\\local\\programs\\python\\python37\\lib\\site-packages\\tensorflow\\python\\keras\\initializers.py:119: calling RandomUniform.__init__ (from tensorflow.python.ops.init_ops) with dtype is deprecated and will be removed in a future version.\n",
      "Instructions for updating:\n",
      "Call initializer instance with the dtype argument instead of passing it to the constructor\n",
      "W0810 21:20:17.244926 13664 deprecation.py:506] From c:\\users\\user\\appdata\\local\\programs\\python\\python37\\lib\\site-packages\\tensorflow\\python\\ops\\init_ops.py:1251: calling VarianceScaling.__init__ (from tensorflow.python.ops.init_ops) with dtype is deprecated and will be removed in a future version.\n",
      "Instructions for updating:\n",
      "Call initializer instance with the dtype argument instead of passing it to the constructor\n"
     ]
    },
    {
     "name": "stdout",
     "output_type": "stream",
     "text": [
      "Model: \"model\"\n",
      "__________________________________________________________________________________________________\n",
      "Layer (type)                    Output Shape         Param #     Connected to                     \n",
      "==================================================================================================\n",
      "input_1 (InputLayer)            [(None, 30)]         0                                            \n",
      "__________________________________________________________________________________________________\n",
      "embedding (Embedding)           (None, 30, 100)      854100      input_1[0][0]                    \n",
      "__________________________________________________________________________________________________\n",
      "lstm (LSTM)                     [(None, 30, 300), (N 481200      embedding[0][0]                  \n",
      "__________________________________________________________________________________________________\n",
      "input_2 (InputLayer)            [(None, None)]       0                                            \n",
      "__________________________________________________________________________________________________\n",
      "lstm_1 (LSTM)                   [(None, 30, 300), (N 721200      lstm[0][0]                       \n",
      "__________________________________________________________________________________________________\n",
      "embedding_1 (Embedding)         (None, None, 100)    205800      input_2[0][0]                    \n",
      "__________________________________________________________________________________________________\n",
      "lstm_2 (LSTM)                   [(None, 30, 300), (N 721200      lstm_1[0][0]                     \n",
      "__________________________________________________________________________________________________\n",
      "lstm_3 (LSTM)                   [(None, None, 300),  481200      embedding_1[0][0]                \n",
      "                                                                 lstm_2[0][1]                     \n",
      "                                                                 lstm_2[0][2]                     \n",
      "__________________________________________________________________________________________________\n",
      "attention_layer (AttentionLayer ((None, None, 300),  180300      lstm_2[0][0]                     \n",
      "                                                                 lstm_3[0][0]                     \n",
      "__________________________________________________________________________________________________\n",
      "concat_layer (Concatenate)      (None, None, 600)    0           lstm_3[0][0]                     \n",
      "                                                                 attention_layer[0][0]            \n",
      "__________________________________________________________________________________________________\n",
      "time_distributed (TimeDistribut (None, None, 2058)   1236858     concat_layer[0][0]               \n",
      "==================================================================================================\n",
      "Total params: 4,881,858\n",
      "Trainable params: 4,881,858\n",
      "Non-trainable params: 0\n",
      "__________________________________________________________________________________________________\n"
     ]
    }
   ],
   "source": [
    "from keras import backend as K \n",
    "from keras.models import load_model\n",
    "K.clear_session()\n",
    "\n",
    "latent_dim = 300\n",
    "embedding_dim=100\n",
    "\n",
    "# Encoder\n",
    "encoder_inputs = Input(shape=(max_text_len,))\n",
    "\n",
    "#embedding layer\n",
    "enc_emb =  Embedding(x_voc, embedding_dim,trainable=True)(encoder_inputs)\n",
    "\n",
    "#encoder lstm 1\n",
    "encoder_lstm1 = LSTM(latent_dim,return_sequences=True,return_state=True,dropout=0.4,recurrent_dropout=0.4)\n",
    "encoder_output1, state_h1, state_c1 = encoder_lstm1(enc_emb)\n",
    "\n",
    "#encoder lstm 2\n",
    "encoder_lstm2 = LSTM(latent_dim,return_sequences=True,return_state=True,dropout=0.4,recurrent_dropout=0.4)\n",
    "encoder_output2, state_h2, state_c2 = encoder_lstm2(encoder_output1)\n",
    "\n",
    "#encoder lstm 3\n",
    "encoder_lstm3=LSTM(latent_dim, return_state=True, return_sequences=True,dropout=0.4,recurrent_dropout=0.4)\n",
    "encoder_outputs, state_h, state_c= encoder_lstm3(encoder_output2)\n",
    "\n",
    "# Set up the decoder, using `encoder_states` as initial state.\n",
    "decoder_inputs = Input(shape=(None,))\n",
    "\n",
    "#embedding layer\n",
    "dec_emb_layer = Embedding(y_voc, embedding_dim,trainable=True)\n",
    "dec_emb = dec_emb_layer(decoder_inputs)\n",
    "\n",
    "decoder_lstm = LSTM(latent_dim, return_sequences=True, return_state=True,dropout=0.4,recurrent_dropout=0.2)\n",
    "decoder_outputs,decoder_fwd_state, decoder_back_state = decoder_lstm(dec_emb,initial_state=[state_h, state_c])\n",
    "\n",
    "# Attention layer\n",
    "attn_layer = AttentionLayer(name='attention_layer')\n",
    "attn_out, attn_states = attn_layer([encoder_outputs, decoder_outputs])\n",
    "\n",
    "# Concat attention input and decoder LSTM output\n",
    "decoder_concat_input = Concatenate(axis=-1, name='concat_layer')([decoder_outputs, attn_out])\n",
    "\n",
    "#dense layer\n",
    "decoder_dense =  TimeDistributed(Dense(y_voc, activation='softmax'))\n",
    "decoder_outputs = decoder_dense(decoder_concat_input)\n",
    "\n",
    "# Define the model \n",
    "model = Model([encoder_inputs, decoder_inputs], decoder_outputs)\n",
    "\n",
    "model.summary()"
   ]
  },
  {
   "cell_type": "code",
   "execution_count": 29,
   "metadata": {},
   "outputs": [],
   "source": [
    "model.compile(optimizer='rmsprop', loss='sparse_categorical_crossentropy', metrics=['accuracy'])"
   ]
  },
  {
   "cell_type": "code",
   "execution_count": 30,
   "metadata": {},
   "outputs": [],
   "source": [
    "es = EarlyStopping(monitor='val_loss', mode='min', verbose=1,patience=2)"
   ]
  },
  {
   "cell_type": "code",
   "execution_count": 31,
   "metadata": {},
   "outputs": [],
   "source": [
    "#model.fit([x_tr,y_tr[:,:-1]], y_tr.reshape(y_tr.shape[0],y_tr.shape[1], 1)[:,1:] ,epochs=50,callbacks=[es],batch_size=128, validation_data=([x_val,y_val[:,:-1]], y_val.reshape(y_val.shape[0],y_val.shape[1], 1)[:,1:]))\n",
    "#model.save_weights('trainedModel_weights2.h5')\n",
    "model.load_weights('trainedModel_weights2.h5')"
   ]
  },
  {
   "cell_type": "markdown",
   "metadata": {},
   "source": [
    "# understanding the diagonastic plot"
   ]
  },
  {
   "cell_type": "code",
   "execution_count": 32,
   "metadata": {},
   "outputs": [
    {
     "data": {
      "text/plain": [
       "\"from matplotlib import pyplot\\npyplot.plot(history.history['loss'], label='train')\\npyplot.plot(history.history['val_loss'], label='test')\\npyplot.legend()\\npyplot.show()\""
      ]
     },
     "execution_count": 32,
     "metadata": {},
     "output_type": "execute_result"
    }
   ],
   "source": [
    "'''from matplotlib import pyplot\n",
    "pyplot.plot(history.history['loss'], label='train')\n",
    "pyplot.plot(history.history['val_loss'], label='test')\n",
    "pyplot.legend()\n",
    "pyplot.show()'''"
   ]
  },
  {
   "cell_type": "code",
   "execution_count": 33,
   "metadata": {},
   "outputs": [
    {
     "name": "stdout",
     "output_type": "stream",
     "text": [
      "{'sostok': 1, 'eostok': 2, 'great': 3, 'good': 4, 'the': 5, 'best': 6, 'not': 7, 'for': 8, 'love': 9, 'and': 10, 'it': 11, 'coffee': 12, 'my': 13, 'tea': 14, 'this': 15, 'product': 16, 'delicious': 17, 'is': 18, 'but': 19, 'taste': 20, 'very': 21, 'to': 22, 'of': 23, 'excellent': 24, 'yummy': 25, 'dog': 26, 'these': 27, 'flavor': 28, 'price': 29, 'like': 30, 'tasty': 31, 'in': 32, 'favorite': 33, 'ever': 34, 'too': 35, 'loves': 36, 'stuff': 37, 'food': 38, 'so': 39, 'awesome': 40, 'snack': 41, 'yum': 42, 'are': 43, 'you': 44, 'dogs': 45, 'as': 46, 'with': 47, 'just': 48, 'on': 49, 'them': 50, 'chocolate': 51, 'free': 52, 'healthy': 53, 'nice': 54, 'better': 55, 'perfect': 56, 'wonderful': 57, 'treats': 58, 'have': 59, 'tastes': 60, 'no': 61, 'treat': 62, 'really': 63, 'than': 64, 'at': 65, 'tasting': 66, 'what': 67, 'sweet': 68, 'quality': 69, 'buy': 70, 'hot': 71, 'cup': 72, 'chips': 73, 'one': 74, 'bad': 75, 'popcorn': 76, 'little': 77, 'amazing': 78, 'gluten': 79, 'cat': 80, 'do': 81, 'all': 82, 'mix': 83, 'sugar': 84, 'organic': 85, 'value': 86, 'cookies': 87, 'easy': 88, 'ok': 89, 'green': 90, 'me': 91, 'deal': 92, 'they': 93, 'candy': 94, 'your': 95, 'from': 96, 'amazon': 97, 'cats': 98, 'pretty': 99, 'way': 100, 'cereal': 101, 'fantastic': 102, 'much': 103, 'salt': 104, 'cups': 105, 'bars': 106, 'happy': 107, 'gift': 108, 'will': 109, 'rice': 110, 'fresh': 111, 'was': 112, 'be': 113, 'bar': 114, 'strong': 115, 'sauce': 116, 'that': 117, 'drink': 118, 'expensive': 119, 'only': 120, 'more': 121, 'does': 122, 'bread': 123, 'did': 124, 'service': 125, 'breakfast': 126, 'can': 127, 'out': 128, 'review': 129, 'baby': 130, 'real': 131, 'works': 132, 'decaf': 133, 'low': 134, 'loved': 135, 'cannot': 136, 'oil': 137, 'if': 138, 'our': 139, 'go': 140, 'eat': 141, 'syrup': 142, 'up': 143, 'find': 144, 'greenies': 145, 'blend': 146, 'super': 147, 'get': 148, 'made': 149, 'soup': 150, 'wow': 151, 'hard': 152, 'or': 153, 'high': 154, 'pasta': 155, 'chai': 156, 'time': 157, 'dark': 158, 'expected': 159, 'had': 160, 'quick': 161, 'salty': 162, 'smooth': 163, 'fast': 164, 'kids': 165, 'vanilla': 166, 'cocoa': 167, 'makes': 168, 'big': 169, 'an': 170, 'item': 171, 'shipping': 172, 'would': 173, 'mm': 174, 'there': 175, 'butter': 176, 'coconut': 177, 'money': 178, 'disappointed': 179, 'old': 180, 'new': 181, 'water': 182, 'energy': 183, 'chicken': 184, 'again': 185, 'alternative': 186, 'honey': 187, 'nuts': 188, 'jerky': 189, 'okay': 190, 'spicy': 191, 'small': 192, 'worth': 193, 'stale': 194, 'white': 195, 'we': 196, 'well': 197, 'gum': 198, 'black': 199, 'right': 200, 'light': 201, 'has': 202, 'nothing': 203, 'use': 204, 'chews': 205, 'without': 206, 'bold': 207, 'refreshing': 208, 'convenient': 209, 'some': 210, 'natural': 211, 'horrible': 212, 'fruit': 213, 'by': 214, 'milk': 215, 'ginger': 216, 'crackers': 217, 'cookie': 218, 'peanut': 219, 'work': 220, 'weak': 221, 'pop': 222, 'far': 223, 'bag': 224, 'awful': 225, 'enough': 226, 'packaging': 227, 'pack': 228, 'cheese': 229, 'wrong': 230, 'could': 231, 'terrible': 232, 'its': 233, 'noodles': 234, 'pumpkin': 235, 'roast': 236, 'addictive': 237, 'found': 238, 'yumm': 239, 'absolutely': 240, 'yuck': 241, 'poor': 242, 'pricey': 243, 'am': 244, 'beware': 245, 'size': 246, 'em': 247, 'licorice': 248, 'juice': 249, 'seeds': 250, 'beef': 251, 'cheaper': 252, 'french': 253, 'seasoning': 254, 'bears': 255, 'flavored': 256, 'most': 257, 'keurig': 258, 'flavorful': 259, 'make': 260, 'bitter': 261, 'kind': 262, 'variety': 263, 'beans': 264, 'bit': 265, 'overpriced': 266, 'snacks': 267, 'cans': 268, 'protein': 269, 'purchase': 270, 'spice': 271, 'order': 272, 'fabulous': 273, 'over': 274, 'puppy': 275, 'choice': 276, 'training': 277, 'simply': 278, 'olive': 279, 'dry': 280, 'always': 281, 'off': 282, 'store': 283, 'tasted': 284, 'fine': 285, 'decent': 286, 'crunchy': 287, 'another': 288, 'about': 289, 'thing': 290, 'delivery': 291, 'fun': 292, 'rich': 293, 'brand': 294, 'disappointing': 295, 'whole': 296, 'other': 297, 'pure': 298, 'special': 299, 'instant': 300, 'granola': 301, 'espresso': 302, 'market': 303, 'even': 304, 'full': 305, 'likes': 306, 'mountain': 307, 'wheat': 308, 'pleased': 309, 'gf': 310, 'flavors': 311, 'toy': 312, 'never': 313, 'different': 314, 'brown': 315, 'substitute': 316, 'lovers': 317, 'powder': 318, 'around': 319, 'when': 320, 'son': 321, 'dried': 322, 'house': 323, 'nut': 324, 'customer': 325, 'oh': 326, 'oatmeal': 327, 'goodness': 328, 'heaven': 329, 'now': 330, 'maple': 331, 'world': 332, 'almonds': 333, 'after': 334, 'morning': 335, 'cinnamon': 336, 'pork': 337, 'lemon': 338, 'pepper': 339, 'try': 340, 'gummi': 341, 'day': 342, 'delish': 343, 'cherry': 344, 'were': 345, 'got': 346, 'bags': 347, 'crazy': 348, 'long': 349, 'lover': 350, 'ingredients': 351, 'fat': 352, 'worst': 353, 'texture': 354, 'finally': 355, 'red': 356, 'why': 357, 'first': 358, 'china': 359, 'soft': 360, 'every': 361, 'tried': 362, 'oz': 363, 'chip': 364, 'must': 365, 'home': 366, 'nasty': 367, 'here': 368, 'box': 369, 'cheap': 370, 'used': 371, 'need': 372, 'yet': 373, 'still': 374, 'arrived': 375, 'exactly': 376, 'soda': 377, 'canned': 378, 'popchips': 379, 'cake': 380, 'advertised': 381, 'carb': 382, 'diet': 383, 'corn': 384, 'gross': 385, 'same': 386, 'how': 387, 'waste': 388, 'bland': 389, 'baking': 390, 'back': 391, 'stars': 392, 'ordered': 393, 'terrific': 394, 'less': 395, 'smells': 396, 'bought': 397, 'starbucks': 398, 'who': 399, 'sour': 400, 'broken': 401, 'family': 402, 'where': 403, 'idea': 404, 'almost': 405, 'hit': 406, 'picky': 407, 'down': 408, 'outstanding': 409, 'mint': 410, 'life': 411, 'cracker': 412, 'dented': 413, 'chili': 414, 'dental': 415, 'calorie': 416, 'potato': 417, 'any': 418, 'mild': 419, 'chewy': 420, 'ice': 421, 'priced': 422, 'own': 423, 'teeth': 424, 'date': 425, 'banana': 426, 'quite': 427, 'iced': 428, 'crunch': 429, 'cooking': 430, 'mustard': 431, 'grey': 432, 'chew': 433, 'many': 434, 'haribo': 435, 'husband': 436, 'filling': 437, 'brownies': 438, 'think': 439, 'satisfied': 440, 'doggie': 441, 'nom': 442, 'please': 443, 'hazelnut': 444, 'smell': 445, 'addicted': 446, 'meal': 447, 'package': 448, 'regular': 449, 'homemade': 450, 'rinds': 451, 'apple': 452, 'last': 453, 'flour': 454, 'health': 455, 'disgusting': 456, 'gourmet': 457, 'say': 458, 'gummy': 459, 'option': 460, 'cream': 461, 'wild': 462, 'english': 463, 'soy': 464, 'sticks': 465, 'delight': 466, 'top': 467, 'recommended': 468, 'nutritious': 469, 'orange': 470, 'large': 471, 'lots': 472, 'raw': 473, 'bbq': 474, 'fan': 475, 'earth': 476, 'mini': 477, 'ounce': 478, 'something': 479, 'misleading': 480, 'pie': 481, 'daughter': 482, 'teas': 483, 'earl': 484, 'vinegar': 485, 'highly': 486, 'eating': 487, 'brew': 488, 'tree': 489, 'everything': 490, 'italian': 491, 'aftertaste': 492, 'original': 493, 'company': 494, 'lot': 495, 'save': 496, 'us': 497, 'miracle': 498, 'looking': 499, 'pancakes': 500, 'favorites': 501, 'wish': 502, 'lunch': 503, 'rocks': 504, 'beautiful': 505, 'bean': 506, 'received': 507, 'biscuits': 508, 'raspberry': 509, 'fiber': 510, 'noodle': 511, 'been': 512, 'should': 513, 'gold': 514, 'cute': 515, 'weight': 516, 'calories': 517, 'almond': 518, 'available': 519, 'peanuts': 520, 'pods': 521, 'superb': 522, 'extract': 523, 'salmon': 524, 'strawberry': 525, 'rip': 526, 'liked': 527, 'dressing': 528, 'delightful': 529, 'live': 530, 'aroma': 531, 'surprisingly': 532, 'pizza': 533, 'newman': 534, 'sea': 535, 'greatest': 536, 'impressed': 537, 'know': 538, 'melted': 539, 'kitty': 540, 'those': 541, 'extremely': 542, 'products': 543, 'bones': 544, 'says': 545, 'plastic': 546, 'addicting': 547, 'chocolates': 548, 'away': 549, 'pb': 550, 'pet': 551, 'bran': 552, 'clean': 553, 'simple': 554, 'thanks': 555, 'extra': 556, 'thin': 557, 'salad': 558, 'stevia': 559, 'formula': 560, 'change': 561, 'blue': 562, 'magic': 563, 'lipton': 564, 'lovely': 565, 'stores': 566, 'their': 567, 'beer': 568, 'curry': 569, 'mango': 570, 'description': 571, 'wanted': 572, 'plant': 573, 'want': 574, 'bacon': 575, 'expiration': 576, 'omg': 577, 'artificial': 578, 'yes': 579, 'agave': 580, 'crispy': 581, 'count': 582, 'totally': 583, 'satisfying': 584, 'cost': 585, 'goes': 586, 'things': 587, 'plus': 588, 'packs': 589, 'smaller': 590, 'needs': 591, 'grain': 592, 'meh': 593, 'thought': 594, 'plain': 595, 'year': 596, 'roasted': 597, 'vegan': 598, 'kashi': 599, 'bargain': 600, 'bite': 601, 'give': 602, 'sure': 603, 'dont': 604, 'unique': 605, 'non': 606, 'caramel': 607, 'contains': 608, 'rock': 609, 'summer': 610, 'stash': 611, 'medium': 612, 'senseo': 613, 'thank': 614, 'two': 615, 'grass': 616, 'replacement': 617, 'rub': 618, 'smart': 619, 'wife': 620, 'pretzels': 621, 'everyday': 622, 'msg': 623, 'sodium': 624, 'people': 625, 'premium': 626, 'cherries': 627, 'wine': 628, 'fish': 629, 'close': 630, 'crystal': 631, 'bay': 632, 'fog': 633, 'convenience': 634, 'source': 635, 'cold': 636, 'stomach': 637, 'star': 638, 'half': 639, 'jelly': 640, 'baked': 641, 'creamy': 642, 'loose': 643, 'caribou': 644, 'name': 645, 'mom': 646, 'addition': 647, 'average': 648, 'country': 649, 'ground': 650, 'meat': 651, 'toffee': 652, 'kick': 653, 'movie': 654, 'looks': 655, 'recipe': 656, 'nectar': 657, 'though': 658, 'kona': 659, 'basket': 660, 'actually': 661, 'picture': 662, 'jack': 663, 'microwave': 664, 'maybe': 665, 'muffins': 666, 'nutrition': 667, 'hour': 668, 'quickly': 669, 'san': 670, 'expired': 671, 'brownie': 672, 'feel': 673, 'winner': 674, 'enjoyed': 675, 'lime': 676, 'twinings': 677, 'care': 678, 'vegetarian': 679, 'handy': 680, 'mints': 681, 'keeps': 682, 'gone': 683, 'ones': 684, 'berry': 685, 'foods': 686, 'described': 687, 'pieces': 688, 'mouth': 689, 'pictured': 690, 'boxes': 691, 'dessert': 692, 'pudding': 693, 'paste': 694, 'weird': 695, 'keep': 696, 'crack': 697, 'tuna': 698, 'kid': 699, 'dr': 700, 'kit': 701, 'pamela': 702, 'puck': 703, 'sick': 704, 'tomato': 705, 'coffe': 706, 'cet': 707, 'zico': 708, 'years': 709, 'edible': 710, 'few': 711, 'garlic': 712, 'short': 713, 'strange': 714, 'toddler': 715, 'needed': 716, 'quaker': 717, 'hair': 718, 'definitely': 719, 'seller': 720, 'take': 721, 'jam': 722, 'bottle': 723, 'pill': 724, 'problems': 725, 'tart': 726, 'worked': 727, 'shipped': 728, 'huge': 729, 'party': 730, 'sooo': 731, 'darn': 732, 'add': 733, 'umm': 734, 'cafe': 735, 'authentic': 736, 'cashews': 737, 'versatile': 738, 'bisquick': 739, 'style': 740, 'slightly': 741, 'making': 742, 'herbal': 743, 'interesting': 744, 'start': 745, 'liquid': 746, 'mess': 747, 'staple': 748, 'second': 749, 'dinner': 750, 'gravy': 751, 'leaf': 752, 'tummy': 753, 'steak': 754, 'experience': 755, 'bone': 756, 'job': 757, 'damaged': 758, 'everyone': 759, 'pecan': 760, 'days': 761, 'shipment': 762, 'machine': 763, 'pricing': 764, 'classic': 765, 'spices': 766, 'help': 767, 'heavenly': 768, 'absolute': 769, 'rawhide': 770, 'hate': 771, 'wolfgang': 772, 'busy': 773, 'true': 774, 'warning': 775, 'peach': 776, 'catnip': 777, 'tully': 778, 'brands': 779, 'else': 780, 'glad': 781, 'disappointment': 782, 'mediocre': 783, 'liver': 784, 'com': 785, 'blueberry': 786, 'wonderfully': 787, 'candies': 788, 'pancake': 789, 'recommend': 790, 'christmas': 791, 'usa': 792, 'truffle': 793, 'friendly': 794, 'man': 795, 'before': 796, 'beverage': 797, 'problem': 798, 'perfectly': 799, 'bulk': 800, 'shampoo': 801, 'chaser': 802, 'awsome': 803, 'tasteless': 804, 'boost': 805, 'sweetener': 806, 'joe': 807, 'she': 808, 'yuk': 809, 'fair': 810, 'scrumptious': 811, 'cal': 812, 'truly': 813, 'seed': 814, 'guilt': 815, 'affordable': 816, 'stay': 817, 'tips': 818, 'watch': 819, 'buying': 820, 'remember': 821, 'olives': 822, 'folgers': 823, 'saver': 824, 'fruity': 825, 'donut': 826, 'cheez': 827, 'cheesy': 828, 'buyer': 829, 'prunes': 830, 'francisco': 831, 'allergy': 832, 'puffs': 833, 'anywhere': 834, 'egg': 835, 'side': 836, 'tassimo': 837, 'warm': 838, 'reviews': 839, 'prefer': 840, 'dream': 841, 'gotta': 842, 'look': 843, 'others': 844, 'waffles': 845, 'advertising': 846, 'may': 847, 'mill': 848, 'leaves': 849, 'surprised': 850, 'pg': 851, 'nature': 852, 'planet': 853, 'selection': 854, 'robust': 855, 'grains': 856, 'hoped': 857, 'mixed': 858, 'superior': 859, 'onion': 860, 'daily': 861, 'paris': 862, 'incredible': 863, 'hooked': 864, 'hips': 865, 'theater': 866, 'taffy': 867, 'yay': 868, 'ramen': 869, 'altoids': 870, 'nantucket': 871, 'pops': 872, 'watery': 873, 'grocery': 874, 'next': 875, 'power': 876, 'cacao': 877, 'bites': 878, 'caviar': 879, 'kcup': 880, 'false': 881, 'nutty': 882, 'tiny': 883, 'babies': 884, 'acid': 885, 'gave': 886, 'hands': 887, 'crisp': 888, 'effective': 889, 'come': 890, 'amazingly': 891, 'gets': 892, 'eater': 893, 'pleasant': 894, 'finicky': 895, 'added': 896, 'switch': 897, 'anything': 898, 'bottles': 899, 'tough': 900, 'curls': 901, 'bonsai': 902, 'lab': 903, 'gummies': 904, 'golden': 905, 'stop': 906, 'zuke': 907, 'northern': 908, 'wellness': 909, 'delivered': 910, 'kitties': 911, 'creamer': 912, 'sesame': 913, 'surprise': 914, 'pleasure': 915, 'single': 916, 'balance': 917, 'changed': 918, 'seems': 919, 'odd': 920, 'pick': 921, 'color': 922, 'packaged': 923, 'hates': 924, 'ingredient': 925, 'helps': 926, 'delicous': 927, 'elsewhere': 928, 'fix': 929, 'costco': 930, 'instead': 931, 'touch': 932, 'enjoy': 933, 'soooo': 934, 'grape': 935, 'heat': 936, 'put': 937, 'wake': 938, 'seasonings': 939, 'eats': 940, 'five': 941, 'went': 942, 'local': 943, 'caffeine': 944, 'shake': 945, 'solid': 946, 'slow': 947, 'naturals': 948, 'mother': 949, 'covered': 950, 'night': 951, 'storage': 952, 'per': 953, 'apples': 954, 'yogurt': 955, 'sent': 956, 'ears': 957, 'raisin': 958, 'thick': 959, 'dairy': 960, 'standard': 961, 'miss': 962, 'birthday': 963, 'waffle': 964, 'concentrate': 965, 'balanced': 966, 'soups': 967, 'online': 968, 'coco': 969, 'while': 970, 'bed': 971, 'amount': 972, 'eh': 973, 'anyone': 974, 'seriously': 975, 'beat': 976, 'coffees': 977, 'cool': 978, 'approved': 979, 'allergies': 980, 'paws': 981, 'packages': 982, 'de': 983, 'zero': 984, 'hibiscus': 985, 'hershey': 986, 'lasting': 987, 'ghee': 988, 'expectations': 989, 'breath': 990, 'fake': 991, 'check': 992, 'macadamia': 993, 'doggy': 994, 'read': 995, 'pockets': 996, 'kinda': 997, 'cheddar': 998, 'drinks': 999, 'zukes': 1000, 'matcha': 1001, 'complete': 1002, 'belly': 1003, 'getting': 1004, 'dissapointed': 1005, 'king': 1006, 'tangy': 1007, 'perfection': 1008, 'secret': 1009, 'thumbs': 1010, 'open': 1011, 'tomatoes': 1012, 'hint': 1013, 'lindt': 1014, 'fudge': 1015, 'pineapple': 1016, 'sunflower': 1017, 'part': 1018, 'vita': 1019, 'going': 1020, 'believe': 1021, 'word': 1022, 'sardines': 1023, 'said': 1024, 'berries': 1025, 'strips': 1026, 'yuban': 1027, 'assortment': 1028, 'moist': 1029, 'stick': 1030, 'condition': 1031, 'purchased': 1032, 'turkey': 1033, 'american': 1034, 'bob': 1035, 'truffles': 1036, 'shop': 1037, 'both': 1038, 'lamb': 1039, 'diamond': 1040, 'memories': 1041, 'walnuts': 1042, 'dogswell': 1043, 'bigelow': 1044, 'yogi': 1045, 'latte': 1046, 'van': 1047, 'bear': 1048, 'veggie': 1049, 'broth': 1050, 'locally': 1051, 'double': 1052, 'creme': 1053, 'such': 1054, 'three': 1055, 'wafers': 1056, 'serious': 1057, 'nd': 1058, 'pot': 1059, 'eaten': 1060, 'solution': 1061, 'choc': 1062, 'thai': 1063, 'crumbs': 1064, 'fave': 1065, 'mrs': 1066, 'valley': 1067, 'farms': 1068, 'smoothies': 1069, 'agree': 1070, 'snacking': 1071, 'grove': 1072, 'reasonable': 1073, 'pink': 1074, 'purpose': 1075, 'then': 1076, 'healthier': 1077, 'sticky': 1078, 'tastey': 1079, 'drops': 1080, 'subscribe': 1081, 'control': 1082, 'bpa': 1083, 'flavoring': 1084, 'cut': 1085, 'smoked': 1086, 'version': 1087, 'disposakups': 1088, 'raisins': 1089, 'he': 1090, 'german': 1091, 'hated': 1092, 'maker': 1093, 'chia': 1094, 'lowrey': 1095, 'taco': 1096, 'buddy': 1097, 'lucky': 1098, 'durable': 1099, 'lower': 1100, 'doggies': 1101, 'alright': 1102, 'months': 1103, 'month': 1104, 'crust': 1105, 'kefir': 1106, 'larabar': 1107, 'medicine': 1108, 'barley': 1109, 'sensitive': 1110, 'salsa': 1111, 'marinade': 1112, 'once': 1113, 'belgian': 1114, 'sweetner': 1115, 'gas': 1116, 'mostly': 1117, 'friend': 1118, 'licious': 1119, 'outrageous': 1120, 'difference': 1121, 'ate': 1122, 'basic': 1123, 'kitchen': 1124, 'peas': 1125, 'crushed': 1126, 'powdered': 1127, 'davidson': 1128, 'rose': 1129, 'cashew': 1130, 'winter': 1131, 'peppermint': 1132, 'square': 1133, 'bother': 1134, 'aid': 1135, 'chef': 1136, 'sf': 1137, 'addiction': 1138, 'cuppa': 1139, 'chemical': 1140, 'sorry': 1141, 'puppies': 1142, 'prices': 1143, 'fav': 1144, 'office': 1145, 'lean': 1146, 'indeed': 1147, 'cardboard': 1148, 'kong': 1149, 'wholesome': 1150, 'club': 1151, 'greek': 1152, 'maxwell': 1153, 'grade': 1154, 'drinker': 1155, 'sampler': 1156, 'sooooo': 1157, 'rancid': 1158, 'line': 1159, 'holiday': 1160, 'flowers': 1161, 'roll': 1162, 'houtte': 1163, 'illy': 1164, 'jug': 1165, 'chewers': 1166, 'diabetics': 1167, 'soothing': 1168, 'larabars': 1169, 'expect': 1170, 'kcups': 1171, 'ham': 1172, 'god': 1173, 'kettle': 1174, 'heavy': 1175, 'punch': 1176, 'happened': 1177, 'funny': 1178, 'enjoyable': 1179, 'ketchup': 1180, 'potatoes': 1181, 'lucy': 1182, 'crisps': 1183, 'deliciousness': 1184, 'easier': 1185, 'molasses': 1186, 'pound': 1187, 'goat': 1188, 'pleasantly': 1189, 'rest': 1190, 'combination': 1191, 'came': 1192, 'messy': 1193, 'orzo': 1194, 'done': 1195, 'fragrant': 1196, 'anymore': 1197, 'jar': 1198, 'drop': 1199, 'aromatic': 1200, 'beyond': 1201, 'least': 1202, 'longer': 1203, 'childhood': 1204, 'hand': 1205, 'relaxing': 1206, 'hawaiian': 1207, 'sumatra': 1208, 'safe': 1209, 'canidae': 1210, 'fries': 1211, 'unhappy': 1212, 'also': 1213, 'la': 1214, 'prepare': 1215, 'nutritional': 1216, 'plants': 1217, 'older': 1218, 'seem': 1219, 'glazed': 1220, 'dents': 1221, 'packing': 1222, 'incredibly': 1223, 'lb': 1224, 'flakes': 1225, 'celestial': 1226, 'being': 1227, 'tast': 1228, 'veggies': 1229, 'torani': 1230, 'chewing': 1231, 'none': 1232, 'adults': 1233, 'clock': 1234, 'everlasting': 1235, 'case': 1236, 'quantity': 1237, 'swiss': 1238, 'pearl': 1239, 'jalapeno': 1240, 'garbage': 1241, 'fry': 1242, 'royal': 1243, 'issues': 1244, 'jars': 1245, 'run': 1246, 'somewhat': 1247, 'serving': 1248, 'vegetable': 1249, 'sized': 1250, 'slices': 1251, 'exceptional': 1252, 'cook': 1253, 'serve': 1254, 'cranberry': 1255, 'hmm': 1256, 'his': 1257, 'batch': 1258, 'through': 1259, 'pomegranate': 1260, 'woof': 1261, 'indian': 1262, 'pricy': 1263, 'ugh': 1264, 'england': 1265, 'clam': 1266, 'heart': 1267, 'bigger': 1268, 'spot': 1269, 'concept': 1270, 'cant': 1271, 'ms': 1272, 'leave': 1273, 'see': 1274, 'yeah': 1275, 'adult': 1276, 'organics': 1277, 'excellant': 1278, 'timothy': 1279, 'moldy': 1280, 'key': 1281, 'call': 1282, 'yummo': 1283, 'excelent': 1284, 'bake': 1285, 'beats': 1286, 'powerful': 1287, 'mr': 1288, 'starter': 1289, 'blueberries': 1290, 'jello': 1291, 'travel': 1292, 'container': 1293, 'carbs': 1294, 'pre': 1295, 'minty': 1296, 'damn': 1297, 'himalayan': 1298, 'die': 1299, 'similar': 1300, 'tarts': 1301, 'emeril': 1302, 'clear': 1303, 'throat': 1304, 'lavender': 1305, 'six': 1306, 'fancy': 1307, 'spiced': 1308, 'repeat': 1309, 'air': 1310, 'teenie': 1311, 'tug': 1312, 'because': 1313, 'savings': 1314, 'train': 1315, 'hygiene': 1316, 'booty': 1317, 'hearty': 1318, 'bliss': 1319, 'watermelon': 1320, 'mate': 1321, 'mushrooms': 1322, 'burnt': 1323, 'stir': 1324, 'tortilla': 1325, 'oats': 1326, 'together': 1327, 'dish': 1328, 'bring': 1329, 'vendor': 1330, 'cakes': 1331, 'mixes': 1332, 'ranch': 1333, 'jasmine': 1334, 'pistachio': 1335, 'except': 1336, 'spoiled': 1337, 'disapointed': 1338, 'especially': 1339, 'flavorless': 1340, 'packed': 1341, 'flax': 1342, 'tender': 1343, 'amish': 1344, 'combo': 1345, 'tin': 1346, 'sandwich': 1347, 'java': 1348, 'spicey': 1349, 'school': 1350, 'broke': 1351, 'community': 1352, 'decadent': 1353, 'gives': 1354, 'gums': 1355, 'meals': 1356, 'careful': 1357, 'unbelievable': 1358, 'pups': 1359, 'lbs': 1360, 'pez': 1361, 'into': 1362, 'wait': 1363, 'filter': 1364, 'mac': 1365, 'died': 1366, 'chestnuts': 1367, 'ridiculously': 1368, 'fall': 1369, 'ordering': 1370, 'pod': 1371, 'lish': 1372, 'wet': 1373, 'past': 1374, 'miso': 1375, 'drinking': 1376, 'chunky': 1377, 'vermont': 1378, 'portion': 1379, 'hip': 1380, 'deep': 1381, 'smokehouse': 1382, 'salted': 1383, 'ship': 1384, 'sprouting': 1385, 'sprout': 1386, 'shirataki': 1387, 'syrups': 1388, 'yummiest': 1389, 'complaints': 1390, 'walmart': 1391, 'present': 1392, 'shot': 1393, 'lady': 1394, 'frozen': 1395, 'times': 1396, 'greenie': 1397, 'soo': 1398, 'wasabi': 1399, 'dip': 1400, 'kraft': 1401, 'girl': 1402, 'movies': 1403, 'meow': 1404, 'hextra': 1405, 'feast': 1406, 'gloria': 1407, 'bowl': 1408, 'cappuccino': 1409, 'spearmint': 1410, 'greasy': 1411, 'mushy': 1412, 'omaha': 1413, 'allergic': 1414, 'mellow': 1415, 'lite': 1416, 'lemonade': 1417, 'mary': 1418, 'anytime': 1419, 'ahmad': 1420, 'completely': 1421, 'caution': 1422, 'smokey': 1423, 'chipotle': 1424, 'grow': 1425, 'timely': 1426, 'gods': 1427, 'dad': 1428, 'liquor': 1429, 'child': 1430, 'diets': 1431, 'easily': 1432, 'sons': 1433, 'delicate': 1434, 'lollipops': 1435, 'multi': 1436, 'sweets': 1437, 'eggs': 1438, 'tell': 1439, 'pantry': 1440, 'strength': 1441, 'barely': 1442, 'fortune': 1443, 'minutes': 1444, 'might': 1445, 'yellow': 1446, 'bodied': 1447, 'bits': 1448, 'italy': 1449, 'chowder': 1450, 'oreo': 1451, 'promised': 1452, 'assorted': 1453, 'late': 1454, 'gevalia': 1455, 'melitta': 1456, 'yucky': 1457, 'diabetic': 1458, 'uses': 1459, 'shelf': 1460, 'stock': 1461, 'place': 1462, 'listed': 1463, 'point': 1464, 'rasberry': 1465, 'shortbread': 1466, 'boy': 1467, 'between': 1468, 'newmans': 1469, 'relief': 1470, 'pleaser': 1471, 'prompt': 1472, 'japanese': 1473, 'lid': 1474, 'basmati': 1475, 'mocha': 1476, 'recipes': 1477, 'threw': 1478, 'dieters': 1479, 'fizzy': 1480, 'disposable': 1481, 'sometimes': 1482, 'lasts': 1483, 'jamaica': 1484, 'lavazza': 1485, 'rules': 1486, 'pass': 1487, 'mistake': 1488, 'valentine': 1489, 'peppers': 1490, 'gifts': 1491, 'info': 1492, 'blech': 1493, 'fairly': 1494, 'apricot': 1495, 'cocktail': 1496, 'space': 1497, 'brewer': 1498, 'results': 1499, 'dates': 1500, 'deceiving': 1501, 'pup': 1502, 'supermarket': 1503, 'incorrect': 1504, 'peggy': 1505, 'spanish': 1506, 'links': 1507, 'probably': 1508, 'sushi': 1509, 'hubby': 1510, 'four': 1511, 'balsamic': 1512, 'luv': 1513, 'refreshingly': 1514, 'blah': 1515, 'freshness': 1516, 'period': 1517, 'kat': 1518, 'irish': 1519, 'root': 1520, 'question': 1521, 'costs': 1522, 'pump': 1523, 'ball': 1524, 'vet': 1525, 'vitamin': 1526, 'usual': 1527, 'grits': 1528, 'smoky': 1529, 'sam': 1530, 'scent': 1531, 'return': 1532, 'coombs': 1533, 'jean': 1534, 'spaghetti': 1535, 'checkups': 1536, 'gingerbread': 1537, 'cough': 1538, 'angel': 1539, 'benefits': 1540, 'hey': 1541, 'supreme': 1542, 'skin': 1543, 'ounces': 1544, 'success': 1545, 'consistently': 1546, 'lentil': 1547, 'trans': 1548, 'kellogg': 1549, 'cubes': 1550, 'college': 1551, 'items': 1552, 'list': 1553, 'spray': 1554, 'dipping': 1555, 'guilty': 1556, 'tropical': 1557, 'dirty': 1558, 'flat': 1559, 'friends': 1560, 'oolong': 1561, 'bubble': 1562, 'comes': 1563, 'shells': 1564, 'inedible': 1565, 'savory': 1566, 'end': 1567, 'deliciously': 1568, 'packets': 1569, 'hits': 1570, 'sucralose': 1571, 'move': 1572, 'grandma': 1573, 'sauces': 1574, 'sausage': 1575, 'body': 1576, 'favor': 1577, 'stopped': 1578, 'buffalo': 1579, 'pear': 1580, 'spread': 1581, 'dead': 1582, 'hoo': 1583, 'walnut': 1584, 'decafe': 1585, 'ridiculous': 1586, 'twist': 1587, 'chi': 1588, 'tad': 1589, 'waiting': 1590, 'kernels': 1591, 'sold': 1592, 'adds': 1593, 'nespresso': 1594, 'sun': 1595, 'takes': 1596, 'filled': 1597, 'supplement': 1598, 'columbian': 1599, 'pets': 1600, 'reliable': 1601, 'tofu': 1602, 'lousy': 1603, 'delectable': 1604, 'having': 1605, 'personal': 1606, 'sale': 1607, 'action': 1608, 'steaks': 1609, 'girls': 1610, 'yourself': 1611, 'freeze': 1612, 'doctor': 1613, 'entertaining': 1614, 'each': 1615, 'let': 1616, 'worse': 1617, 'buds': 1618, 'unbelievably': 1619, 'information': 1620, 'direct': 1621, 'larger': 1622, 'fit': 1623, 'saffron': 1624, 'turkish': 1625, 'door': 1626, 'num': 1627, 'peppercorns': 1628, 'cheerios': 1629, 'discs': 1630, 'ruined': 1631, 'sprouts': 1632, 'label': 1633, 'xylitol': 1634, 'deceptive': 1635, 'nylabone': 1636, 'link': 1637, 'workout': 1638, 'missing': 1639, 'zoe': 1640, 'southern': 1641, 'kiwi': 1642, 'hope': 1643, 'mighty': 1644, 'palm': 1645, 'assam': 1646, 'bugs': 1647, 'worlds': 1648, 'increase': 1649, 'pickle': 1650, 'pocket': 1651, 'boys': 1652, 'mandarin': 1653, 'her': 1654, 'chihuahua': 1655, 'madhava': 1656, 'kibble': 1657, 'cone': 1658, 'oregon': 1659, 'primal': 1660, 'send': 1661, 'unpleasant': 1662, 'master': 1663, 'eight': 1664, 'petrodex': 1665, 'smoothie': 1666, 'bagged': 1667, 'temptations': 1668, 'kitten': 1669, 'lifesavers': 1670, 'ass': 1671, 'pay': 1672, 'pretzel': 1673, 'support': 1674, 'bloody': 1675, 'rolls': 1676, 'swedish': 1677, 'heinz': 1678, 'base': 1679, 'cooked': 1680, 'indulgence': 1681, 'ripped': 1682, 'munchies': 1683, 'aluminum': 1684, 'break': 1685, 'runny': 1686, 'garbanzo': 1687, 'potent': 1688, 'flavour': 1689, 'colors': 1690, 'crab': 1691, 'healthful': 1692, 'remembered': 1693, 'sweetness': 1694, 'dust': 1695, 'test': 1696, 'poo': 1697, 'soooooo': 1698, 'craving': 1699, 'fried': 1700, 'someone': 1701, 'receive': 1702, 'martini': 1703, 'photo': 1704, 'penny': 1705, 'avoid': 1706, 'fluffy': 1707, 'harbor': 1708, 'um': 1709, 'thirst': 1710, 'toddlers': 1711, 'using': 1712, 'watchers': 1713, 'rubber': 1714, 'season': 1715, 'chinese': 1716, 'dishes': 1717, 'graham': 1718, 'crowd': 1719, 'panda': 1720, 'early': 1721, 'biscuit': 1722, 'revolution': 1723, 'shakes': 1724, 'bitterness': 1725, 'offer': 1726, 'paper': 1727, 'brittle': 1728, 'children': 1729, 'sugary': 1730, 'however': 1731, 'grows': 1732, 'mold': 1733, 'consistency': 1734, 'plan': 1735, 'delighted': 1736, 'inside': 1737, 'directions': 1738, 'junk': 1739, 'guess': 1740, 'trail': 1741, 'popular': 1742, 'filters': 1743, 'design': 1744, 'ct': 1745, 'annie': 1746, 'ick': 1747, 'sucks': 1748, 'reasonably': 1749, 'ew': 1750, 'possible': 1751, 'twice': 1752, 'expresso': 1753, 'easiest': 1754, 'kill': 1755, 'anti': 1756, 'comfort': 1757, 'hoping': 1758, 'canine': 1759, 'opinion': 1760, 'dieting': 1761, 'cupcakes': 1762, 'content': 1763, 'slim': 1764, 'drawer': 1765, 'stand': 1766, 'rated': 1767, 'decaffeinated': 1768, 'marzipan': 1769, 'zing': 1770, 'citrus': 1771, 'acidic': 1772, 'herb': 1773, 'tool': 1774, 'eaters': 1775, 'during': 1776, 'naturally': 1777, 'silk': 1778, 'transaction': 1779, 'digestive': 1780, 'sprinkles': 1781, 'pecans': 1782, 'normal': 1783, 'caffeinated': 1784, 'ya': 1785, 'pace': 1786, 'dolce': 1787, 'divine': 1788, 'lo': 1789, 'boot': 1790, 'enjoying': 1791, 'switched': 1792, 'silky': 1793, 'odor': 1794, 'addict': 1795, 'relax': 1796, 'cranberries': 1797, 'sweetened': 1798, 'wonder': 1799, 'harney': 1800, 'chewer': 1801, 'crap': 1802, 'within': 1803, 'flower': 1804, 'kidding': 1805, 'yeast': 1806, 'bare': 1807, 'habanero': 1808, 'ready': 1809, 'cereals': 1810, 'mush': 1811, 'heartland': 1812, 'mangosteen': 1813, 'donuts': 1814, 'favourite': 1815, 'hike': 1816, 'st': 1817, 'pirate': 1818, 'stinky': 1819, 'cow': 1820, 'tacos': 1821, 'garden': 1822, 'chex': 1823, 'auto': 1824, 'gustaf': 1825, 'buttery': 1826, 'mi': 1827, 'splenda': 1828, 'bouillon': 1829, 'satisfaction': 1830, 'twin': 1831, 'markers': 1832, 'twizzlers': 1833, 'weather': 1834, 'bright': 1835, 'wintergreen': 1836, 'correct': 1837, 'sad': 1838, 'tootsie': 1839, 'gag': 1840, 'since': 1841, 'reason': 1842, 'loaded': 1843, 'unsalted': 1844, 'malt': 1845, 'shrimp': 1846, 'kept': 1847, 'additive': 1848, 'city': 1849, 'don': 1850, 'bucks': 1851, 'arrival': 1852, 'adorable': 1853, 'specialty': 1854, 'traditional': 1855, 'melt': 1856, 'rooibos': 1857, 'overall': 1858, 'dill': 1859, 'spam': 1860, 'custard': 1861, 'bird': 1862, 'lifesaver': 1863, 'tic': 1864, 'inexpensive': 1865, 'topping': 1866, 'fishy': 1867, 'worthy': 1868, 'hormel': 1869, 'unusual': 1870, 'game': 1871, 'feeling': 1872, 'tops': 1873, 'basil': 1874, 'proof': 1875, 'feed': 1876, 'brewers': 1877, 'goji': 1878, 'oily': 1879, 'exotic': 1880, 'hummus': 1881, 'finish': 1882, 'boring': 1883, 'news': 1884, 'set': 1885, 'island': 1886, 'escapes': 1887, 'chocolately': 1888, 'jacks': 1889, 'compared': 1890, 'difficult': 1891, 'forever': 1892, 'subscription': 1893, 'brewed': 1894, 'fragrance': 1895, 'lunches': 1896, 'working': 1897, 'hours': 1898, 'celiac': 1899, 'cheapest': 1900, 'stix': 1901, 'pickles': 1902, 'fans': 1903, 'juniper': 1904, 'goooood': 1905, 'acceptable': 1906, 'apparently': 1907, 'vs': 1908, 'user': 1909, 'breaks': 1910, 'fussy': 1911, 'dingo': 1912, 'shopping': 1913, 'skinny': 1914, 'soon': 1915, 'tulsi': 1916, 'passion': 1917, 'mid': 1918, 'preservatives': 1919, 'oat': 1920, 'oils': 1921, 'dash': 1922, 'earthy': 1923, 'options': 1924, 'consumer': 1925, 'kracker': 1926, 'chocolatey': 1927, 'flamingo': 1928, 'brothers': 1929, 'smelled': 1930, 'runs': 1931, 'lacking': 1932, 'pleasing': 1933, 'skittles': 1934, 'nana': 1935, 'usually': 1936, 'soap': 1937, 'holder': 1938, 'kups': 1939, 'rating': 1940, 'took': 1941, 'preserves': 1942, 'capsules': 1943, 'fly': 1944, 'bakery': 1945, 'often': 1946, 'roses': 1947, 'pepperoni': 1948, 'bistro': 1949, 'head': 1950, 'fondant': 1951, 'paprika': 1952, 'neat': 1953, 'pig': 1954, 'cha': 1955, 'heartburn': 1956, 'brilliant': 1957, 'buck': 1958, 'brings': 1959, 'mtn': 1960, 'enhancer': 1961, 'tooth': 1962, 'gfcf': 1963, 'thins': 1964, 'phenomenal': 1965, 'notch': 1966, 'desert': 1967, 'tray': 1968, 'goodies': 1969, 'yorkie': 1970, 'texas': 1971, 'dangerous': 1972, 'essential': 1973, 'prune': 1974, 'loa': 1975, 'decaffinated': 1976, 'tazo': 1977, 'mine': 1978, 'rubbery': 1979, 'pills': 1980, 'peppery': 1981, 'loving': 1982, 'rings': 1983, 'ale': 1984, 'nuggets': 1985, 'shape': 1986, 'upset': 1987, 'maltese': 1988, 'reward': 1989, 'goya': 1990, 'im': 1991, 'finest': 1992, 'mexican': 1993, 'aweful': 1994, 'pounds': 1995, 'town': 1996, 'delights': 1997, 'blackberry': 1998, 'expecting': 1999, 'fatty': 2000, 'gnats': 2001, 'contain': 2002, 'gelatin': 2003, 'smelly': 2004, 'packet': 2005, 'british': 2006, 'kicking': 2007, 'bergamot': 2008, 'household': 2009, 'pouches': 2010, 'caramels': 2011, 'cuisine': 2012, 'coat': 2013, 'poodle': 2014, 'cleaner': 2015, 'bedtime': 2016, 'shih': 2017, 'tzu': 2018, 'interested': 2019, 'equal': 2020, 'jump': 2021, 'zevia': 2022, 'ii': 2023, 'sleep': 2024, 'etc': 2025, 'boston': 2026, 'fizz': 2027, 'vegans': 2028, 'matter': 2029, 'oral': 2030, 'lift': 2031, 'navitas': 2032, 'holy': 2033, 'colman': 2034, 'ride': 2035, 'poppy': 2036, 'ups': 2037, 'pears': 2038, 'met': 2039, 'monster': 2040, 'planters': 2041, 'animal': 2042, 'couscous': 2043, 'yoo': 2044, 'ring': 2045, 'yr': 2046, 'carry': 2047, 'california': 2048, 'hi': 2049, 'wonders': 2050, 'golean': 2051, 'saeco': 2052, 'superfood': 2053, 'gummis': 2054, 'mallomars': 2055, 'bell': 2056, 'dinosaur': 2057, 'select': 2058, 'jell': 2059, 'tub': 2060, 'slice': 2061, 'highest': 2062, 'near': 2063, 'guy': 2064, 'famous': 2065, 'barbeque': 2066, 'already': 2067, 'extreme': 2068, 'onions': 2069, 'gmo': 2070, 'human': 2071, 'recomended': 2072, 'moms': 2073, 'ideal': 2074, 'fructose': 2075, 'asian': 2076, 'nicely': 2077, 'coating': 2078, 'trade': 2079, 'able': 2080, 'medicinal': 2081, 'nibs': 2082, 'spike': 2083, 'sweeter': 2084, 'road': 2085, 'restaurant': 2086, 'tons': 2087, 'ww': 2088, 'satisfy': 2089, 'hidden': 2090, 'melts': 2091, 'ships': 2092, 'yummie': 2093, 'saves': 2094, 'rotten': 2095, 'acquired': 2096, 'stonewall': 2097, 'jiffy': 2098, 'plum': 2099, 'lacks': 2100, 'piece': 2101, 'extraordinary': 2102, 'muffin': 2103, 'mahogany': 2104, 'poorly': 2105, 'alert': 2106, 'flies': 2107, 'iams': 2108, 'savers': 2109, 'carrying': 2110, 'vegetables': 2111, 'along': 2112, 'soul': 2113, 'ages': 2114, 'libby': 2115, 'lost': 2116, 'grapefruit': 2117, 'follow': 2118, 'grahams': 2119, 'skip': 2120, 'buzz': 2121, 'users': 2122, 'tortillas': 2123, 'pickled': 2124, 'inconsistent': 2125, 'feels': 2126, 'celiacs': 2127, 'dirt': 2128, 'above': 2129, 'topper': 2130, 'digestion': 2131, 'alternatives': 2132, 'range': 2133, 'sinus': 2134, 'fuel': 2135, 'margarita': 2136, 'upon': 2137, 'rum': 2138, 'dulce': 2139, 'leche': 2140, 'yerba': 2141, 'lids': 2142, 'cajun': 2143, 'harvest': 2144, 'hydration': 2145, 'carrots': 2146, 'favors': 2147, 'hemp': 2148, 'chutney': 2149, 'tins': 2150, 'blackstrap': 2151, 'basically': 2152, 'wings': 2153, 'jerkey': 2154, 'ripoff': 2155, 'carbonated': 2156, 'sodas': 2157, 'overly': 2158, 'lame': 2159, 'throw': 2160, 'gooood': 2161, 'horribly': 2162, 'slimy': 2163, 'pumkin': 2164, 'munch': 2165, 'sunbutter': 2166, 'trap': 2167, 'bang': 2168, 'oreos': 2169, 'meaty': 2170, 'olds': 2171, 'honest': 2172, 'calming': 2173, 'causes': 2174, 'helped': 2175, 'drive': 2176, 'sealed': 2177, 'vienna': 2178, 'defective': 2179, 'overpowering': 2180, 'acai': 2181, 'oro': 2182, 'fooled': 2183, 'oatcakes': 2184, 'hype': 2185, 'unhealthy': 2186, 'bait': 2187, 'lowery': 2188, 'understand': 2189, 'ten': 2190, 'tails': 2191, 'whiskas': 2192, 'hell': 2193, 'answer': 2194, 'insanely': 2195, 'joint': 2196, 'toast': 2197, 'wedding': 2198, 'gorgeous': 2199, 'grind': 2200, 'spectacular': 2201, 'missed': 2202, 'issue': 2203, 'oberto': 2204, 'jim': 2205, 'seafood': 2206, 'decadence': 2207, 'killer': 2208, 'jumbo': 2209, 'higher': 2210, 'silver': 2211, 'sesmark': 2212, 'ceylon': 2213, 'stew': 2214, 'hazelnuts': 2215, 'mauna': 2216, 'paul': 2217, 'turn': 2218, 'anchovies': 2219, 'ugly': 2220, 'strawberries': 2221, 'cracked': 2222, 'cornbread': 2223, 'relatively': 2224, 'giving': 2225, 'freezer': 2226, 'crappy': 2227, 'broccoli': 2228, 'cola': 2229, 'note': 2230, 'pistachios': 2231, 'rate': 2232, 'glutino': 2233, 'shiny': 2234, 'trick': 2235, 'class': 2236, 'commercial': 2237, 'balls': 2238, 'cooks': 2239, 'pro': 2240, 'forget': 2241, 'cincinnati': 2242, 'guys': 2243, 'dollar': 2244, 'rather': 2245, 'peachy': 2246, 'starts': 2247, 'coming': 2248, 'total': 2249, 'portable': 2250, 'breathe': 2251, 'stomachs': 2252, 'monin': 2253, 'mocafe': 2254, 'loss': 2255, 'obsessed': 2256, 'grown': 2257, 'nope': 2258, 'twins': 2259, 'celsius': 2260, 'purple': 2261, 'wierd': 2262, 'crave': 2263, 'subtle': 2264, 'meet': 2265, 'beach': 2266, 'gatorade': 2267, 'sharp': 2268, 'caffe': 2269, 'friskies': 2270, 'mcvities': 2271, 'aspartame': 2272, 'senior': 2273, 'wont': 2274, 'glycemic': 2275, 'russell': 2276, 'nori': 2277, 'bowls': 2278, 'expiry': 2279, 'healthiest': 2280, 'fab': 2281, 'duck': 2282, 'points': 2283, 'hold': 2284, 'hfcs': 2285, 'funky': 2286, 'brulee': 2287, 'joy': 2288, 'paw': 2289, 'hide': 2290, 'giant': 2291, 'mayo': 2292, 'mama': 2293, 'system': 2294, 'finger': 2295, 'immune': 2296, 'kili': 2297, 'lindor': 2298, 'theatre': 2299, 'zip': 2300, 'today': 2301, 'pea': 2302, 'keeping': 2303, 'enchilada': 2304, 'labeling': 2305, 'pain': 2306, 'snow': 2307, 'cones': 2308, 'search': 2309, 'tastiest': 2310, 'nerds': 2311, 'improved': 2312, 'shaved': 2313, 'jolly': 2314, 'virgin': 2315, 'worthless': 2316, 'traveling': 2317, 'opening': 2318, 'kittens': 2319, 'trying': 2320, 'horse': 2321, 'peel': 2322, 'smashed': 2323, 'chopped': 2324, 'birds': 2325, 'drinkable': 2326, 'brookside': 2327, 'musty': 2328, 'zipfizz': 2329, 'effect': 2330, 'grill': 2331, 'ambrosia': 2332, 'kombucha': 2333, 'buckwheat': 2334, 'leaking': 2335, 'win': 2336, 'pies': 2337, 'knorr': 2338, 'type': 2339, 'thrilled': 2340, 'ella': 2341, 'mushroom': 2342, 'fart': 2343, 'gouging': 2344, 'candied': 2345, 'questionable': 2346, 'keebler': 2347, 'growing': 2348, 'costa': 2349, 'paleo': 2350, 'gerber': 2351, 'fig': 2352, 'sitting': 2353, 'squirrels': 2354, 'prime': 2355, 'calcium': 2356, 'applesauce': 2357, 'mozzarella': 2358, 'act': 2359, 'smoker': 2360, 'farm': 2361, 'advertisement': 2362, 'del': 2363, 'yorkshire': 2364, 'sell': 2365, 'mexico': 2366, 'containers': 2367, 'nearly': 2368, 'mixer': 2369, 'chops': 2370, 'tested': 2371, 'toasted': 2372, 'teething': 2373, 'slight': 2374, 'firm': 2375, 'lips': 2376, 'plocky': 2377, 'frosting': 2378, 'speedy': 2379, 'choclate': 2380, 'presentation': 2381, 'bomb': 2382, 'student': 2383, 'uncle': 2384, 'kosher': 2385, 'stuffed': 2386, 'happily': 2387, 'biscotti': 2388, 'easter': 2389, 'attractive': 2390, 'culinary': 2391, 'entree': 2392, 'juicy': 2393, 'penne': 2394, 'rule': 2395, 'definately': 2396, 'entire': 2397, 'post': 2398, 'cheetos': 2399, 'condiment': 2400, 'website': 2401, 'itself': 2402, 'fl': 2403, 'nutrient': 2404, 'rishi': 2405, 'dough': 2406, 'either': 2407, 'ehh': 2408, 'flaxseed': 2409, 'mona': 2410, 'lisa': 2411, 'pepsi': 2412, 'poppin': 2413, 'kernals': 2414, 'possibly': 2415, 'skins': 2416, 'yummers': 2417, 'seaweed': 2418, 'term': 2419, 'orbit': 2420, 'grainy': 2421, 'plenty': 2422, 'produce': 2423, 'drinkers': 2424, 'puffed': 2425, 'nummy': 2426, 'grandkids': 2427, 'complain': 2428, 'dane': 2429, 'restaurants': 2430, 'cofee': 2431, 'sausages': 2432, 'produced': 2433, 'shower': 2434, 'sells': 2435, 'until': 2436, 'mic': 2437, 'which': 2438, 'ole': 2439, 'fingers': 2440, 'evening': 2441, 'remarkable': 2442, 'cameron': 2443, 'ultra': 2444, 'important': 2445, 'danger': 2446, 'cause': 2447, 'dogfood': 2448, 'reviewer': 2449, 'colombian': 2450, 'buster': 2451, 'shots': 2452, 'goo': 2453, 'tip': 2454, 'intense': 2455, 'hawaii': 2456, 'smoothest': 2457, 'shocked': 2458, 'hydrogenated': 2459, 'lives': 2460, 'form': 2461, 'thinks': 2462, 'plump': 2463, 'internet': 2464, 'pugs': 2465, 'batter': 2466, 'sweeteners': 2467, 'spinach': 2468, 'jittery': 2469, 'utterly': 2470, 'iron': 2471, 'lemons': 2472, 'risotto': 2473, 'freshly': 2474, 'refreshment': 2475, 'costly': 2476, 'error': 2477, 'via': 2478, 'shaped': 2479, 'impressive': 2480, 'daughters': 2481, 'unpopped': 2482, 'chamomile': 2483, 'doh': 2484, 'fantabulous': 2485, 'happier': 2486, 'batman': 2487, 'customers': 2488, 'tastic': 2489, 'feeding': 2490, 'cheesecake': 2491, 'wrapped': 2492, 'kisses': 2493, 'nescafe': 2494, 'availability': 2495, 'discovery': 2496, 'koma': 2497, 'doesnt': 2498, 'glass': 2499, 'ear': 2500, 'weeks': 2501, 'aloha': 2502, 'dee': 2503, 'agar': 2504, 'mug': 2505, 'stronger': 2506, 'hardly': 2507, 'imported': 2508, 'law': 2509, 'trip': 2510, 'actual': 2511, 'definite': 2512, 'exciting': 2513, 'seemed': 2514, 'doubled': 2515, 'play': 2516, 'folger': 2517, 'popped': 2518, 'nights': 2519, 'horrid': 2520, 'campbell': 2521, 'lazy': 2522, 'rinse': 2523, 'amy': 2524, 'delicioso': 2525, 'cane': 2526, 'reduced': 2527, 'lovin': 2528, 'final': 2529, 'cravings': 2530, 'leather': 2531, 'krusteaz': 2532, 'halves': 2533, 'barry': 2534, 'under': 2535, 'baker': 2536, 'bet': 2537, 'sugarless': 2538, 'round': 2539, 'sinfully': 2540, 'typical': 2541, 'fragile': 2542, 'chemicals': 2543, 'stinks': 2544, 'mounds': 2545, 'watered': 2546, 'dachshund': 2547, 'dent': 2548, 'knew': 2549, 'zen': 2550, 'supplier': 2551, 'intended': 2552, 'confused': 2553, 'selling': 2554, 'shame': 2555, 'discount': 2556, 'japan': 2557, 'cavender': 2558, 'unreal': 2559, 'labrada': 2560, 'protien': 2561, 'emergency': 2562, 'choices': 2563, 'canada': 2564, 'leaky': 2565, 'ease': 2566, 'emerils': 2567, 'land': 2568, 'watering': 2569, 'galil': 2570, 'cardamom': 2571, 'evoo': 2572, 'fusion': 2573, 'lasagna': 2574, 'resist': 2575, 'dunkin': 2576, 'promptly': 2577, 'empty': 2578, 'washed': 2579, 'dick': 2580, 'cure': 2581, 'lasted': 2582, 'pitcher': 2583, 'gusto': 2584, 'sams': 2585, 'avoderm': 2586, 'helpful': 2587, 'merrick': 2588, 'enjoys': 2589, 'nutella': 2590, 'sangria': 2591, 'relaxation': 2592, 'lowfat': 2593, 'bug': 2594, 'bow': 2595, 'sooner': 2596, 'finishing': 2597, 'vitamins': 2598, 'doing': 2599, 'environmentally': 2600, 'jimmies': 2601, 'branston': 2602, 'caps': 2603, 'baronet': 2604, 'fenugreek': 2605, 'tartar': 2606, 'forward': 2607, 'everybody': 2608, 'triplets': 2609, 'portions': 2610, 'main': 2611, 'figs': 2612, 'petite': 2613, 'speaking': 2614, 'oriental': 2615, 'mystery': 2616, 'galore': 2617, 'expire': 2618, 'terrier': 2619, 'supply': 2620, 'treasure': 2621, 'sturdy': 2622, 'rope': 2623, 'labs': 2624, 'useful': 2625, 'attention': 2626, 'bottom': 2627, 'twix': 2628, 'papaya': 2629, 'shown': 2630, 'goods': 2631, 'th': 2632, 'lighter': 2633, 'kirkland': 2634, 'favs': 2635, 'kuerig': 2636, 'popchip': 2637, 'yam': 2638, 'solo': 2639, 'supper': 2640, 'ziwi': 2641, 'couple': 2642, 'gobbled': 2643, 'cocaine': 2644, 'discontinued': 2645, 'death': 2646, 'puzzle': 2647, 'macaroni': 2648, 'accurate': 2649, 'droste': 2650, 'betty': 2651, 'crocker': 2652, 'salami': 2653, 'crema': 2654, 'lentils': 2655, 'huckleberry': 2656, 'happybellies': 2657, 'sip': 2658, 'business': 2659, 'navy': 2660, 'chilli': 2661, 'bounty': 2662, 'ewwww': 2663, 'canola': 2664, 'revv': 2665, 'pulse': 2666, 'girlfriend': 2667, 'burst': 2668, 'cross': 2669, 'progresso': 2670, 'vodka': 2671, 'grilled': 2672, 'sparkling': 2673, 'compare': 2674, 'exellent': 2675, 'badly': 2676, 'marvelous': 2677, 'trust': 2678, 'cleanse': 2679, 'cap': 2680, 'bummer': 2681, 'trader': 2682, 'thanksgiving': 2683, 'chewies': 2684, 'hcg': 2685, 'tullys': 2686, 'john': 2687, 'enzymatic': 2688, 'rain': 2689, 'comparison': 2690, 'whoa': 2691, 'teavana': 2692, 'fresher': 2693, 'outside': 2694, 'blues': 2695, 'booster': 2696, 'healty': 2697, 'tastier': 2698, 'hersheys': 2699, 'spit': 2700, 'antioxidants': 2701, 'torrone': 2702, 'london': 2703, 'sweeten': 2704, 'delightfully': 2705, 'wheatgrass': 2706, 'shipper': 2707, 'charm': 2708, 'carmel': 2709, 'bowser': 2710, 'toys': 2711, 'writing': 2712, 'dated': 2713, 'que': 2714, 'wicked': 2715, 'opened': 2716, 'dissolves': 2717, 'snaps': 2718, 'week': 2719, 'coca': 2720, 'saltines': 2721, 'relish': 2722, 'heck': 2723, 'maruchan': 2724, 'rabbit': 2725, 'lose': 2726, 'crystals': 2727, 'preferred': 2728, 'freshest': 2729, 'view': 2730, 'pug': 2731, 'hunger': 2732, 'arrangement': 2733, 'weruva': 2734, 'pom': 2735, 'snap': 2736, 'melissa': 2737, 'somewhere': 2738, 'automatic': 2739, 'issimo': 2740, 'gems': 2741, 'ravioli': 2742, 'pectin': 2743, 'lara': 2744, 'gout': 2745, 'lakewood': 2746, 'pipes': 2747, 'dandruff': 2748, 'nifty': 2749, 'tapioca': 2750, 'lickety': 2751, 'elk': 2752, 'hugger': 2753, 'guests': 2754, 'wise': 2755, 'asparagus': 2756, 'face': 2757, 'heads': 2758, 'paid': 2759, 'marley': 2760, 'smalls': 2761, 'sugarfree': 2762, 'killed': 2763, 'salts': 2764, 'chick': 2765, 'tang': 2766, 'farts': 2767, 'ask': 2768, 'music': 2769, 'palate': 2770, 'paint': 2771, 'pocky': 2772, 'mueslix': 2773, 'kelloggs': 2774, 'winning': 2775, 'ray': 2776, 'powdery': 2777, 'rave': 2778, 'metallic': 2779, 'inch': 2780, 'unimpressed': 2781, 'tac': 2782, 'aunt': 2783, 'da': 2784, 'reorder': 2785, 'snacker': 2786, 'facts': 2787, 'partially': 2788, 'backup': 2789, 'dubble': 2790, 'baba': 2791, 'gun': 2792, 'cigars': 2793, 'cento': 2794, 'below': 2795, 'runner': 2796, 'splash': 2797, 'southwest': 2798, 'chiclets': 2799, 'purchaser': 2800, 'shell': 2801, 'wabash': 2802, 'clams': 2803, 'camper': 2804, 'chilled': 2805, 'show': 2806, 'refused': 2807, 'told': 2808, 'seasoned': 2809, 'hodgson': 2810, 'undrinkable': 2811, 'teabags': 2812, 'known': 2813, 'tacs': 2814, 'graet': 2815, 'doubt': 2816, 'barbecue': 2817, 'crisco': 2818, 'gallon': 2819, 'stocking': 2820, 'brainer': 2821, 'sardine': 2822, 'mayonnaise': 2823, 'godsend': 2824, 'lobster': 2825, 'bully': 2826, 'india': 2827, 'surprising': 2828, 'twists': 2829, 'unremarkable': 2830, 'subsitute': 2831, 'considering': 2832, 'apart': 2833, 'kavli': 2834, 'wasa': 2835, 'shiba': 2836, 'dachshunds': 2837, 'princess': 2838, 'smokies': 2839, 'mentos': 2840, 'closer': 2841, 'peppered': 2842, 'terribly': 2843, 'fennel': 2844, 'mega': 2845, 'pk': 2846, 'expires': 2847, 'ignored': 2848, 'carob': 2849, 'south': 2850, 'dinners': 2851, 'stink': 2852, 'economical': 2853, 'lip': 2854, 'buffet': 2855, 'logic': 2856, 'misrepresented': 2857, 'chocolaty': 2858, 'recommendation': 2859, 'ghirardelli': 2860, 'freakin': 2861, 'snyder': 2862, 'hanover': 2863, 'million': 2864, 'bill': 2865, 'sees': 2866, 'hickory': 2867, 'net': 2868, 'restricted': 2869, 'nanas': 2870, 'chives': 2871, 'syrupy': 2872, 'champagne': 2873, 'spritzer': 2874, 'makers': 2875, 'trial': 2876, 'anticipated': 2877, 'columbia': 2878, 'burning': 2879, 'natures': 2880, 'bueno': 2881, 'cayenne': 2882, 'showed': 2883, 'venus': 2884, 'lived': 2885, 'polenta': 2886, 'scam': 2887, 'buena': 2888, 'infant': 2889, 'digest': 2890, 'butterfinger': 2891, 'shepherd': 2892, 'purina': 2893, 'rescue': 2894, 'mind': 2895, 'pigs': 2896, 'poison': 2897, 'vomiting': 2898, 'vidalia': 2899, 'started': 2900, 'animals': 2901, 'spirit': 2902, 'rodeo': 2903, 'wolf': 2904, 'further': 2905, 'oranges': 2906, 'recieved': 2907, 'classy': 2908, 'confusing': 2909, 'parties': 2910, 'fo': 2911, 'rumford': 2912, 'mberry': 2913, 'stated': 2914, 'cinn': 2915, 'ch': 2916, 'shabby': 2917, 'sliced': 2918, 'husbands': 2919, 'minute': 2920, 'cleansing': 2921, 'detox': 2922, 'path': 2923, 'satisfies': 2924, 'headache': 2925, 'grams': 2926, 'glucosamine': 2927, 'gano': 2928, 'river': 2929, 'allergen': 2930, 'passable': 2931, 'postage': 2932, 'anise': 2933, 'listing': 2934, 'jolt': 2935, 'fool': 2936, 'turtle': 2937, 'rates': 2938, 'certified': 2939, 'bath': 2940, 'unit': 2941, 'immediately': 2942, 'whatsoever': 2943, 'ill': 2944, 'returns': 2945, 'germany': 2946, 'addictively': 2947, 'macadamias': 2948, 'recovery': 2949, 'fuss': 2950, 'previous': 2951, 'stuffer': 2952, 'distinctive': 2953, 'altoid': 2954, 'crumby': 2955, 'gi': 2956, 'treacle': 2957, 'bandito': 2958, 'oak': 2959, 'consumption': 2960, 'halloween': 2961, 'european': 2962, 'coffeee': 2963, 'everytime': 2964, 'preference': 2965, 'meds': 2966, 'chipped': 2967, 'herring': 2968, 'tastless': 2969, 'instructions': 2970, 'pearls': 2971, 'stuffing': 2972, 'faster': 2973, 'improvement': 2974, 'cleaning': 2975, 'beagle': 2976, 'breakage': 2977, 'situation': 2978, 'international': 2979, 'creamers': 2980, 'ibs': 2981, 'bam': 2982, 'increases': 2983, 'chicory': 2984, 'faulty': 2985, 'ways': 2986, 'inconsistant': 2987, 'ho': 2988, 'hum': 2989, 'sandwiches': 2990, 'transit': 2991, 'sencha': 2992, 'chunk': 2993, 'stays': 2994, 'young': 2995, 'sub': 2996, 'par': 2997, 'amber': 2998, 'imho': 2999, 'dance': 3000, 'diappointed': 3001, 'carefully': 3002, 'bisto': 3003, 'asked': 3004, 'gimborn': 3005, 'charges': 3006, 'chihuahuas': 3007, 'seasons': 3008, 'dynamite': 3009, 'wasteful': 3010, 'turtles': 3011, 'underwhelmed': 3012, 'coach': 3013, 'elderly': 3014, 'canadian': 3015, 'caused': 3016, 'charms': 3017, 'bubbles': 3018, 'un': 3019, 'melon': 3020, 'comparable': 3021, 'cheezies': 3022, 'deee': 3023, 'cooler': 3024, 'person': 3025, 'mat': 3026, 'leak': 3027, 'calling': 3028, 'colorado': 3029, 'granulated': 3030, 'frog': 3031, 'frogs': 3032, 'walkers': 3033, 're': 3034, 'cody': 3035, 'maldon': 3036, 'instinct': 3037, 'everywhere': 3038, 'homestyle': 3039, 'effects': 3040, 'pinnacle': 3041, 'smoking': 3042, 'icing': 3043, 'potatos': 3044, 'african': 3045, 'straws': 3046, 'occasions': 3047, 'site': 3048, 'gin': 3049, 'bitters': 3050, 'seen': 3051, 'speed': 3052, 'wheel': 3053, 'didnt': 3054, 'twang': 3055, 'useless': 3056, 'ink': 3057, 'incomplete': 3058, 'bentley': 3059, 'chow': 3060, 'est': 3061, 'perfume': 3062, 'litter': 3063, 'lemony': 3064, 'cloves': 3065, 'parts': 3066, 'seals': 3067, 'unsweetened': 3068, 'eden': 3069, 'digestives': 3070, 'yorkies': 3071, 'pak': 3072, 'pooch': 3073, 'competitive': 3074, 'boxer': 3075, 'devour': 3076, 'granny': 3077, 'softer': 3078, 'bundle': 3079, 'recipient': 3080, 'husky': 3081, 'interest': 3082, 'entertainment': 3083, 'energetic': 3084, 'continues': 3085, 'ouch': 3086, 'chewed': 3087, 'destroyed': 3088, 'gotten': 3089, 'keeper': 3090, 'him': 3091, 'nido': 3092, 'chun': 3093, 'warned': 3094, 'sooooooo': 3095, 'enery': 3096, 'afternoon': 3097, 'ancient': 3098, 'bunch': 3099, 'chop': 3100, 'accident': 3101, 'nacho': 3102, 'fattening': 3103, 'blended': 3104, 'retail': 3105, 'carrot': 3106, 'chance': 3107, 'handful': 3108, 'triple': 3109, 'recall': 3110, 'lol': 3111, 'insane': 3112, 'waist': 3113, 'belts': 3114, 'beverages': 3115, 'dutch': 3116, 'cosmic': 3117, 'baklava': 3118, 'mail': 3119, 'singles': 3120, 'fits': 3121, 'snake': 3122, 'taylor': 3123, 'foul': 3124, 'booda': 3125, 'pastas': 3126, 'bellies': 3127, 'ghost': 3128, 'emergen': 3129, 'creek': 3130, 'individually': 3131, 'indoor': 3132, 'tube': 3133, 'collection': 3134, 'web': 3135, 'lammy': 3136, 'blends': 3137, 'crispbread': 3138, 'exp': 3139, 'lightly': 3140, 'purse': 3141, 'yogourmet': 3142, 'hooray': 3143, 'smarties': 3144, 'chalky': 3145, 'sage': 3146, 'laces': 3147, 'stains': 3148, 'scout': 3149, 'russian': 3150, 'hello': 3151, 'masala': 3152, 'closest': 3153, 'aloe': 3154, 'york': 3155, 'turned': 3156, 'wafer': 3157, 'sprouted': 3158, 'nephew': 3159, 'exact': 3160, 'saved': 3161, 'chebe': 3162, 'dave': 3163, 'quinoa': 3164, 'policy': 3165, 'popping': 3166, 'mon': 3167, 'lively': 3168, 'hassle': 3169, 'bagels': 3170, 'sadly': 3171, 'wax': 3172, 'dude': 3173, 'fond': 3174, 'demand': 3175, 'rye': 3176, 'sore': 3177, 'seconds': 3178, 'yams': 3179, 'puree': 3180, 'farmer': 3181, 'yup': 3182, 'mills': 3183, 'wtf': 3184, 'age': 3185, 'maui': 3186, 'bees': 3187, 'bee': 3188, 'rockin': 3189, 'rocky': 3190, 'alot': 3191, 'ovaltine': 3192, 'xtra': 3193, 'lollypops': 3194, 'blood': 3195, 'clump': 3196, 'safer': 3197, 'suckers': 3198, 'pregnancy': 3199, 'loyal': 3200, 'breast': 3201, 'angry': 3202, 'amore': 3203, 'request': 3204, 'virbac': 3205, 'aware': 3206, 'necessary': 3207, 'pesto': 3208, 'bye': 3209, 'talk': 3210, 'addicts': 3211, 'breads': 3212, 'gras': 3213, 'masterpiece': 3214, 'crumbly': 3215, 'dietary': 3216, 'fashioned': 3217, 'pr': 3218, 'residue': 3219, 'semi': 3220, 'cupcake': 3221, 'mania': 3222, 'leonidas': 3223, 'handling': 3224, 'saladitos': 3225, 'en': 3226, 'campbells': 3227, 'ghiradelli': 3228, 'whatever': 3229, 'thailand': 3230, 'frantoia': 3231, 'welcome': 3232, 'graber': 3233, 'moroccan': 3234, 'waxy': 3235, 'burn': 3236, 'ky': 3237, 'florentine': 3238, 'eye': 3239, 'father': 3240, 'elegant': 3241, 'goof': 3242, 'sparingly': 3243, 'hash': 3244, 'supposed': 3245, 'stems': 3246, 'potassium': 3247, 'failed': 3248, 'convient': 3249, 'arrowhead': 3250, 'pleases': 3251, 'active': 3252, 'smoke': 3253, 'pedigree': 3254, 'dentastix': 3255, 'camping': 3256, 'breadsticks': 3257, 'hairball': 3258, 'numi': 3259, 'sunmaid': 3260, 'diarrhea': 3261, 'pour': 3262, 'chocula': 3263, 'official': 3264, 'velvet': 3265, 'beets': 3266, 'crystallized': 3267, 'pouch': 3268, 'leading': 3269, 'callard': 3270, 'harsh': 3271, 'kiddos': 3272, 'repellant': 3273, 'pens': 3274, 'florida': 3275, 'bulbs': 3276, 'smoother': 3277, 'washington': 3278, 'dishonest': 3279, 'remedy': 3280, 'fantastico': 3281, 'zesty': 3282, 'tubs': 3283, 'uk': 3284, 'owner': 3285, 'inn': 3286, 'sweat': 3287, 'artifical': 3288, 'despite': 3289, 'habit': 3290, 'wasted': 3291, 've': 3292, 'petco': 3293, 'rawhides': 3294, 'yoohoo': 3295, 'aspen': 3296, 'mochas': 3297, 'disc': 3298, 'deluxe': 3299, 'sport': 3300, 'influenster': 3301, 'wisconsin': 3302, 'maki': 3303, 'cider': 3304, 'garibaldi': 3305, 'kmr': 3306, 'rounds': 3307, 'thinkthin': 3308, 'adore': 3309, 'looked': 3310, 'pu': 3311, 'erh': 3312, 'newtons': 3313, 'import': 3314, 'gogo': 3315, 'dumb': 3316, 'maid': 3317, 'sprinkle': 3318, 'ive': 3319, 'memory': 3320, 'yummi': 3321, 'cheeze': 3322, 'rican': 3323, 'means': 3324, 'due': 3325, 'glee': 3326, 'wood': 3327, 'leaked': 3328, 'rush': 3329, 'machines': 3330, 'lickin': 3331, 'utz': 3332, 'burned': 3333, 'card': 3334, 'vitality': 3335, 'called': 3336, 'frontier': 3337, 'exquisite': 3338, 'vegetarians': 3339, 'unexpected': 3340, 'dollars': 3341, 'fuji': 3342, 'skyline': 3343, 'carr': 3344, 'alba': 3345, 'americolor': 3346, 'di': 3347, 'muesli': 3348, 'puff': 3349, 'kudos': 3350, 'fountain': 3351, 'butt': 3352, 'awake': 3353, 'cotton': 3354, 'nabisco': 3355, 'moving': 3356, 'lapsang': 3357, 'souchong': 3358, 'welch': 3359, 'starburst': 3360, 'lundberg': 3361, 'parents': 3362, 'krinkle': 3363, 'satisified': 3364, 'nutri': 3365, 'excited': 3366, 'mg': 3367, 'fondue': 3368, 'unless': 3369, 'skewers': 3370, 'thunder': 3371, 'luvs': 3372, 'blonde': 3373, 'veranda': 3374, 'bisque': 3375, 'refined': 3376, 'mis': 3377, 'rashers': 3378, 'conditioner': 3379, 'scalp': 3380, 'funbites': 3381, 'minicongo': 3382, 'baskets': 3383, 'quadratini': 3384, 'fear': 3385, 'writer': 3386, 'bariani': 3387, 'snickers': 3388, 'ackee': 3389, 'veri': 3390, 'sours': 3391, 'al': 3392, 'brit': 3393, 'jims': 3394, 'mulberry': 3395, 'antler': 3396, 'mareblu': 3397, 'montreal': 3398, 'dinosaurs': 3399, 'pappy': 3400, 'glug': 3401, 'kickin': 3402, 'target': 3403, 'electrolytes': 3404, 'cramps': 3405, 'haven': 3406, 'tartlets': 3407, 'holistic': 3408, 'burns': 3409, 'ehhh': 3410, 'runts': 3411, 'mood': 3412, 'furniture': 3413, 'polish': 3414, 'yummier': 3415, 'oyster': 3416, 'delisious': 3417, 'knees': 3418, 'crunchiness': 3419, 'hill': 3420, 'madhouse': 3421, 'fluid': 3422, 'replacing': 3423, 'smokin': 3424, 'drain': 3425, 'steam': 3426, 'kikkoman': 3427, 'canin': 3428, 'lea': 3429, 'wary': 3430, 'toss': 3431, 'eb': 3432, 'geat': 3433, 'pioneer': 3434, 'eco': 3435, 'babka': 3436, 'jeremiah': 3437, 'reaction': 3438, 'excessive': 3439, 'gritty': 3440, 'jolokia': 3441, 'weaker': 3442, 'bisphenol': 3443, 'tho': 3444, 'lifestyle': 3445, 'yorkiepoo': 3446, 'flu': 3447, 'deeee': 3448, 'dragon': 3449, 'creations': 3450, 'compleats': 3451, 'unpopular': 3452, 'fibergourmet': 3453, 'revolting': 3454, 'yummies': 3455, 'deeelicious': 3456, 'apo': 3457, 'zippy': 3458, 'overrated': 3459, 'counter': 3460, 'morton': 3461, 'starting': 3462, 'scratch': 3463, 'processed': 3464, 'unavailable': 3465, 'tot': 3466, 'wu': 3467, 'yi': 3468, 'ol': 3469, 'tahini': 3470, 'smokers': 3471, 'iv': 3472, 'dop': 3473, 'marzano': 3474, 'shows': 3475, 'merchandise': 3476, 'conversation': 3477, 'dispenser': 3478, 'marathon': 3479, 'wonka': 3480, 'split': 3481, 'caf': 3482, 'cozy': 3483, 'smooooth': 3484, 'gravel': 3485, 'convienent': 3486, 'caveat': 3487, 'dissappointed': 3488, 'dropped': 3489, 'plane': 3490, 'sheltie': 3491, 'adores': 3492, 'dipped': 3493, 'cakesters': 3494, 'minced': 3495, 'occassions': 3496, 'grand': 3497, 'excellence': 3498, 'particularly': 3499, 'additions': 3500, 'puroast': 3501, 'spring': 3502, 'supermarkets': 3503, 'arsenic': 3504, 'devine': 3505, 'cocolate': 3506, 'coffeemate': 3507, 'listened': 3508, 'fats': 3509, 'soso': 3510, 'downright': 3511, 'isnt': 3512, 'outthere': 3513, 'reminds': 3514, 'deelish': 3515, 'lazzaroni': 3516, 'millet': 3517, 'woeber': 3518, 'pal': 3519, 'ideas': 3520, 'meats': 3521, 'shortening': 3522, 'painful': 3523, 'hannah': 3524, 'among': 3525, 'alive': 3526, 'roxy': 3527, 'fill': 3528, 'dissatisfied': 3529, 'beaver': 3530, 'compatible': 3531, 'windows': 3532, 'deliver': 3533, 'volume': 3534, 'icicle': 3535, 'several': 3536, 'mono': 3537, 'indigestion': 3538, 'matters': 3539, 'snickerdoodles': 3540, 'inferior': 3541, 'gram': 3542, 'toothpicks': 3543, 'felt': 3544, 'football': 3545, 'nutter': 3546, 'experimental': 3547, 'vials': 3548, 'risk': 3549, 'amazingness': 3550, 'jitters': 3551, 'provided': 3552, 'ener': 3553, 'corgi': 3554, 'kobe': 3555, 'wilton': 3556, 'golf': 3557, 'pat': 3558, 'inu': 3559, 'satisfactory': 3560, 'belong': 3561, 'ethical': 3562, 'worries': 3563, 'loses': 3564, 'skeptical': 3565, 'bills': 3566, 'chardonnay': 3567, 'riesling': 3568, 'rocket': 3569, 'humans': 3570, 'ladies': 3571, 'appealing': 3572, 'enfamil': 3573, 'receipt': 3574, 'pamelas': 3575, 'grandson': 3576, 'tiger': 3577, 'roasters': 3578, 'vitakraft': 3579, 'luzianne': 3580, 'fulfillment': 3581, 'village': 3582, 'peaches': 3583, 'lookin': 3584, 'mccormick': 3585, 'magical': 3586, 'fazer': 3587, 'unbeatable': 3588, 'themselves': 3589, 'mainly': 3590, 'gobble': 3591, 'major': 3592, 'number': 3593, 'apriva': 3594, 'disco': 3595, 'fever': 3596, 'dublin': 3597, 'fresca': 3598, 'notes': 3599, 'duty': 3600, 'crop': 3601, 'preserve': 3602, 'glaze': 3603, 'tradition': 3604, 'nite': 3605, 'fiesta': 3606, 'flavorfull': 3607, 'fruitcake': 3608, 'beast': 3609, 'wins': 3610, 'granules': 3611, 'unsweet': 3612, 'bubbly': 3613, 'glorious': 3614, 'tangerine': 3615, 'disposakup': 3616, 'disposa': 3617, 'alittle': 3618, 'educational': 3619, 'hollywood': 3620, 'stupid': 3621, 'hartz': 3622, 'boyfriend': 3623, 'snappy': 3624, 'press': 3625, 'cesar': 3626, 'dandy': 3627, 'munchie': 3628, 'sparkles': 3629, 'shimmer': 3630, 'doa': 3631, 'twisted': 3632, 'flytrap': 3633, 'dissapointment': 3634, 'greenbox': 3635, 'es': 3636, 'muy': 3637, 'con': 3638, 'awesom': 3639, 'cj': 3640, 'convience': 3641, 'harmony': 3642, 'securely': 3643, 'nestle': 3644, 'pastry': 3645, 'patty': 3646, 'eatin': 3647, 'gal': 3648, 'wouldnt': 3649, 'mongolian': 3650, 'eukanuba': 3651, 'longest': 3652, 'sufferer': 3653, 'helping': 3654, 'peace': 3655, 'wished': 3656, 'cartons': 3657, 'zots': 3658, 'silken': 3659, 'nu': 3660, 'response': 3661, 'competition': 3662, 'wheats': 3663, 'triscuits': 3664, 'setting': 3665, 'otherwise': 3666, 'milder': 3667, 'wolfgand': 3668, 'ahhhh': 3669, 'knows': 3670, 'kup': 3671, 'imo': 3672, 'favored': 3673, 'grounds': 3674, 'grinds': 3675, 'wowed': 3676, 'kopi': 3677, 'refrigeration': 3678, 'macchiatos': 3679, 'comment': 3680, 'running': 3681, 'bailey': 3682, 'turducken': 3683, 'returning': 3684, 'paella': 3685, 'pasty': 3686, 'stride': 3687, 'fondarific': 3688, 'standards': 3689, 'hungarian': 3690, 'benefit': 3691, 'reviewers': 3692, 'bank': 3693, 'miraculous': 3694, 'fruits': 3695, 'wayy': 3696, 'tablets': 3697, 'deserves': 3698, 'choco': 3699, 'amaretto': 3700, 'elliott': 3701, 'guinea': 3702, 'limited': 3703, 'level': 3704, 'micro': 3705, 'rind': 3706, 'dissappointment': 3707, 'porkrinds': 3708, 'brother': 3709, 'lowreys': 3710, 'rhinds': 3711, 'fire': 3712, 'chuckles': 3713, 'effort': 3714, 'clears': 3715, 'tonic': 3716, 'gyro': 3717, 'marshmallow': 3718, 'frappes': 3719, 'overwhelming': 3720, 'piana': 3721, 'soba': 3722, 'conscience': 3723, 'became': 3724, 'alternate': 3725, 'pumpkins': 3726, 'peanutty': 3727, 'heathly': 3728, 'noms': 3729, 'spicing': 3730, 'mesquite': 3731, 'thicker': 3732, 'exceeded': 3733, 'lucys': 3734, 'glutten': 3735, 'yumminess': 3736, 'shoe': 3737, 'filet': 3738, 'squares': 3739, 'ripe': 3740, 'details': 3741, 'course': 3742, 'coarse': 3743, 'eggplant': 3744, 'pep': 3745, 'sloppy': 3746, 'grassfed': 3747, 'cancer': 3748, 'ancho': 3749, 'organizer': 3750, 'needing': 3751, 'rack': 3752, 'invention': 3753, 'glory': 3754, 'jerk': 3755, 'finely': 3756, 'eggnog': 3757, 'waggin': 3758, 'report': 3759, 'byron': 3760, 'safety': 3761, 'retired': 3762, 'accepted': 3763, 'uno': 3764, 'pastrami': 3765, 'stuck': 3766, 'bahlsen': 3767, 'bal': 3768, 'bananas': 3769, 'flight': 3770, 'hurts': 3771, 'festive': 3772, 'purchases': 3773, 'cappucino': 3774, 'distress': 3775, 'manuka': 3776, 'gringo': 3777, 'universal': 3778, 'delivers': 3779, 'suprised': 3780, 'tarter': 3781, 'andes': 3782, 'factory': 3783, 'biscoff': 3784, 'airline': 3785, 'soldiers': 3786, 'middle': 3787, 'impossibly': 3788, 'suprisingly': 3789, 'barista': 3790, 'giorgio': 3791, 'handle': 3792, 'kc': 3793, 'airtight': 3794, 'limes': 3795, 'grower': 3796, 'poptart': 3797, 'ants': 3798, 'disappearing': 3799, 'breeder': 3800, 'cavalier': 3801, 'charles': 3802, 'stole': 3803, 'ireland': 3804, 'greater': 3805, 'desk': 3806, 'mcdougall': 3807, 'zest': 3808, 'taj': 3809, 'mahal': 3810, 'marionberry': 3811, 'disappoint': 3812, 'disgustingly': 3813, 'masters': 3814, 'bulldog': 3815, 'obviously': 3816, 'myself': 3817, 'substitution': 3818, 'starchy': 3819, 'lil': 3820, 'cleans': 3821, 'canceling': 3822, 'grab': 3823, 'wraps': 3824, 'glutin': 3825, 'stamped': 3826, 'usda': 3827, 'awesomely': 3828, 'wrap': 3829, 'snapper': 3830, 'practical': 3831, 'slimey': 3832, 'grossly': 3833, 'improves': 3834, 'highland': 3835, 'orgasmic': 3836, 'goood': 3837, 'kodiak': 3838, 'tahitian': 3839, 'directly': 3840, 'blackened': 3841, 'sensation': 3842, 'coke': 3843, 'sophie': 3844, 'december': 3845, 'hound': 3846, 'orchid': 3847, 'outdated': 3848, 'michael': 3849, 'baconaise': 3850, 'grn': 3851, 'gm': 3852, 'aji': 3853, 'lord': 3854, 'spots': 3855, 'counting': 3856, 'boylan': 3857, 'rubbish': 3858, 'greeen': 3859, 'coupon': 3860, 'chuck': 3861, 'regularly': 3862, 'splendid': 3863, 'lightweight': 3864, 'quench': 3865, 'sarracenia': 3866, 'leucophylla': 3867, 'queso': 3868, 'aptly': 3869, 'named': 3870, 'nirvana': 3871, 'alcohol': 3872, 'sneak': 3873, 'oskri': 3874, 'ohhh': 3875, 'yumo': 3876, 'gooey': 3877, 'stiff': 3878, 'crabmeat': 3879, 'chicks': 3880, 'calm': 3881, 'propylene': 3882, 'glycol': 3883, 'whiskey': 3884, 'rubs': 3885, 'azteca': 3886, 'fa': 3887, 'blast': 3888, 'conscious': 3889, 'tasts': 3890, 'praise': 3891, 'ratio': 3892, 'dehydrated': 3893, 'nutmeg': 3894, 'counts': 3895, 'mochi': 3896, 'snob': 3897, 'thinking': 3898, 'britain': 3899, 'miniatures': 3900, 'od': 3901, 'filets': 3902, 'soil': 3903, 'retrievers': 3904, 'functional': 3905, 'havanese': 3906, 'tamarind': 3907, 'smelling': 3908, 'unclear': 3909, 'rainbow': 3910, 'ours': 3911, 'nutritiously': 3912, 'correctly': 3913, 'tase': 3914, 'yahoo': 3915, 'marmite': 3916, 'brews': 3917, 'production': 3918, 'served': 3919, 'gumbo': 3920, 'gumball': 3921, 'sort': 3922, 'whats': 3923, 'eatable': 3924, 'solids': 3925, 'mo': 3926, 'compares': 3927, 'horehound': 3928, 'pate': 3929, 'mission': 3930, 'snackwell': 3931, 'professional': 3932, 'whipped': 3933, 'squid': 3934, 'hugely': 3935, 'petit': 3936, 'thus': 3937, 'sample': 3938, 'decide': 3939, 'central': 3940, 'dusty': 3941, 'amazed': 3942, 'edge': 3943, 'poms': 3944, 'serendipity': 3945, 'tierra': 3946, 'sourness': 3947, 'vacuum': 3948, 'mcvitie': 3949, 'snak': 3950, 'intact': 3951, 'grassy': 3952, 'patches': 3953, 'stone': 3954, 'tummies': 3955, 'lily': 3956, 'maggie': 3957, 'charlie': 3958, 'ambers': 3959, 'greats': 3960, 'greeenies': 3961, 'liking': 3962, 'verified': 3963, 'reduction': 3964, 'artichoke': 3965, 'worthwhile': 3966, 'engaging': 3967, 'occupied': 3968, 'distraction': 3969, 'challenge': 3970, 'pacifier': 3971, 'clever': 3972, 'managed': 3973, 'flaw': 3974, 'likey': 3975, 'miserable': 3976, 'sanity': 3977, 'emerald': 3978, 'favortie': 3979, 'bulgur': 3980, 'lotta': 3981, 'given': 3982, 'servings': 3983, 'dreams': 3984, 'walker': 3985, 'canning': 3986, 'ostrich': 3987, 'bing': 3988, 'acidity': 3989, 'yolk': 3990, 'au': 3991, 'department': 3992, 'frying': 3993, 'occasional': 3994, 'watching': 3995, 'watcher': 3996, 'fail': 3997, 'pucker': 3998, 'tenders': 3999, 'exceptionally': 4000, 'frosted': 4001, 'words': 4002, 'mole': 4003, 'castor': 4004, 'chorizo': 4005, 'couldnt': 4006, 'peak': 4007, 'attack': 4008, 'soggy': 4009, 'wakes': 4010, 'flake': 4011, 'min': 4012, 'devoured': 4013, 'carbquick': 4014, 'carbquik': 4015, 'carte': 4016, 'noire': 4017, 'lack': 4018, 'bleh': 4019, 'cr': 4020, 'entertained': 4021, 'flimsy': 4022, 'fettuccine': 4023, 'pulp': 4024, 'pina': 4025, 'colada': 4026, 'max': 4027, 'ewwwwww': 4028, 'reds': 4029, 'meringue': 4030, 'pastries': 4031, 'chewey': 4032, 'yea': 4033, 'misses': 4034, 'meatless': 4035, 'teriyaki': 4036, 'szechuan': 4037, 'soooooooo': 4038, 'jordan': 4039, 'mincemeat': 4040, 'albacore': 4041, 'substitue': 4042, 'chloe': 4043, 'bringing': 4044, 'holidays': 4045, 'probiotics': 4046, 'recent': 4047, 'spat': 4048, 'sawdust': 4049, 'linda': 4050, 'mead': 4051, 'genuinely': 4052, 'recalled': 4053, 'dolmas': 4054, 'starving': 4055, 'terry': 4056, 'hometown': 4057, 'homerun': 4058, 'disappointingly': 4059, 'soyrizo': 4060, 'beefy': 4061, 'station': 4062, 'highway': 4063, 'robbery': 4064, 'vege': 4065, 'vegitarian': 4066, 'worthington': 4067, 'beg': 4068, 'differ': 4069, 'probiotic': 4070, 'corner': 4071, 'dang': 4072, 'disaster': 4073, 'board': 4074, 'left': 4075, 'marrons': 4076, 'powered': 4077, 'prevent': 4078, 'listen': 4079, 'reviewing': 4080, 'teapot': 4081, 'pomegranite': 4082, 'truth': 4083, 'occassion': 4084, 'resealable': 4085, 'ziplock': 4086, 'jacklinks': 4087, 'bogus': 4088, 'fajita': 4089, 'fajitas': 4090, 'quencher': 4091, 'thee': 4092, 'zinger': 4093, 'anybody': 4094, 'allure': 4095, 'fermented': 4096, 'downsized': 4097, 'bigtime': 4098, 'angelina': 4099, 'quaility': 4100, 'dolcetto': 4101, 'buns': 4102, 'blessing': 4103, 'sizes': 4104, 'sounded': 4105, 'required': 4106, 'abit': 4107, 'popper': 4108, 'envy': 4109, 'global': 4110, 'plantation': 4111, 'drank': 4112, 'mystic': 4113, 'ja': 4114, 'waking': 4115, 'muss': 4116, 'awesomeness': 4117, 'goldfish': 4118, 'rejoice': 4119, 'controlled': 4120, 'east': 4121, 'ryvita': 4122, 'david': 4123, 'rio': 4124, 'duncan': 4125, 'fanatic': 4126, 'margaret': 4127, 'warming': 4128, 'hungry': 4129, 'tobacco': 4130, 'goodlife': 4131, 'minimal': 4132, 'chestnut': 4133, 'resolved': 4134, 'maggots': 4135, 'boyardee': 4136, 'lunchboxes': 4137, 'jimmy': 4138, 'atomic': 4139, 'sickness': 4140, 'minis': 4141, 'pixie': 4142, 'decorations': 4143, 'mmgood': 4144, 'owned': 4145, 'joes': 4146, 'reduce': 4147, 'regards': 4148, 'toothbrush': 4149, 'nutrigrain': 4150, 'extras': 4151, 'growth': 4152, 'org': 4153, 'meets': 4154, 'hocks': 4155, 'sucker': 4156, 'dieter': 4157, 'aged': 4158, 'supplies': 4159, 'sky': 4160, 'doodles': 4161, 'robert': 4162, 'brazil': 4163, 'soldier': 4164, 'advised': 4165, 'comforting': 4166, 'mmh': 4167, 'asleep': 4168, 'horsetail': 4169, 'flashes': 4170, 'insomnia': 4171, 'arthritis': 4172, 'wanna': 4173, 'grilling': 4174, 'efficient': 4175, 'choking': 4176, 'relieved': 4177, 'tis': 4178, 'ad': 4179, 'blair': 4180, 'guaranteed': 4181, 'honeycomb': 4182, 'stong': 4183, 'refrigerate': 4184, 'bb': 4185, 'cowboy': 4186, 'lights': 4187, 'pull': 4188, 'trips': 4189, 'darker': 4190, 'odorless': 4191, 'hounds': 4192, 'tonkatsu': 4193, 'charge': 4194, 'harder': 4195, 'clark': 4196, 'team': 4197, 'granddaughter': 4198, 'santa': 4199, 'beautifully': 4200, 'turmeric': 4201, 'pow': 4202, 'violet': 4203, 'laden': 4204, 'fong': 4205, 'kills': 4206, 'vegg': 4207, 'marcona': 4208, 'vomit': 4209, 'ehhhh': 4210, 'nastiest': 4211, 'project': 4212, 'med': 4213, 'confirmed': 4214, 'shortage': 4215, 'insanity': 4216, 'lactose': 4217, 'squeeze': 4218, 'stunning': 4219, 'teabag': 4220, 'morocco': 4221, 'salada': 4222, 'heathy': 4223, 'stadium': 4224, 'mildly': 4225, 'pomegranates': 4226, 'dk': 4227, 'bubblegum': 4228, 'mistro': 4229, 'hots': 4230, 'doritos': 4231, 'blooming': 4232, 'flowering': 4233, 'scone': 4234, 'currant': 4235, 'spare': 4236, 'fraud': 4237, 'beneficial': 4238, 'learn': 4239, 'evar': 4240, 'ins': 4241, 'poke': 4242, 'forgot': 4243, 'rosemary': 4244, 'shockers': 4245, 'hp': 4246, 'tolerable': 4247, 'texmati': 4248, 'tatses': 4249, 'australia': 4250, 'sweetest': 4251, 'liquorice': 4252, 'poop': 4253, 'scooper': 4254, 'walk': 4255, 'abused': 4256, 'soymilk': 4257, 'banged': 4258, 'kadoya': 4259, 'recommends': 4260, 'uum': 4261, 'coast': 4262, 'exploding': 4263, 'creation': 4264, 'alessi': 4265, 'waited': 4266, 'distant': 4267, 'kitchens': 4268, 'jet': 4269, 'ga': 4270, 'pair': 4271, 'wing': 4272, 'reflux': 4273, 'delcious': 4274, 'hull': 4275, 'caught': 4276, 'gopher': 4277, 'pitted': 4278, 'expectation': 4279, 'alaska': 4280, 'sanding': 4281, 'bugles': 4282, 'fritos': 4283, 'xmas': 4284, 'bored': 4285, 'yumyum': 4286, 'og': 4287, 'jones': 4288, 'frothy': 4289, 'burma': 4290, 'porridge': 4291, 'riceselect': 4292, 'shredded': 4293, 'licorage': 4294, 'arm': 4295, 'deviled': 4296, 'hansen': 4297, 'zeus': 4298, 'manhattans': 4299, 'groats': 4300, 'disapointing': 4301, 'administering': 4302, 'rhubarb': 4303, 'havahart': 4304, 'critter': 4305, 'ridder': 4306, 'chile': 4307, 'sherry': 4308, 'write': 4309, 'writes': 4310, 'pen': 4311, 'won': 4312, 'ton': 4313, 'encountered': 4314, 'll': 4315, 'mar': 4316, 'ribs': 4317, 'crystalized': 4318, 'spoon': 4319, 'sweetleaf': 4320, 'refills': 4321, 'unnatural': 4322, 'timothys': 4323, 'tire': 4324, 'treads': 4325, 'luvers': 4326, 'cholocate': 4327, 'dove': 4328, 'kenya': 4329, 'aa': 4330, 'hmn': 4331, 'masses': 4332, 'fage': 4333, 'salads': 4334, 'boxed': 4335, 'tooo': 4336, 'ultimate': 4337, 'pyramid': 4338, 'ah': 4339, 'ahhh': 4340, 'kenyan': 4341, 'book': 4342, 'sweety': 4343, 'accept': 4344, 'omega': 4345, 'cancelled': 4346, 'premier': 4347, 'france': 4348, 'goooooood': 4349, 'luxury': 4350, 'subtly': 4351, 'coo': 4352, 'slowly': 4353, 'image': 4354, 'reported': 4355, 'cigar': 4356, 'sustained': 4357, 'recepie': 4358, 'mannheim': 4359, 'vile': 4360, 'dilute': 4361, 'rib': 4362, 'sediment': 4363, 'dud': 4364, 'minus': 4365, 'disappear': 4366, 'mulling': 4367, 'tasy': 4368, 'nutiva': 4369, 'manna': 4370, 'sustainable': 4371, 'skinner': 4372, 'invented': 4373, 'bilberry': 4374, 'samoa': 4375, 'shoppe': 4376, 'perfecto': 4377, 'sicilian': 4378, 'table': 4379, 'sleepy': 4380, 'code': 4381, 'madras': 4382, 'rica': 4383, 'stack': 4384, 'endurance': 4385, 'america': 4386, 'spill': 4387, 'gouge': 4388, 'whip': 4389, 'ignore': 4390, 'arare': 4391, 'mangos': 4392, 'felines': 4393, 'furikake': 4394, 'squashed': 4395, 'forming': 4396, 'glorified': 4397, 'sweetz': 4398, 'ish': 4399, 'manner': 4400, 'clif': 4401, 'lemongrass': 4402, 'starkist': 4403, 'merguez': 4404, 'tillamook': 4405, 'heavens': 4406, 'bull': 4407, 'sixlets': 4408, 'claeys': 4409, 'workouts': 4410, 'olde': 4411, 'stops': 4412, 'shedding': 4413, 'troubles': 4414, 'marmalade': 4415, 'kiddo': 4416, 'suitable': 4417, 'awe': 4418, 'moisturizer': 4419, 'safflower': 4420, 'notice': 4421, 'pemmican': 4422, 'hangover': 4423, 'butterscotch': 4424, 'deli': 4425, 'chest': 4426, 'bobs': 4427, 'warehouse': 4428, 'mass': 4429, 'pool': 4430, 'floor': 4431, 'shoulder': 4432, 'chik': 4433, 'opposite': 4434, 'chocolove': 4435, 'fence': 4436, 'colony': 4437, 'fours': 4438, 'licorette': 4439, 'till': 4440, 'digging': 4441, 'jus': 4442, 'payday': 4443, 'ran': 4444, 'genetically': 4445, 'modified': 4446, 'hs': 4447, 'overload': 4448, 'sending': 4449, 'honeytree': 4450, 'moravian': 4451, 'ohhhhh': 4452, 'clove': 4453, 'mothers': 4454, 'dew': 4455, 'rare': 4456, 'reeses': 4457, 'ribbon': 4458, 'anyday': 4459, 'literally': 4460, 'tiki': 4461, 'kinds': 4462, 'parachute': 4463, 'brain': 4464, 'bravo': 4465, 'veg': 4466, 'finding': 4467, 'tek': 4468, 'hides': 4469, 'spaetzle': 4470, 'deeeelicious': 4471, 'fern': 4472, 'platinum': 4473, 'buttered': 4474, 'lawn': 4475, 'poppyseed': 4476, 'tilda': 4477, 'unfiltered': 4478, 'whatta': 4479, 'jaw': 4480, 'cancel': 4481, 'weed': 4482, 'appropriate': 4483, 'excellente': 4484, 'vacation': 4485, 'sampling': 4486, 'ese': 4487, 'choose': 4488, 'bella': 4489, 'wars': 4490, 'buttermilk': 4491, 'caff': 4492, 'sinful': 4493, 'gained': 4494, 'originals': 4495, 'orders': 4496, 'vice': 4497, 'breed': 4498, 'useable': 4499, 'lowest': 4500, 'dececco': 4501, 'capellini': 4502, 'considered': 4503, 'americana': 4504, 'halvah': 4505, 'crips': 4506, 'breeds': 4507, 'enzyme': 4508, 'facial': 4509, 'mask': 4510, 'explore': 4511, 'writers': 4512, 'describe': 4513, 'parma': 4514, 'ditto': 4515, 'foodies': 4516, 'familia': 4517, 'pillsbury': 4518, 'caterpillar': 4519, 'israel': 4520, 'sipping': 4521, 'buen': 4522, 'starbuck': 4523, 'sauerkraut': 4524, 'clusters': 4525, 'lightening': 4526, 'purposes': 4527, 'excellently': 4528, 'bttls': 4529, 'def': 4530, 'replaces': 4531, 'levels': 4532, 'sports': 4533, 'superstar': 4534, 'kongs': 4535, 'sodastream': 4536, 'rootbeer': 4537, 'positive': 4538, 'foot': 4539, 'caponata': 4540, 'dependable': 4541, 'ended': 4542, 'sockeye': 4543, 'victorian': 4544, 'cuban': 4545, 'escape': 4546, 'pudge': 4547, 'ayurvedic': 4548, 'sunshine': 4549, 'sounds': 4550, 'upper': 4551, 'additives': 4552, 'luxardo': 4553, 'cocktails': 4554, 'manhattan': 4555, 'hops': 4556, 'harrogate': 4557, 'sunkist': 4558, 'nutrisystem': 4559, 'houses': 4560, 'foam': 4561, 'caliente': 4562, 'plate': 4563, 'upside': 4564, 'advertise': 4565, 'terra': 4566, 'suprise': 4567, 'kookaburra': 4568, 'australian': 4569, 'corned': 4570, 'midnight': 4571, 'provider': 4572, 'noticed': 4573, 'ruff': 4574, 'nose': 4575, 'calls': 4576, 'devours': 4577, 'dijon': 4578, 'cinnabon': 4579, 'frank': 4580, 'clamato': 4581, 'pepperidge': 4582, 'oloves': 4583, 'scorpion': 4584, 'tor': 4585, 'neo': 4586, 'renal': 4587, 'arrives': 4588, 'foie': 4589, 'appreciated': 4590, 'grew': 4591, 'greens': 4592, 'fettucini': 4593, 'liars': 4594, 'putrid': 4595, 'bionature': 4596, 'clients': 4597, 'ferns': 4598, 'mcp': 4599, 'state': 4600, 'spent': 4601, 'zante': 4602, 'currants': 4603, 'fuzzy': 4604, 'ewww': 4605, 'sbux': 4606, 'sans': 4607, 'gluey': 4608, 'waaaay': 4609, 'depends': 4610, 'krispy': 4611, 'prefers': 4612, 'envirokidz': 4613, 'xoxo': 4614, 'pike': 4615, 'pikes': 4616, 'camp': 4617, 'beauty': 4618, 'nourishing': 4619, 'fur': 4620, 'men': 4621, 'jerquee': 4622, 'dha': 4623, 'pete': 4624, 'meant': 4625, 'capsule': 4626, 'tester': 4627, 'dig': 4628, 'om': 4629, 'autumn': 4630, 'halo': 4631, 'bowel': 4632, 'brewing': 4633, 'escargot': 4634, 'hubs': 4635, 'entirely': 4636, 'liquer': 4637, 'loacker': 4638, 'dislike': 4639, 'erythritol': 4640, 'truely': 4641, 'sunday': 4642, 'cascadian': 4643, 'mars': 4644, 'popeye': 4645, 'included': 4646, 'deet': 4647, 'vinaigrette': 4648, 'burgers': 4649, 'normally': 4650, 'hopefully': 4651, 'catch': 4652, 'chunks': 4653, 'fi': 4654, 'shock': 4655, 'evangers': 4656, 'recipients': 4657, 'caffiene': 4658, 'muslin': 4659, 'savu': 4660, 'foaming': 4661, 'boscoli': 4662, 'choo': 4663, 'yep': 4664, 'everybodys': 4665, 'jif': 4666, 'dente': 4667, 'jax': 4668, 'pkg': 4669, 'mornings': 4670, 'stik': 4671, 'greenyoung': 4672, 'pacific': 4673, 'ann': 4674, 'expiring': 4675, 'teddy': 4676, 'essenza': 4677, 'fran': 4678, 'rippin': 4679, 'fogchaser': 4680, 'clearly': 4681, 'turns': 4682, 'kalua': 4683, 'saltine': 4684, 'mickey': 4685, 'tinkyada': 4686, 'pounce': 4687, 'pho': 4688, 'panettone': 4689, 'scones': 4690, 'horchata': 4691, 'chasing': 4692, 'snyders': 4693, 'strip': 4694, 'nylabones': 4695, 'bumble': 4696, 'elderberry': 4697, 'redskin': 4698, 'misunderstood': 4699, 'wildberry': 4700, 'ant': 4701, 'fettucine': 4702, 'twizlers': 4703, 'neighborhood': 4704, 'preventing': 4705, 'freah': 4706, 'cornmeal': 4707, 'iodine': 4708, 'realemon': 4709, 'garbonzo': 4710, 'falafel': 4711, 'reusable': 4712, 'mcclures': 4713, 'citron': 4714, 'dentest': 4715, 'chair': 4716, 'pok': 4717, 'outcome': 4718, 'scott': 4719, 'provides': 4720, 'trucker': 4721, 'chalet': 4722, 'penguin': 4723, 'pooper': 4724, 'feeder': 4725, 'porcini': 4726, 'franch': 4727, 'fully': 4728, 'addicitive': 4729, 'moisture': 4730, 'chivey': 4731, 'boulder': 4732, 'gaaak': 4733, 'absotively': 4734, 'posilutely': 4735, 'dripping': 4736, 'yoli': 4737, 'defacto': 4738, 'kiss': 4739, 'vickie': 4740, 'bavarian': 4741, 'weigh': 4742, 'tortill': 4743, 'schrumshist': 4744, 'fanfreakintastic': 4745, 'unparalleled': 4746, 'dum': 4747, 'dums': 4748, 'cuttiest': 4749, 'century': 4750, 'laxative': 4751, 'tao': 4752, 'kleri': 4753, 'ferret': 4754, 'scottie': 4755, 'cocker': 4756, 'strictly': 4757, 'lilly': 4758, 'allday': 4759, 'tasten': 4760, 'sass': 4761, 'shiznit': 4762, 'muselix': 4763, 'ur': 4764, 'plated': 4765, 'award': 4766, 'rays': 4767, 'overdone': 4768, 'sheen': 4769, 'airbrush': 4770, 'blow': 4771, 'beefeaters': 4772, 'swizzles': 4773, 'tripe': 4774, 'anus': 4775, 'digs': 4776, 'cultures': 4777, 'vendors': 4778, 'dense': 4779, 'themed': 4780, 'marianne': 4781, 'taro': 4782, 'taters': 4783, 'potatoies': 4784, 'maximum': 4785, 'barb': 4786, 'wyzykoski': 4787, 'jgk': 4788, 'chocolot': 4789, 'infusion': 4790, 'pwdr': 4791, 'nunaturals': 4792, 'nustevia': 4793, 'insulin': 4794, 'devils': 4795, 'shining': 4796, 'bent': 4797, 'jays': 4798, 'blind': 4799, 'vinci': 4800, 'cutter': 4801, 'followers': 4802, 'topchips': 4803, 'weightwatchers': 4804, 'luuuv': 4805, 'cholestrol': 4806, 'hella': 4807, 'lays': 4808, 'sources': 4809, 'gadget': 4810, 'eatten': 4811, 'flecks': 4812, 'martinis': 4813, 'matinis': 4814, 'ddjj': 4815, 'werithers': 4816, 'schmaffles': 4817, 'farmhouse': 4818, 'weekend': 4819, 'versus': 4820, 'figure': 4821, 'penta': 4822, 'mishmash': 4823, 'maca': 4824, 'unfilled': 4825, 'dozen': 4826, 'grammy': 4827, 'satay': 4828, 'tatsy': 4829, 'sludge': 4830, 'ganoush': 4831, 'krinos': 4832, 'result': 4833, 'buble': 4834, 'announcement': 4835, 'cornhusker': 4836, 'concentrated': 4837, 'skyflakes': 4838, 'jja': 4839, 'canadies': 4840, 'dhall': 4841, 'gussies': 4842, 'highfat': 4843, 'gettin': 4844, 'caibou': 4845, 'presence': 4846, 'formulation': 4847, 'unbalanced': 4848, 'willing': 4849, 'otto': 4850, 'sojos': 4851, 'goody': 4852, 'gardener': 4853, 'plague': 4854, 'killing': 4855, 'honeybees': 4856, 'fisher': 4857, 'thomy': 4858, 'scharfer': 4859, 'senf': 4860, 'baxter': 4861, 'mays': 4862, 'evaporate': 4863, 'lacey': 4864, 'congou': 4865, 'adzuki': 4866, 'popcord': 4867, 'nonthing': 4868, 'deadheads': 4869, 'thirty': 4870, 'begone': 4871, 'quenching': 4872, 'rejuvenating': 4873, 'piggie': 4874, 'seemingly': 4875, 'impossible': 4876, 'teaching': 4877, 'ahoy': 4878, 'lucas': 4879, 'nt': 4880, 'quanty': 4881, 'changes': 4882, 'feliciaflan': 4883, 'wint': 4884, 'fencing': 4885, 'caramet': 4886, 'grrrrrrrreat': 4887, 'casablanca': 4888, 'failure': 4889, 'suzie': 4890, 'patties': 4891, 'inorganic': 4892, 'shared': 4893, 'lines': 4894, 'warms': 4895, 'envelope': 4896, 'swisshot': 4897, 'pepermint': 4898, 'fro': 4899, 'jz': 4900, 'mention': 4901, 'chocholate': 4902, 'olate': 4903, 'sweeatners': 4904, 'pschologically': 4905, 'unsorted': 4906, 'claim': 4907, 'mackerels': 4908, 'mackeral': 4909, 'amarettini': 4910, 'frankenwheat': 4911, 'wants': 4912, 'choloate': 4913, 'tijuana': 4914, 'flats': 4915, 'nobody': 4916, 'dining': 4917, 'outta': 4918, 'geliva': 4919, 'jonesing': 4920, 'amout': 4921, 'rj': 4922, 'completly': 4923, 'norcal': 4924, 'parisian': 4925, 'polyvalent': 4926, 'wallop': 4927, 'wash': 4928, 'settle': 4929, 'indulgent': 4930, 'ehkkkkkkkkkkkkkkk': 4931, 'skinless': 4932, 'satisifed': 4933, 'kuhflecken': 4934, 'adaptor': 4935, 'computer': 4936, 'rode': 4937, 'condensor': 4938, 'bllue': 4939, 'audience': 4940, 'pickup': 4941, 'khz': 4942, 'iffy': 4943, 'lightsaber': 4944, 'intolerant': 4945, 'disease': 4946, 'pakcake': 4947, 'flourer': 4948, 'regualr': 4949, 'trusted': 4950, 'hear': 4951, 'cobbler': 4952, 'households': 4953, 'redbard': 4954, 'thief': 4955, 'disguising': 4956, 'exaclty': 4957, 'pico': 4958, 'pica': 4959, 'woderful': 4960, 'chock': 4961, 'mellowed': 4962, 'jazz': 4963, 'rita': 4964, 'texasgirl': 4965, 'appearance': 4966, 'oldie': 4967, 'fallin': 4968, 'google': 4969, 'reports': 4970, 'suspected': 4971, 'poisoning': 4972, 'differently': 4973, 'pc': 4974, 'gma': 4975, 'terrifc': 4976, 'finiky': 4977, 'scarf': 4978, 'toffifay': 4979, 'mucus': 4980, 'drainage': 4981, 'flavia': 4982, 'cave': 4983, 'rotton': 4984, 'uh': 4985, 'truthfull': 4986, 'halal': 4987, 'talent': 4988, 'argentina': 4989, 'tamer': 4990, 'meeeeeeowwwwwww': 4991, 'treets': 4992, 'reasonabale': 4993, 'coofee': 4994, 'accidents': 4995, 'buffy': 4996, 'yummazing': 4997, 'whoo': 4998, 'thses': 4999, 'sharing': 5000, 'kool': 5001, 'appeal': 5002, 'thyme': 5003, 'hight': 5004, 'lapped': 5005, 'giants': 5006, 'standout': 5007, 'crackerbreads': 5008, 'recycled': 5009, 'freezed': 5010, 'hummy': 5011, 'gravey': 5012, 'patchi': 5013, 'df': 5014, 'tigger': 5015, 'thats': 5016, 'burggirl': 5017, 'babysitter': 5018, 'dances': 5019, 'absolutel': 5020, 'decilious': 5021, 'smackin': 5022, 'krunchy': 5023, 'mccanns': 5024, 'steel': 5025, 'amended': 5026, 'eleteamazon': 5027, 'hater': 5028, 'appetizing': 5029, 'alison': 5030, 'shopper': 5031, 'pluses': 5032, 'xylichew': 5033, 'sayan': 5034, 'dest': 5035, 'compensation': 5036, 'contents': 5037, 'unsulphered': 5038, 'category': 5039, 'saba': 5040, 'antimo': 5041, 'capputo': 5042, 'berres': 5043, 'lie': 5044, 'cheaply': 5045, 'glitter': 5046, 'glitery': 5047, 'vimto': 5048, 'intro': 5049, 'spherification': 5050, 'riceworks': 5051, 'brachs': 5052, 'manderin': 5053, 'flawless': 5054, 'anyhoe': 5055, 'matches': 5056, 'discription': 5057, 'customary': 5058, 'tv': 5059, 'oysters': 5060, 'lick': 5061, 'flatter': 5062, 'legendary': 5063, 'june': 5064, 'mode': 5065, 'seahawks': 5066, 'heartier': 5067, 'bil': 5068, 'jac': 5069, 'distressed': 5070, 'increasing': 5071, 'gfcfefsf': 5072, 'gfcfsf': 5073, 'fudgy': 5074, 'wudgy': 5075, 'fermenting': 5076, 'pail': 5077, 'trashcan': 5078, 'sunchang': 5079, 'gochujang': 5080, 'naked': 5081, 'stinger': 5082, 'hiking': 5083, 'crush': 5084, 'shattering': 5085, 'sickening': 5086, 'orangey': 5087, 'tangeriney': 5088, 'carbonation': 5089, 'freak': 5090, 'lugubrious': 5091, 'bevvie': 5092, 'custom': 5093, 'bulky': 5094, 'cuisinart': 5095, 'liquibuy': 5096, 'disposacups': 5097, 'disposible': 5098, 'disposacup': 5099, 'roy': 5100, 'wimps': 5101, 'sahlen': 5102, 'hotdogs': 5103, 'popcorrn': 5104, 'walley': 5105, 'flackers': 5106, 'butters': 5107, 'js': 5108, 'mist': 5109, 'amyjon': 5110, 'rewarding': 5111, 'venisen': 5112, 'ounc': 5113, 'smithinsight': 5114, 'sevice': 5115, 'guayusa': 5116, 'buzzzzzzzzzz': 5117, 'shouldn': 5118, 'crunchie': 5119, 'grandpa': 5120, 'po': 5121, 'majorly': 5122, 'mgm': 5123, 'correction': 5124, 'signature': 5125, 'chomping': 5126, 'receiving': 5127, 'clouds': 5128, 'goatmilkdrinker': 5129, 'para': 5130, 'bebes': 5131, 'problemas': 5132, 'alergias': 5133, 'alimenticias': 5134, 'carries': 5135, 'chrysanthemum': 5136, 'lou': 5137, 'hamburger': 5138, 'celebration': 5139, 'herbals': 5140, 'ket': 5141, 'fanastic': 5142, 'beaufort': 5143, 'coma': 5144, 'butlers': 5145, 'nutrisentials': 5146, 'pupstar': 5147, 'heidi': 5148, 'instruction': 5149, 'translation': 5150, 'solvers': 5151, 'language': 5152, 'barrier': 5153, 'scarce': 5154, 'politicians': 5155, 'colcafe': 5156, 'greaatt': 5157, 'ic': 5158, 'psoriasis': 5159, 'horizon': 5160, 'aspetic': 5161, 'catfood': 5162, 'mori': 5163, 'vomitting': 5164, 'kebob': 5165, 'vinigrette': 5166, 'tocopherol': 5167, 'peta': 5168, 'wp': 5169, 'disfigured': 5170, 'unusable': 5171, 'woflgang': 5172, 'francaise': 5173, 'purist': 5174, 'wolgang': 5175, 'hazlenut': 5176, 'wolfgan': 5177, 'problematic': 5178, 'bolder': 5179, 'jamaca': 5180, 'jamica': 5181, 'wasnt': 5182, 'gang': 5183, 'sleeper': 5184, 'terrrrific': 5185, 'overtones': 5186, 'socks': 5187, 'raya': 5188, 'disagreeable': 5189, 'cautious': 5190, 'stablizer': 5191, 'jeri': 5192, 'ca': 5193, 'aguas': 5194, 'frescas': 5195, 'medaglia': 5196, 'decaaff': 5197, 'happymorning': 5198, 'dessicated': 5199, 'exalant': 5200, 'labradors': 5201, 'dorkie': 5202, 'sourced': 5203, 'enthusiasm': 5204, 'pomeranian': 5205, 'cassoulet': 5206, 'route': 5207, 'timey': 5208, 'olvatine': 5209, 'hong': 5210, 'tepid': 5211, 'graces': 5212, 'wayyyyyy': 5213, 'mash': 5214, 'buttercream': 5215, 'luwak': 5216, 'cakeing': 5217, 'agents': 5218, 'tabs': 5219, 'tripping': 5220, 'experiment': 5221, 'stepens': 5222, 'candycane': 5223, 'across': 5224, 'stephen': 5225, 'stephens': 5226, 'lacquat': 5227, 'jeremiahs': 5228, 'tst': 5229, 'pixy': 5230, 'tunnel': 5231, 'leads': 5232, 'kentucky': 5233, 'thickener': 5234, 'autimatic': 5235, 'versatility': 5236, 'beanboozled': 5237, 'cholesteroal': 5238, 'jablum': 5239, 'curl': 5240, 'sizzling': 5241, 'uuuuuuumm': 5242, 'lowerys': 5243, 'wayyyyyyy': 5244, 'jeff': 5245, 'foxworthy': 5246, 'redneck': 5247, 'origional': 5248, 'lowry': 5249, 'hazard': 5250, 'bigbert': 5251, 'microwavable': 5252, 'maltodextrin': 5253, 'lawry': 5254, 'nightly': 5255, 'chicaronnes': 5256, 'aaaarrrrrgggghhhhh': 5257, 'werthers': 5258, 'orginalai': 5259, 'workers': 5260, 'roadhouse': 5261, 'cheaters': 5262, 'kookoo': 5263, 'shoprite': 5264, 'springs': 5265, 'qick': 5266, 'yippy': 5267, 'grotesque': 5268, 'bd': 5269, 'namaste': 5270, 'deam': 5271, 'amul': 5272, 'wisconsinmade': 5273, 'lauri': 5274, 'alphabet': 5275, 'tarallini': 5276, 'sphynx': 5277, 'reacts': 5278, 'testimonial': 5279, 'chochlate': 5280, 'machin': 5281, 'wilco': 5282, 'cocoawhen': 5283, 'malossol': 5284, 'lovbe': 5285, 'breastfeeding': 5286, 'mommies': 5287, 'bile': 5288, 'horray': 5289, 'skippy': 5290, 'ingedient': 5291, 'luckey': 5292, 'ecology': 5293, 'liters': 5294, 'looseleaf': 5295, 'hottest': 5296, 'schokolade': 5297, 'considers': 5298, 'intollerances': 5299, 'gosh': 5300, 'chocoalte': 5301, 'flavorite': 5302, 'deez': 5303, 'nutz': 5304, 'jamaican': 5305, 'freight': 5306, 'weaver': 5307, 'obliteration': 5308, 'huh': 5309, 'rudy': 5310, 'repurchase': 5311, 'lungs': 5312, 'lung': 5313, 'boletus': 5314, 'edulis': 5315, 'lifetime': 5316, 'unpeeled': 5317, 'apricots': 5318, 'aprocot': 5319, 'decaff': 5320, 'pirated': 5321, 'billing': 5322, 'intensely': 5323, 'fluoride': 5324, 'baths': 5325, 'commuter': 5326, 'germination': 5327, 'oboy': 5328, 'seattle': 5329, 'ohhhhhh': 5330, 'diameter': 5331, 'logs': 5332, 'gee': 5333, 'fed': 5334, 'moonstruck': 5335, 'orville': 5336, 'redenbacher': 5337, 'mtb': 5338, 'nostalgic': 5339, 'willibee': 5340, 'tagged': 5341, 'inflation': 5342, 'coupons': 5343, 'clearance': 5344, 'comings': 5345, 'spacesaver': 5346, 'dawer': 5347, 'countertop': 5348, 'slide': 5349, 'smoothly': 5350, 'cescob': 5351, 'krurig': 5352, 'stylish': 5353, 'discrete': 5354, 'congeneal': 5355, 'profile': 5356, 'decorators': 5357, 'dusting': 5358, 'deeeeeeee': 5359, 'erin': 5360, 'dlicious': 5361, 'mfr': 5362, 'skimpin': 5363, 'bamboo': 5364, 'virginia': 5365, 'eeewwww': 5366, 'terms': 5367, 'unfortunate': 5368, 'nog': 5369, 'glucossamin': 5370, 'chondroitin': 5371, 'umame': 5372, 'aching': 5373, 'joints': 5374, 'goldensrule': 5375, 'heroin': 5376, 'drat': 5377, 'shelter': 5378, 'concerns': 5379, 'chrondrotin': 5380, 'dogslove': 5381, 'delouse': 5382, 'doogswell': 5383, 'dogwell': 5384, 'africa': 5385, 'burrito': 5386, 'plantars': 5387, 'therefor': 5388, 'whitley': 5389, 'overcooked': 5390, 'fontinella': 5391, 'werther': 5392, 'archway': 5393, 'tna': 5394, 'jbertsiesfavs': 5395, 'truffet': 5396, 'flaky': 5397, 'crescent': 5398, 'nums': 5399, 'macadmia': 5400, 'hollow': 5401, 'dissapointing': 5402, 'delishy': 5403, 'function': 5404, 'cheesey': 5405, 'seashells': 5406, 'quest': 5407, 'peices': 5408, 'metal': 5409, 'truest': 5410, 'chintzy': 5411, 'usage': 5412, 'astronaut': 5413, 'artist': 5414, 'title': 5415, 'peter': 5416, 'ordinary': 5417, 'cuious': 5418, 'basset': 5419, 'darjelling': 5420, 'ends': 5421, 'splinters': 5422, 'hempshake': 5423, 'crescendo': 5424, 'anchovian': 5425, 'anchvies': 5426, 'mydog': 5427, 'remind': 5428, 'dunkaroos': 5429, 'gifted': 5430, 'promises': 5431, 'azar': 5432, 'brought': 5433, 'darkchocolate': 5434, 'evidence': 5435, 'virgnia': 5436, 'madness': 5437, 'spain': 5438, 'hariubo': 5439, 'gnocchi': 5440, 'angelo': 5441, 'pietro': 5442, 'airplane': 5443, 'afghanistan': 5444, 'papua': 5445, 'classique': 5446, 'prima': 5447, 'muchrooms': 5448, 'asia': 5449, 'cindi': 5450, 'pusher': 5451, 'katy': 5452, 'nancy': 5453, 'hahaa': 5454, 'spoonful': 5455, 'yums': 5456, 'truflle': 5457, 'flash': 5458, 'goober': 5459, 'beaba': 5460, 'multiportion': 5461, 'freezing': 5462, 'retailer': 5463, 'poptarts': 5464, 'vernors': 5465, 'laika': 5466, 'gray': 5467, 'shareable': 5468, 'confection': 5469, 'cavendar': 5470, 'cordials': 5471, 'fussie': 5472, 'sunstrike': 5473, 'shippers': 5474, 'hamming': 5475, 'gordolobo': 5476, 'fiddle': 5477, 'victoria': 5478, 'damage': 5479, 'rc': 5480, 'babycat': 5481, 'wat': 5482, 'teryiaki': 5483, 'mcnuggets': 5484, 'snowcone': 5485, 'hawwian': 5486, 'vacationing': 5487, 'pupperz': 5488, 'dug': 5489, 'trouble': 5490, 'suited': 5491, 'pawfect': 5492, 'bribe': 5493, 'arfilicious': 5494, 'bengal': 5495, 'raffle': 5496, 'ritz': 5497, 'smores': 5498, 'oregano': 5499, 'digestible': 5500, 'ledhere': 5501, 'convienet': 5502, 'luck': 5503, 'spilt': 5504, 'imagine': 5505, 'hatch': 5506, 'chilis': 5507, 'emerill': 5508, 'cop': 5509, 'similiar': 5510, 'based': 5511, 'lindy': 5512, 'definitively': 5513, 'strainer': 5514, 'gormet': 5515, 'explosive': 5516, 'ermerils': 5517, 'wf': 5518, 'anal': 5519, 'gland': 5520, 'molassis': 5521, 'nurturme': 5522, 'boss': 5523, 'lov': 5524, 'savor': 5525, 'truffless': 5526, 'cc': 5527, 'losses': 5528, 'yumiiii': 5529, 'asume': 5530, 'rid': 5531, 'whilesome': 5532, 'kringle': 5533, 'sanded': 5534, 'nutritiousbar': 5535, 'nairn': 5536, 'dryest': 5537, 'oakcakes': 5538, 'sugarworks': 5539, 'bonus': 5540, 'flapjacks': 5541, 'looses': 5542, 'peet': 5543, 'disregard': 5544, 'purchasing': 5545, 'caesar': 5546, 'track': 5547, 'taken': 5548, 'directed': 5549, 'stoppage': 5550, 'jenny': 5551, 'medi': 5552, 'snouts': 5553, 'sammy': 5554, 'falsely': 5555, 'sbould': 5556, 'crums': 5557, 'drfostersmith': 5558, 'jah': 5559, 'trainng': 5560, 'faucet': 5561, 'snobby': 5562, 'abby': 5563, 'stewart': 5564, 'prudhomme': 5565, 'redfish': 5566, 'refrigerator': 5567, 'refuse': 5568, 'baconnaise': 5569, 'blemd': 5570, 'zqueen': 5571, 'blent': 5572, 'dietrich': 5573, 'recyclable': 5574, 'recycle': 5575, 'missie': 5576, 'amarillo': 5577, 'glitterati': 5578, 'mercy': 5579, 'cadillac': 5580, 'prickly': 5581, 'fingertips': 5582, 'enjoyment': 5583, 'reman': 5584, 'happen': 5585, 'kaffir': 5586, 'deeelish': 5587, 'limerick': 5588, 'spotted': 5589, 'wha': 5590, 'giggle': 5591, 'dose': 5592, 'penicillin': 5593, 'swallowing': 5594, 'nylon': 5595, 'mike': 5596, 'smoooooooooth': 5597, 'morin': 5598, 'goto': 5599, 'mountin': 5600, 'bbb': 5601, 'simmons': 5602, 'itsstriketime': 5603, 'dissapionted': 5604, 'christine': 5605, 'gresock': 5606, 'mountian': 5607, 'teacher': 5608, 'room': 5609, 'pizzas': 5610, 'sherri': 5611, 'revoluton': 5612, 'rise': 5613, 'shine': 5614, 'himself': 5615, 'magically': 5616, 'colleen': 5617, 'barrett': 5618, 'snowpeas': 5619, 'hal': 5620, 'tickles': 5621, 'fruiy': 5622, 'tarty': 5623, 'fanta': 5624, 'rrefreshing': 5625, 'effervescent': 5626, 'definitive': 5627, 'swwwwweet': 5628, 'liscious': 5629, 'unwholesome': 5630, 'spendy': 5631, 'sweetners': 5632, 'peppercorn': 5633, 'screw': 5634, 'carnivorous': 5635, 'menards': 5636, 'strongly': 5637, 'recomend': 5638, 'allmost': 5639, 'intenso': 5640, 'scooby': 5641, 'doo': 5642, 'upgraded': 5643, 'wunderbar': 5644, 'farro': 5645, 'valentines': 5646, 'cappaccino': 5647, 'lokking': 5648, 'rubbing': 5649, 'ago': 5650, 'smoooth': 5651, 'cheat': 5652, 'myyy': 5653, 'glutne': 5654, 'creates': 5655, 'regret': 5656, 'bunnies': 5657, 'coffeelicious': 5658, 'moutain': 5659, 'incorrectly': 5660, 'woulda': 5661, 'shoulda': 5662, 'coulda': 5663, 'kentuckygirl': 5664, 'smooooooth': 5665, 'quicker': 5666, 'grammas': 5667, 'helper': 5668, 'poultry': 5669, 'relieve': 5670, 'hokey': 5671, 'smokes': 5672, 'sarge': 5673, 'bons': 5674, 'mommy': 5675, 'queasy': 5676, 'cebt': 5677, 'interchangeable': 5678, 'crystalline': 5679, 'froggies': 5680, 'jaffa': 5681, 'sunburst': 5682, 'francais': 5683, 'slurpishly': 5684, 'consume': 5685, 'scandal': 5686, 'saving': 5687, 'colombia': 5688, 'ewwwwwwwwww': 5689, 'topslisa': 5690, 'menu': 5691, 'fewer': 5692, 'breakdown': 5693, 'outrageious': 5694, 'pricemust': 5695, 'conditions': 5696, 'nurserosado': 5697, 'unjustified': 5698, 'infested': 5699, 'jalapenos': 5700, 'purely': 5701, 'malty': 5702, 'snickerdoodle': 5703, 'smkey': 5704, 'drool': 5705, 'aveda': 5706, 'egyptian': 5707, 'sweeet': 5708, 'paskesz': 5709, 'gnat': 5710, 'gnatts': 5711, 'cheated': 5712, 'potting': 5713, 'smartnourish': 5714, 'vegaterian': 5715, 'prone': 5716, 'papillon': 5717, 'trout': 5718, 'indescribably': 5719, 'lotions': 5720, 'dot': 5721, 'saw': 5722, 'tamicon': 5723, 'celcius': 5724, 'milds': 5725, 'pan': 5726, 'avacodo': 5727, 'mgo': 5728, 'roof': 5729, 'deliceous': 5730, 'urinary': 5731, 'kelp': 5732, 'nalewka': 5733, 'babuni': 5734, 'poured': 5735, 'talking': 5736, 'truvia': 5737, 'bottled': 5738, 'droool': 5739, 'modest': 5740, 'steal': 5741, 'gust': 5742, 'lungo': 5743, 'disguist': 5744, 'reednikki': 5745, 'naan': 5746, 'tartaric': 5747, 'aaah': 5748, 'file': 5749, 'homework': 5750, 'necklace': 5751, 'refill': 5752, 'wildside': 5753, 'racer': 5754, 'enrico': 5755, 'schnauzers': 5756, 'aaaa': 5757, 'shakers': 5758, 'rite': 5759, 'amaranth': 5760, 'introduction': 5761, 'quieted': 5762, 'tears': 5763, 'newlife': 5764, 'flawed': 5765, 'elite': 5766, 'boldo': 5767, 'meiji': 5768, 'anchiote': 5769, 'reviewed': 5770, 'liege': 5771, 'belgium': 5772, 'websites': 5773, 'snackwells': 5774, 'rasin': 5775, 'worls': 5776, 'exposing': 5777, 'stabilizer': 5778, 'aioli': 5779, 'zagreb': 5780, 'barking': 5781, 'bigtaz': 5782, 'names': 5783, 'manifique': 5784, 'bury': 5785, 'lolipops': 5786, 'trading': 5787, 'qualiy': 5788, 'mixture': 5789, 'falavoring': 5790, 'competetive': 5791, 'ordern': 5792, 'pine': 5793, 'dooooo': 5794, 'captains': 5795, 'dvd': 5796, 'reminders': 5797, 'nyc': 5798, 'seren': 5799, 'frrozen': 5800, 'aznd': 5801, 'buon': 5802, 'existence': 5803, 'sensations': 5804, 'ponytail': 5805, 'partner': 5806, 'biscuitlets': 5807, 'april': 5808, 'unlucky': 5809, 'packagining': 5810, 'crumbles': 5811, 'xcellent': 5812, 'precut': 5813, 'parchment': 5814, 'sheets': 5815, 'yuuuummy': 5816, 'irregularity': 5817, 'genuine': 5818, 'whiten': 5819, 'pearly': 5820, 'oliver': 5821, 'piccolo': 5822, 'litttle': 5823, 'brushing': 5824, 'younger': 5825, 'suscribe': 5826, 'greeniesmy': 5827, 'favorate': 5828, 'lolas': 5829, 'grenies': 5830, 'moe': 5831, 'dope': 5832, 'weenie': 5833, 'tonytada': 5834, 'owen': 5835, 'gs': 5836, 'dycee': 5837, 'greyhound': 5838, 'grrrrrreat': 5839, 'future': 5840, 'papillions': 5841, 'contradicting': 5842, 'worms': 5843, 'worm': 5844, 'sugars': 5845, 'perchase': 5846, 'awesine': 5847, 'thinne': 5848, 'nicer': 5849, 'peasy': 5850, 'daiquiri': 5851, 'shaken': 5852, 'stirred': 5853, 'buried': 5854, 'siberian': 5855, 'looooong': 5856, 'brightest': 5857, 'investment': 5858, 'interactive': 5859, 'occupier': 5860, 'equipment': 5861, 'puzzler': 5862, 'boisterous': 5863, 'strudy': 5864, 'frustrated': 5865, 'indestructible': 5866, 'tween': 5867, 'war': 5868, 'spills': 5869, 'frustrating': 5870, 'driven': 5871, 'welll': 5872, 'labled': 5873, 'figured': 5874, 'genius': 5875, 'hardwood': 5876, 'floors': 5877, 'destroy': 5878, 'apartments': 5879, 'hang': 5880, 'vizsla': 5881, 'duriable': 5882, 'empties': 5883, 'motivated': 5884, 'endless': 5885, 'construction': 5886, 'noisy': 5887, 'cove': 5888, 'prezel': 5889, 'arent': 5890, 'transportation': 5891, 'pruduct': 5892, 'stevita': 5893, 'located': 5894, 'complement': 5895, 'relaxer': 5896, 'krispies': 5897, 'perchased': 5898, 'feb': 5899, 'passionfruit': 5900, 'weights': 5901, 'yours': 5902, 'nutrish': 5903, 'jumps': 5904, 'math': 5905, 'recommendations': 5906, 'worn': 5907, 'lucid': 5908, 'chiles': 5909, 'trofie': 5910, 'alergies': 5911, 'carried': 5912, 'ikea': 5913, 'norman': 5914, 'zuckerman': 5915, 'boise': 5916, 'soybeans': 5917, 'proto': 5918, 'ostrim': 5919, 'properly': 5920, 'toxic': 5921, 'sacrifice': 5922, 'noticeable': 5923, 'frenchy': 5924, 'claims': 5925, 'doll': 5926, 'lemonheads': 5927, 'waters': 5928, 'jr': 5929, 'passs': 5930, 'manischewitz': 5931, 'naturel': 5932, 'bleech': 5933, 'reserve': 5934, 'gouda': 5935, 'scotland': 5936, 'brodies': 5937, 'goldilocks': 5938, 'sensitivities': 5939, 'blegh': 5940, 'personality': 5941, 'kame': 5942, 'challenged': 5943, 'continuing': 5944, 'pampered': 5945, 'betsy': 5946, 'lighting': 5947, 'rod': 5948, 'tendons': 5949, 'chocolast': 5950, 'somthing': 5951, 'contolled': 5952, 'naughtiness': 5953, 'ruining': 5954, 'potatoe': 5955, 'indulging': 5956, 'parmesan': 5957, 'greeaat': 5958, 'thme': 5959, 'munchos': 5960, 'robsmom': 5961, 'grandchildren': 5962, 'sweeeeet': 5963, 'socially': 5964, 'bathe': 5965, 'sc': 5966, 'fillets': 5967, 'christian': 5968, 'shiitakes': 5969, 'squeeker': 5970, 'cheeselicious': 5971, 'finnska': 5972, 'bushel': 5973, 'emerls': 5974, 'ohhhh': 5975, 'rasberries': 5976, 'bonanza': 5977, 'steps': 5978, 'dancing': 5979, 'suggested': 5980, 'mal': 5981, 'pollux': 5982, 'ziwipeak': 5983, 'foood': 5984, 'domino': 5985, 'shines': 5986, 'granoloa': 5987, 'saccharine': 5988, 'ruins': 5989, 'kuma': 5990, 'gizmo': 5991, 'woww': 5992, 'portato': 5993, 'neither': 5994, 'chemo': 5995, 'wbc': 5996, 'delites': 5997, 'balled': 5998, 'ecstasy': 5999, 'murray': 6000, 'cocoquik': 6001, 'lesley': 6002, 'elizabeth': 6003, 'marie': 6004, 'biscuts': 6005, 'bonz': 6006, 'pins': 6007, 'counters': 6008, 'breakfest': 6009, 'mcclain': 6010, 'bisquik': 6011, 'oooooooooo': 6012, 'hotte': 6013, 'houte': 6014, 'chocolage': 6015, 'vey': 6016, 'converted': 6017, 'brul': 6018, 'hoot': 6019, 'whales': 6020, 'scared': 6021, 'supervised': 6022, 'mel': 6023, 'solve': 6024, 'kyjen': 6025, 'jigsaw': 6026, 'glider': 6027, 'flapper': 6028, 'challenges': 6029, 'radar': 6030, 'maltise': 6031, 'carba': 6032, 'nada': 6033, 'yeahrightsure': 6034, 'noddles': 6035, 'sanskriti': 6036, 'breadcrumbs': 6037, 'lassi': 6038, 'unwrapping': 6039, 'tedious': 6040, 'giveaway': 6041, 'loooovee': 6042, 'ittt': 6043, 'coffeelover': 6044, 'debbie': 6045, 'carne': 6046, 'asada': 6047, 'dorste': 6048, 'mashed': 6049, 'pkgs': 6050, 'pity': 6051, 'cruch': 6052, 'davinci': 6053, 'ouzo': 6054, 'bleargh': 6055, 'wagner': 6056, 'carbonara': 6057, 'doubts': 6058, 'suit': 6059, 'powerade': 6060, 'mark': 6061, 'yuccchhhhh': 6062, 'yuuuuuummyyy': 6063, 'snacki': 6064, 'primalspirit': 6065, 'sloooooww': 6066, 'innocent': 6067, 'yummyyyy': 6068, 'faux': 6069, 'dippin': 6070, 'dots': 6071, 'hankering': 6072, 'desired': 6073, 'sk': 6074, 'lucini': 6075, 'stupidly': 6076, 'pumped': 6077, 'grapefruity': 6078, 'numminess': 6079, 'pinkgrapefruit': 6080, 'tartness': 6081, 'sickly': 6082, 'bodybuilders': 6083, 'yamamotoyama': 6084, 'ivory': 6085, 'conoisseur': 6086, 'sucunat': 6087, 'buiscuits': 6088, 'rad': 6089, 'exceptable': 6090, 'dnb': 6091, 'paino': 6092, 'molassess': 6093, 'napolean': 6094, 'remy': 6095, 'martin': 6096, 'healthys': 6097, 'smack': 6098, 'sexxy': 6099, 'cougar': 6100, 'angelhair': 6101, 'guatemalan': 6102, 'antigua': 6103, 'southwestern': 6104, 'disliked': 6105, 'stream': 6106, 'reader': 6107, 'mung': 6108, 'pathetic': 6109, 'tadka': 6110, 'daal': 6111, 'execellent': 6112, 'grandmother': 6113, 'huckelberry': 6114, 'chunck': 6115, 'olivia': 6116, 'excelente': 6117, 'quanitity': 6118, 'bronchipret': 6119, 'pommie': 6120, 'kay': 6121, 'mehh': 6122, 'crumbled': 6123, 'tavah': 6124, 'berriers': 6125, 'trace': 6126, 'mastic': 6127, 'slowest': 6128, 'sweetart': 6129, 'breakables': 6130, 'gro': 6131, 'suites': 6132, 'breeze': 6133, 'chaim': 6134, 'kuchenmeister': 6135, 'resolution': 6136, 'lurve': 6137, 'crotch': 6138, 'liptons': 6139, 'kal': 6140, 'bi': 6141, 'prep': 6142, 'eclipse': 6143, 'refreshes': 6144, 'instantly': 6145, 'quali': 6146, 'grrrreat': 6147, 'ka': 6148, 'threads': 6149, 'adventures': 6150, 'presented': 6151, 'generous': 6152, 'favorits': 6153, 'seek': 6154, 'pringles': 6155, 'sharelyn': 6156, 'searched': 6157, 'cheeeeeeesssseeeesssstttttt': 6158, 'puddingy': 6159, 'grate': 6160, 'menues': 6161, 'wide': 6162, 'changing': 6163, 'houseplant': 6164, 'supremo': 6165, 'kb': 6166, 'kaese': 6167, 'woundcare': 6168, 'wound': 6169, 'lesson': 6170, 'learned': 6171, 'curds': 6172, 'yogurmet': 6173, 'bifidus': 6174, 'yougurt': 6175, 'haennchen': 6176, 'spritzers': 6177, 'carse': 6178, 'cutting': 6179, 'breat': 6180, 'mustards': 6181, 'xs': 6182, 'hilda': 6183, 'stuffin': 6184, 'pooches': 6185, 'retriever': 6186, 'basted': 6187, 'robin': 6188, 'hood': 6189, 'overated': 6190, 'bellagio': 6191, 'cuba': 6192, 'freaken': 6193, 'peardrax': 6194, 'bon': 6195, 'ken': 6196, 'glaces': 6197, 'horses': 6198, 'pms': 6199, 'mares': 6200, 'peelu': 6201, 'fasioned': 6202, 'feedback': 6203, 'amazone': 6204, 'ojai': 6205, 'lemonaise': 6206, 'adver': 6207, 'dagoba': 6208, 'powders': 6209, 'aaahhhhhh': 6210, 'kkups': 6211, 'dellicious': 6212, 'bendingly': 6213, 'figaro': 6214, 'fabulosa': 6215, 'aromatherapy': 6216, 'teatea': 6217, 'orance': 6218, 'cs': 6219, 'mtr': 6220, 'rajma': 6221, 'rejuvenates': 6222, 'mano': 6223, 'alo': 6224, 'vera': 6225, 'icecream': 6226, 'yuppy': 6227, 'throughly': 6228, 'stocked': 6229, 'peal': 6230, 'humas': 6231, 'novus': 6232, 'badda': 6233, 'continue': 6234, 'warehoused': 6235, 'marketplace': 6236, 'milka': 6237, 'schoko': 6238, 'monterrey': 6239, 'contamined': 6240, 'chocolae': 6241, 'percentage': 6242, 'scottish': 6243, 'godson': 6244, 'prostrate': 6245, 'glucose': 6246, 'beachcomber': 6247, 'budds': 6248, 'absolutly': 6249, 'bodog': 6250, 'flintstones': 6251, 'multivitamin': 6252, 'kava': 6253, 'hottttttttttt': 6254, 'methi': 6255, 'surprisely': 6256, 'disgust': 6257, 'sparkle': 6258, 'kumut': 6259, 'nachos': 6260, 'curd': 6261, 'aaaccchhh': 6262, 'absooooooo': 6263, 'lutely': 6264, 'omgz': 6265, 'fraction': 6266, 'backyard': 6267, 'tommy': 6268, 'tri': 6269, 'paks': 6270, 'colin': 6271, 'maids': 6272, 'kits': 6273, 'covenient': 6274, 'neighbors': 6275, 'bambinos': 6276, 'tastinf': 6277, 'popocorn': 6278, 'disclaimer': 6279, 'unpop': 6280, 'juuuuust': 6281, 'lacked': 6282, 'bred': 6283, 'delecious': 6284, 'safeway': 6285, 'hateful': 6286, 'hoard': 6287, 'invigorating': 6288, 'lightning': 6289, 'toothsaver': 6290, 'vazer': 6291, 'nicest': 6292, 'havestaple': 6293, 'nummers': 6294, 'leafy': 6295, 'recaffienation': 6296, 'amazons': 6297, 'reactions': 6298, 'sorghum': 6299, 'hocus': 6300, 'pocus': 6301, 'pamala': 6302, 'breadmachine': 6303, 'crumble': 6304, 'glute': 6305, 'rosita': 6306, 'celiacpro': 6307, 'easyand': 6308, 'pam': 6309, 'lies': 6310, 'barswith': 6311, 'loooooove': 6312, 'sight': 6313, 'yow': 6314, 'dips': 6315, 'favours': 6316, 'cent': 6317, 'tend': 6318, 'hazer': 6319, 'scoops': 6320, 'riuned': 6321, 'goumet': 6322, 'colters': 6323, 'ciocolatta': 6324, 'calda': 6325, 'stingwer': 6326, 'refried': 6327, 'mommyshopper': 6328, 'orderhappy': 6329, 'lous': 6330, 'overpaid': 6331, 'lishious': 6332, 'feelings': 6333, 'extravagance': 6334, 'izze': 6335, 'pekinese': 6336, 'carmine': 6337, 'conflicting': 6338, 'seasoniing': 6339, 'cottage': 6340, 'vanill': 6341, 'shizzle': 6342, 'dduuuuuudddddeee': 6343, 'brandy': 6344, 'dreary': 6345, 'soooooooooo': 6346, 'proven': 6347, 'toxin': 6348, 'untasty': 6349, 'pipe': 6350, 'pomegranted': 6351, 'workmanship': 6352, 'tes': 6353, 'magnificent': 6354, 'kalamata': 6355, 'haves': 6356, 'offseason': 6357, 'mkt': 6358, 'farmers': 6359, 'humongus': 6360, 'pumpkinhead': 6361, 'mistaken': 6362, 'ae': 6363, 'monsters': 6364, 'energizing': 6365, 'dizziness': 6366, 'necassary': 6367, 'slushie': 6368, 'smurfs': 6369, 'amishpopcorn': 6370, 'tmj': 6371, 'chistmas': 6372, 'connoisseur': 6373, 'sophisticated': 6374, 'suggest': 6375, 'sz': 6376, 'gastric': 6377, 'pts': 6378, 'insult': 6379, 'echinacea': 6380, 'deans': 6381, 'fireball': 6382, 'fireballs': 6383, 'seasickness': 6384, 'throats': 6385, 'congestion': 6386, 'gins': 6387, 'minrt': 6388, 'wylers': 6389, 'teresa': 6390, 'ny': 6391, 'sugard': 6392, 'saturated': 6393, 'juciest': 6394, 'fruitables': 6395, 'iridescent': 6396, 'tempting': 6397, 'decoration': 6398, 'accent': 6399, 'hive': 6400, 'sacha': 6401, 'guava': 6402, 'refresher': 6403, 'quantitiy': 6404, 'orangic': 6405, 'certainly': 6406, 'expierence': 6407, 'hesitated': 6408, 'supervise': 6409, 'chlorhexidine': 6410, 'premiums': 6411, 'newf': 6412, 'foxy': 6413, 'becoming': 6414, 'virbec': 6415, 'thickness': 6416, 'alike': 6417, 'boutique': 6418, 'annoying': 6419, 'hence': 6420, 'verdergetbetterpackageing': 6421, 'kellog': 6422, 'officially': 6423, 'motion': 6424, 'powdder': 6425, 'cirmi': 6426, 'reducing': 6427, 'pressure': 6428, 'feathers': 6429, 'entangled': 6430, 'petals': 6431, 'samatra': 6432, 'definetly': 6433, 'fantastically': 6434, 'trolli': 6435, 'azmira': 6436, 'elusive': 6437, 'weim': 6438, 'hearburn': 6439, 'chocoate': 6440, 'ratings': 6441, 'walden': 6442, 'bioneem': 6443, 'insect': 6444, 'remover': 6445, 'raising': 6446, 'barrista': 6447, 'flashback': 6448, 'preground': 6449, 'tull': 6450, 'consistent': 6451, 'buonissimo': 6452, 'colds': 6453, 'buyers': 6454, 'secure': 6455, 'arrr': 6456, 'pirates': 6457, 'styrofoam': 6458, 'ti': 6459, 'bubblemint': 6460, 'adverstising': 6461, 'cloyingly': 6462, 'misconception': 6463, 'jummy': 6464, 'foulest': 6465, 'wimpy': 6466, 'hetrbal': 6467, 'hawthorne': 6468, 'swears': 6469, 'baaaad': 6470, 'nettle': 6471, 'pond': 6472, 'expedited': 6473, 'hayfever': 6474, 'uti': 6475, 'heathful': 6476, 'dbp': 6477, 'believer': 6478, 'spearment': 6479, 'valerian': 6480, 'promotes': 6481, 'senna': 6482, 'couples': 6483, 'readible': 6484, 'certs': 6485, 'convinient': 6486, 'shockingly': 6487, 'hulless': 6488, 'cucina': 6489, 'antica': 6490, 'trash': 6491, 'ellie': 6492, 'allows': 6493, 'chewd': 6494, 'chester': 6495, 'supervision': 6496, 'hazzard': 6497, 'barf': 6498, 'marilyn': 6499, 'joker': 6500, 'branch': 6501, 'clipper': 6502, 'greyhounds': 6503, 'miles': 6504, 'verona': 6505, 'smile': 6506, 'smoothe': 6507, 'prescription': 6508, 'praline': 6509, 'cry': 6510, 'enthusiast': 6511, 'mackerel': 6512, 'marshmallows': 6513, 'sanlee': 6514, 'wooden': 6515, 'abd': 6516, 'domestic': 6517, 'goodman': 6518, 'shipments': 6519, 'stressful': 6520, 'moments': 6521, 'fing': 6522, 'chailicious': 6523, 'bri': 6524, 'stashi': 6525, 'sorrel': 6526, 'aka': 6527, 'receved': 6528, 'debris': 6529, 'prouduct': 6530, 'fell': 6531, 'suckin': 6532, 'glutamate': 6533, 'saltie': 6534, 'favorful': 6535, 'quappy': 6536, 'teryaki': 6537, 'drug': 6538, 'precise': 6539, 'centerpiece': 6540, 'hock': 6541, 'kicks': 6542, 'kh': 6543, 'degrees': 6544, 'dosen': 6545, 'lakes': 6546, 'regatta': 6547, 'stormy': 6548, 'porkyland': 6549, 'noirot': 6550, 'mardi': 6551, 'fastic': 6552, 'nad': 6553, 'streusel': 6554, 'quatity': 6555, 'scale': 6556, 'muchbetter': 6557, 'beefsteak': 6558, 'utter': 6559, 'eww': 6560, 'rotted': 6561, 'carton': 6562, 'copy': 6563, 'retain': 6564, 'vaccummed': 6565, 'scotch': 6566, 'outback': 6567, 'steakhouse': 6568, 'alas': 6569, 'sabor': 6570, 'military': 6571, 'baseball': 6572, 'smartwater': 6573, 'earths': 6574, 'permanent': 6575, 'wontons': 6576, 'plasmon': 6577, 'overheated': 6578, 'merchant': 6579, 'cruz': 6580, 'raisen': 6581, 'thunderclusters': 6582, 'poppie': 6583, 'mum': 6584, 'chocs': 6585, 'magma': 6586, 'acknowledged': 6587, 'devil': 6588, 'cog': 6589, 'syddrome': 6590, 'heathers': 6591, 'heather': 6592, 'tamers': 6593, 'pricier': 6594, 'valerie': 6595, 'poisons': 6596, 'tonighy': 6597, 'croissant': 6598, 'driver': 6599, 'huy': 6600, 'curse': 6601, 'el': 6602, 'pavo': 6603, 'se': 6604, 'comieron': 6605, 'navidad': 6606, 'grownup': 6607, 'chalk': 6608, 'grating': 6609, 'ciacco': 6610, 'ummy': 6611, 'detastix': 6612, 'massel': 6613, 'ultracubes': 6614, 'compounds': 6615, 'rumsford': 6616, 'barritts': 6617, 'minimum': 6618, 'diffrent': 6619, 'shiratake': 6620, 'gacky': 6621, 'filler': 6622, 'subside': 6623, 'starve': 6624, 'bands': 6625, 'yuckkkkk': 6626, 'wormy': 6627, 'zoology': 6628, 'gut': 6629, 'slo': 6630, 'pokes': 6631, 'wrecked': 6632, 'sri': 6633, 'lanka': 6634, 'dentless': 6635, 'twelve': 6636, 'ave': 6637, 'frappe': 6638, 'lumps': 6639, 'dissolve': 6640, 'prpduct': 6641, 'seneca': 6642, 'dat': 6643, 'aficionado': 6644, 'flours': 6645, 'bbbbbbarley': 6646, 'alone': 6647, 'absence': 6648, 'bc': 6649, 'generic': 6650, 'beads': 6651, 'itty': 6652, 'bitty': 6653, 'sensitivity': 6654, 'similac': 6655, 'bab': 6656, 'bellini': 6657, 'hundenflocken': 6658, 'justins': 6659, 'porduct': 6660, 'justin': 6661, 'convienient': 6662, 'shiro': 6663, 'fueling': 6664, 'pomegranet': 6665, 'babel': 6666, 'mococcan': 6667, 'cupboard': 6668, 'nussini': 6669, 'maddie': 6670, 'bel': 6671, 'aria': 6672, 'municipal': 6673, 'forgetaboutit': 6674, 'stopper': 6675, 'leaks': 6676, 'oggi': 6677, 'yuch': 6678, 'roland': 6679, 'ripened': 6680, 'wissotzky': 6681, 'wissotsky': 6682, 'awesomest': 6683, 'yukk': 6684, 'replaqcement': 6685, 'tlc': 6686, 'vanished': 6687, 'novelty': 6688, 'lined': 6689, 'ajitsuke': 6690, 'snax': 6691, 'extraneous': 6692, 'pmegranates': 6693, 'informative': 6694, 'pomganites': 6695, 'chocpoms': 6696, 'suck': 6697, 'bene': 6698, 'louisville': 6699, 'chupa': 6700, 'chups': 6701, 'sand': 6702, 'beatiful': 6703, 'tumeric': 6704, 'oustanding': 6705, 'koi': 6706, 'viva': 6707, 'wal': 6708, 'mart': 6709, 'ge': 6710, 'teariffic': 6711, 'glace': 6712, 'berbere': 6713, 'depth': 6714, 'marc': 6715, 'dept': 6716, 'medal': 6717, 'flavoured': 6718, 'gentle': 6719, 'pic': 6720, 'sonny': 6721, 'authenic': 6722, 'iveta': 6723, 'kenny': 6724, 'balck': 6725, 'herman': 6726, 'calmer': 6727, 'snafu': 6728, 'canisters': 6729, 'duped': 6730, 'solidified': 6731, 'madmax': 6732, 'afternoons': 6733, 'amazubg': 6734, 'ist': 6735, 'gaaaawwwwdddd': 6736, 'rosehip': 6737, 'cheech': 6738, 'chong': 6739, 'fluoridated': 6740, 'himalyan': 6741, 'decision': 6742, 'muchas': 6743, 'gracias': 6744, 'inhalers': 6745, 'reprehensible': 6746, 'theday': 6747, 'boursin': 6748, 'november': 6749, 'liter': 6750, 'adding': 6751, 'flawlessly': 6752, 'fraps': 6753, 'dispense': 6754, 'qaulity': 6755, 'pumps': 6756, 'spits': 6757, 'tvp': 6758, 'nips': 6759, 'giflt': 6760, 'perhaps': 6761, 'patrick': 6762, 'buttons': 6763, 'compete': 6764, 'unappetizing': 6765, 'metabisulfite': 6766, 'allergenic': 6767, 'jasmati': 6768, 'yumalishus': 6769, 'pigg': 6770, 'eay': 6771, 'cousacous': 6772, 'hybrid': 6773, 'disks': 6774, 'exaggerated': 6775, 'spiciness': 6776, 'gubmo': 6777, 'toaster': 6778, 'chic': 6779, 'rtd': 6780, 'lg': 6781, 'vietnam': 6782, 'default': 6783, 'supersized': 6784, 'tag': 6785, 'rescused': 6786, 'edensoy': 6787, 'guar': 6788, 'damged': 6789, 'agreat': 6790, 'behaive': 6791, 'macrobars': 6792, 'sicily': 6793, 'sesamioil': 6794, 'exir': 6795, 'tenderloin': 6796, 'elixir': 6797, 'diaper': 6798, 'anchovy': 6799, 'marv': 6800, 'seven': 6801, 'hills': 6802, 'truson': 6803, 'canines': 6804, 'knox': 6805, 'sal': 6806, 'collectables': 6807, 'constipates': 6808, 'ar': 6809, 'mapley': 6810, 'redeeming': 6811, 'bev': 6812, 'potter': 6813, 'inflammatory': 6814, 'istevia': 6815, 'whoopie': 6816, 'enrich': 6817, 'looooonnnnngggg': 6818, 'ssshhhiiipppiiingg': 6819, 'yess': 6820, 'hairballs': 6821, 'purrfect': 6822, 'treatment': 6823, 'wiskas': 6824, 'tricks': 6825, 'fortnightly': 6826, 'become': 6827, 'bobbys': 6828, 'monthly': 6829, 'favour': 6830, 'trained': 6831, 'begs': 6832, 'timing': 6833, 'artdog': 6834, 'bgs': 6835, 'centerpieces': 6836, 'philphan': 6837, 'donna': 6838, 'alkaline': 6839, 'gerd': 6840, 'rec': 6841, 'bacterial': 6842, 'stroopwaffles': 6843, 'smacking': 6844, 'hulls': 6845, 'declicious': 6846, 'applications': 6847, 'unflavorful': 6848, 'poppers': 6849, 'weens': 6850, 'udi': 6851, 'professor': 6852, 'tenderfully': 6853, 'smothered': 6854, 'sorbate': 6855, 'constipation': 6856, 'spiciest': 6857, 'carmet': 6858, 'starlight': 6859, 'barnie': 6860, 'braided': 6861, 'purcahse': 6862, 'survival': 6863, 'sense': 6864, 'sneaky': 6865, 'adulteration': 6866, 'splecccchhhhda': 6867, 'chocolote': 6868, 'duster': 6869, 'mhic': 6870, 'intenational': 6871, 'chocalicious': 6872, 'cerial': 6873, 'timeliness': 6874, 'biodegradable': 6875, 'workable': 6876, 'responsible': 6877, 'orgran': 6878, 'multigrain': 6879, 'achool': 6880, 'wishes': 6881, 'introduce': 6882, 'welchs': 6883, 'kippers': 6884, 'kipper': 6885, 'hines': 6886, 'returned': 6887, 'droewors': 6888, 'cran': 6889, 'relative': 6890, 'marukawa': 6891, 'champ': 6892, 'ft': 6893, 'ron': 6894, 'dunlap': 6895, 'neman': 6896, 'cents': 6897, 'barilla': 6898, 'spiedie': 6899, 'lyons': 6900, 'crabcakes': 6901, 'nutro': 6902, 'whay': 6903, 'setup': 6904, 'flops': 6905, 'jullienne': 6906, 'taiwan': 6907, 'recvd': 6908, 'maddy': 6909, 'spuds': 6910, 'allowed': 6911, 'produces': 6912, 'torture': 6913, 'gunter': 6914, 'immense': 6915, 'closet': 6916, 'expense': 6917, 'kaia': 6918, 'foreign': 6919, 'material': 6920, 'vegie': 6921, 'soupy': 6922, 'queen': 6923, 'stewpendous': 6924, 'omit': 6925, 'flavordoh': 6926, 'hammer': 6927, 'amazom': 6928, 'purrrrrrrrrrrrrrfect': 6929, 'likesw': 6930, 'climber': 6931, 'choicw': 6932, 'pruchased': 6933, 'overcharged': 6934, 'tastiness': 6935, 'lieberman': 6936, 'kroger': 6937, 'vomited': 6938, 'leelee': 6939, 'stella': 6940, 'swell': 6941, 'dogwells': 6942, 'intersting': 6943, 'travelling': 6944, 'warheads': 6945, 'hm': 6946, 'jade': 6947, 'everythign': 6948, 'pourable': 6949, 'sucre': 6950, 'mousse': 6951, 'bubba': 6952, 'method': 6953, 'medications': 6954, 'appetizer': 6955, 'coffrr': 6956, 'coffeetime': 6957, 'street': 6958, 'reception': 6959, 'didn': 6960, 'licoirice': 6961, 'groundhogs': 6962, 'peoper': 6963, 'raccoons': 6964, 'japones': 6965, 'jerez': 6966, 'queennabidabi': 6967, 'kernelly': 6968, 'robusta': 6969, 'tolerated': 6970, 'melting': 6971, 'decorator': 6972, 'colouring': 6973, 'chana': 6974, 'raspberries': 6975, 'tortuga': 6976, 'rosa': 6977, 'standby': 6978, 'reordered': 6979, 'como': 6980, 'hice': 6981, 'abuela': 6982, 'vivienne': 6983, 'romano': 6984, 'restaraunts': 6985, 'imagined': 6986, 'wonton': 6987, 'sucked': 6988, 'awsomeness': 6989, 'flavorings': 6990, 'boyajian': 6991, 'sprouter': 6992, 'wonderfull': 6993, 'tatse': 6994, 'standing': 6995, 'vergnano': 6996, 'wifes': 6997, 'sou': 6998, 'schoolers': 6999, 'delishious': 7000, 'kawaii': 7001, 'florescent': 7002, 'dimensions': 7003, 'temperature': 7004, 'cri': 7005, 'advertized': 7006, 'output': 7007, 'measurements': 7008, 'teh': 7009, 'extracts': 7010, 'rotties': 7011, 'measuring': 7012, 'bf': 7013, 'moctail': 7014, 'mojito': 7015, 'earthmate': 7016, 'watt': 7017, 'spectrum': 7018, 'bulb': 7019, 'fluorescent': 7020, 'trays': 7021, 'necco': 7022, 'appreciates': 7023, 'history': 7024, 'senchen': 7025, 'licorace': 7026, 'strangely': 7027, 'beet': 7028, 'juince': 7029, 'unwind': 7030, 'baggie': 7031, 'nueske': 7032, 'energets': 7033, 'marred': 7034, 'initial': 7035, 'waxiness': 7036, 'apr': 7037, 'approachable': 7038, 'reservations': 7039, 'yawn': 7040, 'soooooooooooo': 7041, 'colan': 7042, 'braces': 7043, 'theory': 7044, 'practice': 7045, 'kitkat': 7046, 'budget': 7047, 'capelin': 7048, 'evaluation': 7049, 'pauper': 7050, 'microwaveable': 7051, 'cocacola': 7052, 'spreadable': 7053, 'accuratly': 7054, 'dawgs': 7055, 'university': 7056, 'fluids': 7057, 'kittykat': 7058, 'catmilk': 7059, 'tee': 7060, 'rific': 7061, 'enerjets': 7062, 'irritates': 7063, 'twenty': 7064, 'thousand': 7065, 'ranger': 7066, 'joseph': 7067, 'das': 7068, 'limitations': 7069, 'limey': 7070, 'nomnomnomnomnom': 7071, 'jalepeno': 7072, 'taster': 7073, 'bs': 7074, 'friggen': 7075, 'everrr': 7076, 'keto': 7077, 'darling': 7078, 'voted': 7079, 'aussi': 7080, 'licorce': 7081, 'badness': 7082, 'pgtips': 7083, 'defines': 7084, 'britishness': 7085, 'proper': 7086, 'flavourful': 7087, 'historic': 7088, 'tealovers': 7089, 'thereminists': 7090, 'quarterly': 7091, 'partial': 7092, 'tipping': 7093, 'planing': 7094, 'moxie': 7095, 'julie': 7096, 'ellas': 7097, 'babyfood': 7098, 'hondo': 7099, 'traumatic': 7100, 'unprofitable': 7101, 'spelt': 7102, 'bergin': 7103, 'pinto': 7104, 'pleasent': 7105, 'offset': 7106, 'henry': 7107, 'tannic': 7108, 'underwhelming': 7109, 'popsicle': 7110, 'scores': 7111, 'tullt': 7112, 'heven': 7113, 'magnifique': 7114, 'sucessful': 7115, 'superlative': 7116, 'robot': 7117, 'merry': 7118, 'aleternative': 7119, 'popovers': 7120, 'oven': 7121, 'herbalife': 7122, 'harissa': 7123, 'fussiest': 7124, 'deadly': 7125, 'kiesha': 7126, 'skunk': 7127, 'gnawhide': 7128, 'gnawhides': 7129, 'indomie': 7130, 'hansens': 7131, 'radishes': 7132, 'trappey': 7133, 'rebar': 7134, 'pedigreee': 7135, 'angle': 7136, 'porcinis': 7137, 'basque': 7138, 'region': 7139, 'sssoooooo': 7140, 'abot': 7141, 'reversed': 7142, 'overpay': 7143, 'richy': 7144, 'faint': 7145, 'chocoholics': 7146, 'repulsive': 7147, 'confessions': 7148, 'briley': 7149, 'jazzies': 7150, 'sause': 7151, 'ragu': 7152, 'ocean': 7153, 'reva': 7154, 'warmed': 7155, 'corazona': 7156, 'indespensible': 7157, 'measure': 7158, 'ezekiel': 7159, 'alum': 7160, 'reallemon': 7161, 'pgpr': 7162, 'homegrown': 7163, 'bigfamily': 7164, 'muir': 7165, 'glen': 7166, 'hop': 7167, 'geen': 7168, 'delicacy': 7169, 'sprees': 7170, 'hardened': 7171, 'oragnic': 7172, 'barecontessa': 7173, 'sunset': 7174, 'omgoah': 7175, 'ganoclassic': 7176, 'ganocafe': 7177, 'ornange': 7178, 'peels': 7179, 'orang': 7180, 'lunchbag': 7181, 'surprises': 7182, 'faithful': 7183, 'gene': 7184, 'shortbreads': 7185, 'steamroller': 7186, 'slushy': 7187, 'sno': 7188, 'mgr': 7189, 'disappoints': 7190, 'varied': 7191, 'chicago': 7192, 'hotter': 7193, 'valid': 7194, 'emphasis': 7195, 'soothes': 7196, 'barbecued': 7197, 'petsmart': 7198, 'heavier': 7199, 'dolmadakia': 7200, 'hurt': 7201, 'growup': 7202, 'maney': 7203, 'juicer': 7204, 'darjeeling': 7205, 'lodi': 7206, 'gayle': 7207, 'gunpowder': 7208, 'spaniel': 7209, 'floss': 7210, 'cardiac': 7211, 'tune': 7212, 'vital': 7213, 'essentials': 7214, 'starr': 7215, 'aholic': 7216, 'warp': 7217, 'jel': 7218, 'necessity': 7219, 'karley': 7220, 'terriffic': 7221, 'mantova': 7222, 'chickweed': 7223, 'aspertame': 7224, 'cinamon': 7225, 'prize': 7226, 'dreamfields': 7227, 'diabetes': 7228, 'tandoori': 7229, 'rajah': 7230, 'garam': 7231, 'streit': 7232, 'gem': 7233, 'dreamfilelds': 7234, 'annamaet': 7235, 'impact': 7236, 'jewel': 7237, 'bearcreek': 7238, 'mncook': 7239, 'bfs': 7240, 'drippy': 7241, 'rosted': 7242, 'vegables': 7243, 'swp': 7244, 'vacume': 7245, 'allen': 7246, 'field': 7247, 'current': 7248, 'lollipop': 7249, 'pleasures': 7250, 'tooooooooooo': 7251, 'excessively': 7252, 'billbery': 7253, 'alvita': 7254, 'caffine': 7255, 'wheelbarrow': 7256, 'replica': 7257, 'scouts': 7258, 'middles': 7259, 'tasteing': 7260, 'sleeping': 7261, 'decades': 7262, 'hellmann': 7263, 'nome': 7264, 'desir': 7265, 'lush': 7266, 'barks': 7267, 'tennesee': 7268, 'mjc': 7269, 'hr': 7270, 'engineering': 7271, 'removable': 7272, 'smoooooth': 7273, 'filtered': 7274, 'unknown': 7275, 'impurities': 7276, 'stonewalll': 7277, 'fluctuations': 7278, 'sleepytime': 7279, 'slept': 7280, 'asafoetida': 7281, 'suprising': 7282, 'suave': 7283, 'clasico': 7284, 'trumps': 7285, 'sup': 7286, 'flaxing': 7287, 'rehydrate': 7288, 'batches': 7289, 'exercise': 7290, 'besides': 7291, 'accidently': 7292, 'hydrate': 7293, 'rehydrating': 7294, 'tempted': 7295, 'passed': 7296, 'buts': 7297, 'ruin': 7298, 'visits': 7299, 'woo': 7300, 'asthmatic': 7301, 'outdid': 7302, 'grace': 7303, 'yuumm': 7304, 'looooove': 7305, 'testing': 7306, 'sacrificing': 7307, 'delicously': 7308, 'vox': 7309, 'yuummy': 7310, 'yummlicious': 7311, 'ba': 7312, 'voxbox': 7313, 'ehrrmahgerrdd': 7314, 'banener': 7315, 'nert': 7316, 'breardd': 7317, 'nutritous': 7318, 'lingonberries': 7319, 'watse': 7320, 'negative': 7321, 'yami': 7322, 'morsels': 7323, 'mip': 7324, 'snicker': 7325, 'barn': 7326, 'solutions': 7327, 'powerhouse': 7328, 'nutive': 7329, 'unsurpassed': 7330, 'connoisseurs': 7331, 'bleached': 7332, 'iphone': 7333, 'nosi': 7334, 'doxie': 7335, 'destructive': 7336, 'mislabeled': 7337, 'cordial': 7338, 'imperial': 7339, 'cinanmon': 7340, 'pirce': 7341, 'biz': 7342, 'throwback': 7343, 'chessy': 7344, 'temptation': 7345, 'emergencies': 7346, 'motts': 7347, 'crawford': 7348, 'identical': 7349, 'bt': 7350, 'crawfoeds': 7351, 'tooooooo': 7352, 'maynards': 7353, 'tapers': 7354, 'wrigleys': 7355, 'solstice': 7356, 'babe': 7357, 'detectable': 7358, 'petag': 7359, 'preservres': 7360, 'cheezy': 7361, 'urge': 7362, 'extremly': 7363, 'licks': 7364, 'produt': 7365, 'ez': 7366, 'sseds': 7367, 'ehhhhh': 7368, 'kats': 7369, 'boullion': 7370, 'nutrients': 7371, 'suffering': 7372, 'cracks': 7373, 'abound': 7374, 'realistic': 7375, 'edward': 7376, 'paramount': 7377, 'burger': 7378, 'blossoms': 7379, 'recimmend': 7380, 'reisiling': 7381, 'azur': 7382, 'greeatest': 7383, 'bittersweet': 7384, 'sassy': 7385, 'omnomnomnomnomnom': 7386, 'boil': 7387, 'grabbers': 7388, 'candys': 7389, 'nicole': 7390, 'spite': 7391, 'efforts': 7392, 'requires': 7393, 'geber': 7394, 'kidney': 7395, 'ty': 7396, 'ling': 7397, 'thompson': 7398, 'coleslaw': 7399, 'newton': 7400, 'losers': 7401, 'doughy': 7402, 'figgie': 7403, 'softens': 7404, 'toilet': 7405, 'smelliest': 7406, 'stinkiest': 7407, 'amla': 7408, 'polisher': 7409, 'shrooms': 7410, 'grinder': 7411, 'whom': 7412, 'blandness': 7413, 'stripe': 7414, 'tries': 7415, 'bestest': 7416, 'pancreatitis': 7417, 'muli': 7418, 'furry': 7419, 'careless': 7420, 'diggin': 7421, 'kongo': 7422, 'meail': 7423, 'marylin': 7424, 'ap': 7425, 'ritif': 7426, 'ade': 7427, 'hubbard': 7428, 'brie': 7429, 'requirements': 7430, 'misrepresention': 7431, 'priority': 7432, 'flavorable': 7433, 'nairns': 7434, 'loooooong': 7435, 'brt': 7436, 'convieniance': 7437, 'curative': 7438, 'tack': 7439, 'cinnemon': 7440, 'cinnamin': 7441, 'cimmion': 7442, 'lavendar': 7443, 'husks': 7444, 'zzzzzzzzz': 7445, 'dreamwater': 7446, 'emptor': 7447, 'dean': 7448, 'jacobs': 7449, 'saveory': 7450, 'tiparos': 7451, 'rusted': 7452, 'bionaturae': 7453, 'pappardell': 7454, 'englis': 7455, 'bugsy': 7456, 'hotsauces': 7457, 'siracha': 7458, 'cheeseeeee': 7459, 'discovered': 7460, 'gel': 7461, 'renewing': 7462, 'cel': 7463, 'indispensable': 7464, 'cactus': 7465, 'grillers': 7466, 'loove': 7467, 'metrx': 7468, 'herbs': 7469, 'provence': 7470, 'hazelnunts': 7471, 'fortunes': 7472, 'lactation': 7473, 'flazseed': 7474, 'textur': 7475, 'walks': 7476, 'carmels': 7477, 'trio': 7478, 'fruitofthecali': 7479, 'jasian': 7480, 'flood': 7481, 'kernel': 7482, 'encore': 7483, 'responsibility': 7484, 'towards': 7485, 'gordon': 7486, 'learning': 7487, 'ballerina': 7488, 'molly': 7489, 'research': 7490, 'delectible': 7491, 'maize': 7492, 'tooooo': 7493, 'moos': 7494, 'pdq': 7495, 'ito': 7496, 'macht': 7497, 'kinder': 7498, 'froh': 7499, 'darrell': 7500, 'swimming': 7501, 'laundry': 7502, 'dingooooo': 7503, 'atkins': 7504, 'rank': 7505, 'ugghhhhhh': 7506, 'grav': 7507, 'lox': 7508, 'tarrazu': 7509, 'witout': 7510, 'swapped': 7511, 'vigor': 7512, 'caring': 7513, 'moscato': 7514, 'excelentes': 7515, 'rough': 7516, 'greentea': 7517, 'fullslate': 7518, 'mutt': 7519, 'toasty': 7520, 'blackjack': 7521, 'nutrasweet': 7522, 'chemically': 7523, 'robery': 7524, 'raspbery': 7525, 'begging': 7526, 'poillux': 7527, 'jewlly': 7528, 'jellybellies': 7529, 'campus': 7530, 'pit': 7531, 'integrity': 7532, 'wally': 7533, 'criminally': 7534, 'released': 7535, 'ughhhhhh': 7536, 'lana': 7537, 'moscow': 7538, 'mules': 7539, 'petits': 7540, 'suga': 7541, 'terrifice': 7542, 'kasha': 7543, 'mazing': 7544, 'intake': 7545, 'bariatric': 7546, 'patients': 7547, 'ooooh': 7548, 'hopies': 7549, 'mrp': 7550, 'fpod': 7551, 'katie': 7552, 'exudes': 7553, 'mincepie': 7554, 'odense': 7555, 'underweight': 7556, 'tamales': 7557, 'orleans': 7558, 'olivella': 7559, 'hypoallergenic': 7560, 'riot': 7561, 'discriminating': 7562, 'palates': 7563, 'dblg': 7564, 'broc': 7565, 'essence': 7566, 'croutons': 7567, 'dukan': 7568, 'rk': 7569, 'ye': 7570, 'partners': 7571, 'wisecrackers': 7572, 'prepared': 7573, 'knocked': 7574, 'zhena': 7575, 'tone': 7576, 'twinkle': 7577, 'grrrrrrreat': 7578, 'canes': 7579, 'dye': 7580, 'shortest': 7581, 'ripples': 7582, 'adulterated': 7583, 'ording': 7584, 'meyer': 7585, 'haiku': 7586, 'timeless': 7587, 'joyful': 7588, 'bouquet': 7589, 'floral': 7590, 'proflower': 7591, 'limbaugh': 7592, 'laughs': 7593, 'vegitable': 7594, 'chino': 7595, 'incompatible': 7596, 'nesspresso': 7597, 'jamacia': 7598, 'peppa': 7599, 'reese': 7600, 'didnot': 7601, 'geeta': 7602, 'sat': 7603, 'weuva': 7604, 'mideast': 7605, 'frenzy': 7606, 'chesie': 7607, 'meows': 7608, 'recognize': 7609, 'mack': 7610, 'calamari': 7611, 'buddies': 7612, 'glossy': 7613, 'coats': 7614, 'yo': 7615, 'tainted': 7616, 'update': 7617, 'shizuoka': 7618, 'lice': 7619, 'ziggies': 7620, 'hollandaise': 7621, 'hilarious': 7622, 'ebelskiver': 7623, 'cell': 7624, 'satisfacation': 7625, 'alfie': 7626, 'brownings': 7627, 'minimized': 7628, 'shady': 7629, 'bos': 7630, 'eliminated': 7631, 'fod': 7632, 'seagull': 7633, 'build': 7634, 'drugs': 7635, 'baileys': 7636, 'grreat': 7637, 'taxgal': 7638, 'overcook': 7639, 'doggys': 7640, 'judith': 7641, 'blelnd': 7642, 'wallet': 7643, 'credit': 7644, 'charged': 7645, 'rahide': 7646, 'pacifiers': 7647, 'palmeritas': 7648, 'schweppes': 7649, 'wayyy': 7650, 'firey': 7651, 'kippered': 7652, 'friggin': 7653, 'lighted': 7654, 'lamp': 7655, 'downside': 7656, 'familiar': 7657, 'familliar': 7658, 'crow': 7659, 'ohs': 7660, 'peek': 7661, 'amanda': 7662, 'biscuiuts': 7663, 'weeds': 7664, 'recive': 7665, 'kolaches': 7666, 'sooooooooooo': 7667, 'scnitzel': 7668, 'aids': 7669, 'drago': 7670, 'domlno': 7671, 'toddy': 7672, 'quantities': 7673, 'lemonhead': 7674, 'graduate': 7675, 'lee': 7676, 'legends': 7677, 'seal': 7678, 'juts': 7679, 'exceeds': 7680, 'neutral': 7681, 'allspice': 7682, 'spongy': 7683, 'hygrade': 7684, 'twigs': 7685, 'xtreme': 7686, 'implications': 7687, 'updating': 7688, 'purrrrfect': 7689, 'dangerously': 7690, 'imaginable': 7691, 'fires': 7692, 'theses': 7693, 'gooooood': 7694, 'expanding': 7695, 'conspiracy': 7696, 'bombs': 7697, 'flavourless': 7698, 'string': 7699, 'muscle': 7700, 'overfilling': 7701, 'healthyfood': 7702, 'yucchhhh': 7703, 'fields': 7704, 'soa': 7705, 'ruv': 7706, 'clicker': 7707, 'feral': 7708, 'mendous': 7709, 'misrepresenting': 7710, 'crockett': 7711, 'sppedy': 7712, 'philippines': 7713, 'calebaut': 7714, 'callets': 7715, 'decription': 7716, 'wrapper': 7717, 'inaccurate': 7718, 'sentry': 7719, 'mite': 7720, 'creativity': 7721, 'duper': 7722, 'wagging': 7723, 'wellbars': 7724, 'needle': 7725, 'fixins': 7726, 'arnold': 7727, 'palmer': 7728, 'sups': 7729, 'doorstep': 7730, 'hamster': 7731, 'ribeye': 7732, 'appetizers': 7733, 'pax': 7734, 'romani': 7735, 'aceti': 7736, 'hundred': 7737, 'corny': 7738, 'breakfasts': 7739, 'serendipi': 7740, 'cincy': 7741, 'wrigley': 7742, 'winterfresh': 7743, 'lion': 7744, 'champions': 7745, 'airborne': 7746, 'npa': 7747, 'subways': 7748, 'tastebuds': 7749, 'gumi': 7750, 'beras': 7751, 'gummylicious': 7752, 'juicey': 7753, 'gummiebears': 7754, 'opposed': 7755, 'hardcore': 7756, 'gummie': 7757, 'delicioius': 7758, 'eaa': 7759, 'harbo': 7760, 'judy': 7761, 'starlet': 7762, 'frest': 7763, 'bers': 7764, 'glob': 7765, 'subscribed': 7766, 'diabeetus': 7767, 'besi': 7768, 'dentist': 7769, 'haribos': 7770, 'rummy': 7771, 'drunken': 7772, 'idiots': 7773, 'remove': 7774, 'freaking': 7775, 'cemt': 7776, 'stroganoff': 7777, 'spookily': 7778, 'delgiht': 7779, 'itch': 7780, 'aide': 7781, 'puggle': 7782, 'cares': 7783, 'pekingese': 7784, 'reccomend': 7785, 'refun': 7786, 'sugartwin': 7787, 'straightforward': 7788, 'beens': 7789, 'unroasted': 7790, 'cecco': 7791, 'nausea': 7792, 'naseau': 7793, 'looong': 7794, 'step': 7795, 'pretz': 7796, 'sensational': 7797, 'greate': 7798, 'equates': 7799, 'bin': 7800, 'kim': 7801, 'chee': 7802, 'romey': 7803, 'stomache': 7804, 'ailments': 7805, 'uplifting': 7806, 'ewwwww': 7807, 'verrry': 7808, 'cripsy': 7809, 'diced': 7810, 'bht': 7811, 'dicey': 7812, 'complements': 7813, 'mansfieldgrp': 7814, 'tires': 7815, 'cavaties': 7816, 'nasal': 7817, 'irrigatiin': 7818, 'crock': 7819, 'botanica': 7820, 'shaving': 7821, 'shaves': 7822, 'produdt': 7823, 'parakeets': 7824, 'cosmos': 7825, 'grrrrr': 7826, 'nw': 7827, 'ingrediants': 7828, 'fad': 7829, 'allegic': 7830, 'spoken': 7831, 'jackpot': 7832, 'labelling': 7833, 'west': 7834, 'trident': 7835, 'hasta': 7836, 'ahora': 7837, 'tengo': 7838, 'quejas': 7839, 'unsatisfied': 7840, 'decorating': 7841, 'flyboy': 7842, 'keith': 7843, 'beginning': 7844, 'explode': 7845, 'kurieg': 7846, 'budda': 7847, 'sajia': 7848, 'hotttt': 7849, 'luxurious': 7850, 'cupa': 7851, 'pernigotti': 7852, 'orderer': 7853, 'lately': 7854, 'zatarain': 7855, 'rexie': 7856, 'nauture': 7857, 'hoppin': 7858, 'cholate': 7859, 'generator': 7860, 'beau': 7861, 'monde': 7862, 'ibd': 7863, 'spraying': 7864, 'tenderlicious': 7865, 'maltedmultigrain': 7866, 'wafflemix': 7867, 'tay': 7868, 'stee': 7869, 'hdbiker': 7870, 'bouliion': 7871, 'restocked': 7872, 'flatus': 7873, 'salmonella': 7874, 'licked': 7875, 'athletic': 7876, 'dgs': 7877, 'eligible': 7878, 'constipating': 7879, 'ache': 7880, 'heap': 7881, 'bagel': 7882, 'producto': 7883, 'entrega': 7884, 'empaque': 7885, 'bhut': 7886, 'specs': 7887, 'biermann': 7888, 'quck': 7889, 'anergen': 7890, 'deters': 7891, 'overeating': 7892, 'tropic': 7893, 'landjaeger': 7894, 'bors': 7895, 'thicking': 7896, 'organo': 7897, 'madam': 7898, 'pictures': 7899, 'tight': 7900, 'ranchy': 7901, 'barrel': 7902, 'mutlivitamin': 7903, 'cluster': 7904, 'jesus': 7905, 'enticement': 7906, 'butler': 7907, 'jstockton': 7908, 'yogart': 7909, 'cookiing': 7910, 'checkout': 7911, 'tim': 7912, 'heidecker': 7913, 'plush': 7914, 'sundae': 7915, 'einstein': 7916, 'uneven': 7917, 'buchu': 7918, 'stable': 7919, 'enegry': 7920, 'exhausting': 7921, 'stacker': 7922, 'amazinggggg': 7923, 'students': 7924, 'crash': 7925, 'hrs': 7926, 'caffeien': 7927, 'employees': 7928, 'tremendous': 7929, 'migraines': 7930, 'anxiety': 7931, 'communications': 7932, 'eray': 7933, 'medical': 7934, 'study': 7935, 'headaches': 7936, 'limits': 7937, 'focused': 7938, 'funfetti': 7939, 'maintaining': 7940, 'stain': 7941, 'checkup': 7942, 'dalmatian': 7943, 'chooses': 7944, 'sor': 7945, 'awsomely': 7946, 'barrels': 7947, 'somethings': 7948, 'nostalgia': 7949, 'smorelly': 7950, 'mallowmars': 7951, 'marshmellow': 7952, 'sylvia': 7953, 'squash': 7954, 'revelation': 7955, 'ahhliv': 7956, 'center': 7957, 'inc': 7958, 'twizzler': 7959, 'mislabled': 7960, 'yumy': 7961, 'handcooked': 7962, 'lard': 7963, 'surgar': 7964, 'north': 7965, 'shore': 7966, 'luau': 7967, 'pebbles': 7968, 'chike': 7969, 'illegal': 7970, 'steamed': 7971, 'moderation': 7972, 'forth': 7973, 'suuuper': 7974, 'iranian': 7975, 'buggy': 7976, 'social': 7977, 'mak': 7978, 'marketspice': 7979, 'juices': 7980, 'berrylicious': 7981, 'occasion': 7982, 'prie': 7983, 'sandys': 7984, 'aggressive': 7985, 'luci': 7986, 'carolina': 7987, 'chilada': 7988, 'zang': 7989, 'haldiram': 7990, 'soan': 7991, 'papdi': 7992, 'dassant': 7993, 'summertime': 7994, 'bergamont': 7995, 'greys': 7996, 'shash': 7997, 'bursting': 7998, 'abolt': 7999, 'realized': 8000, 'addicitve': 8001, 'substance': 8002, 'savoring': 8003, 'mispelling': 8004, 'uhmmy': 8005, 'superman': 8006, 'deployment': 8007, 'cape': 8008, 'cod': 8009, 'bog': 8010, 'envirokid': 8011, 'gorilla': 8012, 'eternal': 8013, 'adventurist': 8014, 'frdinker': 8015, 'mccoy': 8016, 'llave': 8017, 'frapp': 8018, 'craft': 8019, 'bazaar': 8020, 'pefect': 8021, 'punkin': 8022, 'totaler': 8023, 'munching': 8024, 'butts': 8025, 'everythingrub': 8026, 'supplements': 8027, 'hemriods': 8028, 'cbou': 8029, 'cheezier': 8030, 'candidate': 8031, 'dea': 8032, 'banned': 8033, 'substances': 8034, 'warn': 8035, 'adout': 8036, 'poping': 8037, 'gagina': 8038, 'doubleshot': 8039, 'sips': 8040, 'picker': 8041, 'finishes': 8042, 'amos': 8043, 'outs': 8044, 'fashioneds': 8045, 'finer': 8046, 'maraschino': 8047, 'yummylicious': 8048, 'sides': 8049, 'petal': 8050, 'forteto': 8051, 'kickn': 8052, 'block': 8053, 'kokumaro': 8054, 'bellys': 8055, 'grandparents': 8056, 'ex': 8057, 'chocoloholic': 8058, 'nighty': 8059, 'pros': 8060, 'backordered': 8061, 'blows': 8062, 'oughtta': 8063, 'gelvalia': 8064, 'bedbathand': 8065, 'drafty': 8066, 'activity': 8067, 'creat': 8068, 'junkie': 8069, 'model': 8070, 'ginerbread': 8071, 'shattered': 8072, 'grandaughters': 8073, 'fryer': 8074, 'gizzmo': 8075, 'assistance': 8076, 'eeeeeeeee': 8077, 'italia': 8078, 'staying': 8079, 'mile': 8080, 'doenst': 8081, 'tension': 8082, 'yaow': 8083, 'coleman': 8084, 'whoopalicious': 8085, 'whoop': 8086, 'howard': 8087, 'granma': 8088, 'martins': 8089, 'story': 8090, 'soothling': 8091, 'boiled': 8092, 'coolest': 8093, 'decade': 8094, 'anne': 8095, 'grandfather': 8096, 'fido': 8097, 'chiken': 8098, 'chrleston': 8099, 'deeeeeeeeelish': 8100, 'monika': 8101, 'weber': 8102, 'pits': 8103, 'prestigious': 8104, 'greendogs': 8105, 'ong': 8106, 'nervous': 8107, 'kettles': 8108, 'surpassed': 8109, 'whew': 8110, 'boooo': 8111, 'semisweet': 8112, 'cannied': 8113, 'ume': 8114, 'hurricane': 8115, 'cholesterol': 8116, 'nitrates': 8117, 'vote': 8118, 'sublime': 8119, 'ectasy': 8120, 'croatian': 8121, 'delishhhh': 8122, 'ooh': 8123, 'hero': 8124, 'mean': 8125, 'mw': 8126, 'pregnant': 8127, 'willinghams': 8128, 'wham': 8129, 'whamlicious': 8130, 'lumpy': 8131, 'risebar': 8132, 'pickling': 8133, 'shitake': 8134, 'mouthful': 8135, 'agreed': 8136, 'depression': 8137, 'hula': 8138, 'hoops': 8139, 'yesssss': 8140, 'lawwwwddd': 8141, 'cesaly': 8142, 'approval': 8143, 'pile': 8144, 'coccee': 8145, 'marketing': 8146, 'mattd': 8147, 'flip': 8148, 'loveeeeee': 8149, 'teat': 8150, 'westie': 8151, 'sit': 8152, 'scrumptuous': 8153, 'irresistable': 8154, 'abbey': 8155, 'wrinkle': 8156, 'pukes': 8157, 'plugs': 8158, 'dries': 8159, 'ferrets': 8160, 'trainning': 8161, 'furkids': 8162, 'cholula': 8163, 'eastman': 8164, 'outdoors': 8165, 'varieties': 8166, 'safey': 8167, 'desolove': 8168, 'daniels': 8169, 'halva': 8170, 'pa': 8171, 'toppings': 8172, 'freshen': 8173, 'cajohn': 8174, 'trinidad': 8175, 'kipling': 8176, 'viability': 8177, 'lumpfish': 8178, 'nuff': 8179, 'reformed': 8180, 'dc': 8181, 'metro': 8182, 'area': 8183, 'tennessee': 8184, 'flovored': 8185, 'shamamed': 8186, 'basketwas': 8187, 'ofcourse': 8188, 'hallelujah': 8189, 'inappropriate': 8190, 'plato': 8191, 'moode': 8192, 'origonal': 8193, 'cops': 8194, 'delcicious': 8195, 'cuts': 8196, 'agava': 8197, 'madgave': 8198, 'appears': 8199, 'attacks': 8200, 'kitteh': 8201, 'bunniez': 8202, 'twings': 8203, 'marybeth': 8204, 'raisons': 8205, 'caveats': 8206, 'cartilage': 8207, 'vomitous': 8208, 'shiritake': 8209, 'goop': 8210, 'dodnt': 8211, 'unpleasantly': 8212, 'eez': 8213, 'wiley': 8214, 'blossom': 8215, 'fights': 8216, 'cavities': 8217, 'switcheroo': 8218, 'twinnings': 8219, 'dam': 8220, 'aaa': 8221, 'genuin': 8222, 'soybean': 8223, 'happpy': 8224, 'pollen': 8225, 'moister': 8226, 'swans': 8227, 'maravilloso': 8228, 'cerelac': 8229, 'weakest': 8230, 'lestoil': 8231, 'uhmm': 8232, 'carrie': 8233, 'regarding': 8234, 'horseradish': 8235, 'program': 8236, 'greta': 8237, 'fentiman': 8238, 'shandy': 8239, 'fungusamongus': 8240, 'clumpiness': 8241, 'mimiccreme': 8242, 'sandman': 8243, 'dogwood': 8244, 'cornus': 8245, 'pac': 8246, 'detroit': 8247, 'states': 8248, 'anthon': 8249, 'berg': 8250, 'car': 8251, 'tolerates': 8252, 'unbiased': 8253, 'wakeup': 8254, 'grumbling': 8255, 'caramello': 8256, 'busted': 8257, 'toner': 8258, 'butternut': 8259, 'thoroughly': 8260, 'samplers': 8261, 'parboiled': 8262, 'smiles': 8263, 'waay': 8264, 'sandy': 8265, 'mature': 8266, 'traverse': 8267, 'prop': 8268, 'breaking': 8269, 'costume': 8270, 'currents': 8271, 'hk': 8272, 'honeystix': 8273, 'totes': 8274, 'nutshells': 8275, 'humm': 8276, 'rations': 8277, 'nomnom': 8278, 'refilling': 8279, 'jojo': 8280, 'pronounce': 8281, 'teenage': 8282, 'healthfood': 8283, 'fails': 8284, 'pbandj': 8285, 'fitness': 8286, 'snackin': 8287, 'bony': 8288, 'spiky': 8289, 'shilajit': 8290, 'fashoned': 8291, 'fibre': 8292, 'memorable': 8293, 'tident': 8294, 'makin': 8295, 'udon': 8296, 'outrageously': 8297, 'chacun': 8298, 'neck': 8299, 'symptoms': 8300, 'fuirt': 8301, 'pekoe': 8302, 'webs': 8303, 'vintage': 8304, 'gummys': 8305, 'turkery': 8306, 'xclnt': 8307, 'deserve': 8308, 'samples': 8309, 'meowzer': 8310, 'compliments': 8311, 'dreadful': 8312, 'cocohydro': 8313, 'germ': 8314, 'hawaian': 8315, 'puerh': 8316, 'bullmastiff': 8317, 'assume': 8318, 'dissolving': 8319, 'sulfites': 8320, 'citrusy': 8321, 'islands': 8322, 'amazzzzzz': 8323, 'ing': 8324, 'chewable': 8325, 'ranchers': 8326, 'individual': 8327, 'jagged': 8328, 'moh': 8329, 'appa': 8330, 'pleas': 8331, 'potes': 8332, 'straight': 8333, 'korea': 8334, 'seoul': 8335, 'nan': 8336, 'holdover': 8337, 'mealy': 8338, 'reminiscent': 8339, 'common': 8340, 'allergens': 8341, 'categorized': 8342, 'random': 8343, 'scsource': 8344, 'stripes': 8345, 'drugstore': 8346, 'necklaces': 8347, 'brits': 8348, 'lettuce': 8349, 'wholepaycheck': 8350, 'daytime': 8351, 'cheetah': 8352, 'enviro': 8353, 'kidz': 8354, 'cofffee': 8355, 'rejuvinating': 8356, 'although': 8357, 'studying': 8358, 'starbuciks': 8359, 'casing': 8360, 'magnefico': 8361, 'yummilicious': 8362, 'respects': 8363, 'francis': 8364, 'americano': 8365, 'furious': 8366, 'phillips': 8367, 'aussies': 8368, 'excellnt': 8369, 'beefeater': 8370, 'wooohooooo': 8371, 'juiced': 8372, 'havent': 8373, 'squeezeable': 8374, 'nutrious': 8375, 'munchers': 8376, 'bodywash': 8377, 'tom': 8378, 'douglas': 8379, 'refuel': 8380, 'gels': 8381, 'bike': 8382, 'addictingly': 8383, 'inspiringly': 8384, 'cycling': 8385, 'wave': 8386, 'playdough': 8387, 'shepherds': 8388, 'hunter': 8389, 'terrabone': 8390, 'filberts': 8391, 'oxidized': 8392, 'lock': 8393, 'lace': 8394, 'feminine': 8395, 'teenager': 8396, 'axe': 8397, 'sosour': 8398, 'displeased': 8399, 'lengths': 8400, 'tingle': 8401, 'smooths': 8402, 'weighing': 8403, 'boyers': 8404, 'natra': 8405, 'volumizing': 8406, 'antiozidant': 8407, 'dilution': 8408, 'bridget': 8409, 'safers': 8410, 'pepomint': 8411, 'rotini': 8412, 'canadien': 8413, 'alpen': 8414, 'anemic': 8415, 'lysander': 8416, 'methol': 8417, 'therapy': 8418, 'schooler': 8419, 'orchard': 8420, 'larry': 8421, 'jerkie': 8422, 'callaloo': 8423, 'rebranded': 8424, 'importing': 8425, 'wheels': 8426, 'fil': 8427, 'nicolle': 8428, 'bummed': 8429, 'exchange': 8430, 'energize': 8431, 'giner': 8432, 'loooove': 8433, 'bunches': 8434, 'cedrinca': 8435, 'hardtack': 8436, 'hotdog': 8437, 'public': 8438, 'illion': 8439, 'steamship': 8440, 'divina': 8441, 'babysitting': 8442, 'group': 8443, 'affect': 8444, 'concern': 8445, 'carpet': 8446, 'later': 8447, 'spoil': 8448, 'pomagranate': 8449, 'mollasses': 8450, 'undrinkably': 8451, 'bitch': 8452, 'boyland': 8453, 'squeemish': 8454, 'ramien': 8455, 'whether': 8456, 'allright': 8457, 'slime': 8458, 'droooling': 8459, 'scare': 8460, 'pangs': 8461, 'curbing': 8462, 'hunge': 8463, 'pometta': 8464, 'pitbull': 8465, 'anna': 8466, 'grrrrreat': 8467, 'yurgh': 8468, 'roasty': 8469, 'marked': 8470, 'littles': 8471, 'healthsome': 8472, 'sumatran': 8473, 'edema': 8474, 'swollen': 8475, 'ankles': 8476, 'casual': 8477, 'ox': 8478, 'irritable': 8479, 'syndrome': 8480, 'redskins': 8481, 'octopi': 8482, 'existing': 8483, 'leo': 8484, 'romo': 8485, 'according': 8486, 'misrepresentation': 8487, 'jen': 8488, 'kicken': 8489, 'parrot': 8490, 'traded': 8491, 'dull': 8492, 'moment': 8493, 'volvic': 8494, 'wrappers': 8495, 'cooker': 8496, 'whattachip': 8497, 'bleu': 8498, 'ashwagandha': 8499, 'sw': 8500, 'rowntree': 8501, 'industrial': 8502, 'snails': 8503, 'maine': 8504, 'lobsters': 8505, 'agin': 8506, 'fathersday': 8507, 'toolbox': 8508, 'reordering': 8509, 'cantuski': 8510, 'hostess': 8511, 'screwing': 8512, 'borwn': 8513, 'chocolet': 8514, 'mmouthwatering': 8515, 'snapped': 8516, 'stackable': 8517, 'holds': 8518, 'simplistic': 8519, 'loumidis': 8520, 'papagalos': 8521, 'shoddy': 8522, 'disapointment': 8523, 'crate': 8524, 'liqueur': 8525, 'strewn': 8526, 'absoloutly': 8527, 'slower': 8528, 'orgainic': 8529, 'zeor': 8530, 'hazards': 8531, 'prok': 8532, 'practically': 8533, 'tamale': 8534, 'ranchero': 8535, 'frites': 8536, 'quesadillas': 8537, 'delicioous': 8538, 'comestible': 8539, 'quik': 8540, 'disappionted': 8541, 'refund': 8542, 'victum': 8543, 'avocado': 8544, 'folks': 8545, 'ruby': 8546, 'interestingly': 8547, 'nightcap': 8548, 'steep': 8549, 'titus': 8550, 'hafner': 8551, 'unsaturated': 8552, 'saltly': 8553, 'trition': 8554, 'richard': 8555, 'icky': 8556, 'hoy': 8557, 'joymuns': 8558, 'universe': 8559, 'krackers': 8560, 'appetit': 8561, 'iby': 8562, 'respond': 8563, 'teatulie': 8564, 'neem': 8565, 'blessed': 8566, 'zappin': 8567, 'cacoa': 8568, 'regimen': 8569, 'cocao': 8570, 'rosamonte': 8571, 'verg': 8572, 'embrassed': 8573, 'travels': 8574, 'cheery': 8575, 'insufficient': 8576, 'lomo': 8577, 'iberico': 8578, 'bellota': 8579, 'loin': 8580, 'enrrgy': 8581, 'oomph': 8582, 'healthpro': 8583, 'dentalnuggets': 8584, 'crispness': 8585, 'waygu': 8586, 'deboles': 8587, 'jerusalem': 8588, 'stinking': 8589, 'sugared': 8590, 'allens': 8591, 'zupreem': 8592, 'picaridin': 8593, 'rzip': 8594, 'daring': 8595, 'ritter': 8596, 'lapanzanella': 8597, 'ulp': 8598, 'pastuerized': 8599, 'millstone': 8600, 'chereos': 8601, 'hirt': 8602, 'nurseries': 8603, 'comparative': 8604, 'advantage': 8605, 'downsize': 8606, 'dan': 8607, 'rjrich': 8608, 'speaks': 8609, 'manly': 8610, 'bunnell': 8611, 'mt': 8612, 'majic': 8613, 'largest': 8614, 'pj': 8615, 'boldest': 8616, 'decortating': 8617, 'eleven': 8618, 'insects': 8619, 'coldn': 8620, 'worx': 8621, 'nejaime': 8622, 'lavasch': 8623, 'flatbread': 8624, 'droppings': 8625, 'adagio': 8626, 'fabuloso': 8627, 'chocalate': 8628, 'pickme': 8629, 'maynard': 8630, 'indulge': 8631, 'doggone': 8632, 'sniff': 8633, 'costosa': 8634, 'matzo': 8635, 'farfel': 8636, 'mishandling': 8637, 'fyi': 8638, 'schnoodle': 8639, 'whitefish': 8640, 'retrivers': 8641, 'louie': 8642, 'flow': 8643, 'coated': 8644, 'loubia': 8645, 'polo': 8646, 'knockout': 8647, 'prawn': 8648, 'dare': 8649, 'expensively': 8650, 'muana': 8651, 'macademia': 8652, 'szeged': 8653, 'lying': 8654, 'tunalicious': 8655, 'mystified': 8656, 'tuff': 8657, 'vino': 8658, 'italiano': 8659, 'rosso': 8660, 'magnifico': 8661, 'patient': 8662, 'polar': 8663, 'verry': 8664, 'switchin': 8665, 'third': 8666, 'admirable': 8667, 'uber': 8668, 'smoooooooooooth': 8669, 'merlot': 8670, 'lei': 8671, 'illustrated': 8672, 'evil': 8673, 'arizona': 8674, 'iightly': 8675, 'junket': 8676, 'cella': 8677, 'sascat': 8678, 'bottlecaps': 8679, 'sabroso': 8680, 'oishii': 8681, 'unenjoyable': 8682, 'attach': 8683, 'albanese': 8684, 'delclious': 8685, 'apollo': 8686, 'vg': 8687, 'gingerale': 8688, 'closeout': 8689, 'pastariso': 8690, 'ramune': 8691, 'capt': 8692, 'unmatched': 8693, 'lentis': 8694, 'okra': 8695, 'foor': 8696, 'berritious': 8697, 'sssshhhh': 8698, 'molassas': 8699, 'lozenges': 8700, 'expelling': 8701, 'wind': 8702, 'colorful': 8703, 'retutned': 8704, 'omygosh': 8705, 'horrendous': 8706, 'cover': 8707, 'sticker': 8708, 'brazilian': 8709, 'nummyness': 8710, 'gamble': 8711, 'decreases': 8712, 'macro': 8713, 'drawstring': 8714, 'sachet': 8715, 'unconvincing': 8716, 'pticey': 8717, 'astragalus': 8718, 'rcv': 8719, 'truck': 8720, 'kinle': 8721, 'books': 8722, 'ginseng': 8723, 'happycamper': 8724, 'sailing': 8725, 'swanson': 8726, 'messing': 8727, 'coffeemakers': 8728, 'blown': 8729, 'frother': 8730, 'tatste': 8731, 'deelicious': 8732, 'amond': 8733, 'prominently': 8734, 'ki': 8735, 'existent': 8736, 'chocolat': 8737, 'amaaaaaaazing': 8738, 'filing': 8739, 'succulent': 8740, 'webb': 8741, 'unfortunately': 8742, 'zone': 8743, 'nougat': 8744, 'damp': 8745, 'casein': 8746, 'favered': 8747, 'latest': 8748, 'tabasco': 8749, 'rancher': 8750, 'bonies': 8751, 'gonaturally': 8752, 'staff': 8753, 'deeeeeliiiiiicous': 8754, 'readercook': 8755, 'punctured': 8756, 'coloring': 8757, 'mixers': 8758, 'elephant': 8759, 'peri': 8760, 'lelamb': 8761, 'cowjam': 8762, 'deicious': 8763, 'nanna': 8764, 'puffet': 8765, 'char': 8766, 'grrlie': 8767, 'portfolio': 8768, 'glood': 8769, 'kaan': 8770, 'vegi': 8771, 'favoritr': 8772, 'hebal': 8773, 'mightyleaf': 8774, 'greatness': 8775, 'lysanders': 8776, 'duo': 8777, 'offers': 8778, 'newbies': 8779, 'tropics': 8780, 'colossal': 8781, 'uggh': 8782, 'muddy': 8783, 'tillandsia': 8784, 'ionantha': 8785, 'wraped': 8786, 'malay': 8787, 'asiago': 8788, 'security': 8789, 'spleanda': 8790, 'whisky': 8791, 'cairn': 8792, 'gastrointestinal': 8793, 'barnies': 8794, 'gaiters': 8795, 'mover': 8796, 'kate': 8797, 'kiki': 8798, 'stange': 8799, 'gonna': 8800, 'martha': 8801, 'pickin': 8802, 'orangy': 8803, 'glaceau': 8804, 'hse': 8805, 'styles': 8806, 'jury': 8807, 'foil': 8808, 'series': 8809, 'prodect': 8810, 'russo': 8811, 'hasnt': 8812, 'yohay': 8813, 'restaurents': 8814, 'tapioc': 8815, 'tapoiocca': 8816, 'sensible': 8817, 'cheeta': 8818, 'reall': 8819, 'terric': 8820, 'lunchbox': 8821, 'jivealime': 8822, 'stupendous': 8823, 'hundreds': 8824, 'enriched': 8825, 'otc': 8826, 'laxatives': 8827, 'mice': 8828, 'breakers': 8829, 'walgreens': 8830, 'bjs': 8831, 'xanthan': 8832, 'emulsifier': 8833, 'variation': 8834, 'gratitude': 8835, 'scoop': 8836, 'sunbuttter': 8837, 'pita': 8838, 'wuppee': 8839, 'julius': 8840, 'ceasar': 8841, 'saint': 8842, 'bernard': 8843, 'gibbel': 8844, 'hanu': 8845, 'fruitchia': 8846, 'dilmah': 8847, 'recommand': 8848, 'backpacking': 8849, 'flights': 8850, 'momma': 8851, 'dumbells': 8852, 'umms': 8853, 'venison': 8854, 'bustelo': 8855, 'tricked': 8856, 'freshner': 8857, 'frech': 8858, 'bellyflop': 8859, 'ot': 8860, 'castellana': 8861, 'crostini': 8862, 'westies': 8863, 'waker': 8864, 'costing': 8865, 'tetra': 8866, 'deliicious': 8867, 'front': 8868, 'porch': 8869, 'loco': 8870, 'villain': 8871, 'understatement': 8872, 'dunking': 8873, 'tommyo': 8874, 'finncrisp': 8875, 'porportions': 8876, 'kir': 8877, 'europe': 8878, 'cassis': 8879, 'faves': 8880, 'pointless': 8881, 'lesliejune': 8882, 'styrian': 8883, 'miniature': 8884, 'former': 8885, 'vermonter': 8886, 'edited': 8887, 'keifer': 8888, 'multiples': 8889, 'rabbits': 8890, 'float': 8891, 'cabinet': 8892, 'tiggie': 8893, 'langers': 8894, 'pomegran': 8895, 'altura': 8896, 'greece': 8897, 'lining': 8898, 'spillage': 8899, 'siwiec': 8900, 'seesaw': 8901, 'ml': 8902, 'ruffles': 8903, 'ridges': 8904, 'inced': 8905, 'wellington': 8906, 'suburb': 8907, 'pitch': 8908, 'league': 8909, 'fixed': 8910, 'finnegan': 8911, 'sheves': 8912, 'houise': 8913, 'visinada': 8914, 'zucchini': 8915, 'grahms': 8916, 'private': 8917, 'beekeeper': 8918, 'capsuls': 8919, 'ne': 8920, 'slave': 8921, 'qa': 8922, 'seedlander': 8923, 'sprouty': 8924, 'pablano': 8925, 'constantly': 8926, 'drip': 8927, 'charcoal': 8928, 'nothin': 8929, 'keurg': 8930, 'keurigs': 8931, 'ecomonical': 8932, 'cupped': 8933, 'richer': 8934, 'jo': 8935, 'yucko': 8936, 'patently': 8937, 'ashtray': 8938, 'nutrititious': 8939, 'wellnes': 8940, 'bamboos': 8941, 'yuuuuuum': 8942, 'sanfrancisco': 8943, 'polyanna': 8944, 'pinch': 8945, 'involved': 8946, 'environment': 8947, 'endorsement': 8948, 'caser': 8949, 'lorenzo': 8950, 'boo': 8951, 'adrenalin': 8952, 'jmac': 8953, 'chases': 8954, 'chaxer': 8955, 'openning': 8956, 'biold': 8957, 'larissa': 8958, 'noh': 8959, 'haupia': 8960, 'mande': 8961, 'enoyable': 8962, 'pf': 8963, 'changs': 8964, 'loaves': 8965, 'cherished': 8966, 'sweeties': 8967, 'fizzilicious': 8968, 'pale': 8969, 'scwt': 8970, 'lambs': 8971, 'camomile': 8972, 'alaea': 8973, 'alcoholic': 8974, 'plz': 8975, 'ridge': 8976, 'yucker': 8977, 'mucker': 8978, 'teens': 8979, 'lava': 8980, 'severely': 8981, 'firehouse': 8982, 'supports': 8983, 'tangfastic': 8984, 'sweetie': 8985, 'mre': 8986, 'jacked': 8987, 'gumballs': 8988, 'hearts': 8989, 'royalty': 8990, 'peasants': 8991, 'omgoodness': 8992, 'necter': 8993, 'fer': 8994, 'tx': 8995, 'ma': 8996, 'bday': 8997, 'grands': 8998, 'gardenia': 8999, 'fashion': 9000, 'florist': 9001, 'awesomes': 9002, 'longtime': 9003, 'honestly': 9004, 'midel': 9005, 'att': 9006, 'liner': 9007, 'cinninot': 9008, 'mento': 9009, 'broadway': 9010, 'basketeers': 9011, 'mckee': 9012, 'tia': 9013, 'wuyi': 9014, 'mount': 9015, 'treasures': 9016, 'variations': 9017, 'togarashi': 9018, 'crepes': 9019, 'maryann': 9020, 'tradicional': 9021, 'palos': 9022, 'spangler': 9023, 'airpop': 9024, 'nursery': 9025, 'untitled': 9026, 'ymmv': 9027, 'discusting': 9028, 'vadouvan': 9029, 'stunningly': 9030, 'evalution': 9031, 'akmak': 9032, 'yucccky': 9033, 'genmai': 9034, 'unsure': 9035, 'sanitation': 9036, 'robinson': 9037, 'shrinkage': 9038, 'passes': 9039, 'multipurpose': 9040, 'seasonal': 9041, 'yowza': 9042, 'ghc': 9043, 'jungle': 9044, 'sanka': 9045, 'slurp': 9046, 'lori': 9047, 'changer': 9048, 'pepto': 9049, 'bismol': 9050, 'discovering': 9051, 'deficient': 9052, 'domatcha': 9053, 'hibiki': 9054, 'ippodo': 9055, 'unmon': 9056, 'mukashi': 9057, 'uji': 9058, 'manten': 9059, 'falls': 9060, 'corozonas': 9061, 'ski': 9062, 'heath': 9063, 'corazonas': 9064, 'karen': 9065, 'channa': 9066, 'paducah': 9067, 'taking': 9068, 'norway': 9069, 'restaruant': 9070, 'separates': 9071, 'antlers': 9072, 'wearing': 9073, 'gnawing': 9074, 'wilkes': 9075, 'county': 9076, 'nc': 9077, 'roca': 9078, 'saucesome': 9079, 'bless': 9080, 'holmes': 9081, 'homebrewers': 9082, 'eyes': 9083, 'delallo': 9084, 'bravi': 9085, 'gemelli': 9086, 'tarragon': 9087, 'flicks': 9088, 'panera': 9089, 'joulie': 9090, 'oilcancharley': 9091, 'brisket': 9092, 'milano': 9093, 'anaya': 9094, 'picagomas': 9095, 'stools': 9096, 'danes': 9097, 'mastiff': 9098, 'vapoorizer': 9099, 'successful': 9100, 'nitrogen': 9101, 'zap': 9102, 'somebody': 9103, 'specifications': 9104, 'apocalypse': 9105, 'licking': 9106, 'presels': 9107, 'mississippi': 9108, 'mathmom': 9109, 'feeds': 9110, 'finished': 9111, 'cubano': 9112, 'wt': 9113, 'fromm': 9114, 'biased': 9115, 'atrocious': 9116, 'tha': 9117, 'measured': 9118, 'jules': 9119, 'tomatos': 9120, 'grimy': 9121, 'figlets': 9122, 'humidity': 9123, 'doys': 9124, 'jaws': 9125, 'frenchbull': 9126, 'shepered': 9127, 'frenchie': 9128, 'owners': 9129, 'dinos': 9130, 'nubby': 9131, 'bumps': 9132, 'brick': 9133, 'dino': 9134, 'extict': 9135, 'extinct': 9136, 'respect': 9137, 'held': 9138, 'lacy': 9139, 'dura': 9140, 'durability': 9141, 'purrrfect': 9142, 'sleeps': 9143, 'mouse': 9144, 'pucca': 9145, 'opion': 9146, 'chefrand': 9147, 'pizzelle': 9148, 'wonferful': 9149, 'bridal': 9150, 'pappys': 9151, 'hammered': 9152, 'nail': 9153, 'keen': 9154, 'zagnuts': 9155, 'colored': 9156, 'unexciting': 9157, 'juniors': 9158, 'brush': 9159, 'lw': 9160, 'brag': 9161, 'performer': 9162, 'wiggly': 9163, 'picante': 9164, 'grit': 9165, 'glove': 9166, 'goodbar': 9167, 'trix': 9168, 'unreasonably': 9169, 'pasteurized': 9170, 'giggity': 9171, 'verrryyyy': 9172, 'pungent': 9173, 'fact': 9174, 'flavacol': 9175, 'mowcafe': 9176, 'precious': 9177, 'divinity': 9178, 'thankful': 9179, 'phenominal': 9180, 'mildew': 9181, 'intestinal': 9182, 'crunchies': 9183, 'nong': 9184, 'shim': 9185, 'neoguri': 9186, 'rascal': 9187, 'poopsie': 9188, 'canister': 9189, 'mollie': 9190, 'rd': 9191, 'shin': 9192, 'overal': 9193, 'kimchi': 9194, 'hairy': 9195, 'ghanouge': 9196, 'closed': 9197, 'babaganouge': 9198, 'greathoney': 9199, 'gret': 9200, 'clover': 9201, 'palatable': 9202, 'frap': 9203, 'maeda': 9204, 'unlocks': 9205, 'kaj': 9206, 'li': 9207, 'hing': 9208, 'rex': 9209, 'mixoligy': 9210, 'fin': 9211, 'silly': 9212, 'popcornopolis': 9213, 'greatttttttttttttt': 9214, 'prepares': 9215, 'dole': 9216, 'boneless': 9217, 'squirrel': 9218, 'repeller': 9219, 'deer': 9220, 'bullysticks': 9221, 'skimpy': 9222, 'thinner': 9223, 'snobs': 9224, 'overprice': 9225, 'woooooooooooooooooooonderful': 9226, 'refuses': 9227, 'youre': 9228, 'doting': 9229, 'struck': 9230, 'beam': 9231, 'fleur': 9232, 'sel': 9233, 'smith': 9234, 'liquidy': 9235, 'medley': 9236, 'convent': 9237, 'aphids': 9238, 'kar': 9239, 'sant': 9240, 'eustachio': 9241, 'demerara': 9242, 'eve': 9243, 'buellton': 9244, 'sir': 9245, 'anyway': 9246, 'stover': 9247, 'immediate': 9248, 'cooldown': 9249, 'meiu': 9250, 'yrs': 9251, 'seedling': 9252, 'token': 9253, 'collice': 9254, 'taki': 9255, 'print': 9256, 'maggiensa': 9257, 'prce': 9258, 'aone': 9259, 'mentioned': 9260, 'heights': 9261, 'frito': 9262, 'mudcat': 9263, 'flakey': 9264, 'detest': 9265, 'infuser': 9266, 'jamison': 9267, 'share': 9268, 'abroad': 9269, 'hazel': 9270, 'nuttiness': 9271, 'imitation': 9272, 'sushilover': 9273, 'gimmick': 9274, 'loaf': 9275, 'taylors': 9276, 'fortnum': 9277, 'mason': 9278, 'meaningful': 9279, 'bresed': 9280}\n"
     ]
    }
   ],
   "source": [
    "reverse_target_word_index=y_tokenizer.index_word\n",
    "reverse_source_word_index=x_tokenizer.index_word\n",
    "target_word_index=y_tokenizer.word_index\n",
    "print(target_word_index)"
   ]
  },
  {
   "cell_type": "markdown",
   "metadata": {},
   "source": [
    "# inference"
   ]
  },
  {
   "cell_type": "code",
   "execution_count": 34,
   "metadata": {},
   "outputs": [],
   "source": [
    "# Encode the input sequence to get the feature vector\n",
    "encoder_model = Model(inputs=encoder_inputs,outputs=[encoder_outputs, state_h, state_c])\n",
    "\n",
    "# Decoder setup\n",
    "# Below tensors will hold the states of the previous time step\n",
    "decoder_state_input_h = Input(shape=(latent_dim,))\n",
    "decoder_state_input_c = Input(shape=(latent_dim,))\n",
    "decoder_hidden_state_input = Input(shape=(max_text_len,latent_dim))\n",
    "\n",
    "# Get the embeddings of the decoder sequence\n",
    "dec_emb2= dec_emb_layer(decoder_inputs) \n",
    "# To predict the next word in the sequence, set the initial states to the states from the previous time step\n",
    "decoder_outputs2, state_h2, state_c2 = decoder_lstm(dec_emb2, initial_state=[decoder_state_input_h, decoder_state_input_c])\n",
    "\n",
    "#attention inference\n",
    "attn_out_inf, attn_states_inf = attn_layer([decoder_hidden_state_input, decoder_outputs2])\n",
    "decoder_inf_concat = Concatenate(axis=-1, name='concat')([decoder_outputs2, attn_out_inf])\n",
    "\n",
    "# A dense softmax layer to generate prob dist. over the target vocabulary\n",
    "decoder_outputs2 = decoder_dense(decoder_inf_concat) \n",
    "\n",
    "# Final decoder model\n",
    "decoder_model = Model(\n",
    "    [decoder_inputs] + [decoder_hidden_state_input,decoder_state_input_h, decoder_state_input_c],\n",
    "    [decoder_outputs2] + [state_h2, state_c2])"
   ]
  },
  {
   "cell_type": "code",
   "execution_count": 35,
   "metadata": {},
   "outputs": [],
   "source": [
    "def decode_sequence(input_seq):\n",
    "    # Encode the input as state vectors.\n",
    "    e_out, e_h, e_c = encoder_model.predict(input_seq)\n",
    "    \n",
    "    # Generate empty target sequence of length 1.\n",
    "    target_seq = np.zeros((1,1))\n",
    "    \n",
    "    # Populate the first word of target sequence with the start word.\n",
    "    target_seq[0, 0] = target_word_index['sostok']\n",
    "\n",
    "    stop_condition = False\n",
    "    decoded_sentence = ''\n",
    "    while not stop_condition:\n",
    "      \n",
    "        output_tokens, h, c = decoder_model.predict([target_seq] + [e_out, e_h, e_c])\n",
    "\n",
    "        # Sample a token\n",
    "        sampled_token_index = np.argmax(output_tokens[0, -1, :])\n",
    "        sampled_token = reverse_target_word_index[sampled_token_index]\n",
    "        \n",
    "        if(sampled_token!='eostok'):\n",
    "            decoded_sentence += ' '+sampled_token\n",
    "\n",
    "        # Exit condition: either hit max length or find stop word.\n",
    "        if (sampled_token == 'eostok'  or len(decoded_sentence.split()) >= (max_summary_len-1)):\n",
    "            stop_condition = True\n",
    "\n",
    "        # Update the target sequence (of length 1).\n",
    "        target_seq = np.zeros((1,1))\n",
    "        target_seq[0, 0] = sampled_token_index\n",
    "\n",
    "        # Update internal states\n",
    "        e_h, e_c = h, c\n",
    "\n",
    "    return decoded_sentence"
   ]
  },
  {
   "cell_type": "code",
   "execution_count": 36,
   "metadata": {},
   "outputs": [],
   "source": [
    "def seq2summary(input_seq):\n",
    "    newString=''\n",
    "    for i in input_seq:\n",
    "        if((i!=0 and i!=target_word_index['sostok']) and i!=target_word_index['eostok']):\n",
    "            newString=newString+reverse_target_word_index[i]+' '\n",
    "    return newString\n",
    "\n",
    "def seq2text(input_seq):\n",
    "    newString=''\n",
    "    for i in input_seq:\n",
    "        if(i!=0):\n",
    "            newString=newString+reverse_source_word_index[i]+' '\n",
    "    return newString"
   ]
  },
  {
   "cell_type": "code",
   "execution_count": 37,
   "metadata": {},
   "outputs": [
    {
     "name": "stdout",
     "output_type": "stream",
     "text": [
      "[  34  205 6216  545   31   25  144   43    2   79    5  471    3 2626\n",
      " 1312  438  408   23 4183 1689 6217    5   23    0    0    0    0    0\n",
      "    0    0]\n",
      "(30,)\n",
      "Review: bought several vitality canned dog food products found good quality product looks like stew processed meat smells better labrador finicky appreciates product better \n",
      "Original summary: good quality dog food \n",
      "Predicted summary:  great food\n",
      "\n",
      "\n"
     ]
    }
   ],
   "source": [
    "print(x_tr[0])\n",
    "print(x_tr[0].shape)\n",
    "print(\"Review:\",seq2text(x_tr[0]))\n",
    "print(\"Original summary:\",seq2summary(y_tr[0]))\n",
    "print(\"Predicted summary:\",decode_sequence(x_tr[0].reshape(1,max_text_len)))\n",
    "print(\"\\n\")"
   ]
  },
  {
   "cell_type": "code",
   "execution_count": 38,
   "metadata": {},
   "outputs": [
    {
     "name": "stdout",
     "output_type": "stream",
     "text": [
      "Model: \"model\"\n",
      "__________________________________________________________________________________________________\n",
      "Layer (type)                    Output Shape         Param #     Connected to                     \n",
      "==================================================================================================\n",
      "input_1 (InputLayer)            [(None, 30)]         0                                            \n",
      "__________________________________________________________________________________________________\n",
      "embedding (Embedding)           (None, 30, 100)      854100      input_1[0][0]                    \n",
      "__________________________________________________________________________________________________\n",
      "lstm (LSTM)                     [(None, 30, 300), (N 481200      embedding[0][0]                  \n",
      "__________________________________________________________________________________________________\n",
      "input_2 (InputLayer)            [(None, None)]       0                                            \n",
      "__________________________________________________________________________________________________\n",
      "lstm_1 (LSTM)                   [(None, 30, 300), (N 721200      lstm[0][0]                       \n",
      "__________________________________________________________________________________________________\n",
      "embedding_1 (Embedding)         (None, None, 100)    205800      input_2[0][0]                    \n",
      "__________________________________________________________________________________________________\n",
      "lstm_2 (LSTM)                   [(None, 30, 300), (N 721200      lstm_1[0][0]                     \n",
      "__________________________________________________________________________________________________\n",
      "lstm_3 (LSTM)                   [(None, None, 300),  481200      embedding_1[0][0]                \n",
      "                                                                 lstm_2[0][1]                     \n",
      "                                                                 lstm_2[0][2]                     \n",
      "__________________________________________________________________________________________________\n",
      "attention_layer (AttentionLayer ((None, None, 300),  180300      lstm_2[0][0]                     \n",
      "                                                                 lstm_3[0][0]                     \n",
      "__________________________________________________________________________________________________\n",
      "concat_layer (Concatenate)      (None, None, 600)    0           lstm_3[0][0]                     \n",
      "                                                                 attention_layer[0][0]            \n",
      "__________________________________________________________________________________________________\n",
      "time_distributed (TimeDistribut (None, None, 2058)   1236858     concat_layer[0][0]               \n",
      "==================================================================================================\n",
      "Total params: 4,881,858\n",
      "Trainable params: 4,881,858\n",
      "Non-trainable params: 0\n",
      "__________________________________________________________________________________________________\n"
     ]
    }
   ],
   "source": [
    "model.summary()"
   ]
  },
  {
   "cell_type": "code",
   "execution_count": 39,
   "metadata": {},
   "outputs": [],
   "source": [
    "model = Model([encoder_inputs, decoder_inputs], decoder_outputs)\n",
    "model.compile(optimizer='rmsprop', loss='sparse_categorical_crossentropy', metrics=['accuracy'])\n",
    "model.load_weights('trainedModel_weights2.h5')"
   ]
  },
  {
   "cell_type": "code",
   "execution_count": 40,
   "metadata": {},
   "outputs": [
    {
     "name": "stdout",
     "output_type": "stream",
     "text": [
      "Review: bought several vitality canned dog food products found good quality product looks like stew processed meat smells better labrador finicky appreciates product better \n",
      "Original summary: good quality dog food \n",
      "Predicted summary:  great food\n",
      "\n",
      "\n",
      "Review: product arrived labeled jumbo salted peanuts peanuts actually small sized unsalted sure error vendor intended product jumbo \n",
      "Original summary: not as advertised \n",
      "Predicted summary:  melted\n",
      "\n",
      "\n",
      "Review: looking secret ingredient believe found got addition root beer extract ordered made cherry soda flavor medicinal \n",
      "Original summary: cough medicine \n",
      "Predicted summary:  not the best\n",
      "\n",
      "\n",
      "Review: great taffy great price wide assortment yummy taffy delivery quick taffy lover deal \n",
      "Original summary: great taffy \n",
      "Predicted summary:  great\n",
      "\n",
      "\n",
      "Review: taffy great flavors soft chewy candy individually wrapped well none candies stuck together happen expensive version would highly recommend candy served beach themed party everyone loved \n",
      "Original summary: great just as good as the expensive brands \n",
      "Predicted summary:  great snack\n",
      "\n",
      "\n",
      "Review: taffy good soft chewy flavors amazing would definitely recommend buying satisfying \n",
      "Original summary: wonderful tasty taffy \n",
      "Predicted summary:  great jerky\n",
      "\n",
      "\n",
      "Review: right mostly sprouting cats eat grass love rotate around wheatgrass rye \n",
      "Original summary: yay barley \n",
      "Predicted summary:  cat food\n",
      "\n",
      "\n",
      "Review: healthy dog food good digestion also good small puppies dog eats required amount every feeding \n",
      "Original summary: healthy dog food \n",
      "Predicted summary:  great product\n",
      "\n",
      "\n",
      "Review: good flavor came securely packed fresh delicious love twizzlers \n",
      "Original summary: fresh and greasy \n",
      "Predicted summary:  delicious\n",
      "\n",
      "\n",
      "Review: strawberry twizzlers guilty pleasure yummy six pounds around son \n",
      "Original summary: strawberry twizzlers yummy \n",
      "Predicted summary:  delicious\n",
      "\n",
      "\n",
      "Review: daughter loves twizzlers shipment six pounds really hit spot exactly would expect six packages strawberry twizzlers \n",
      "Original summary: lots of twizzlers just what you expect \n",
      "Predicted summary:  not as good as\n",
      "\n",
      "\n",
      "Review: love eating good watching tv looking movies sweet like transfer zip lock baggie stay fresh take time eating \n",
      "Original summary: poor taste \n",
      "Predicted summary:  great taste\n",
      "\n",
      "\n",
      "Review: satisfied purchase shared others enjoyed definitely ordering \n",
      "Original summary: love it \n",
      "Predicted summary:  great product\n",
      "\n",
      "\n",
      "Review: candy delivered fast purchased reasonable price home bound unable get store perfect \n",
      "Original summary: home delivered \n",
      "Predicted summary:  great product\n",
      "\n",
      "\n",
      "Review: husband twizzlers addict bought many times amazon employees living overseas cannot get country always fresh tasty packed well arrive timely manner \n",
      "Original summary: always fresh \n",
      "Predicted summary:  great\n",
      "\n",
      "\n",
      "Review: bought husband currently overseas loves apparently staff likes also generous amounts twizzlers ounce bag well worth price twizzlers strawberry ounce bags \n",
      "Original summary: twizzlers \n",
      "Predicted summary:  great product\n",
      "\n",
      "\n",
      "Review: remember buying candy kid quality dropped years still superb product disappointed \n",
      "Original summary: delicious product \n",
      "Predicted summary:  delicious\n",
      "\n",
      "\n",
      "Review: love candy weight watchers cut back still craving \n",
      "Original summary: twizzlers \n",
      "Predicted summary:  great taste\n",
      "\n",
      "\n",
      "Review: lived us yrs miss twizzlers go back visit someone visits always stock say yum sell mexico faithful buyer often able buy right \n",
      "Original summary: please these in \n",
      "Predicted summary:  delicious\n",
      "\n",
      "\n",
      "Review: product received advertised twizzlers strawberry ounce bags \n",
      "Original summary: twizzlers strawberry \n",
      "Predicted summary:  not what expected\n",
      "\n",
      "\n",
      "Review: candy red flavor plan chewy would never buy \n",
      "Original summary: nasty no flavor \n",
      "Predicted summary:  good\n",
      "\n",
      "\n",
      "Review: glad amazon carried hard time finding elsewhere unique size need garage door opener great deal price \n",
      "Original summary: great bargain for the price \n",
      "Predicted summary:  great product\n",
      "\n",
      "\n",
      "Review: offer great price great taste thanks amazon selling product \n",
      "Original summary: this is my taste \n",
      "Predicted summary:  great product\n",
      "\n",
      "\n",
      "Review: us celiac disease product lifesaver could better getting almost half price grocery health food store love mccann instant oatmeal flavors thanks \n",
      "Original summary: love gluten free oatmeal \n",
      "Predicted summary:  great product\n",
      "\n",
      "\n",
      "Review: else need know oatmeal instant expensive kroger store brand oatmeal maybe little tastier better texture something still oatmeal mm convenient \n",
      "Original summary: it is oatmeal \n",
      "Predicted summary:  great taste\n",
      "\n",
      "\n",
      "Review: ordered wife reccomended daughter almost every morning likes flavors happy happy mccann instant irish oatmeal variety pack regular apples cinnamon maple brown sugar count boxes \n",
      "Original summary: wife favorite breakfast \n",
      "Predicted summary:  great for\n",
      "\n",
      "\n",
      "Review: mccann oatmeal every morning ordering amazon able save almost per box great product tastes great healthy \n",
      "Original summary: food great \n",
      "Predicted summary:  great\n",
      "\n",
      "\n",
      "Review: mccann oatmeal good quality choice favorite apples cinnamon find none overly sugary good hot breakfast minutes excellent \n",
      "Original summary: good hot breakfast \n",
      "Predicted summary:  great\n",
      "\n",
      "\n",
      "Review: really like mccann steel cut oats find cook often tastes much better grocery store brands convenient anything keeps eating oatmeal regularly good thing \n",
      "Original summary: great taste and convenience \n",
      "Predicted summary:  great taste\n",
      "\n",
      "\n",
      "Review: seems little wholesome supermarket brands somewhat mushy quite much flavor either pass kids probably buy \n",
      "Original summary: hearty oatmeal \n",
      "Predicted summary:  not the best\n",
      "\n",
      "\n",
      "Review: good oatmeal like apple cinnamon best though would follow directions package since always comes soupy taste could since like oatmeal really thick add milk top \n",
      "Original summary: good \n",
      "Predicted summary:  great taste\n",
      "\n",
      "\n",
      "Review: flavors good however see oats brand mushy \n",
      "Original summary: mushy \n",
      "Predicted summary:  good\n",
      "\n",
      "\n",
      "Review: stuff buy big box stores nothing healthy carbs sugars save money get something least taste \n",
      "Original summary: same stuff \n",
      "Predicted summary:  great snack\n",
      "\n",
      "\n",
      "Review: oatmeal good mushy soft like quaker oats way go \n",
      "Original summary: do not like it \n",
      "Predicted summary:  yummy\n",
      "\n",
      "\n",
      "Review: used spicy foods south texas spicy doubt much habanero used could take notch two \n",
      "Original summary: not ass \n",
      "Predicted summary:  good\n",
      "\n",
      "\n",
      "Review: roast large cast iron pan grill smell wonderful roasted beans taste delicious importantly coffee smooth bitter aftertaste numerous occasions send roasted beans home friends like much \n",
      "Original summary: our love it \n",
      "Predicted summary:  good coffee\n",
      "\n",
      "\n",
      "Review: deal awesome arrived halloween indicated enough satisfy trick treaters love quality product much less expensive local store candy \n",
      "Original summary: awesome deal \n",
      "Predicted summary:  great product\n",
      "\n",
      "\n",
      "Review: chocolate say great variety everything family loves family six goes fast perfect variety kit kat reeses take five \n",
      "Original summary: how can you go wrong \n",
      "Predicted summary:  chocolate heaven\n",
      "\n",
      "\n",
      "Review: great product nice combination chocolates perfect size bags plenty shipped promptly kids neighborhood liked candies \n",
      "Original summary: awsome kids in loved us \n",
      "Predicted summary:  great cookies\n",
      "\n",
      "\n",
      "Review: halloween sent bag daughters class share chocolate fresh enjoyed many \n",
      "Original summary: great deal \n",
      "Predicted summary:  great gift\n",
      "\n",
      "\n",
      "Review: watch prices assortment good get gold box purchase price less target \n",
      "Original summary: better price for this at \n",
      "Predicted summary:  too much\n",
      "\n",
      "\n",
      "Review: bag candy online pretty expensive cheaper order compete grocery stores good combination favorite candy \n",
      "Original summary: pretty expensive \n",
      "Predicted summary:  yummy\n",
      "\n",
      "\n",
      "Review: arrived days stale could eat bags \n",
      "Original summary: stale product \n",
      "Predicted summary:  stale\n",
      "\n",
      "\n",
      "Review: product serves well source electrolytes long run bike ride tried flavors really like grapefruit flavor taste actually like slight carbonation use hammer products really like whole product line \n",
      "Original summary: great source of \n",
      "Predicted summary:  great taste\n",
      "\n",
      "\n",
      "Review: stuff really works preventing cramping middle latter rides pop water bottle set flavor fine goes easy \n",
      "Original summary: great for \n",
      "Predicted summary:  great taste\n",
      "\n",
      "\n",
      "Review: like ok get wrong quality babies good complaints price little ridiculous \n",
      "Original summary: much would you pay for bag of chocolate pretzels \n"
     ]
    },
    {
     "name": "stdout",
     "output_type": "stream",
     "text": [
      "Predicted summary:  not what expected\n",
      "\n",
      "\n",
      "Review: sooooo bad ate em fast gained fault \n",
      "Original summary: pretzel \n",
      "Predicted summary:  good but not great\n",
      "\n",
      "\n",
      "Review: okay would go way buy \n",
      "Original summary: nothing special \n",
      "Predicted summary:  not bad\n",
      "\n",
      "\n",
      "Review: tea flavor whole brunch flavors returnable wasted bucks \n",
      "Original summary: no tea flavor \n",
      "Predicted summary:  not the best tea\n",
      "\n",
      "\n",
      "Review: taste great berries melted may order winter order cold weather enjoy flavor \n",
      "Original summary: order only in cold weather \n",
      "Predicted summary:  not as good as\n",
      "\n",
      "\n",
      "Review: know cannot make tea good granted south know never enjoyed tea sweet without sweet tastes crisp \n",
      "Original summary: this is the best \n",
      "Predicted summary:  great tea\n",
      "\n",
      "\n",
      "Review: peppermint stick delicious fun eat dad got one christmas remembered similar one little girl love \n",
      "Original summary: delicious \n",
      "Predicted summary:  delicious\n",
      "\n",
      "\n",
      "Review: great gift ages purchased giant canes recipients loved much kept would eat \n",
      "Original summary: great \n",
      "Predicted summary:  great gift\n",
      "\n",
      "\n",
      "Review: three dogs love food bought specifically one dogs food allergies works great hot spots tummy problems love ships right door free shipping \n",
      "Original summary: great food \n",
      "Predicted summary:  great product\n",
      "\n",
      "\n",
      "Review: shepherd collie mix ibs vet recommended limited ingredient food really helped symptoms likes always buy amazon cheaper free shipping \n",
      "Original summary: great for stomach problems \n",
      "Predicted summary:  great product\n",
      "\n",
      "\n",
      "Review: great food love idea one food ages breeds real convenience well really good product dogs eat less almost gas poop regular perfect consistency else mom ask \n",
      "Original summary: great food \n",
      "Predicted summary:  great food\n",
      "\n",
      "\n",
      "Review: standard poodle pomeranian wonderful food switched different food couple times end going right back natural balance \n",
      "Original summary: food for my my dog who has sensitive stomach \n",
      "Predicted summary:  great product\n",
      "\n",
      "\n",
      "Review: great dog food dog allergies brand one feed \n",
      "Original summary: great dog food \n",
      "Predicted summary:  great product\n",
      "\n",
      "\n",
      "Review: food great ages dogs year old puppy soft hardly ever get sick food good especially amazon prime shipping \n",
      "Original summary: mm mm good \n",
      "Predicted summary:  great product\n",
      "\n",
      "\n",
      "Review: food get pet store delivered door price slightly less \n",
      "Original summary: so convenient \n",
      "Predicted summary:  great product\n",
      "\n",
      "\n",
      "Review: pup experienced allergies forms itching dog foods cheap buy anywhere food crazy preservatives cause health problems pets food works wonders reducing allergies dog loves food message approved \n",
      "Original summary: great allergy sensitive dog food dogs love it \n",
      "Predicted summary:  great food for dogs\n",
      "\n",
      "\n",
      "Review: fed golden retriever hated would eat gave terrible diarrhea buying also super expensive \n",
      "Original summary: bad \n",
      "Predicted summary:  not\n",
      "\n",
      "\n",
      "Review: mouth says love thee let count ways like apple products must item draw back shipping cost heavy \n",
      "Original summary: taste it is star item \n",
      "Predicted summary:  good but not great\n",
      "\n",
      "\n",
      "Review: arrived slightly parents would accept however company helpful issued full refund \n",
      "Original summary: great support \n",
      "Predicted summary:  not worth the money\n",
      "\n",
      "\n",
      "Review: crust tarts perfect husband loves crazy sour tart taste eat crust hubby takes filling kids think great maybe \n",
      "Original summary: tart \n",
      "Predicted summary:  great pasta\n",
      "\n",
      "\n",
      "Review: absolutely husband love however another customer put expensive ship cost shipping \n",
      "Original summary: omaha apple \n",
      "Predicted summary:  great product\n",
      "\n",
      "\n",
      "Review: nice alternative apple pie love fact easy prepare also loved fact make fresh whenever needed \n",
      "Original summary: loved these \n",
      "Predicted summary:  delicious\n",
      "\n",
      "\n",
      "Review: like creme brulee loved easy sprinkle sugar came look amazing taste great guess thought really went way really took minutes ordering \n",
      "Original summary: the best \n",
      "Predicted summary:  delicious\n",
      "\n",
      "\n",
      "Review: expecting terms company reputation excellent home delivery products \n",
      "Original summary: disappointing \n",
      "Predicted summary:  not what expected\n",
      "\n",
      "\n",
      "Review: love asparagus recently never pickled asparagus oh goodness friend introduced exact brand could believe great stuff tasted loved much bought six pack got jars left gonna need \n",
      "Original summary: bliss \n",
      "Predicted summary:  great taste\n",
      "\n",
      "\n",
      "Review: diappointed flavor texture mix usually like low carb things tried diappointed specific one \n",
      "Original summary: low carb angel food puffs \n",
      "Predicted summary:  good\n",
      "\n",
      "\n",
      "Review: drinking tea long time used purchase doctor office available elsewhere glad buy amazon com drink tea throughout day like folks drink coffee wonderful taste \n",
      "Original summary: delicious tea \n",
      "Predicted summary:  great tea\n",
      "\n",
      "\n",
      "Review: one best teas ever tasted clean bright fresh great delivery quality try \n",
      "Original summary: the best tea ever bright clean \n",
      "Predicted summary:  great tea\n",
      "\n",
      "\n",
      "Review: love love green tea hard find area places internet charge big price usually get many boxes merchant definitely order seller thanks depend green tea fix everyday \n",
      "Original summary: tea review \n",
      "Predicted summary:  great tea\n",
      "\n",
      "\n",
      "Review: love tea helps curb eating day mom given friends try \n",
      "Original summary: wonderful tea \n",
      "Predicted summary:  great tea\n",
      "\n",
      "\n",
      "Review: italian lived italy years used buy cookies everyday breakfast italian espresso could find anywhere bay area great \n",
      "Original summary: great cookies \n",
      "Predicted summary:  great cookies\n",
      "\n",
      "\n",
      "Review: one cats allergic fish beef formula one eat much better ingredients prescription diets available vet kitties active soft shiny fur neither fat dry food reduces tartar buildup teeth also \n",
      "Original summary: wonderful food perfect for allergic kitties \n",
      "Predicted summary:  my cats love it\n",
      "\n",
      "\n",
      "Review: cats thrive extremely well dry cat food definitely much less hair ball throw ups fur great fit weight vendor ships extremely fast one top amazon suppliers book \n",
      "Original summary: cat food \n",
      "Predicted summary:  great food\n",
      "\n",
      "\n",
      "Review: fan hot spicy ramen long time enjoy spice love ramen love product bad way expensive amazon per walmart \n",
      "Original summary: tastes great love hot spicy bad price here \n",
      "Predicted summary:  hot sauce\n",
      "\n",
      "\n",
      "Review: eating ramen noodles since little kid never found better flavor hot spicy chicken hot like sure good \n",
      "Original summary: my favorite ramen \n",
      "Predicted summary:  great soup\n",
      "\n",
      "\n",
      "Review: love spicy ramen whatever reasons thing burns stomach badly burning sensation go away like hours sure healthy buy walmart way cheaper amazon \n",
      "Original summary: it \n",
      "Predicted summary:  great sauce\n",
      "\n",
      "\n",
      "Review: always fan ramen quick easy meal finding amazon decent price delivered door case amazing situation anyone find \n",
      "Original summary: amazing to the last bite \n",
      "Predicted summary:  great\n",
      "\n",
      "\n",
      "Review: must bit soup tastes imagine fire might taste typically like spicy food good flavor find case soup flavor killed burn \n",
      "Original summary: not for me \n",
      "Predicted summary:  not bad\n",
      "\n",
      "\n",
      "Review: really loved spicy flavor found liking broth noodles usually opposite used heat might bother like hot hot foods might enough \n",
      "Original summary: great spicy flavor \n",
      "Predicted summary:  great sauce\n",
      "\n",
      "\n",
      "Review: bought allot different flavors happens one favorites getting soon \n",
      "Original summary: great flavor \n",
      "Predicted summary:  good stuff\n",
      "\n",
      "\n",
      "Review: love flavor ramen eat flavors anymore taste bland comparison convenience delivered home price amazon bad still cheaper run pick case grocery store \n",
      "Original summary: tastes great but is cheaper locally \n",
      "Predicted summary:  good taste\n",
      "\n",
      "\n",
      "Review: best investment ever made ginger unbelievable like real ginger spicy kick perfect sugar calms worth lbs getting soon use topper ginger cupcakes cookies \n",
      "Original summary: tastes awesome looks beautiful \n",
      "Predicted summary:  best ever\n",
      "\n",
      "\n",
      "Review: delicious cannot get australian ginger live compares favorably australian ginger purchased enjoy without traveling \n",
      "Original summary: happy \n",
      "Predicted summary:  delicious\n",
      "\n",
      "\n",
      "Review: keep trying brands cheaper brands stupid ginger soooo worth money tender moist never let \n",
      "Original summary: simply the best \n",
      "Predicted summary:  best ever\n",
      "\n",
      "\n",
      "Review: bought office give people something sweet snack bite size easier people grab couple pieces rather entire licorice stick complaint one bags broke open shipping \n",
      "Original summary: nice snack \n"
     ]
    },
    {
     "name": "stdout",
     "output_type": "stream",
     "text": [
      "Predicted summary:  great snack\n",
      "\n",
      "\n",
      "Review: twizzlers brand licorice much better well known brand get package free good deal black cherry good taste strawberry taste delicate barely \n",
      "Original summary: good licorice \n",
      "Predicted summary:  good but not great\n",
      "\n",
      "\n",
      "Review: love tasty infact think addicted buying packs bags reasonable going target getting bag savings bag use subscribe save several product love subscribe save \n",
      "Original summary: love these \n",
      "Predicted summary:  great product\n",
      "\n",
      "\n",
      "Review: one best salsas found long time stay away variety pack two come worth money \n",
      "Original summary: love the salsa \n",
      "Predicted summary:  great\n",
      "\n",
      "\n",
      "Review: best cornmeal made regular cornbread hot water cornbread meal outstanding also fried oysters meal gave great texture flovor \n",
      "Original summary: awesome \n",
      "Predicted summary:  great sauce\n",
      "\n",
      "\n",
      "Review: fabulous marinade love use chicken either baked oven grill enough flavor flair even used dinner parties receive rave reviews guests definitely worth price super cheap super easy love \n",
      "Original summary: great marinade \n",
      "Predicted summary:  great product\n",
      "\n",
      "\n",
      "Review: works chicken fish beef pork fast easy makes taste excellent plus buying bulk box stores \n",
      "Original summary: awesome stuff \n",
      "Predicted summary:  great product\n",
      "\n",
      "\n",
      "Review: got brother cruise diet decided try one actually tastes pretty good \n",
      "Original summary: tastes good \n",
      "Predicted summary:  good\n",
      "\n",
      "\n",
      "Review: singles sell store box singles sure amazon selling box singles hazelnut coffee creamer favorite truly good buy \n",
      "Original summary: rip off price \n",
      "Predicted summary:  not worth the money\n",
      "\n",
      "\n",
      "Review: deal healthiest salt use box last family year problem iodized sea salt raise blood pressure regular salt \n",
      "Original summary: great deal \n",
      "Predicted summary:  great product\n",
      "\n",
      "\n",
      "Review: perfect size sea salt table picnic basket love shakes well clumping \n",
      "Original summary: great tasting sea salt with \n",
      "Predicted summary:  great product\n",
      "\n",
      "\n"
     ]
    }
   ],
   "source": [
    "for i in range(100):\n",
    "    print(\"Review:\",seq2text(x_tr[i]))\n",
    "    print(\"Original summary:\",seq2summary(y_tr[i]))\n",
    "    print(\"Predicted summary:\",decode_sequence(x_tr[i].reshape(1,max_text_len)))\n",
    "    print(\"\\n\")"
   ]
  },
  {
   "cell_type": "code",
   "execution_count": null,
   "metadata": {},
   "outputs": [],
   "source": []
  }
 ],
 "metadata": {
  "kernelspec": {
   "display_name": "Python 3",
   "language": "python",
   "name": "python3"
  },
  "language_info": {
   "codemirror_mode": {
    "name": "ipython",
    "version": 3
   },
   "file_extension": ".py",
   "mimetype": "text/x-python",
   "name": "python",
   "nbconvert_exporter": "python",
   "pygments_lexer": "ipython3",
   "version": "3.7.1"
  }
 },
 "nbformat": 4,
 "nbformat_minor": 2
}
