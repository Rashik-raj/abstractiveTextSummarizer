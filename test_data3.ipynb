{
 "cells": [
  {
   "cell_type": "code",
   "execution_count": 1,
   "metadata": {},
   "outputs": [],
   "source": [
    "from attention import AttentionLayer"
   ]
  },
  {
   "cell_type": "code",
   "execution_count": 2,
   "metadata": {},
   "outputs": [
    {
     "name": "stderr",
     "output_type": "stream",
     "text": [
      "Using TensorFlow backend.\n"
     ]
    }
   ],
   "source": [
    "import numpy as np\n",
    "import pandas as pd \n",
    "import re\n",
    "from bs4 import BeautifulSoup\n",
    "from keras.preprocessing.text import Tokenizer \n",
    "from keras.preprocessing.sequence import pad_sequences\n",
    "from nltk.corpus import stopwords\n",
    "import tensorflow as tf\n",
    "from tensorflow.keras.layers import Input, LSTM, Embedding, Dense, Concatenate, TimeDistributed\n",
    "from tensorflow.keras.models import Model, load_model\n",
    "from tensorflow.keras.callbacks import EarlyStopping\n",
    "import warnings\n",
    "pd.set_option(\"display.max_colwidth\", 200)\n",
    "warnings.filterwarnings(\"ignore\")"
   ]
  },
  {
   "cell_type": "code",
   "execution_count": 3,
   "metadata": {},
   "outputs": [],
   "source": [
    "data=pd.read_csv(\"Reviews.csv\",nrows=100000)"
   ]
  },
  {
   "cell_type": "code",
   "execution_count": 4,
   "metadata": {},
   "outputs": [],
   "source": [
    "data.drop_duplicates(subset=['Text'],inplace=True)#dropping duplicates\n",
    "data.dropna(axis=0,inplace=True)#dropping na"
   ]
  },
  {
   "cell_type": "code",
   "execution_count": 5,
   "metadata": {},
   "outputs": [
    {
     "name": "stdout",
     "output_type": "stream",
     "text": [
      "<class 'pandas.core.frame.DataFrame'>\n",
      "Int64Index: 88425 entries, 0 to 99999\n",
      "Data columns (total 2 columns):\n",
      "Summary    88425 non-null object\n",
      "Text       88425 non-null object\n",
      "dtypes: object(2)\n",
      "memory usage: 2.0+ MB\n"
     ]
    }
   ],
   "source": [
    "data.info()"
   ]
  },
  {
   "cell_type": "code",
   "execution_count": 6,
   "metadata": {},
   "outputs": [],
   "source": [
    "contraction_mapping = {\"ain't\": \"is not\", \"aren't\": \"are not\",\"can't\": \"cannot\", \"'cause\": \"because\", \"could've\": \"could have\", \"couldn't\": \"could not\",\n",
    "                           \"didn't\": \"did not\",  \"doesn't\": \"does not\", \"don't\": \"do not\", \"hadn't\": \"had not\", \"hasn't\": \"has not\", \"haven't\": \"have not\",\n",
    "                           \"he'd\": \"he would\",\"he'll\": \"he will\", \"he's\": \"he is\", \"how'd\": \"how did\", \"how'd'y\": \"how do you\", \"how'll\": \"how will\", \"how's\": \"how is\",\n",
    "                           \"I'd\": \"I would\", \"I'd've\": \"I would have\", \"I'll\": \"I will\", \"I'll've\": \"I will have\",\"I'm\": \"I am\", \"I've\": \"I have\", \"i'd\": \"i would\",\n",
    "                           \"i'd've\": \"i would have\", \"i'll\": \"i will\",  \"i'll've\": \"i will have\",\"i'm\": \"i am\", \"i've\": \"i have\", \"isn't\": \"is not\", \"it'd\": \"it would\",\n",
    "                           \"it'd've\": \"it would have\", \"it'll\": \"it will\", \"it'll've\": \"it will have\",\"it's\": \"it is\", \"let's\": \"let us\", \"ma'am\": \"madam\",\n",
    "                           \"mayn't\": \"may not\", \"might've\": \"might have\",\"mightn't\": \"might not\",\"mightn't've\": \"might not have\", \"must've\": \"must have\",\n",
    "                           \"mustn't\": \"must not\", \"mustn't've\": \"must not have\", \"needn't\": \"need not\", \"needn't've\": \"need not have\",\"o'clock\": \"of the clock\",\n",
    "                           \"oughtn't\": \"ought not\", \"oughtn't've\": \"ought not have\", \"shan't\": \"shall not\", \"sha'n't\": \"shall not\", \"shan't've\": \"shall not have\",\n",
    "                           \"she'd\": \"she would\", \"she'd've\": \"she would have\", \"she'll\": \"she will\", \"she'll've\": \"she will have\", \"she's\": \"she is\",\n",
    "                           \"should've\": \"should have\", \"shouldn't\": \"should not\", \"shouldn't've\": \"should not have\", \"so've\": \"so have\",\"so's\": \"so as\",\n",
    "                           \"this's\": \"this is\",\"that'd\": \"that would\", \"that'd've\": \"that would have\", \"that's\": \"that is\", \"there'd\": \"there would\",\n",
    "                           \"there'd've\": \"there would have\", \"there's\": \"there is\", \"here's\": \"here is\",\"they'd\": \"they would\", \"they'd've\": \"they would have\",\n",
    "                           \"they'll\": \"they will\", \"they'll've\": \"they will have\", \"they're\": \"they are\", \"they've\": \"they have\", \"to've\": \"to have\",\n",
    "                           \"wasn't\": \"was not\", \"we'd\": \"we would\", \"we'd've\": \"we would have\", \"we'll\": \"we will\", \"we'll've\": \"we will have\", \"we're\": \"we are\",\n",
    "                           \"we've\": \"we have\", \"weren't\": \"were not\", \"what'll\": \"what will\", \"what'll've\": \"what will have\", \"what're\": \"what are\",\n",
    "                           \"what's\": \"what is\", \"what've\": \"what have\", \"when's\": \"when is\", \"when've\": \"when have\", \"where'd\": \"where did\", \"where's\": \"where is\",\n",
    "                           \"where've\": \"where have\", \"who'll\": \"who will\", \"who'll've\": \"who will have\", \"who's\": \"who is\", \"who've\": \"who have\",\n",
    "                           \"why's\": \"why is\", \"why've\": \"why have\", \"will've\": \"will have\", \"won't\": \"will not\", \"won't've\": \"will not have\",\n",
    "                           \"would've\": \"would have\", \"wouldn't\": \"would not\", \"wouldn't've\": \"would not have\", \"y'all\": \"you all\",\n",
    "                           \"y'all'd\": \"you all would\",\"y'all'd've\": \"you all would have\",\"y'all're\": \"you all are\",\"y'all've\": \"you all have\",\n",
    "                           \"you'd\": \"you would\", \"you'd've\": \"you would have\", \"you'll\": \"you will\", \"you'll've\": \"you will have\",\n",
    "                           \"you're\": \"you are\", \"you've\": \"you have\"}"
   ]
  },
  {
   "cell_type": "code",
   "execution_count": 7,
   "metadata": {},
   "outputs": [],
   "source": [
    "stop_words = set(stopwords.words('english')) \n",
    "\n",
    "def text_cleaner(text,num):\n",
    "    newString = text.lower()\n",
    "    newString = BeautifulSoup(newString, \"lxml\").text\n",
    "    newString = re.sub(r'\\([^)]*\\)', '', newString)\n",
    "    newString = re.sub('\"','', newString)\n",
    "    newString = ' '.join([contraction_mapping[t] if t in contraction_mapping else t for t in newString.split(\" \")])    \n",
    "    newString = re.sub(r\"'s\\b\",\"\",newString)\n",
    "    newString = re.sub(\"[^a-zA-Z]\", \" \", newString) \n",
    "    newString = re.sub('[m]{2,}', 'mm', newString)\n",
    "    if(num==0):\n",
    "        tokens = [w for w in newString.split() if not w in stop_words]\n",
    "    else:\n",
    "        tokens=newString.split()\n",
    "    long_words=[]\n",
    "    for i in tokens:\n",
    "        if len(i)>1:                                                 #removing short word\n",
    "            long_words.append(i)   \n",
    "    return (\" \".join(long_words)).strip()"
   ]
  },
  {
   "cell_type": "code",
   "execution_count": 8,
   "metadata": {},
   "outputs": [],
   "source": [
    "#call the function\n",
    "cleaned_text = []\n",
    "for t in data['Text']:\n",
    "    cleaned_text.append(text_cleaner(t,0))"
   ]
  },
  {
   "cell_type": "code",
   "execution_count": 9,
   "metadata": {},
   "outputs": [
    {
     "name": "stdout",
     "output_type": "stream",
     "text": [
      "<class 'list'>\n"
     ]
    }
   ],
   "source": [
    "cleaned_text[:5]\n",
    "print(type(cleaned_text))"
   ]
  },
  {
   "cell_type": "code",
   "execution_count": 10,
   "metadata": {},
   "outputs": [],
   "source": [
    "#call the function\n",
    "cleaned_summary = []\n",
    "for t in data['Summary']:\n",
    "    cleaned_summary.append(text_cleaner(t,1))"
   ]
  },
  {
   "cell_type": "code",
   "execution_count": 11,
   "metadata": {},
   "outputs": [
    {
     "data": {
      "text/plain": [
       "['good quality dog food',\n",
       " 'not as advertised',\n",
       " 'delight says it all',\n",
       " 'cough medicine',\n",
       " 'great taffy']"
      ]
     },
     "execution_count": 11,
     "metadata": {},
     "output_type": "execute_result"
    }
   ],
   "source": [
    "cleaned_summary[:5]"
   ]
  },
  {
   "cell_type": "code",
   "execution_count": 12,
   "metadata": {},
   "outputs": [
    {
     "name": "stdout",
     "output_type": "stream",
     "text": [
      "<class 'pandas.core.series.Series'>\n"
     ]
    },
    {
     "data": {
      "text/plain": [
       "(88425,)"
      ]
     },
     "execution_count": 12,
     "metadata": {},
     "output_type": "execute_result"
    }
   ],
   "source": [
    "data['cleaned_text']=cleaned_text\n",
    "data['cleaned_summary']=cleaned_summary\n",
    "print(type(data['cleaned_text']))\n",
    "(data['cleaned_text'].shape)"
   ]
  },
  {
   "cell_type": "markdown",
   "metadata": {},
   "source": [
    "# Understanding distribution of sequences"
   ]
  },
  {
   "cell_type": "code",
   "execution_count": 13,
   "metadata": {},
   "outputs": [
    {
     "data": {
      "text/plain": [
       "<Figure size 640x480 with 2 Axes>"
      ]
     },
     "metadata": {},
     "output_type": "display_data"
    }
   ],
   "source": [
    "import matplotlib.pyplot as plt\n",
    "\n",
    "text_word_count = []\n",
    "summary_word_count = []\n",
    "\n",
    "# populate the lists with sentence lengths\n",
    "for i in data['cleaned_text']:\n",
    "      text_word_count.append(len(i.split()))\n",
    "\n",
    "for i in data['cleaned_summary']:\n",
    "      summary_word_count.append(len(i.split()))\n",
    "\n",
    "length_df = pd.DataFrame({'text':text_word_count, 'summary':summary_word_count})\n",
    "\n",
    "length_df.hist(bins = 30)\n",
    "plt.show()"
   ]
  },
  {
   "cell_type": "code",
   "execution_count": 14,
   "metadata": {},
   "outputs": [
    {
     "name": "stdout",
     "output_type": "stream",
     "text": [
      "0.9425049476957874\n"
     ]
    }
   ],
   "source": [
    "cnt=0\n",
    "for i in data['cleaned_summary']:\n",
    "    if(len(i.split())<=8):\n",
    "        cnt=cnt+1\n",
    "print(cnt/len(data['cleaned_summary']))"
   ]
  },
  {
   "cell_type": "code",
   "execution_count": 15,
   "metadata": {},
   "outputs": [
    {
     "name": "stdout",
     "output_type": "stream",
     "text": [
      "0.5498105739327114\n"
     ]
    }
   ],
   "source": [
    "cnt=0\n",
    "for i in data['cleaned_text']:\n",
    "    if(len(i.split())<=30):\n",
    "        cnt=cnt+1\n",
    "print(cnt/len(data['cleaned_text']))"
   ]
  },
  {
   "cell_type": "code",
   "execution_count": 16,
   "metadata": {},
   "outputs": [],
   "source": [
    "max_text_len=30\n",
    "max_summary_len=8"
   ]
  },
  {
   "cell_type": "code",
   "execution_count": 17,
   "metadata": {},
   "outputs": [
    {
     "name": "stdout",
     "output_type": "stream",
     "text": [
      "<class 'numpy.ndarray'>\n"
     ]
    }
   ],
   "source": [
    "cleaned_text =np.array(data['cleaned_text'])\n",
    "cleaned_summary=np.array(data['cleaned_summary'])\n",
    "\n",
    "short_text=[]\n",
    "short_summary=[]\n",
    "print(type(cleaned_text))\n",
    "for i in range(len(cleaned_text)):\n",
    "    if(len(cleaned_summary[i].split())<=max_summary_len and len(cleaned_text[i].split())<=max_text_len):\n",
    "        short_text.append(cleaned_text[i])\n",
    "        short_summary.append(cleaned_summary[i])\n",
    "        \n",
    "df=pd.DataFrame({'text':short_text,'summary':short_summary})"
   ]
  },
  {
   "cell_type": "code",
   "execution_count": 18,
   "metadata": {},
   "outputs": [],
   "source": [
    "df['summary'] = df['summary'].apply(lambda x : 'sostok '+ x + ' eostok')"
   ]
  },
  {
   "cell_type": "code",
   "execution_count": 19,
   "metadata": {},
   "outputs": [],
   "source": [
    "from sklearn.model_selection import train_test_split\n",
    "x_tr,x_val,y_tr,y_val=train_test_split(np.array(df['text']),np.array(df['summary']),test_size=0.1,random_state=0,shuffle=False)"
   ]
  },
  {
   "cell_type": "markdown",
   "metadata": {},
   "source": [
    "# rare words and its coverage"
   ]
  },
  {
   "cell_type": "code",
   "execution_count": 20,
   "metadata": {},
   "outputs": [
    {
     "name": "stdout",
     "output_type": "stream",
     "text": [
      "% of rare words in vocabulary: 66.02602844594867\n",
      "Total Coverage of rare words: 2.941374689273152\n",
      "24819 16387\n"
     ]
    }
   ],
   "source": [
    "x_tokenizer = Tokenizer() \n",
    "x_tokenizer.fit_on_texts(list(x_tr))\n",
    "\n",
    "thresh=4\n",
    "\n",
    "cnt=0\n",
    "tot_cnt=0\n",
    "freq=0\n",
    "tot_freq=0\n",
    "\n",
    "for key,value in x_tokenizer.word_counts.items():\n",
    "    tot_cnt=tot_cnt+1\n",
    "    tot_freq=tot_freq+value\n",
    "    if(value<thresh):\n",
    "        cnt=cnt+1\n",
    "        freq=freq+value\n",
    "    \n",
    "print(\"% of rare words in vocabulary:\",(cnt/tot_cnt)*100)\n",
    "print(\"Total Coverage of rare words:\",(freq/tot_freq)*100)\n",
    "print(tot_cnt,cnt)"
   ]
  },
  {
   "cell_type": "markdown",
   "metadata": {},
   "source": [
    "# text tokenizer"
   ]
  },
  {
   "cell_type": "code",
   "execution_count": 21,
   "metadata": {},
   "outputs": [
    {
     "name": "stdout",
     "output_type": "stream",
     "text": [
      "[[  34  205 6128 ...    0    0    0]\n",
      " [   5  114 2195 ...    0    0    0]\n",
      " [ 139 2366  734 ...    0    0    0]\n",
      " ...\n",
      " [ 294  965 5293 ...    0    0    0]\n",
      " [   2  889   71 ...    0    0    0]\n",
      " [1472   14  349 ...    0    0    0]]\n",
      "8433\n"
     ]
    }
   ],
   "source": [
    "\n",
    "#prepare a tokenizer for reviews on training data\n",
    "x_tokenizer = Tokenizer(num_words=tot_cnt-cnt) \n",
    "x_tokenizer.fit_on_texts(list(x_tr))\n",
    "\n",
    "#convert text sequences into integer sequences\n",
    "x_tr_seq    =   x_tokenizer.texts_to_sequences(x_tr) \n",
    "x_val_seq   =   x_tokenizer.texts_to_sequences(x_val)\n",
    "\n",
    "#padding zero upto maximum length\n",
    "x_tr    =   pad_sequences(x_tr_seq,  maxlen=max_text_len, padding='post')\n",
    "x_val   =   pad_sequences(x_val_seq, maxlen=max_text_len, padding='post')\n",
    "\n",
    "\n",
    "print(x_tr)\n",
    "\n",
    "#size of vocabulary ( +1 for padding token)\n",
    "x_voc = x_tokenizer.num_words + 1\n",
    "\n",
    "print(x_voc)"
   ]
  },
  {
   "cell_type": "markdown",
   "metadata": {},
   "source": [
    "# summary tokenizer"
   ]
  },
  {
   "cell_type": "code",
   "execution_count": 22,
   "metadata": {},
   "outputs": [],
   "source": [
    "#prepare a tokenizer for reviews on training data\n",
    "y_tokenizer = Tokenizer()   \n",
    "y_tokenizer.fit_on_texts(list(y_tr))"
   ]
  },
  {
   "cell_type": "markdown",
   "metadata": {},
   "source": [
    "# rare wrods and its covererage"
   ]
  },
  {
   "cell_type": "code",
   "execution_count": 23,
   "metadata": {},
   "outputs": [
    {
     "name": "stdout",
     "output_type": "stream",
     "text": [
      "% of rare words in vocabulary: 78.07734806629834\n",
      "Total Coverage of rare words: 5.365097201932802\n",
      "9050 7066\n"
     ]
    }
   ],
   "source": [
    "thresh=6\n",
    "\n",
    "cnt=0\n",
    "tot_cnt=0\n",
    "freq=0\n",
    "tot_freq=0\n",
    "\n",
    "for key,value in y_tokenizer.word_counts.items():\n",
    "    tot_cnt=tot_cnt+1\n",
    "    tot_freq=tot_freq+value\n",
    "    if(value<thresh):\n",
    "        cnt=cnt+1\n",
    "        freq=freq+value\n",
    "    \n",
    "print(\"% of rare words in vocabulary:\",(cnt/tot_cnt)*100)\n",
    "print(\"Total Coverage of rare words:\",(freq/tot_freq)*100)\n",
    "print(tot_cnt,cnt)"
   ]
  },
  {
   "cell_type": "code",
   "execution_count": 24,
   "metadata": {},
   "outputs": [
    {
     "name": "stdout",
     "output_type": "stream",
     "text": [
      "1985\n"
     ]
    }
   ],
   "source": [
    "#prepare a tokenizer for reviews on training data\n",
    "y_tokenizer = Tokenizer(num_words=tot_cnt-cnt) \n",
    "y_tokenizer.fit_on_texts(list(y_tr))\n",
    "\n",
    "#convert text sequences into integer sequences\n",
    "y_tr_seq    =   y_tokenizer.texts_to_sequences(y_tr) \n",
    "y_val_seq   =   y_tokenizer.texts_to_sequences(y_val) \n",
    "\n",
    "#padding zero upto maximum length\n",
    "y_tr    =   pad_sequences(y_tr_seq, maxlen=max_summary_len, padding='post')\n",
    "y_val   =   pad_sequences(y_val_seq, maxlen=max_summary_len, padding='post')\n",
    "\n",
    "#size of vocabulary\n",
    "y_voc  =   y_tokenizer.num_words +1\n",
    "print(y_voc)"
   ]
  },
  {
   "cell_type": "code",
   "execution_count": 25,
   "metadata": {},
   "outputs": [
    {
     "data": {
      "text/plain": [
       "(42496, 42496)"
      ]
     },
     "execution_count": 25,
     "metadata": {},
     "output_type": "execute_result"
    }
   ],
   "source": [
    "y_tokenizer.word_counts['sostok'],len(y_tr)"
   ]
  },
  {
   "cell_type": "markdown",
   "metadata": {},
   "source": [
    "# delete that contains only start and end"
   ]
  },
  {
   "cell_type": "code",
   "execution_count": 26,
   "metadata": {},
   "outputs": [],
   "source": [
    "ind=[]\n",
    "for i in range(len(y_tr)):\n",
    "    cnt=0\n",
    "    for j in y_tr[i]:\n",
    "        if j!=0:\n",
    "            cnt=cnt+1\n",
    "    if(cnt==2):\n",
    "        ind.append(i)\n",
    "\n",
    "y_tr=np.delete(y_tr,ind, axis=0)\n",
    "x_tr=np.delete(x_tr,ind, axis=0)"
   ]
  },
  {
   "cell_type": "code",
   "execution_count": 27,
   "metadata": {},
   "outputs": [],
   "source": [
    "ind=[]\n",
    "for i in range(len(y_val)):\n",
    "    cnt=0\n",
    "    for j in y_val[i]:\n",
    "        if j!=0:\n",
    "            cnt=cnt+1\n",
    "    if(cnt==2):\n",
    "        ind.append(i)\n",
    "\n",
    "y_val=np.delete(y_val,ind, axis=0)\n",
    "x_val=np.delete(x_val,ind, axis=0)"
   ]
  },
  {
   "cell_type": "markdown",
   "metadata": {},
   "source": [
    "# model building"
   ]
  },
  {
   "cell_type": "markdown",
   "metadata": {},
   "source": [
    "We are finally at the model building part. But before we do that, we need to familiarize ourselves with a few terms which are required prior to building the model.\n",
    "\n",
    "Return Sequences = True: When the return sequences parameter is set to True, LSTM produces the hidden state and cell state for every timestep\n",
    "\n",
    "Return State = True: When return state = True, LSTM produces the hidden state and cell state of the last timestep only\n",
    "\n",
    "Initial State: This is used to initialize the internal states of the LSTM for the first timestep\n",
    "\n",
    "Stacked LSTM: Stacked LSTM has multiple layers of LSTM stacked on top of each other. This leads to a better representation of the sequence. I encourage you to experiment with the multiple layers of the LSTM stacked on top of each other (it’s a great way to learn this)\n",
    "\n",
    "Here, we are building a 3 stacked LSTM for the encoder:"
   ]
  },
  {
   "cell_type": "code",
   "execution_count": 28,
   "metadata": {},
   "outputs": [
    {
     "name": "stderr",
     "output_type": "stream",
     "text": [
      "WARNING: Logging before flag parsing goes to stderr.\n",
      "W0810 21:33:09.340873  2956 deprecation_wrapper.py:119] From c:\\users\\user\\appdata\\local\\programs\\python\\python37\\lib\\site-packages\\keras\\backend\\tensorflow_backend.py:95: The name tf.reset_default_graph is deprecated. Please use tf.compat.v1.reset_default_graph instead.\n",
      "\n",
      "W0810 21:33:09.341901  2956 deprecation_wrapper.py:119] From c:\\users\\user\\appdata\\local\\programs\\python\\python37\\lib\\site-packages\\keras\\backend\\tensorflow_backend.py:98: The name tf.placeholder_with_default is deprecated. Please use tf.compat.v1.placeholder_with_default instead.\n",
      "\n",
      "W0810 21:33:09.356830  2956 deprecation_wrapper.py:119] From c:\\users\\user\\appdata\\local\\programs\\python\\python37\\lib\\site-packages\\keras\\backend\\tensorflow_backend.py:102: The name tf.get_default_graph is deprecated. Please use tf.compat.v1.get_default_graph instead.\n",
      "\n",
      "W0810 21:33:09.359823  2956 deprecation.py:506] From c:\\users\\user\\appdata\\local\\programs\\python\\python37\\lib\\site-packages\\tensorflow\\python\\keras\\initializers.py:119: calling RandomUniform.__init__ (from tensorflow.python.ops.init_ops) with dtype is deprecated and will be removed in a future version.\n",
      "Instructions for updating:\n",
      "Call initializer instance with the dtype argument instead of passing it to the constructor\n",
      "W0810 21:33:09.372822  2956 deprecation.py:506] From c:\\users\\user\\appdata\\local\\programs\\python\\python37\\lib\\site-packages\\tensorflow\\python\\ops\\init_ops.py:1251: calling VarianceScaling.__init__ (from tensorflow.python.ops.init_ops) with dtype is deprecated and will be removed in a future version.\n",
      "Instructions for updating:\n",
      "Call initializer instance with the dtype argument instead of passing it to the constructor\n"
     ]
    },
    {
     "name": "stdout",
     "output_type": "stream",
     "text": [
      "Model: \"model\"\n",
      "__________________________________________________________________________________________________\n",
      "Layer (type)                    Output Shape         Param #     Connected to                     \n",
      "==================================================================================================\n",
      "input_1 (InputLayer)            [(None, 30)]         0                                            \n",
      "__________________________________________________________________________________________________\n",
      "embedding (Embedding)           (None, 30, 100)      843300      input_1[0][0]                    \n",
      "__________________________________________________________________________________________________\n",
      "lstm (LSTM)                     [(None, 30, 300), (N 481200      embedding[0][0]                  \n",
      "__________________________________________________________________________________________________\n",
      "input_2 (InputLayer)            [(None, None)]       0                                            \n",
      "__________________________________________________________________________________________________\n",
      "lstm_1 (LSTM)                   [(None, 30, 300), (N 721200      lstm[0][0]                       \n",
      "__________________________________________________________________________________________________\n",
      "embedding_1 (Embedding)         (None, None, 100)    198500      input_2[0][0]                    \n",
      "__________________________________________________________________________________________________\n",
      "lstm_2 (LSTM)                   [(None, 30, 300), (N 721200      lstm_1[0][0]                     \n",
      "__________________________________________________________________________________________________\n",
      "lstm_3 (LSTM)                   [(None, None, 300),  481200      embedding_1[0][0]                \n",
      "                                                                 lstm_2[0][1]                     \n",
      "                                                                 lstm_2[0][2]                     \n",
      "__________________________________________________________________________________________________\n",
      "attention_layer (AttentionLayer ((None, None, 300),  180300      lstm_2[0][0]                     \n",
      "                                                                 lstm_3[0][0]                     \n",
      "__________________________________________________________________________________________________\n",
      "concat_layer (Concatenate)      (None, None, 600)    0           lstm_3[0][0]                     \n",
      "                                                                 attention_layer[0][0]            \n",
      "__________________________________________________________________________________________________\n",
      "time_distributed (TimeDistribut (None, None, 1985)   1192985     concat_layer[0][0]               \n",
      "==================================================================================================\n",
      "Total params: 4,819,885\n",
      "Trainable params: 4,819,885\n",
      "Non-trainable params: 0\n",
      "__________________________________________________________________________________________________\n"
     ]
    }
   ],
   "source": [
    "from keras import backend as K \n",
    "from keras.models import load_model\n",
    "K.clear_session()\n",
    "\n",
    "latent_dim = 300\n",
    "embedding_dim=100\n",
    "\n",
    "# Encoder\n",
    "encoder_inputs = Input(shape=(max_text_len,))\n",
    "\n",
    "#embedding layer\n",
    "enc_emb =  Embedding(x_voc, embedding_dim,trainable=True)(encoder_inputs)\n",
    "\n",
    "#encoder lstm 1\n",
    "encoder_lstm1 = LSTM(latent_dim,return_sequences=True,return_state=True,dropout=0.4,recurrent_dropout=0.4)\n",
    "encoder_output1, state_h1, state_c1 = encoder_lstm1(enc_emb)\n",
    "\n",
    "#encoder lstm 2\n",
    "encoder_lstm2 = LSTM(latent_dim,return_sequences=True,return_state=True,dropout=0.4,recurrent_dropout=0.4)\n",
    "encoder_output2, state_h2, state_c2 = encoder_lstm2(encoder_output1)\n",
    "\n",
    "#encoder lstm 3\n",
    "encoder_lstm3=LSTM(latent_dim, return_state=True, return_sequences=True,dropout=0.4,recurrent_dropout=0.4)\n",
    "encoder_outputs, state_h, state_c= encoder_lstm3(encoder_output2)\n",
    "\n",
    "# Set up the decoder, using `encoder_states` as initial state.\n",
    "decoder_inputs = Input(shape=(None,))\n",
    "\n",
    "#embedding layer\n",
    "dec_emb_layer = Embedding(y_voc, embedding_dim,trainable=True)\n",
    "dec_emb = dec_emb_layer(decoder_inputs)\n",
    "\n",
    "decoder_lstm = LSTM(latent_dim, return_sequences=True, return_state=True,dropout=0.4,recurrent_dropout=0.2)\n",
    "decoder_outputs,decoder_fwd_state, decoder_back_state = decoder_lstm(dec_emb,initial_state=[state_h, state_c])\n",
    "\n",
    "# Attention layer\n",
    "attn_layer = AttentionLayer(name='attention_layer')\n",
    "attn_out, attn_states = attn_layer([encoder_outputs, decoder_outputs])\n",
    "\n",
    "# Concat attention input and decoder LSTM output\n",
    "decoder_concat_input = Concatenate(axis=-1, name='concat_layer')([decoder_outputs, attn_out])\n",
    "\n",
    "#dense layer\n",
    "decoder_dense =  TimeDistributed(Dense(y_voc, activation='softmax'))\n",
    "decoder_outputs = decoder_dense(decoder_concat_input)\n",
    "\n",
    "# Define the model \n",
    "model = Model([encoder_inputs, decoder_inputs], decoder_outputs)\n",
    "\n",
    "model.summary()"
   ]
  },
  {
   "cell_type": "code",
   "execution_count": 29,
   "metadata": {},
   "outputs": [],
   "source": [
    "model.compile(optimizer='rmsprop', loss='sparse_categorical_crossentropy', metrics=['accuracy'])"
   ]
  },
  {
   "cell_type": "code",
   "execution_count": 30,
   "metadata": {},
   "outputs": [],
   "source": [
    "es = EarlyStopping(monitor='val_loss', mode='min', verbose=1,patience=2)"
   ]
  },
  {
   "cell_type": "code",
   "execution_count": 31,
   "metadata": {},
   "outputs": [
    {
     "name": "stderr",
     "output_type": "stream",
     "text": [
      "W0810 21:33:11.053363  2956 deprecation.py:323] From c:\\users\\user\\appdata\\local\\programs\\python\\python37\\lib\\site-packages\\tensorflow\\python\\ops\\math_grad.py:1250: add_dispatch_support.<locals>.wrapper (from tensorflow.python.ops.array_ops) is deprecated and will be removed in a future version.\n",
      "Instructions for updating:\n",
      "Use tf.where in 2.0, which has the same broadcast rule as np.where\n"
     ]
    },
    {
     "name": "stdout",
     "output_type": "stream",
     "text": [
      "Train on 41368 samples, validate on 4581 samples\n",
      "Epoch 1/50\n",
      "41368/41368 [==============================] - 82s 2ms/sample - loss: 2.8242 - acc: 0.5716 - val_loss: 2.5345 - val_acc: 0.5999\n",
      "Epoch 2/50\n",
      "41368/41368 [==============================] - 79s 2ms/sample - loss: 2.5084 - acc: 0.6019 - val_loss: 2.3549 - val_acc: 0.6147\n",
      "Epoch 3/50\n",
      "41368/41368 [==============================] - 79s 2ms/sample - loss: 2.3540 - acc: 0.6146 - val_loss: 2.2590 - val_acc: 0.6241\n",
      "Epoch 4/50\n",
      "41368/41368 [==============================] - 80s 2ms/sample - loss: 2.2569 - acc: 0.6225 - val_loss: 2.2070 - val_acc: 0.6308\n",
      "Epoch 5/50\n",
      "41368/41368 [==============================] - 82s 2ms/sample - loss: 2.1918 - acc: 0.6281 - val_loss: 2.1586 - val_acc: 0.6346\n",
      "Epoch 6/50\n",
      "41368/41368 [==============================] - 82s 2ms/sample - loss: 2.1390 - acc: 0.6327 - val_loss: 2.1334 - val_acc: 0.6376\n",
      "Epoch 7/50\n",
      "41368/41368 [==============================] - 81s 2ms/sample - loss: 2.0986 - acc: 0.6364 - val_loss: 2.1049 - val_acc: 0.6409\n",
      "Epoch 8/50\n",
      "41368/41368 [==============================] - 80s 2ms/sample - loss: 2.0623 - acc: 0.6394 - val_loss: 2.0893 - val_acc: 0.6422\n",
      "Epoch 9/50\n",
      "41368/41368 [==============================] - 80s 2ms/sample - loss: 2.0297 - acc: 0.6416 - val_loss: 2.0782 - val_acc: 0.6439\n",
      "Epoch 10/50\n",
      "41368/41368 [==============================] - 80s 2ms/sample - loss: 1.9979 - acc: 0.6447 - val_loss: 2.0613 - val_acc: 0.6470\n",
      "Epoch 11/50\n",
      "41368/41368 [==============================] - 80s 2ms/sample - loss: 1.9717 - acc: 0.6468 - val_loss: 2.0554 - val_acc: 0.6471\n",
      "Epoch 12/50\n",
      "41368/41368 [==============================] - 80s 2ms/sample - loss: 1.9445 - acc: 0.6490 - val_loss: 2.0454 - val_acc: 0.6472\n",
      "Epoch 13/50\n",
      "41368/41368 [==============================] - 80s 2ms/sample - loss: 1.9182 - acc: 0.6515 - val_loss: 2.0376 - val_acc: 0.6466\n",
      "Epoch 14/50\n",
      "41368/41368 [==============================] - 79s 2ms/sample - loss: 1.8953 - acc: 0.6527 - val_loss: 2.0293 - val_acc: 0.6496\n",
      "Epoch 15/50\n",
      "41368/41368 [==============================] - 80s 2ms/sample - loss: 1.8753 - acc: 0.6547 - val_loss: 2.0253 - val_acc: 0.6498\n",
      "Epoch 16/50\n",
      "41368/41368 [==============================] - 80s 2ms/sample - loss: 1.8547 - acc: 0.6566 - val_loss: 2.0183 - val_acc: 0.6506\n",
      "Epoch 17/50\n",
      "41368/41368 [==============================] - 79s 2ms/sample - loss: 1.8360 - acc: 0.6581 - val_loss: 2.0214 - val_acc: 0.6505\n",
      "Epoch 18/50\n",
      "41368/41368 [==============================] - 80s 2ms/sample - loss: 1.8194 - acc: 0.6594 - val_loss: 2.0153 - val_acc: 0.6513\n",
      "Epoch 19/50\n",
      "41368/41368 [==============================] - 80s 2ms/sample - loss: 1.8005 - acc: 0.6613 - val_loss: 2.0276 - val_acc: 0.6507\n",
      "Epoch 20/50\n",
      "41368/41368 [==============================] - 79s 2ms/sample - loss: 1.7846 - acc: 0.6629 - val_loss: 2.0124 - val_acc: 0.6513\n",
      "Epoch 21/50\n",
      "41368/41368 [==============================] - 79s 2ms/sample - loss: 1.7682 - acc: 0.6644 - val_loss: 2.0126 - val_acc: 0.6518\n",
      "Epoch 22/50\n",
      "41368/41368 [==============================] - 80s 2ms/sample - loss: 1.7519 - acc: 0.6660 - val_loss: 2.0221 - val_acc: 0.6513\n",
      "Epoch 00022: early stopping\n"
     ]
    }
   ],
   "source": [
    "model.fit([x_tr,y_tr[:,:-1]], y_tr.reshape(y_tr.shape[0],y_tr.shape[1], 1)[:,1:] ,epochs=50,callbacks=[es],batch_size=128, validation_data=([x_val,y_val[:,:-1]], y_val.reshape(y_val.shape[0],y_val.shape[1], 1)[:,1:]))\n",
    "model.save_weights('trainedModel_weights3.h5')\n",
    "model.load_weights('trainedModel_weights3.h5')"
   ]
  },
  {
   "cell_type": "markdown",
   "metadata": {},
   "source": [
    "# understanding the diagonastic plot"
   ]
  },
  {
   "cell_type": "code",
   "execution_count": 32,
   "metadata": {},
   "outputs": [
    {
     "data": {
      "text/plain": [
       "\"from matplotlib import pyplot\\npyplot.plot(history.history['loss'], label='train')\\npyplot.plot(history.history['val_loss'], label='test')\\npyplot.legend()\\npyplot.show()\""
      ]
     },
     "execution_count": 32,
     "metadata": {},
     "output_type": "execute_result"
    }
   ],
   "source": [
    "'''from matplotlib import pyplot\n",
    "pyplot.plot(history.history['loss'], label='train')\n",
    "pyplot.plot(history.history['val_loss'], label='test')\n",
    "pyplot.legend()\n",
    "pyplot.show()'''"
   ]
  },
  {
   "cell_type": "code",
   "execution_count": 33,
   "metadata": {},
   "outputs": [
    {
     "name": "stdout",
     "output_type": "stream",
     "text": [
      "{'sostok': 1, 'eostok': 2, 'great': 3, 'good': 4, 'the': 5, 'best': 6, 'not': 7, 'for': 8, 'love': 9, 'and': 10, 'coffee': 11, 'it': 12, 'my': 13, 'tea': 14, 'product': 15, 'delicious': 16, 'this': 17, 'is': 18, 'taste': 19, 'very': 20, 'but': 21, 'excellent': 22, 'yummy': 23, 'of': 24, 'to': 25, 'dog': 26, 'these': 27, 'flavor': 28, 'price': 29, 'tasty': 30, 'like': 31, 'favorite': 32, 'ever': 33, 'too': 34, 'in': 35, 'stuff': 36, 'loves': 37, 'food': 38, 'awesome': 39, 'snack': 40, 'so': 41, 'yum': 42, 'dogs': 43, 'are': 44, 'as': 45, 'just': 46, 'them': 47, 'chocolate': 48, 'healthy': 49, 'free': 50, 'nice': 51, 'on': 52, 'with': 53, 'perfect': 54, 'wonderful': 55, 'better': 56, 'you': 57, 'treats': 58, 'treat': 59, 'tastes': 60, 'no': 61, 'really': 62, 'tasting': 63, 'have': 64, 'than': 65, 'sweet': 66, 'what': 67, 'quality': 68, 'hot': 69, 'at': 70, 'cup': 71, 'buy': 72, 'bad': 73, 'popcorn': 74, 'chips': 75, 'amazing': 76, 'one': 77, 'little': 78, 'gluten': 79, 'cat': 80, 'mix': 81, 'all': 82, 'do': 83, 'cookies': 84, 'sugar': 85, 'value': 86, 'organic': 87, 'easy': 88, 'ok': 89, 'green': 90, 'deal': 91, 'me': 92, 'candy': 93, 'pretty': 94, 'fantastic': 95, 'cats': 96, 'cereal': 97, 'from': 98, 'cups': 99, 'your': 100, 'way': 101, 'bars': 102, 'happy': 103, 'salt': 104, 'amazon': 105, 'they': 106, 'gift': 107, 'much': 108, 'fresh': 109, 'bar': 110, 'sauce': 111, 'rice': 112, 'drink': 113, 'was': 114, 'expensive': 115, 'will': 116, 'service': 117, 'strong': 118, 'review': 119, 'bread': 120, 'only': 121, 'baby': 122, 'breakfast': 123, 'be': 124, 'more': 125, 'out': 126, 'oil': 127, 'works': 128, 'decaf': 129, 'loved': 130, 'that': 131, 'does': 132, 'real': 133, 'low': 134, 'our': 135, 'can': 136, 'did': 137, 'greenies': 138, 'cannot': 139, 'syrup': 140, 'blend': 141, 'go': 142, 'eat': 143, 'super': 144, 'up': 145, 'wow': 146, 'soup': 147, 'pasta': 148, 'high': 149, 'quick': 150, 'salty': 151, 'chai': 152, 'expected': 153, 'find': 154, 'made': 155, 'fast': 156, 'dark': 157, 'smooth': 158, 'get': 159, 'vanilla': 160, 'cocoa': 161, 'hard': 162, 'time': 163, 'makes': 164, 'mm': 165, 'big': 166, 'shipping': 167, 'disappointed': 168, 'kids': 169, 'money': 170, 'coconut': 171, 'butter': 172, 'an': 173, 'had': 174, 'item': 175, 'or': 176, 'again': 177, 'alternative': 178, 'jerky': 179, 'water': 180, 'new': 181, 'there': 182, 'energy': 183, 'if': 184, 'okay': 185, 'honey': 186, 'chicken': 187, 'nuts': 188, 'old': 189, 'worth': 190, 'spicy': 191, 'would': 192, 'stale': 193, 'chews': 194, 'gum': 195, 'well': 196, 'we': 197, 'right': 198, 'black': 199, 'white': 200, 'light': 201, 'refreshing': 202, 'convenient': 203, 'horrible': 204, 'crackers': 205, 'small': 206, 'ginger': 207, 'nothing': 208, 'natural': 209, 'without': 210, 'use': 211, 'fruit': 212, 'pop': 213, 'bold': 214, 'weak': 215, 'cookie': 216, 'peanut': 217, 'by': 218, 'work': 219, 'awful': 220, 'addictive': 221, 'noodles': 222, 'yumm': 223, 'has': 224, 'some': 225, 'terrible': 226, 'milk': 227, 'absolutely': 228, 'roast': 229, 'cheese': 230, 'packaging': 231, 'yuck': 232, 'poor': 233, 'wrong': 234, 'far': 235, 'pumpkin': 236, 'pricey': 237, 'em': 238, 'pack': 239, 'bag': 240, 'juice': 241, 'could': 242, 'french': 243, 'beware': 244, 'licorice': 245, 'its': 246, 'seeds': 247, 'beef': 248, 'seasoning': 249, 'enough': 250, 'flavorful': 251, 'cheaper': 252, 'found': 253, 'flavored': 254, 'beans': 255, 'bitter': 256, 'kind': 257, 'overpriced': 258, 'am': 259, 'size': 260, 'fabulous': 261, 'snacks': 262, 'keurig': 263, 'bears': 264, 'variety': 265, 'protein': 266, 'cans': 267, 'simply': 268, 'olive': 269, 'bit': 270, 'most': 271, 'choice': 272, 'training': 273, 'purchase': 274, 'order': 275, 'spice': 276, 'puppy': 277, 'dry': 278, 'decent': 279, 'crunchy': 280, 'delivery': 281, 'fine': 282, 'disappointing': 283, 'off': 284, 'make': 285, 'tasted': 286, 'always': 287, 'special': 288, 'fun': 289, 'espresso': 290, 'rich': 291, 'over': 292, 'pleased': 293, 'pure': 294, 'instant': 295, 'thing': 296, 'another': 297, 'mountain': 298, 'store': 299, 'whole': 300, 'powder': 301, 'granola': 302, 'substitute': 303, 'likes': 304, 'gf': 305, 'market': 306, 'about': 307, 'different': 308, 'goodness': 309, 'lovers': 310, 'brand': 311, 'customer': 312, 'toy': 313, 'never': 314, 'dried': 315, 'house': 316, 'flavors': 317, 'cinnamon': 318, 'oatmeal': 319, 'lemon': 320, 'around': 321, 'heaven': 322, 'delish': 323, 'full': 324, 'almonds': 325, 'nut': 326, 'oh': 327, 'wheat': 328, 'brown': 329, 'son': 330, 'maple': 331, 'after': 332, 'morning': 333, 'pork': 334, 'day': 335, 'worst': 336, 'crazy': 337, 'world': 338, 'pepper': 339, 'try': 340, 'now': 341, 'texture': 342, 'lover': 343, 'soft': 344, 'first': 345, 'gummi': 346, 'nasty': 347, 'fat': 348, 'even': 349, 'finally': 350, 'cherry': 351, 'every': 352, 'long': 353, 'chip': 354, 'red': 355, 'got': 356, 'must': 357, 'exactly': 358, 'used': 359, 'popchips': 360, 'gross': 361, 'advertised': 362, 'ingredients': 363, 'bland': 364, 'cheap': 365, 'soda': 366, 'canned': 367, 'were': 368, 'terrific': 369, 'home': 370, 'carb': 371, 'bags': 372, 'oz': 373, 'sour': 374, 'broken': 375, 'baking': 376, 'china': 377, 'yet': 378, 'almost': 379, 'cake': 380, 'smells': 381, 'bought': 382, 'waste': 383, 'arrived': 384, 'outstanding': 385, 'why': 386, 'starbucks': 387, 'here': 388, 'corn': 389, 'life': 390, 'idea': 391, 'chili': 392, 'chewy': 393, 'dental': 394, 'box': 395, 'when': 396, 'where': 397, 'diet': 398, 'mint': 399, 'same': 400, 'ice': 401, 'potato': 402, 'down': 403, 'family': 404, 'iced': 405, 'ordered': 406, 'tried': 407, 'cracker': 408, 'hit': 409, 'dented': 410, 'calorie': 411, 'crunch': 412, 'stars': 413, 'cooking': 414, 'other': 415, 'mustard': 416, 'still': 417, 'own': 418, 'picky': 419, 'quite': 420, 'priced': 421, 'mild': 422, 'brownies': 423, 'filling': 424, 'need': 425, 'back': 426, 'date': 427, 'nom': 428, 'banana': 429, 'hazelnut': 430, 'husband': 431, 'satisfied': 432, 'less': 433, 'teeth': 434, 'chew': 435, 'many': 436, 'doggie': 437, 'rinds': 438, 'how': 439, 'disgusting': 440, 'addicted': 441, 'sticks': 442, 'delight': 443, 'recommended': 444, 'package': 445, 'homemade': 446, 'option': 447, 'think': 448, 'grey': 449, 'flour': 450, 'fan': 451, 'meal': 452, 'cream': 453, 'haribo': 454, 'please': 455, 'apple': 456, 'last': 457, 'health': 458, 'raw': 459, 'brew': 460, 'say': 461, 'gummy': 462, 'misleading': 463, 'pie': 464, 'top': 465, 'nutritious': 466, 'miracle': 467, 'bbq': 468, 'tree': 469, 'regular': 470, 'orange': 471, 'lots': 472, 'wild': 473, 'vinegar': 474, 'highly': 475, 'favorites': 476, 'gourmet': 477, 'mini': 478, 'smell': 479, 'everything': 480, 'italian': 481, 'rocks': 482, 'earl': 483, 'beautiful': 484, 'bean': 485, 'english': 486, 'soy': 487, 'earth': 488, 'cute': 489, 'any': 490, 'something': 491, 'daughter': 492, 'lot': 493, 'save': 494, 'biscuits': 495, 'looking': 496, 'pancakes': 497, 'who': 498, 'wish': 499, 'calories': 500, 'delightful': 501, 'received': 502, 'aftertaste': 503, 'almond': 504, 'company': 505, 'aroma': 506, 'surprisingly': 507, 'lunch': 508, 'pizza': 509, 'superb': 510, 'teas': 511, 'extract': 512, 'rip': 513, 'greatest': 514, 'noodle': 515, 'eating': 516, 'dressing': 517, 'gold': 518, 'kitty': 519, 'available': 520, 'live': 521, 'pods': 522, 'newman': 523, 'bones': 524, 'large': 525, 'raspberry': 526, 'impressed': 527, 'melted': 528, 'weight': 529, 'peanuts': 530, 'fiber': 531, 'salmon': 532, 'bran': 533, 'simple': 534, 'salad': 535, 'addicting': 536, 'stevia': 537, 'original': 538, 'extremely': 539, 'chocolates': 540, 'products': 541, 'pet': 542, 'strawberry': 543, 'thanks': 544, 'liked': 545, 'should': 546, 'plastic': 547, 'lovely': 548, 'ounce': 549, 'wanted': 550, 'plant': 551, 'blue': 552, 'pb': 553, 'magic': 554, 'sea': 555, 'artificial': 556, 'extra': 557, 'agave': 558, 'says': 559, 'thin': 560, 'beer': 561, 'curry': 562, 'satisfying': 563, 'mango': 564, 'things': 565, 'bacon': 566, 'lipton': 567, 'clean': 568, 'yes': 569, 'packs': 570, 'grain': 571, 'meh': 572, 'thought': 573, 'plain': 574, 'formula': 575, 'change': 576, 'totally': 577, 'bargain': 578, 'omg': 579, 'dont': 580, 'rock': 581, 'crispy': 582, 'stash': 583, 'cost': 584, 'away': 585, 'goes': 586, 'expiration': 587, 'vegan': 588, 'plus': 589, 'kashi': 590, 'us': 591, 'needs': 592, 'unique': 593, 'caramel': 594, 'been': 595, 'cherries': 596, 'medium': 597, 'senseo': 598, 'thank': 599, 'fish': 600, 'description': 601, 'smart': 602, 'wife': 603, 'convenience': 604, 'everyday': 605, 'msg': 606, 'baked': 607, 'smaller': 608, 'contains': 609, 'summer': 610, 'caribou': 611, 'country': 612, 'year': 613, 'replacement': 614, 'pretzels': 615, 'rub': 616, 'bay': 617, 'fog': 618, 'jelly': 619, 'nectar': 620, 'kona': 621, 'stores': 622, 'nutrition': 623, 'hour': 624, 'quickly': 625, 'san': 626, 'addition': 627, 'average': 628, 'brownie': 629, 'winner': 630, 'wine': 631, 'grass': 632, 'vegetarian': 633, 'crystal': 634, 'kick': 635, 'movie': 636, 'source': 637, 'cold': 638, 'looks': 639, 'creamy': 640, 'gone': 641, 'sodium': 642, 'give': 643, 'loose': 644, 'people': 645, 'described': 646, 'pictured': 647, 'actually': 648, 'microwave': 649, 'maybe': 650, 'dessert': 651, 'muffins': 652, 'paste': 653, 'those': 654, 'mom': 655, 'expired': 656, 'crack': 657, 'premium': 658, 'tuna': 659, 'two': 660, 'ground': 661, 'dr': 662, 'kit': 663, 'enjoyed': 664, 'lime': 665, 'tomato': 666, 'roasted': 667, 'toffee': 668, 'cet': 669, 'star': 670, 'bite': 671, 'handy': 672, 'half': 673, 'sure': 674, 'non': 675, 'edible': 676, 'basket': 677, 'berry': 678, 'jack': 679, 'pudding': 680, 'weird': 681, 'needed': 682, 'kid': 683, 'pamela': 684, 'puck': 685, 'quaker': 686, 'close': 687, 'coffe': 688, 'jam': 689, 'zico': 690, 'stomach': 691, 'tart': 692, 'mints': 693, 'recipe': 694, 'sooo': 695, 'mouth': 696, 'picture': 697, 'garlic': 698, 'darn': 699, 'strange': 700, 'count': 701, 'name': 702, 'umm': 703, 'their': 704, 'authentic': 705, 'versatile': 706, 'style': 707, 'twinings': 708, 'want': 709, 'care': 710, 'meat': 711, 'sick': 712, 'liquid': 713, 'bottle': 714, 'pill': 715, 'staple': 716, 'problems': 717, 'worked': 718, 'keeps': 719, 'shipped': 720, 'huge': 721, 'though': 722, 'party': 723, 'second': 724, 'tummy': 725, 'pieces': 726, 'experience': 727, 'short': 728, 'damaged': 729, 'pecan': 730, 'shipment': 731, 'cafe': 732, 'pricing': 733, 'classic': 734, 'spices': 735, 'bisquick': 736, 'slightly': 737, 'heavenly': 738, 'herbal': 739, 'interesting': 740, 'start': 741, 'rawhide': 742, 'definitely': 743, 'foods': 744, 'take': 745, 'warning': 746, 'catnip': 747, 'tully': 748, 'glad': 749, 'know': 750, 'disappointment': 751, 'mediocre': 752, 'ones': 753, 'dinner': 754, 'gravy': 755, 'leaf': 756, 'liver': 757, 'bone': 758, 'boxes': 759, 'wonderfully': 760, 'job': 761, 'christmas': 762, 'keep': 763, 'feel': 764, 'toddler': 765, 'machine': 766, 'friendly': 767, 'cashews': 768, 'help': 769, 'man': 770, 'making': 771, 'hate': 772, 'wolfgang': 773, 'busy': 774, 'problem': 775, 'seller': 776, 'peach': 777, 'mess': 778, 'awsome': 779, 'years': 780, 'sweetener': 781, 'scrumptious': 782, 'blueberry': 783, 'cal': 784, 'add': 785, 'recommend': 786, 'seed': 787, 'truffle': 788, 'guilt': 789, 'affordable': 790, 'remember': 791, 'before': 792, 'beverage': 793, 'absolute': 794, 'saver': 795, 'perfectly': 796, 'true': 797, 'donut': 798, 'cheesy': 799, 'bulk': 800, 'shampoo': 801, 'prunes': 802, 'francisco': 803, 'chaser': 804, 'brands': 805, 'tasteless': 806, 'anywhere': 807, 'joe': 808, 'warm': 809, 'few': 810, 'com': 811, 'dream': 812, 'gotta': 813, 'candies': 814, 'pancake': 815, 'truly': 816, 'everyone': 817, 'mill': 818, 'leaves': 819, 'surprised': 820, 'tips': 821, 'selection': 822, 'watch': 823, 'grains': 824, 'superior': 825, 'folgers': 826, 'daily': 827, 'steak': 828, 'incredible': 829, 'hair': 830, 'hips': 831, 'buyer': 832, 'taffy': 833, 'yay': 834, 'allergy': 835, 'puffs': 836, 'ramen': 837, 'boost': 838, 'side': 839, 'yuk': 840, 'fair': 841, 'power': 842, 'cacao': 843, 'bites': 844, 'caviar': 845, 'waffles': 846, 'kcup': 847, 'false': 848, 'advertising': 849, 'nutty': 850, 'days': 851, 'usa': 852, 'babies': 853, 'stay': 854, 'pg': 855, 'nature': 856, 'crisp': 857, 'robust': 858, 'amazingly': 859, 'mixed': 860, 'onion': 861, 'finicky': 862, 'switch': 863, 'fruity': 864, 'hooked': 865, 'curls': 866, 'cheez': 867, 'bonsai': 868, 'lab': 869, 'golden': 870, 'theater': 871, 'northern': 872, 'wellness': 873, 'kitties': 874, 'altoids': 875, 'sesame': 876, 'else': 877, 'surprise': 878, 'nantucket': 879, 'egg': 880, 'pleasure': 881, 'changed': 882, 'pops': 883, 'tassimo': 884, 'odd': 885, 'pick': 886, 'hates': 887, 'helps': 888, 'delicous': 889, 'prefer': 890, 'watery': 891, 'soooo': 892, 'tiny': 893, 'gave': 894, 'planet': 895, 'buying': 896, 'effective': 897, 'gets': 898, 'five': 899, 'olives': 900, 'caffeine': 901, 'eater': 902, 'pleasant': 903, 'shake': 904, 'anything': 905, 'solid': 906, 'slow': 907, 'paris': 908, 'tough': 909, 'night': 910, 'gummies': 911, 'apples': 912, 'yogurt': 913, 'zuke': 914, 'ears': 915, 'raisin': 916, 'delivered': 917, 'balance': 918, 'packaged': 919, 'birthday': 920, 'ingredient': 921, 'costco': 922, 'look': 923, 'waffle': 924, 'soups': 925, 'touch': 926, 'enjoy': 927, 'acid': 928, 'grape': 929, 'hands': 930, 'wake': 931, 'beat': 932, 'approved': 933, 'paws': 934, 'went': 935, 'added': 936, 'hershey': 937, 'naturals': 938, 'bottles': 939, 'hoped': 940, 'mother': 941, 'storage': 942, 'fake': 943, 'check': 944, 'doggy': 945, 'read': 946, 'pockets': 947, 'cheddar': 948, 'zukes': 949, 'sent': 950, 'dissapointed': 951, 'creamer': 952, 'thick': 953, 'tangy': 954, 'perfection': 955, 'standard': 956, 'secret': 957, 'thumbs': 958, 'she': 959, 'grocery': 960, 'color': 961, 'reviews': 962, 'tomatoes': 963, 'elsewhere': 964, 'fudge': 965, 'instead': 966, 'pineapple': 967, 'others': 968, 'balanced': 969, 'may': 970, 'bed': 971, 'eh': 972, 'put': 973, 'cool': 974, 'berries': 975, 'strips': 976, 'allergies': 977, 'come': 978, 'seasonings': 979, 'yuban': 980, 'moist': 981, 'stick': 982, 'condition': 983, 'american': 984, 'bob': 985, 'hibiscus': 986, 'lamb': 987, 'diamond': 988, 'ghee': 989, 'memories': 990, 'breath': 991, 'covered': 992, 'dogswell': 993, 'macadamia': 994, 'bigelow': 995, 'kinda': 996, 'yogi': 997, 'stop': 998, 'matcha': 999, 'expectations': 1000, 'complete': 1001, 'veggie': 1002, 'king': 1003, 'miss': 1004, 'creme': 1005, 'such': 1006, 'three': 1007, 'wafers': 1008, 'serious': 1009, 'seems': 1010, 'pot': 1011, 'next': 1012, 'hint': 1013, 'solution': 1014, 'choc': 1015, 'thai': 1016, 'fix': 1017, 'crumbs': 1018, 'mrs': 1019, 'farms': 1020, 'coco': 1021, 'smoothies': 1022, 'snacking': 1023, 'amount': 1024, 'reasonable': 1025, 'word': 1026, 'seriously': 1027, 'sardines': 1028, 'said': 1029, 'sticky': 1030, 'drops': 1031, 'packages': 1032, 'de': 1033, 'eats': 1034, 'assortment': 1035, 'bpa': 1036, 'turkey': 1037, 'shop': 1038, 'german': 1039, 'lasting': 1040, 'hated': 1041, 'maker': 1042, 'chia': 1043, 'taco': 1044, 'buddy': 1045, 'walnuts': 1046, 'lucky': 1047, 'durable': 1048, 'doggies': 1049, 'per': 1050, 'latte': 1051, 'month': 1052, 'van': 1053, 'bear': 1054, 'broth': 1055, 'crust': 1056, 'kefir': 1057, 'larabar': 1058, 'medicine': 1059, 'barley': 1060, 'marinade': 1061, 'belly': 1062, 'double': 1063, 'sweetner': 1064, 'eaten': 1065, 'single': 1066, 'friend': 1067, 'outrageous': 1068, 'lindt': 1069, 'kitchen': 1070, 'concentrate': 1071, 'fave': 1072, 'crushed': 1073, 'powdered': 1074, 'davidson': 1075, 'valley': 1076, 'cashew': 1077, 'vita': 1078, 'winter': 1079, 'while': 1080, 'peppermint': 1081, 'grove': 1082, 'bother': 1083, 'heat': 1084, 'coffees': 1085, 'then': 1086, 'aid': 1087, 'sf': 1088, 'tastey': 1089, 'healthier': 1090, 'addiction': 1091, 'flavoring': 1092, 'zero': 1093, 'chemical': 1094, 'smoked': 1095, 'sorry': 1096, 'version': 1097, 'disposakups': 1098, 'raisins': 1099, 'purchased': 1100, 'truffles': 1101, 'fav': 1102, 'office': 1103, 'both': 1104, 'indeed': 1105, 'cardboard': 1106, 'kong': 1107, 'wholesome': 1108, 'lowrey': 1109, 'purpose': 1110, 'greek': 1111, 'maxwell': 1112, 'grade': 1113, 'alright': 1114, 'sampler': 1115, 'drinks': 1116, 'rancid': 1117, 'holiday': 1118, 'illy': 1119, 'jug': 1120, 'soothing': 1121, 'kcups': 1122, 'getting': 1123, 'once': 1124, 'ham': 1125, 'dairy': 1126, 'enjoyable': 1127, 'ketchup': 1128, 'lucy': 1129, 'licious': 1130, 'ate': 1131, 'deliciousness': 1132, 'basic': 1133, 'belgian': 1134, 'sunflower': 1135, 'molasses': 1136, 'rose': 1137, 'online': 1138, 'agree': 1139, 'going': 1140, 'goat': 1141, 'square': 1142, 'believe': 1143, 'pleasantly': 1144, 'anyone': 1145, 'pink': 1146, 'combination': 1147, 'chef': 1148, 'messy': 1149, 'done': 1150, 'subscribe': 1151, 'fragrant': 1152, 'control': 1153, 'local': 1154, 'cuppa': 1155, 'beyond': 1156, 'childhood': 1157, 'puppies': 1158, 'prices': 1159, 'relaxing': 1160, 'he': 1161, 'hawaiian': 1162, 'sumatra': 1163, 'safe': 1164, 'canidae': 1165, 'fries': 1166, 'unhappy': 1167, 'la': 1168, 'plants': 1169, 'seem': 1170, 'glazed': 1171, 'dents': 1172, 'incredibly': 1173, 'lb': 1174, 'flakes': 1175, 'lean': 1176, 'being': 1177, 'tast': 1178, 'sooooo': 1179, 'flowers': 1180, 'roll': 1181, 'torani': 1182, 'chewers': 1183, 'diabetics': 1184, 'houtte': 1185, 'everlasting': 1186, 'larabars': 1187, 'sensitive': 1188, 'salsa': 1189, 'case': 1190, 'quantity': 1191, 'swiss': 1192, 'god': 1193, 'kettle': 1194, 'garbage': 1195, 'punch': 1196, 'fry': 1197, 'issues': 1198, 'nd': 1199, 'jars': 1200, 'gas': 1201, 'run': 1202, 'somewhat': 1203, 'serving': 1204, 'open': 1205, 'mostly': 1206, 'potatoes': 1207, 'sized': 1208, 'slices': 1209, 'exceptional': 1210, 'cranberry': 1211, 'crisps': 1212, 'hmm': 1213, 'easier': 1214, 'batch': 1215, 'through': 1216, 'pomegranate': 1217, 'woof': 1218, 'indian': 1219, 'peas': 1220, 'pricy': 1221, 'ugh': 1222, 'difference': 1223, 'bigger': 1224, 'came': 1225, 'leave': 1226, 'see': 1227, 'yeah': 1228, 'orzo': 1229, 'excellant': 1230, 'timothy': 1231, 'moldy': 1232, 'key': 1233, 'anymore': 1234, 'jar': 1235, 'drop': 1236, 'yummo': 1237, 'aromatic': 1238, 'mr': 1239, 'starter': 1240, 'blueberries': 1241, 'jello': 1242, 'travel': 1243, 'container': 1244, 'club': 1245, 'minty': 1246, 'prepare': 1247, 'nutritional': 1248, 'himalayan': 1249, 'die': 1250, 'tarts': 1251, 'drinker': 1252, 'months': 1253, 'throat': 1254, 'line': 1255, 'teenie': 1256, 'tug': 1257, 'chewing': 1258, 'none': 1259, 'adults': 1260, 'clock': 1261, 'savings': 1262, 'train': 1263, 'booty': 1264, 'expect': 1265, 'hearty': 1266, 'bliss': 1267, 'locally': 1268, 'mate': 1269, 'mushrooms': 1270, 'jalapeno': 1271, 'heavy': 1272, 'burnt': 1273, 'happened': 1274, 'stir': 1275, 'tortilla': 1276, 'royal': 1277, 'oats': 1278, 'funny': 1279, 'together': 1280, 'dish': 1281, 'vegetable': 1282, 'cakes': 1283, 'pistachio': 1284, 'cook': 1285, 'except': 1286, 'spoiled': 1287, 'disapointed': 1288, 'flavorless': 1289, 'packed': 1290, 'tender': 1291, 'amish': 1292, 'clam': 1293, 'spot': 1294, 'rest': 1295, 'concept': 1296, 'combo': 1297, 'sandwich': 1298, 'part': 1299, 'cant': 1300, 'java': 1301, 'spicey': 1302, 'ms': 1303, 'school': 1304, 'adult': 1305, 'community': 1306, 'decadent': 1307, 'meals': 1308, 'careful': 1309, 'call': 1310, 'unbelievable': 1311, 'cut': 1312, 'lbs': 1313, 'pez': 1314, 'bake': 1315, 'beats': 1316, 'powerful': 1317, 'hand': 1318, 'filter': 1319, 'mac': 1320, 'died': 1321, 'chestnuts': 1322, 'pod': 1323, 'lish': 1324, 'wet': 1325, 'miso': 1326, 'pre': 1327, 'also': 1328, 'vermont': 1329, 'portion': 1330, 'damn': 1331, 'hip': 1332, 'deep': 1333, 'smokehouse': 1334, 'older': 1335, 'sprouting': 1336, 'sprout': 1337, 'shirataki': 1338, 'lower': 1339, 'syrups': 1340, 'celestial': 1341, 'packing': 1342, 'emeril': 1343, 'yummiest': 1344, 'clear': 1345, 'complaints': 1346, 'six': 1347, 'present': 1348, 'shot': 1349, 'times': 1350, 'greenie': 1351, 'soo': 1352, 'lavender': 1353, 'dip': 1354, 'organics': 1355, 'meow': 1356, 'hextra': 1357, 'air': 1358, 'gloria': 1359, 'bowl': 1360, 'greasy': 1361, 'mushy': 1362, 'omaha': 1363, 'lite': 1364, 'mary': 1365, 'anytime': 1366, 'completely': 1367, 'caution': 1368, 'chipotle': 1369, 'grow': 1370, 'timely': 1371, 'gods': 1372, 'dad': 1373, 'child': 1374, 'easily': 1375, 'sons': 1376, 'delicate': 1377, 'lollipops': 1378, 'mixes': 1379, 'pantry': 1380, 'strength': 1381, 'serve': 1382, 'barely': 1383, 'fortune': 1384, 'his': 1385, 'vendor': 1386, 'bodied': 1387, 'bits': 1388, 'flax': 1389, 'oreo': 1390, 'heart': 1391, 'assorted': 1392, 'late': 1393, 'gevalia': 1394, 'melitta': 1395, 'yucky': 1396, 'diabetic': 1397, 'broke': 1398, 'uses': 1399, 'shelf': 1400, 'place': 1401, 'listed': 1402, 'point': 1403, 'rasberry': 1404, 'shortbread': 1405, 'boy': 1406, 'newmans': 1407, 'relief': 1408, 'pleaser': 1409, 'prompt': 1410, 'japanese': 1411, 'watermelon': 1412, 'lid': 1413, 'basmati': 1414, 'pups': 1415, 'excelent': 1416, 'longer': 1417, 'recipes': 1418, 'dieters': 1419, 'fizzy': 1420, 'wait': 1421, 'sometimes': 1422, 'lasts': 1423, 'ridiculously': 1424, 'ordering': 1425, 'lavazza': 1426, 'rules': 1427, 'pass': 1428, 'past': 1429, 'carbs': 1430, 'drinking': 1431, 'valentine': 1432, 'chunky': 1433, 'gifts': 1434, 'info': 1435, 'blech': 1436, 'apricot': 1437, 'cocktail': 1438, 'least': 1439, 'space': 1440, 'brewer': 1441, 'dates': 1442, 'deceiving': 1443, 'pup': 1444, 'incorrect': 1445, 'similar': 1446, 'peggy': 1447, 'spanish': 1448, 'sushi': 1449, 'hubby': 1450, 'balsamic': 1451, 'luv': 1452, 'refreshingly': 1453, 'walmart': 1454, 'fancy': 1455, 'spiced': 1456, 'period': 1457, 'kat': 1458, 'irish': 1459, 'frozen': 1460, 'repeat': 1461, 'root': 1462, 'question': 1463, 'pump': 1464, 'grits': 1465, 'wasabi': 1466, 'kraft': 1467, 'girl': 1468, 'smoky': 1469, 'sam': 1470, 'movies': 1471, 'coombs': 1472, 'hygiene': 1473, 'jean': 1474, 'spaghetti': 1475, 'spearmint': 1476, 'checkups': 1477, 'gingerbread': 1478, 'cough': 1479, 'angel': 1480, 'allergic': 1481, 'mellow': 1482, 'lemonade': 1483, 'ahmad': 1484, 'hey': 1485, 'supreme': 1486, 'skin': 1487, 'success': 1488, 'smokey': 1489, 'lentil': 1490, 'kellogg': 1491, 'cubes': 1492, 'college': 1493, 'pearl': 1494, 'list': 1495, 'dipping': 1496, 'ranch': 1497, 'eggs': 1498, 'guilty': 1499, 'tropical': 1500, 'dirty': 1501, 'flat': 1502, 'oolong': 1503, 'bubble': 1504, 'comes': 1505, 'inedible': 1506, 'italy': 1507, 'chowder': 1508, 'england': 1509, 'savory': 1510, 'end': 1511, 'deliciously': 1512, 'pound': 1513, 'hits': 1514, 'sucralose': 1515, 'promised': 1516, 'grandma': 1517, 'sauces': 1518, 'sausage': 1519, 'favor': 1520, 'stopped': 1521, 'stock': 1522, 'pear': 1523, 'spread': 1524, 'dead': 1525, 'gums': 1526, 'walnut': 1527, 'decafe': 1528, 'ridiculous': 1529, 'twist': 1530, 'into': 1531, 'tad': 1532, 'kernels': 1533, 'nespresso': 1534, 'sun': 1535, 'filled': 1536, 'supplement': 1537, 'columbian': 1538, 'pets': 1539, 'reliable': 1540, 'tofu': 1541, 'lousy': 1542, 'delectable': 1543, 'personal': 1544, 'jamaica': 1545, 'action': 1546, 'girls': 1547, 'yourself': 1548, 'freeze': 1549, 'entertaining': 1550, 'let': 1551, 'might': 1552, 'worse': 1553, 'unbelievably': 1554, 'information': 1555, 'direct': 1556, 'fairly': 1557, 'fit': 1558, 'results': 1559, 'saffron': 1560, 'turkish': 1561, 'door': 1562, 'num': 1563, 'peppercorns': 1564, 'cheerios': 1565, 'ruined': 1566, 'label': 1567, 'xylitol': 1568, 'deceptive': 1569, 'nylabone': 1570, 'links': 1571, 'workout': 1572, 'missing': 1573, 'kiwi': 1574, 'blah': 1575, 'mighty': 1576, 'freshness': 1577, 'bugs': 1578, 'lady': 1579, 'pickle': 1580, 'multi': 1581, 'pocket': 1582, 'mandarin': 1583, 'ball': 1584, 'chihuahua': 1585, 'vet': 1586, 'madhava': 1587, 'kibble': 1588, 'vitamin': 1589, 'usual': 1590, 'oregon': 1591, 'primal': 1592, 'because': 1593, 'unpleasant': 1594, 'fall': 1595, 'master': 1596, 'petrodex': 1597, 'feast': 1598, 'jasmine': 1599, 'temptations': 1600, 'kitten': 1601, 'cappuccino': 1602, 'lifesavers': 1603, 'ass': 1604, 'pretzel': 1605, 'support': 1606, 'benefits': 1607, 'bloody': 1608, 'rolls': 1609, 'heinz': 1610, 'base': 1611, 'indulgence': 1612, 'munchies': 1613, 'liquor': 1614, 'consistently': 1615, 'aluminum': 1616, 'diets': 1617, 'break': 1618, 'trans': 1619, 'potent': 1620, 'colors': 1621, 'spray': 1622, 'crab': 1623, 'remembered': 1624, 'sweets': 1625, 'dust': 1626, 'poo': 1627, 'fried': 1628, 'someone': 1629, 'receive': 1630, 'martini': 1631, 'minutes': 1632, 'items': 1633, 'photo': 1634, 'penny': 1635, 'avoid': 1636, 'shells': 1637, 'um': 1638, 'thirst': 1639, 'toddlers': 1640, 'using': 1641, 'packets': 1642, 'rubber': 1643, 'tin': 1644, 'chinese': 1645, 'early': 1646, 'body': 1647, 'biscuit': 1648, 'revolution': 1649, 'offer': 1650, 'paper': 1651, 'brittle': 1652, 'children': 1653, 'however': 1654, 'grows': 1655, 'gives': 1656, 'mold': 1657, 'consistency': 1658, 'delighted': 1659, 'inside': 1660, 'directions': 1661, 'tell': 1662, 'chi': 1663, 'junk': 1664, 'guess': 1665, 'disposable': 1666, 'design': 1667, 'adds': 1668, 'annie': 1669, 'takes': 1670, 'ick': 1671, 'sucks': 1672, 'ew': 1673, 'twice': 1674, 'expresso': 1675, 'easiest': 1676, 'kill': 1677, 'anti': 1678, 'doctor': 1679, 'comfort': 1680, 'hoping': 1681, 'buds': 1682, 'canine': 1683, 'peppers': 1684, 'opinion': 1685, 'steaks': 1686, 'content': 1687, 'mistake': 1688, 'supermarket': 1689, 'decaffeinated': 1690, 'discs': 1691, 'ship': 1692, 'marzipan': 1693, 'sprouts': 1694, 'citrus': 1695, 'acidic': 1696, 'herb': 1697, 'link': 1698, 'eaters': 1699, 'probably': 1700, 'naturally': 1701, 'silk': 1702, 'transaction': 1703, 'four': 1704, 'digestive': 1705, 'sprinkles': 1706, 'pecans': 1707, 'southern': 1708, 'normal': 1709, 'caffeinated': 1710, 'veggies': 1711, 'ya': 1712, 'dolce': 1713, 'divine': 1714, 'hope': 1715, 'palm': 1716, 'mocha': 1717, 'enjoying': 1718, 'assam': 1719, 'switched': 1720, 'silky': 1721, 'increase': 1722, 'odor': 1723, 'addict': 1724, 'relax': 1725, 'costs': 1726, 'cranberries': 1727, 'sweetened': 1728, 'her': 1729, 'boys': 1730, 'wonder': 1731, 'harney': 1732, 'chewer': 1733, 'crap': 1734, 'within': 1735, 'cone': 1736, 'yeast': 1737, 'bare': 1738, 'send': 1739, 'habanero': 1740, 'heartland': 1741, 'eight': 1742, 'mangosteen': 1743, 'scent': 1744, 'donuts': 1745, 'favourite': 1746, 'hike': 1747, 'smoothie': 1748, 'pirate': 1749, 'stinky': 1750, 'cow': 1751, 'tacos': 1752, 'garden': 1753, 'chex': 1754, 'gustaf': 1755, 'buttery': 1756, 'mi': 1757, 'splenda': 1758, 'hoo': 1759, 'bouillon': 1760, 'twin': 1761, 'markers': 1762, 'zoe': 1763, 'twizzlers': 1764, 'weather': 1765, 'bright': 1766, 'wintergreen': 1767, 'correct': 1768, 'tootsie': 1769, 'reason': 1770, 'loaded': 1771, 'ounces': 1772, 'kept': 1773, 'city': 1774, 'bucks': 1775, 'adorable': 1776, 'traditional': 1777, 'melt': 1778, 'runny': 1779, 'garbanzo': 1780, 'rooibos': 1781, 'overall': 1782, 'flavour': 1783, 'dill': 1784, 'spam': 1785, 'healthful': 1786, 'custard': 1787, 'bird': 1788, 'lifesaver': 1789, 'sweetness': 1790, 'tic': 1791, 'inexpensive': 1792, 'fishy': 1793, 'worthy': 1794, 'hormel': 1795, 'unusual': 1796, 'soooooo': 1797, 'feeling': 1798, 'tops': 1799, 'basil': 1800, 'feed': 1801, 'goji': 1802, 'oily': 1803, 'exotic': 1804, 'hummus': 1805, 'yellow': 1806, 'finish': 1807, 'harbor': 1808, 'news': 1809, 'set': 1810, 'watchers': 1811, 'chocolately': 1812, 'jacks': 1813, 'difficult': 1814, 'season': 1815, 'subscription': 1816, 'dishes': 1817, 'graham': 1818, 'move': 1819, 'panda': 1820, 'fragrance': 1821, 'lunches': 1822, 'working': 1823, 'hours': 1824, 'celiac': 1825, 'especially': 1826, 'pickles': 1827, 'juniper': 1828, 'shakes': 1829, 'goooood': 1830, 'bitterness': 1831, 'apparently': 1832, 'vs': 1833, 'user': 1834, 'between': 1835, 'breaks': 1836, 'fussy': 1837, 'buffalo': 1838, 'crowd': 1839, 'dingo': 1840, 'shopping': 1841, 'soon': 1842, 'tulsi': 1843, 'mid': 1844, 'sugary': 1845, 'preservatives': 1846, 'oils': 1847, 'dash': 1848, 'plan': 1849, 'earthy': 1850, 'consumer': 1851, 'kracker': 1852, 'chocolatey': 1853, 'flamingo': 1854, 'brothers': 1855, 'smelled': 1856, 'lacking': 1857, 'pleasing': 1858, 'skittles': 1859, 'threw': 1860, 'usually': 1861, 'trail': 1862, 'popular': 1863, 'soap': 1864, 'holder': 1865, 'filters': 1866, 'kups': 1867, 'waiting': 1868, 'rating': 1869, 'ct': 1870, 'sold': 1871, 'preserves': 1872, 'capsules': 1873, 'fly': 1874, 'reasonably': 1875, 'roses': 1876, 'pepperoni': 1877, 'bistro': 1878, 'head': 1879, 'fondant': 1880, 'paprika': 1881, 'neat': 1882, 'pig': 1883, 'cha': 1884, 'heartburn': 1885, 'cooked': 1886, 'brilliant': 1887, 'brings': 1888, 'mtn': 1889, 'enhancer': 1890, 'tooth': 1891, 'gfcf': 1892, 'thins': 1893, 'salted': 1894, 'dieting': 1895, 'phenomenal': 1896, 'notch': 1897, 'slim': 1898, 'desert': 1899, 'drawer': 1900, 'stand': 1901, 'tray': 1902, 'goodies': 1903, 'rated': 1904, 'yorkie': 1905, 'dangerous': 1906, 'essential': 1907, 'loa': 1908, 'decaffinated': 1909, 'tazo': 1910, 'rubbery': 1911, 'pills': 1912, 'zing': 1913, 'loving': 1914, 'rings': 1915, 'ale': 1916, 'tool': 1917, 'nuggets': 1918, 'during': 1919, 'upset': 1920, 'maltese': 1921, 'reward': 1922, 'goya': 1923, 'im': 1924, 'finest': 1925, 'aweful': 1926, 'town': 1927, 'blackberry': 1928, 'lo': 1929, 'boot': 1930, 'gnats': 1931, 'contain': 1932, 'smelly': 1933, 'packet': 1934, 'british': 1935, 'kicking': 1936, 'cupcakes': 1937, 'household': 1938, 'pouches': 1939, 'bring': 1940, 'larger': 1941, 'worlds': 1942, 'caramels': 1943, 'cuisine': 1944, 'coat': 1945, 'cleaner': 1946, 'equal': 1947, 'swedish': 1948, 'test': 1949, 'zevia': 1950, 'ii': 1951, 'ready': 1952, 'sleep': 1953, 'mush': 1954, 'fizz': 1955, 'vegans': 1956, 'oral': 1957, 'navitas': 1958, 'st': 1959, 'holy': 1960, 'colman': 1961, 'kidding': 1962, 'ride': 1963, 'poppy': 1964, 'bagged': 1965, 'pears': 1966, 'met': 1967, 'monster': 1968, 'auto': 1969, 'animal': 1970, 'couscous': 1971, 'pace': 1972, 'yoo': 1973, 'ring': 1974, 'yr': 1975, 'carry': 1976, 'satisfaction': 1977, 'return': 1978, 'california': 1979, 'hi': 1980, 'wonders': 1981, 'golean': 1982, 'saeco': 1983, 'dinosaur': 1984, 'select': 1985, 'jell': 1986, 'sad': 1987, 'gag': 1988, 'since': 1989, 'slice': 1990, 'near': 1991, 'barbeque': 1992, 'extreme': 1993, 'ripped': 1994, 'shrimp': 1995, 'additive': 1996, 'arrival': 1997, 'specialty': 1998, 'recomended': 1999, 'moms': 2000, 'ideal': 2001, 'fructose': 2002, 'nicely': 2003, 'coating': 2004, 'medicinal': 2005, 'nibs': 2006, 'sweeter': 2007, 'topping': 2008, 'road': 2009, 'tons': 2010, 'ww': 2011, 'game': 2012, 'craving': 2013, 'melts': 2014, 'ships': 2015, 'yummie': 2016, 'proof': 2017, 'saves': 2018, 'rotten': 2019, 'acquired': 2020, 'stonewall': 2021, 'jiffy': 2022, 'plum': 2023, 'extraordinary': 2024, 'muffin': 2025, 'mahogany': 2026, 'poorly': 2027, 'alert': 2028, 'flies': 2029, 'iams': 2030, 'savers': 2031, 'island': 2032, 'vegetables': 2033, 'soul': 2034, 'escapes': 2035, 'ages': 2036, 'compared': 2037, 'libby': 2038, 'lost': 2039, 'forever': 2040, 'follow': 2041, 'grahams': 2042, 'skip': 2043, 'buzz': 2044, 'tortillas': 2045, 'pickled': 2046, 'inconsistent': 2047, 'feels': 2048, 'cheapest': 2049, 'celiacs': 2050, 'stix': 2051, 'fans': 2052, 'acceptable': 2053, 'dirt': 2054, 'above': 2055, 'topper': 2056, 'digestion': 2057, 'alternatives': 2058, 'range': 2059, 'sinus': 2060, 'fuel': 2061, 'skinny': 2062, 'margarita': 2063, 'rum': 2064, 'passion': 2065, 'dulce': 2066, 'leche': 2067, 'yerba': 2068, 'oat': 2069, 'cajun': 2070, 'harvest': 2071, 'hydration': 2072, 'options': 2073, 'carrots': 2074, 'favors': 2075, 'hemp': 2076, 'blackstrap': 2077, 'runs': 2078, 'basically': 2079, 'wings': 2080, 'jerkey': 2081, 'ripoff': 2082, 'nana': 2083, 'carbonated': 2084, 'overly': 2085, 'lame': 2086, 'horribly': 2087, 'fluffy': 2088, 'slimy': 2089, 'munch': 2090, 'sunbutter': 2091, 'trap': 2092, 'meaty': 2093, 'olds': 2094, 'bakery': 2095, 'honest': 2096, 'calming': 2097, 'causes': 2098, 'helped': 2099, 'often': 2100, 'drive': 2101, 'sealed': 2102, 'sale': 2103, 'vienna': 2104, 'defective': 2105, 'possible': 2106, 'overpowering': 2107, 'oro': 2108, 'oatcakes': 2109, 'unhealthy': 2110, 'bait': 2111, 'lowery': 2112, 'ten': 2113, 'tails': 2114, 'whiskas': 2115, 'hell': 2116, 'answer': 2117, 'insanely': 2118, 'joint': 2119, 'toast': 2120, 'wedding': 2121, 'gorgeous': 2122, 'grind': 2123, 'spectacular': 2124, 'issue': 2125, 'oberto': 2126, 'jim': 2127, 'decadence': 2128, 'killer': 2129, 'jumbo': 2130, 'higher': 2131, 'silver': 2132, 'sesmark': 2133, 'ceylon': 2134, 'stew': 2135, 'texas': 2136, 'hazelnuts': 2137, 'prune': 2138, 'mauna': 2139, 'paul': 2140, 'turn': 2141, 'anchovies': 2142, 'strawberries': 2143, 'cornbread': 2144, 'mine': 2145, 'relatively': 2146, 'giving': 2147, 'freezer': 2148, 'crappy': 2149, 'peppery': 2150, 'broccoli': 2151, 'cola': 2152, 'note': 2153, 'pistachios': 2154, 'glutino': 2155, 'shiny': 2156, 'trick': 2157, 'class': 2158, 'balls': 2159, 'pro': 2160, 'cincinnati': 2161, 'dollar': 2162, 'peachy': 2163, 'starts': 2164, 'total': 2165, 'portable': 2166, 'breathe': 2167, 'monin': 2168, 'obsessed': 2169, 'gelatin': 2170, 'twins': 2171, 'celsius': 2172, 'bergamot': 2173, 'wierd': 2174, 'crave': 2175, 'subtle': 2176, 'meet': 2177, 'gatorade': 2178, 'poodle': 2179, 'sharp': 2180, 'caffe': 2181, 'friskies': 2182, 'mcvities': 2183, 'aspartame': 2184, 'shih': 2185, 'tzu': 2186, 'interested': 2187, 'nori': 2188, 'bowls': 2189, 'expiry': 2190, 'healthiest': 2191, 'fab': 2192, 'duck': 2193, 'jump': 2194, 'flower': 2195, 'hold': 2196, 'boring': 2197, 'funky': 2198, 'brulee': 2199, 'joy': 2200, 'paw': 2201, 'giant': 2202, 'mama': 2203, 'system': 2204, 'cereals': 2205, 'finger': 2206, 'immune': 2207, 'kili': 2208, 'theatre': 2209, 'friends': 2210, 'zip': 2211, 'today': 2212, 'enchilada': 2213, 'labeling': 2214, 'pain': 2215, 'snow': 2216, 'cones': 2217, 'boston': 2218, 'tastiest': 2219, 'nerds': 2220, 'improved': 2221, 'matter': 2222, 'shaved': 2223, 'jolly': 2224, 'virgin': 2225, 'worthless': 2226, 'traveling': 2227, 'opening': 2228, 'horse': 2229, 'ups': 2230, 'peel': 2231, 'smashed': 2232, 'chopped': 2233, 'birds': 2234, 'drinkable': 2235, 'musty': 2236, 'zipfizz': 2237, 'effect': 2238, 'pounds': 2239, 'ambrosia': 2240, 'kombucha': 2241, 'buckwheat': 2242, 'win': 2243, 'pies': 2244, 'knorr': 2245, 'thrilled': 2246, 'ella': 2247, 'lift': 2248, 'fart': 2249, 'gouging': 2250, 'candied': 2251, 'questionable': 2252, 'planters': 2253, 'keebler': 2254, 'costa': 2255, 'fatty': 2256, 'paleo': 2257, 'gerber': 2258, 'fig': 2259, 'squirrels': 2260, 'expecting': 2261, 'bedtime': 2262, 'superfood': 2263, 'gummis': 2264, 'prime': 2265, 'mallomars': 2266, 'applesauce': 2267, 'mozzarella': 2268, 'act': 2269, 'smoker': 2270, 'farm': 2271, 'advertisement': 2272, 'del': 2273, 'bell': 2274, 'yorkshire': 2275, 'mexico': 2276, 'containers': 2277, 'mixer': 2278, 'chops': 2279, 'tested': 2280, 'toasted': 2281, 'teething': 2282, 'famous': 2283, 'slight': 2284, 'firm': 2285, 'unsalted': 2286, 'lips': 2287, 'plocky': 2288, 'frosting': 2289, 'gmo': 2290, 'don': 2291, 'speedy': 2292, 'choclate': 2293, 'presentation': 2294, 'human': 2295, 'bomb': 2296, 'asian': 2297, 'student': 2298, 'uncle': 2299, 'kosher': 2300, 'trade': 2301, 'happily': 2302, 'biscotti': 2303, 'easter': 2304, 'attractive': 2305, 'culinary': 2306, 'restaurant': 2307, 'entree': 2308, 'juicy': 2309, 'penne': 2310, 'rule': 2311, 'definately': 2312, 'post': 2313, 'hidden': 2314, 'cheetos': 2315, 'condiment': 2316, 'brewers': 2317, 'website': 2318, 'lacks': 2319, 'itself': 2320, 'fl': 2321, 'piece': 2322, 'nutrient': 2323, 'rishi': 2324, 'dough': 2325, 'either': 2326, 'ehh': 2327, 'flaxseed': 2328, 'mona': 2329, 'lisa': 2330, 'pepsi': 2331, 'poppin': 2332, 'kernals': 2333, 'possibly': 2334, 'yummers': 2335, 'seaweed': 2336, 'term': 2337, 'orbit': 2338, 'carrying': 2339, 'grainy': 2340, 'plenty': 2341, 'produce': 2342, 'drinkers': 2343, 'puffed': 2344, 'along': 2345, 'nummy': 2346, 'grandkids': 2347, 'complain': 2348, 'grapefruit': 2349, 'dane': 2350, 'restaurants': 2351, 'cofee': 2352, 'users': 2353, 'shower': 2354, 'sells': 2355, 'ole': 2356, 'evening': 2357, 'remarkable': 2358, 'cameron': 2359, 'danger': 2360, 'cause': 2361, 'dogfood': 2362, 'reviewer': 2363, 'colombian': 2364, 'buster': 2365, 'upon': 2366, 'tip': 2367, 'lids': 2368, 'intense': 2369, 'smoothest': 2370, 'shocked': 2371, 'plump': 2372, 'internet': 2373, 'pugs': 2374, 'batter': 2375, 'sweeteners': 2376, 'spinach': 2377, 'chutney': 2378, 'jittery': 2379, 'utterly': 2380, 'iron': 2381, 'lemons': 2382, 'risotto': 2383, 'freshly': 2384, 'sodas': 2385, 'refreshment': 2386, 'costly': 2387, 'error': 2388, 'via': 2389, 'shaped': 2390, 'gooood': 2391, 'impressive': 2392, 'daughters': 2393, 'unpopped': 2394, 'chamomile': 2395, 'doh': 2396, 'fantabulous': 2397, 'happier': 2398, 'batman': 2399, 'customers': 2400, 'bang': 2401, 'tastic': 2402, 'feeding': 2403, 'cheesecake': 2404, 'oreos': 2405, 'wrapped': 2406, 'kisses': 2407, 'nescafe': 2408, 'availability': 2409, 'discovery': 2410, 'koma': 2411, 'doesnt': 2412, 'glass': 2413, 'ear': 2414, 'weeks': 2415, 'dee': 2416, 'agar': 2417, 'mug': 2418, 'stronger': 2419, 'hardly': 2420, 'imported': 2421, 'hype': 2422, 'trip': 2423, 'actual': 2424, 'exciting': 2425, 'seemed': 2426, 'folger': 2427, 'popped': 2428, 'horrid': 2429, 'understand': 2430, 'rinse': 2431, 'amy': 2432, 'delicioso': 2433, 'cane': 2434, 'reduced': 2435, 'final': 2436, 'cravings': 2437, 'missed': 2438, 'krusteaz': 2439, 'halves': 2440, 'barry': 2441, 'buck': 2442, 'pay': 2443, 'baker': 2444, 'bet': 2445, 'sugarless': 2446, 'round': 2447, 'sinfully': 2448, 'typical': 2449, 'spike': 2450, 'tins': 2451, 'chemicals': 2452, 'stinks': 2453, 'mounds': 2454, 'watered': 2455, 'dachshund': 2456, 'dent': 2457, 'knew': 2458, 'zen': 2459, 'supplier': 2460, 'intended': 2461, 'cracked': 2462, 'confused': 2463, 'selling': 2464, 'discount': 2465, 'cavender': 2466, 'unreal': 2467, 'labrada': 2468, 'protien': 2469, 'emergency': 2470, 'choices': 2471, 'leaky': 2472, 'ease': 2473, 'emerils': 2474, 'land': 2475, 'commercial': 2476, 'watering': 2477, 'galil': 2478, 'cardamom': 2479, 'evoo': 2480, 'seafood': 2481, 'fusion': 2482, 'lasagna': 2483, 'resist': 2484, 'forget': 2485, 'dunkin': 2486, 'promptly': 2487, 'empty': 2488, 'washed': 2489, 'guys': 2490, 'dick': 2491, 'cure': 2492, 'lasted': 2493, 'rather': 2494, 'pitcher': 2495, 'gusto': 2496, 'coming': 2497, 'mexican': 2498, 'helpful': 2499, 'merrick': 2500, 'enjoys': 2501, 'stomachs': 2502, 'delights': 2503, 'nutella': 2504, 'sangria': 2505, 'mocafe': 2506, 'relaxation': 2507, 'loss': 2508, 'lowfat': 2509, 'grown': 2510, 'bow': 2511, 'sooner': 2512, 'finishing': 2513, 'nope': 2514, 'environmentally': 2515, 'jimmies': 2516, 'purple': 2517, 'branston': 2518, 'caps': 2519, 'fenugreek': 2520, 'tartar': 2521, 'forward': 2522, 'triplets': 2523, 'portions': 2524, 'figs': 2525, 'beach': 2526, 'having': 2527, 'petite': 2528, 'speaking': 2529, 'mystery': 2530, 'galore': 2531, 'expire': 2532, 'senior': 2533, 'supply': 2534, 'wont': 2535, 'glycemic': 2536, 'treasure': 2537, 'sturdy': 2538, 'rope': 2539, 'labs': 2540, 'useful': 2541, 'attention': 2542, 'russell': 2543, 'twix': 2544, 'papaya': 2545, 'goods': 2546, 'already': 2547, 'th': 2548, 'lighter': 2549, 'kirkland': 2550, 'rate': 2551, 'favs': 2552, 'kuerig': 2553, 'points': 2554, 'popchip': 2555, 'yam': 2556, 'solo': 2557, 'supper': 2558, 'ziwi': 2559, 'gobbled': 2560, 'cocaine': 2561, 'death': 2562, 'puzzle': 2563, 'hide': 2564, 'macaroni': 2565, 'accurate': 2566, 'droste': 2567, 'betty': 2568, 'crocker': 2569, 'mayo': 2570, 'salami': 2571, 'crema': 2572, 'lentils': 2573, 'huckleberry': 2574, 'happybellies': 2575, 'cooks': 2576, 'sip': 2577, 'business': 2578, 'navy': 2579, 'chilli': 2580, 'bounty': 2581, 'ewwww': 2582, 'canola': 2583, 'revv': 2584, 'pulse': 2585, 'girlfriend': 2586, 'pea': 2587, 'cross': 2588, 'keeping': 2589, 'progresso': 2590, 'vodka': 2591, 'search': 2592, 'sparkling': 2593, 'exellent': 2594, 'badly': 2595, 'marvelous': 2596, 'trust': 2597, 'cleanse': 2598, 'cap': 2599, 'bummer': 2600, 'trader': 2601, 'chewies': 2602, 'hcg': 2603, 'tullys': 2604, 'john': 2605, 'enzymatic': 2606, 'rain': 2607, 'comparison': 2608, 'whoa': 2609, 'teavana': 2610, 'fresher': 2611, 'blues': 2612, 'booster': 2613, 'healty': 2614, 'tastier': 2615, 'hersheys': 2616, 'spit': 2617, 'antioxidants': 2618, 'brookside': 2619, 'torrone': 2620, 'london': 2621, 'grill': 2622, 'ugly': 2623, 'sweeten': 2624, 'delightfully': 2625, 'wheatgrass': 2626, 'shipper': 2627, 'charm': 2628, 'carmel': 2629, 'leaking': 2630, 'toys': 2631, 'writing': 2632, 'dated': 2633, 'que': 2634, 'wicked': 2635, 'opened': 2636, 'dissolves': 2637, 'snaps': 2638, 'week': 2639, 'malt': 2640, 'coca': 2641, 'saltines': 2642, 'relish': 2643, 'rabbit': 2644, 'crystals': 2645, 'sitting': 2646, 'view': 2647, 'pug': 2648, 'hunger': 2649, 'arrangement': 2650, 'weruva': 2651, 'pom': 2652, 'snap': 2653, 'melissa': 2654, 'calcium': 2655, 'onions': 2656, 'automatic': 2657, 'issimo': 2658, 'gems': 2659, 'ravioli': 2660, 'pectin': 2661, 'mushroom': 2662, 'lara': 2663, 'gout': 2664, 'lakewood': 2665, 'pipes': 2666, 'dandruff': 2667, 'nifty': 2668, 'tapioca': 2669, 'lickety': 2670, 'elk': 2671, 'sell': 2672, 'guests': 2673, 'wise': 2674, 'asparagus': 2675, 'face': 2676, 'heads': 2677, 'paid': 2678, 'smalls': 2679, 'sugarfree': 2680, 'nearly': 2681, 'killed': 2682, 'tub': 2683, 'chick': 2684, 'tang': 2685, 'palate': 2686, 'paint': 2687, 'pocky': 2688, 'mueslix': 2689, 'kelloggs': 2690, 'winning': 2691, 'ray': 2692, 'powdery': 2693, 'rave': 2694, 'metallic': 2695, 'inch': 2696, 'able': 2697, 'unimpressed': 2698, 'stuffed': 2699, 'tac': 2700, 'aunt': 2701, 'reorder': 2702, 'snacker': 2703, 'satisfy': 2704, 'facts': 2705, 'backup': 2706, 'dubble': 2707, 'baba': 2708, 'cento': 2709, 'below': 2710, 'runner': 2711, 'splash': 2712, 'southwest': 2713, 'chiclets': 2714, 'purchaser': 2715, 'wabash': 2716, 'clams': 2717, 'camper': 2718, 'chilled': 2719, 'skins': 2720, 'show': 2721, 'refused': 2722, 'hodgson': 2723, 'undrinkable': 2724, 'teabags': 2725, 'known': 2726, 'tacs': 2727, 'graet': 2728, 'doubt': 2729, 'barbecue': 2730, 'brewed': 2731, 'crisco': 2732, 'sausages': 2733, 'gallon': 2734, 'produced': 2735, 'stocking': 2736, 'brainer': 2737, 'sardine': 2738, 'mayonnaise': 2739, 'until': 2740, 'mic': 2741, 'lobster': 2742, 'bully': 2743, 'fingers': 2744, 'surprising': 2745, 'twists': 2746, 'unremarkable': 2747, 'subsitute': 2748, 'considering': 2749, 'apart': 2750, 'ultra': 2751, 'wasa': 2752, 'dachshunds': 2753, 'princess': 2754, 'smokies': 2755, 'shots': 2756, 'goo': 2757, 'mentos': 2758, 'closer': 2759, 'peppered': 2760, 'terribly': 2761, 'fennel': 2762, 'mega': 2763, 'pk': 2764, 'ignored': 2765, 'hawaii': 2766, 'carob': 2767, 'hydrogenated': 2768, 'south': 2769, 'dinners': 2770, 'stink': 2771, 'economical': 2772, 'lives': 2773, 'lip': 2774, 'form': 2775, 'thinks': 2776, 'buffet': 2777, 'logic': 2778, 'misrepresented': 2779, 'chocolaty': 2780, 'recommendation': 2781, 'freakin': 2782, 'snyder': 2783, 'hanover': 2784, 'million': 2785, 'sees': 2786, 'hickory': 2787, 'net': 2788, 'nanas': 2789, 'chives': 2790, 'syrupy': 2791, 'champagne': 2792, 'spritzer': 2793, 'makers': 2794, 'throw': 2795, 'trial': 2796, 'anticipated': 2797, 'burning': 2798, 'took': 2799, 'natures': 2800, 'pumkin': 2801, 'bueno': 2802, 'cayenne': 2803, 'showed': 2804, 'venus': 2805, 'lived': 2806, 'polenta': 2807, 'scam': 2808, 'infant': 2809, 'digest': 2810, 'butterfinger': 2811, 'shepherd': 2812, 'purina': 2813, 'rescue': 2814, 'mind': 2815, 'pigs': 2816, 'poison': 2817, 'vomiting': 2818, 'vidalia': 2819, 'animals': 2820, 'spirit': 2821, 'aloha': 2822, 'rodeo': 2823, 'wolf': 2824, 'further': 2825, 'oranges': 2826, 'recieved': 2827, 'classy': 2828, 'parties': 2829, 'fooled': 2830, 'rumford': 2831, 'mberry': 2832, 'definite': 2833, 'cinn': 2834, 'ch': 2835, 'doubled': 2836, 'shabby': 2837, 'sliced': 2838, 'nights': 2839, 'husbands': 2840, 'minute': 2841, 'campbell': 2842, 'cleansing': 2843, 'detox': 2844, 'satisfies': 2845, 'headache': 2846, 'lovin': 2847, 'glucosamine': 2848, 'gano': 2849, 'river': 2850, 'allergen': 2851, 'passable': 2852, 'leather': 2853, 'postage': 2854, 'anise': 2855, 'listing': 2856, 'fool': 2857, 'turtle': 2858, 'rates': 2859, 'bath': 2860, 'under': 2861, 'immediately': 2862, 'whatsoever': 2863, 'returns': 2864, 'germany': 2865, 'fragile': 2866, 'addictively': 2867, 'macadamias': 2868, 'recovery': 2869, 'previous': 2870, 'stuffer': 2871, 'distinctive': 2872, 'altoid': 2873, 'crumby': 2874, 'gi': 2875, 'treacle': 2876, 'bandito': 2877, 'oak': 2878, 'halloween': 2879, 'european': 2880, 'coffeee': 2881, 'everytime': 2882, 'preference': 2883, 'chipped': 2884, 'japan': 2885, 'herring': 2886, 'tastless': 2887, 'instructions': 2888, 'canada': 2889, 'pearls': 2890, 'stuffing': 2891, 'faster': 2892, 'shape': 2893, 'improvement': 2894, 'cleaning': 2895, 'breakage': 2896, 'situation': 2897, 'international': 2898, 'ibs': 2899, 'bam': 2900, 'increases': 2901, 'chicory': 2902, 'faulty': 2903, 'ways': 2904, 'inconsistant': 2905, 'ho': 2906, 'hum': 2907, 'sandwiches': 2908, 'transit': 2909, 'sencha': 2910, 'chunk': 2911, 'stays': 2912, 'young': 2913, 'sub': 2914, 'par': 2915, 'amber': 2916, 'imho': 2917, 'dance': 2918, 'diappointed': 2919, 'carefully': 2920, 'bisto': 2921, 'asked': 2922, 'gimborn': 2923, 'chihuahuas': 2924, 'seasons': 2925, 'dynamite': 2926, 'highest': 2927, 'wasteful': 2928, 'turtles': 2929, 'underwhelmed': 2930, 'coach': 2931, 'canadian': 2932, 'caused': 2933, 'important': 2934, 'charms': 2935, 'bubbles': 2936, 'un': 2937, 'melon': 2938, 'cheezies': 2939, 'deee': 2940, 'cooler': 2941, 'mat': 2942, 'sams': 2943, 'calling': 2944, 'colorado': 2945, 'avoderm': 2946, 'granulated': 2947, 'frog': 2948, 'frogs': 2949, 'play': 2950, 'bug': 2951, 'walkers': 2952, 're': 2953, 'cody': 2954, 'maldon': 2955, 'instinct': 2956, 'everywhere': 2957, 'homestyle': 2958, 'effects': 2959, 'vitamins': 2960, 'doing': 2961, 'smoking': 2962, 'icing': 2963, 'baronet': 2964, 'african': 2965, 'straws': 2966, 'occasions': 2967, 'site': 2968, 'gin': 2969, 'bitters': 2970, 'speed': 2971, 'wheel': 2972, 'didnt': 2973, 'twang': 2974, 'useless': 2975, 'main': 2976, 'ink': 2977, 'incomplete': 2978, 'bentley': 2979, 'chow': 2980, 'est': 2981, 'oriental': 2982, 'perfume': 2983, 'litter': 2984, 'lemony': 2985, 'cloves': 2986, 'parts': 2987, 'seals': 2988, 'unsweetened': 2989, 'eden': 2990, 'digestives': 2991, 'terrier': 2992, 'pak': 2993, 'guy': 2994, 'pooch': 2995, 'competitive': 2996, 'boxer': 2997, 'devour': 2998, 'granny': 2999, 'softer': 3000, 'bundle': 3001, 'recipient': 3002, 'husky': 3003, 'entertainment': 3004, 'energetic': 3005, 'continues': 3006, 'ouch': 3007, 'destroyed': 3008, 'keeper': 3009, 'bottom': 3010, 'nido': 3011, 'chun': 3012, 'shown': 3013, 'warned': 3014, 'sooooooo': 3015, 'enery': 3016, 'afternoon': 3017, 'chop': 3018, 'nacho': 3019, 'everybody': 3020, 'hfcs': 3021, 'retail': 3022, 'carrot': 3023, 'handful': 3024, 'triple': 3025, 'recall': 3026, 'lol': 3027, 'insane': 3028, 'discontinued': 3029, 'belts': 3030, 'dutch': 3031, 'cosmic': 3032, 'baklava': 3033, 'mail': 3034, 'fits': 3035, 'snake': 3036, 'taylor': 3037, 'foul': 3038, 'booda': 3039, 'pastas': 3040, 'bellies': 3041, 'ghost': 3042, 'emergen': 3043, 'creek': 3044, 'individually': 3045, 'indoor': 3046, 'tube': 3047, 'collection': 3048, 'web': 3049, 'lammy': 3050, 'crispbread': 3051, 'exp': 3052, 'lightly': 3053, 'purse': 3054, 'yogourmet': 3055, 'couple': 3056, 'lindor': 3057, 'hooray': 3058, 'smarties': 3059, 'chalky': 3060, 'sage': 3061, 'laces': 3062, 'stains': 3063, 'scout': 3064, 'russian': 3065, 'hello': 3066, 'masala': 3067, 'closest': 3068, 'aloe': 3069, 'burst': 3070, 'wafer': 3071, 'sprouted': 3072, 'nephew': 3073, 'exact': 3074, 'saved': 3075, 'chebe': 3076, 'dave': 3077, 'quinoa': 3078, 'popping': 3079, 'mon': 3080, 'lively': 3081, 'hassle': 3082, 'bagels': 3083, 'sadly': 3084, 'wax': 3085, 'dude': 3086, 'fond': 3087, 'demand': 3088, 'rye': 3089, 'grilled': 3090, 'compare': 3091, 'sore': 3092, 'seconds': 3093, 'yams': 3094, 'farmer': 3095, 'yup': 3096, 'mills': 3097, 'wtf': 3098, 'age': 3099, 'maui': 3100, 'bees': 3101, 'bee': 3102, 'rockin': 3103, 'thanksgiving': 3104, 'rocky': 3105, 'alot': 3106, 'ovaltine': 3107, 'xtra': 3108, 'lollypops': 3109, 'clump': 3110, 'safer': 3111, 'suckers': 3112, 'law': 3113, 'pregnancy': 3114, 'loyal': 3115, 'breast': 3116, 'angry': 3117, 'amore': 3118, 'virbac': 3119, 'aware': 3120, 'necessary': 3121, 'pesto': 3122, 'bye': 3123, 'talk': 3124, 'addicts': 3125, 'breads': 3126, 'gras': 3127, 'crumbly': 3128, 'dietary': 3129, 'fashioned': 3130, 'pr': 3131, 'semi': 3132, 'outside': 3133, 'cupcake': 3134, 'mania': 3135, 'leonidas': 3136, 'handling': 3137, 'saladitos': 3138, 'campbells': 3139, 'ghiradelli': 3140, 'thailand': 3141, 'frantoia': 3142, 'welcome': 3143, 'graber': 3144, 'moroccan': 3145, 'waxy': 3146, 'ky': 3147, 'florentine': 3148, 'eye': 3149, 'elegant': 3150, 'goof': 3151, 'sparingly': 3152, 'hash': 3153, 'supposed': 3154, 'potassium': 3155, 'failed': 3156, 'convient': 3157, 'arrowhead': 3158, 'pleases': 3159, 'active': 3160, 'smoke': 3161, 'pedigree': 3162, 'dentastix': 3163, 'camping': 3164, 'breadsticks': 3165, 'hairball': 3166, 'numi': 3167, 'sunmaid': 3168, 'diarrhea': 3169, 'pour': 3170, 'chocula': 3171, 'official': 3172, 'velvet': 3173, 'beets': 3174, 'crystallized': 3175, 'leading': 3176, 'bowser': 3177, 'harsh': 3178, 'kiddos': 3179, 'repellant': 3180, 'pens': 3181, 'florida': 3182, 'bulbs': 3183, 'smoother': 3184, 'washington': 3185, 'dishonest': 3186, 'remedy': 3187, 'fantastico': 3188, 'zesty': 3189, 'uk': 3190, 'owner': 3191, 'inn': 3192, 'sweat': 3193, 'artifical': 3194, 'despite': 3195, 'habit': 3196, 'wasted': 3197, 've': 3198, 'petco': 3199, 'rawhides': 3200, 'yoohoo': 3201, 'aspen': 3202, 'mochas': 3203, 'disc': 3204, 'maruchan': 3205, 'deluxe': 3206, 'sport': 3207, 'influenster': 3208, 'wisconsin': 3209, 'trying': 3210, 'lose': 3211, 'maki': 3212, 'cider': 3213, 'garibaldi': 3214, 'rounds': 3215, 'adore': 3216, 'looked': 3217, 'pu': 3218, 'erh': 3219, 'each': 3220, 'newtons': 3221, 'import': 3222, 'gogo': 3223, 'dumb': 3224, 'sprinkle': 3225, 'memory': 3226, 'freshest': 3227, 'cheeze': 3228, 'rican': 3229, 'means': 3230, 'due': 3231, 'leaked': 3232, 'machines': 3233, 'lickin': 3234, 'utz': 3235, 'burned': 3236, 'card': 3237, 'preferred': 3238, 'vitality': 3239, 'frontier': 3240, 'exquisite': 3241, 'vegetarians': 3242, 'dollars': 3243, 'fuji': 3244, 'skyline': 3245, 'carr': 3246, 'alba': 3247, 'americolor': 3248, 'di': 3249, 'muesli': 3250, 'puff': 3251, 'kudos': 3252, 'fountain': 3253, 'butt': 3254, 'cotton': 3255, 'nabisco': 3256, 'somewhere': 3257, 'moving': 3258, 'lapsang': 3259, 'souchong': 3260, 'welch': 3261, 'starburst': 3262, 'growing': 3263, 'lundberg': 3264, 'satisified': 3265, 'nutri': 3266, 'excited': 3267, 'kittens': 3268, 'mg': 3269, 'fondue': 3270, 'thunder': 3271, 'luvs': 3272, 'blonde': 3273, 'veranda': 3274, 'bisque': 3275, 'mis': 3276, 'rashers': 3277, 'conditioner': 3278, 'acai': 3279, 'funbites': 3280, 'minicongo': 3281, 'baskets': 3282, 'quadratini': 3283, 'fear': 3284, 'writer': 3285, 'bariani': 3286, 'ackee': 3287, 'veri': 3288, 'sours': 3289, 'al': 3290, 'brit': 3291, 'mulberry': 3292, 'antler': 3293, 'mareblu': 3294, 'dinosaurs': 3295, 'pappy': 3296, 'glug': 3297, 'hugger': 3298, 'kickin': 3299, 'target': 3300, 'electrolytes': 3301, 'cramps': 3302, 'haven': 3303, 'tartlets': 3304, 'holistic': 3305, 'burns': 3306, 'ehhh': 3307, 'runts': 3308, 'marley': 3309, 'furniture': 3310, 'polish': 3311, 'yummier': 3312, 'oyster': 3313, 'salts': 3314, 'delisious': 3315, 'knees': 3316, 'crunchiness': 3317, 'madhouse': 3318, 'fluid': 3319, 'replacing': 3320, 'music': 3321, 'smokin': 3322, 'drain': 3323, 'steam': 3324, 'kikkoman': 3325, 'canin': 3326, 'wary': 3327, 'toss': 3328, 'geat': 3329, 'pioneer': 3330, 'eco': 3331, 'babka': 3332, 'jeremiah': 3333, 'reaction': 3334, 'excessive': 3335, 'gritty': 3336, 'jolokia': 3337, 'weaker': 3338, 'bisphenol': 3339, 'tho': 3340, 'lifestyle': 3341, 'yorkiepoo': 3342, 'flu': 3343, 'deeee': 3344, 'creations': 3345, 'compleats': 3346, 'unpopular': 3347, 'da': 3348, 'fibergourmet': 3349, 'revolting': 3350, 'yummies': 3351, 'deeelicious': 3352, 'entire': 3353, 'apo': 3354, 'zippy': 3355, 'partially': 3356, 'overrated': 3357, 'counter': 3358, 'morton': 3359, 'starting': 3360, 'scratch': 3361, 'processed': 3362, 'unavailable': 3363, 'tot': 3364, 'wu': 3365, 'yi': 3366, 'ol': 3367, 'tahini': 3368, 'smokers': 3369, 'iv': 3370, 'dop': 3371, 'marzano': 3372, 'shows': 3373, 'conversation': 3374, 'dispenser': 3375, 'marathon': 3376, 'wonka': 3377, 'caf': 3378, 'cozy': 3379, 'smooooth': 3380, 'gravel': 3381, 'convienent': 3382, 'caveat': 3383, 'dissappointed': 3384, 'dropped': 3385, 'plane': 3386, 'sheltie': 3387, 'adores': 3388, 'dipped': 3389, 'cakesters': 3390, 'minced': 3391, 'told': 3392, 'seasoned': 3393, 'occassions': 3394, 'grand': 3395, 'excellence': 3396, 'particularly': 3397, 'additions': 3398, 'puroast': 3399, 'spring': 3400, 'arsenic': 3401, 'devine': 3402, 'cocolate': 3403, 'coffeemate': 3404, 'listened': 3405, 'fats': 3406, 'soso': 3407, 'downright': 3408, 'isnt': 3409, 'outthere': 3410, 'reminds': 3411, 'deelish': 3412, 'lazzaroni': 3413, 'woeber': 3414, 'pal': 3415, 'ideas': 3416, 'meats': 3417, 'shortening': 3418, 'painful': 3419, 'hannah': 3420, 'among': 3421, 'alive': 3422, 'roxy': 3423, 'fill': 3424, 'dissatisfied': 3425, 'beaver': 3426, 'compatible': 3427, 'windows': 3428, 'deliver': 3429, 'volume': 3430, 'icicle': 3431, 'several': 3432, 'godsend': 3433, 'indigestion': 3434, 'snickerdoodles': 3435, 'inferior': 3436, 'gram': 3437, 'toothpicks': 3438, 'felt': 3439, 'india': 3440, 'football': 3441, 'nutter': 3442, 'experimental': 3443, 'vials': 3444, 'risk': 3445, 'amazingness': 3446, 'provided': 3447, 'ener': 3448, 'corgi': 3449, 'kavli': 3450, 'kobe': 3451, 'wilton': 3452, 'golf': 3453, 'pat': 3454, 'shiba': 3455, 'satisfactory': 3456, 'ethical': 3457, 'loses': 3458, 'skeptical': 3459, 'bills': 3460, 'chardonnay': 3461, 'riesling': 3462, 'rocket': 3463, 'ladies': 3464, 'appealing': 3465, 'enfamil': 3466, 'receipt': 3467, 'expires': 3468, 'pamelas': 3469, 'grandson': 3470, 'tiger': 3471, 'vitakraft': 3472, 'fulfillment': 3473, 'peaches': 3474, 'farts': 3475, 'lookin': 3476, 'mccormick': 3477, 'magical': 3478, 'fazer': 3479, 'unbeatable': 3480, 'themselves': 3481, 'mainly': 3482, 'gobble': 3483, 'major': 3484, 'number': 3485, 'ghirardelli': 3486, 'apriva': 3487, 'disco': 3488, 'fever': 3489, 'dublin': 3490, 'fresca': 3491, 'crop': 3492, 'preserve': 3493, 'glaze': 3494, 'tradition': 3495, 'nite': 3496, 'fiesta': 3497, 'flavorfull': 3498, 'fruitcake': 3499, 'beast': 3500, 'wins': 3501, 'restricted': 3502, 'granules': 3503, 'unsweet': 3504, 'bubbly': 3505, 'glorious': 3506, 'tangerine': 3507, 'disposakup': 3508, 'disposa': 3509, 'alittle': 3510, 'columbia': 3511, 'educational': 3512, 'hollywood': 3513, 'hartz': 3514, 'boyfriend': 3515, 'snappy': 3516, 'press': 3517, 'cesar': 3518, 'dandy': 3519, 'munchie': 3520, 'sparkles': 3521, 'shimmer': 3522, 'doa': 3523, 'twisted': 3524, 'flytrap': 3525, 'dissapointment': 3526, 'greenbox': 3527, 'awesom': 3528, 'cj': 3529, 'convience': 3530, 'harmony': 3531, 'securely': 3532, 'nestle': 3533, 'pastry': 3534, 'patty': 3535, 'eatin': 3536, 'wouldnt': 3537, 'mongolian': 3538, 'eukanuba': 3539, 'sufferer': 3540, 'helping': 3541, 'peace': 3542, 'cartons': 3543, 'zots': 3544, 'silken': 3545, 'nu': 3546, 'response': 3547, 'competition': 3548, 'wheats': 3549, 'triscuits': 3550, 'setting': 3551, 'milder': 3552, 'wolfgand': 3553, 'ahhhh': 3554, 'knows': 3555, 'kup': 3556, 'imo': 3557, 'favored': 3558, 'grounds': 3559, 'grinds': 3560, 'wowed': 3561, 'kopi': 3562, 'macchiatos': 3563, 'fo': 3564, 'running': 3565, 'bailey': 3566, 'turducken': 3567, 'returning': 3568, 'paella': 3569, 'pasty': 3570, 'stride': 3571, 'fondarific': 3572, 'standards': 3573, 'hungarian': 3574, 'bank': 3575, 'miraculous': 3576, 'wayy': 3577, 'stated': 3578, 'tablets': 3579, 'deserves': 3580, 'choco': 3581, 'amaretto': 3582, 'elliott': 3583, 'guinea': 3584, 'limited': 3585, 'level': 3586, 'micro': 3587, 'rind': 3588, 'dissappointment': 3589, 'brother': 3590, 'lowreys': 3591, 'rhinds': 3592, 'fire': 3593, 'chuckles': 3594, 'effort': 3595, 'clears': 3596, 'tonic': 3597, 'path': 3598, 'gyro': 3599, 'lazy': 3600, 'frappes': 3601, 'overwhelming': 3602, 'piana': 3603, 'soba': 3604, 'became': 3605, 'alternate': 3606, 'pumpkins': 3607, 'peanutty': 3608, 'heathly': 3609, 'noms': 3610, 'grams': 3611, 'spicing': 3612, 'mesquite': 3613, 'thicker': 3614, 'lucys': 3615, 'glutten': 3616, 'yumminess': 3617, 'filet': 3618, 'squares': 3619, 'jolt': 3620, 'ripe': 3621, 'details': 3622, 'coarse': 3623, 'certified': 3624, 'eggplant': 3625, 'pep': 3626, 'sloppy': 3627, 'grassfed': 3628, 'cancer': 3629, 'ancho': 3630, 'organizer': 3631, 'rack': 3632, 'unit': 3633, 'invention': 3634, 'glory': 3635, 'jerk': 3636, 'finely': 3637, 'eggnog': 3638, 'waggin': 3639, 'report': 3640, 'byron': 3641, 'ill': 3642, 'safety': 3643, 'retired': 3644, 'accepted': 3645, 'uno': 3646, 'pastrami': 3647, 'stuck': 3648, 'bahlsen': 3649, 'bal': 3650, 'bananas': 3651, 'flight': 3652, 'hurts': 3653, 'festive': 3654, 'purchases': 3655, 'cappucino': 3656, 'distress': 3657, 'manuka': 3658, 'gringo': 3659, 'universal': 3660, 'delivers': 3661, 'suprised': 3662, 'tarter': 3663, 'consumption': 3664, 'factory': 3665, 'biscoff': 3666, 'airline': 3667, 'soldiers': 3668, 'middle': 3669, 'impossibly': 3670, 'suprisingly': 3671, 'barista': 3672, 'giorgio': 3673, 'meds': 3674, 'shame': 3675, 'airtight': 3676, 'limes': 3677, 'grower': 3678, 'poptart': 3679, 'ants': 3680, 'disappearing': 3681, 'breeder': 3682, 'cavalier': 3683, 'charles': 3684, 'stole': 3685, 'ireland': 3686, 'greater': 3687, 'desk': 3688, 'mcdougall': 3689, 'zest': 3690, 'taj': 3691, 'mahal': 3692, 'marionberry': 3693, 'disappoint': 3694, 'disgustingly': 3695, 'masters': 3696, 'bulldog': 3697, 'obviously': 3698, 'substitution': 3699, 'starchy': 3700, 'lil': 3701, 'cleans': 3702, 'creamers': 3703, 'canceling': 3704, 'grab': 3705, 'wraps': 3706, 'glutin': 3707, 'stamped': 3708, 'usda': 3709, 'awesomely': 3710, 'wrap': 3711, 'snapper': 3712, 'practical': 3713, 'slimey': 3714, 'grossly': 3715, 'improves': 3716, 'highland': 3717, 'orgasmic': 3718, 'kodiak': 3719, 'tahitian': 3720, 'blackened': 3721, 'sensation': 3722, 'sophie': 3723, 'hound': 3724, 'orchid': 3725, 'outdated': 3726, 'michael': 3727, 'baconaise': 3728, 'grn': 3729, 'aji': 3730, 'lord': 3731, 'counting': 3732, 'boylan': 3733, 'elderly': 3734, 'rubbish': 3735, 'greeen': 3736, 'coupon': 3737, 'chuck': 3738, 'regularly': 3739, 'splendid': 3740, 'lightweight': 3741, 'quench': 3742, 'sarracenia': 3743, 'leucophylla': 3744, 'comparable': 3745, 'aptly': 3746, 'named': 3747, 'nirvana': 3748, 'alcohol': 3749, 'oskri': 3750, 'ohhh': 3751, 'yumo': 3752, 'gooey': 3753, 'stiff': 3754, 'crabmeat': 3755, 'chicks': 3756, 'leak': 3757, 'calm': 3758, 'propylene': 3759, 'glycol': 3760, 'whiskey': 3761, 'rubs': 3762, 'azteca': 3763, 'fa': 3764, 'blast': 3765, 'conscious': 3766, 'tasts': 3767, 'praise': 3768, 'ratio': 3769, 'nutmeg': 3770, 'counts': 3771, 'mochi': 3772, 'snob': 3773, 'thinking': 3774, 'britain': 3775, 'miniatures': 3776, 'od': 3777, 'filets': 3778, 'soil': 3779, 'pinnacle': 3780, 'retrievers': 3781, 'functional': 3782, 'havanese': 3783, 'tamarind': 3784, 'smelling': 3785, 'unclear': 3786, 'rainbow': 3787, 'ours': 3788, 'nutritiously': 3789, 'correctly': 3790, 'tase': 3791, 'yahoo': 3792, 'potatos': 3793, 'marmite': 3794, 'brews': 3795, 'production': 3796, 'served': 3797, 'gumbo': 3798, 'gumball': 3799, 'seen': 3800, 'sort': 3801, 'eatable': 3802, 'solids': 3803, 'mo': 3804, 'compares': 3805, 'horehound': 3806, 'pate': 3807, 'mission': 3808, 'professional': 3809, 'whipped': 3810, 'squid': 3811, 'petit': 3812, 'thus': 3813, 'sample': 3814, 'central': 3815, 'dusty': 3816, 'amazed': 3817, 'edge': 3818, 'poms': 3819, 'serendipity': 3820, 'tierra': 3821, 'sourness': 3822, 'vacuum': 3823, 'mcvitie': 3824, 'snak': 3825, 'intact': 3826, 'patches': 3827, 'stone': 3828, 'tummies': 3829, 'lily': 3830, 'yorkies': 3831, 'maggie': 3832, 'charlie': 3833, 'ambers': 3834, 'bill': 3835, 'greats': 3836, 'greeenies': 3837, 'verified': 3838, 'reduction': 3839, 'artichoke': 3840, 'worthwhile': 3841, 'engaging': 3842, 'occupied': 3843, 'distraction': 3844, 'interest': 3845, 'challenge': 3846, 'pacifier': 3847, 'clever': 3848, 'chewed': 3849, 'flaw': 3850, 'likey': 3851, 'him': 3852, 'miserable': 3853, 'sanity': 3854, 'emerald': 3855, 'favortie': 3856, 'lotta': 3857, 'given': 3858, 'servings': 3859, 'dreams': 3860, 'walker': 3861, 'canning': 3862, 'ostrich': 3863, 'ancient': 3864, 'bing': 3865, 'acidity': 3866, 'yolk': 3867, 'au': 3868, 'bunch': 3869, 'department': 3870, 'frying': 3871, 'accident': 3872, 'occasional': 3873, 'watching': 3874, 'watcher': 3875, 'fail': 3876, 'pucker': 3877, 'tenders': 3878, 'exceptionally': 3879, 'frosted': 3880, 'blended': 3881, 'words': 3882, 'mole': 3883, 'castor': 3884, 'chorizo': 3885, 'couldnt': 3886, 'peak': 3887, 'chance': 3888, 'attack': 3889, 'soggy': 3890, 'wakes': 3891, 'min': 3892, 'devoured': 3893, 'carbquick': 3894, 'carbquik': 3895, 'carte': 3896, 'noire': 3897, 'lack': 3898, 'bleh': 3899, 'cr': 3900, 'entertained': 3901, 'flimsy': 3902, 'fettuccine': 3903, 'pulp': 3904, 'pina': 3905, 'colada': 3906, 'max': 3907, 'beverages': 3908, 'ewwwwww': 3909, 'reds': 3910, 'meringue': 3911, 'pastries': 3912, 'chewey': 3913, 'yea': 3914, 'misses': 3915, 'meatless': 3916, 'teriyaki': 3917, 'szechuan': 3918, 'soooooooo': 3919, 'jordan': 3920, 'mincemeat': 3921, 'albacore': 3922, 'substitue': 3923, 'chloe': 3924, 'bringing': 3925, 'holidays': 3926, 'probiotics': 3927, 'recent': 3928, 'spat': 3929, 'sawdust': 3930, 'linda': 3931, 'mead': 3932, 'genuinely': 3933, 'recalled': 3934, 'dolmas': 3935, 'starving': 3936, 'terry': 3937, 'hometown': 3938, 'homerun': 3939, 'disappointingly': 3940, 'soyrizo': 3941, 'singles': 3942, 'blends': 3943, 'beefy': 3944, 'station': 3945, 'highway': 3946, 'robbery': 3947, 'vege': 3948, 'vegitarian': 3949, 'worthington': 3950, 'beg': 3951, 'differ': 3952, 'probiotic': 3953, 'dang': 3954, 'disaster': 3955, 'board': 3956, 'left': 3957, 'shell': 3958, 'marrons': 3959, 'powered': 3960, 'prevent': 3961, 'waist': 3962, 'listen': 3963, 'reviewing': 3964, 'teapot': 3965, 'pomegranite': 3966, 'truth': 3967, 'resealable': 3968, 'ziplock': 3969, 'jacklinks': 3970, 'bogus': 3971, 'fajita': 3972, 'fajitas': 3973, 'quencher': 3974, 'thee': 3975, 'zinger': 3976, 'allure': 3977, 'fermented': 3978, 'downsized': 3979, 'bigtime': 3980, 'angelina': 3981, 'quaility': 3982, 'turned': 3983, 'dolcetto': 3984, 'buns': 3985, 'blessing': 3986, 'sizes': 3987, 'sounded': 3988, 'required': 3989, 'abit': 3990, 'popper': 3991, 'envy': 3992, 'global': 3993, 'plantation': 3994, 'drank': 3995, 'mystic': 3996, 'ja': 3997, 'waking': 3998, 'muss': 3999, 'fuss': 4000, 'awesomeness': 4001, 'goldfish': 4002, 'rejoice': 4003, 'ryvita': 4004, 'david': 4005, 'rio': 4006, 'duncan': 4007, 'fanatic': 4008, 'margaret': 4009, 'warming': 4010, 'hungry': 4011, 'tobacco': 4012, 'goodlife': 4013, 'minimal': 4014, 'confusing': 4015, 'chestnut': 4016, 'puree': 4017, 'resolved': 4018, 'maggots': 4019, 'boyardee': 4020, 'lunchboxes': 4021, 'jimmy': 4022, 'atomic': 4023, 'minis': 4024, 'pixie': 4025, 'decorations': 4026, 'mmgood': 4027, 'owned': 4028, 'joes': 4029, 'reduce': 4030, 'regards': 4031, 'toothbrush': 4032, 'nutrigrain': 4033, 'extras': 4034, 'growth': 4035, 'blood': 4036, 'org': 4037, 'meets': 4038, 'hocks': 4039, 'sucker': 4040, 'dieter': 4041, 'aged': 4042, 'supplies': 4043, 'sky': 4044, 'doodles': 4045, 'robert': 4046, 'brazil': 4047, 'soldier': 4048, 'advised': 4049, 'comforting': 4050, 'mmh': 4051, 'asleep': 4052, 'horsetail': 4053, 'flashes': 4054, 'charges': 4055, 'insomnia': 4056, 'arthritis': 4057, 'grilling': 4058, 'request': 4059, 'efficient': 4060, 'choking': 4061, 'relieved': 4062, 'tis': 4063, 'ad': 4064, 'blair': 4065, 'guaranteed': 4066, 'honeycomb': 4067, 'stong': 4068, 'refrigerate': 4069, 'bb': 4070, 'cowboy': 4071, 'lights': 4072, 'pull': 4073, 'darker': 4074, 'odorless': 4075, 'tonkatsu': 4076, 'masterpiece': 4077, 'clark': 4078, 'team': 4079, 'granddaughter': 4080, 'residue': 4081, 'santa': 4082, 'beautifully': 4083, 'turmeric': 4084, 'pow': 4085, 'violet': 4086, 'laden': 4087, 'kills': 4088, 'vegg': 4089, 'marcona': 4090, 'vomit': 4091, 'ehhhh': 4092, 'project': 4093, 'med': 4094, 'confirmed': 4095, 'shortage': 4096, 'insanity': 4097, 'squeeze': 4098, 'stunning': 4099, 'teabag': 4100, 'morocco': 4101, 'salada': 4102, 'heathy': 4103, 'stadium': 4104, 'mildly': 4105, 'pomegranates': 4106, 'dk': 4107, 'burn': 4108, 'bubblegum': 4109, 'mistro': 4110, 'hots': 4111, 'father': 4112, 'doritos': 4113, 'blooming': 4114, 'flowering': 4115, 'scone': 4116, 'currant': 4117, 'spare': 4118, 'fraud': 4119, 'beneficial': 4120, 'evar': 4121, 'ins': 4122, 'poke': 4123, 'forgot': 4124, 'rosemary': 4125, 'shockers': 4126, 'hp': 4127, 'tolerable': 4128, 'texmati': 4129, 'tatses': 4130, 'australia': 4131, 'sweetest': 4132, 'liquorice': 4133, 'poop': 4134, 'scooper': 4135, 'abused': 4136, 'soymilk': 4137, 'banged': 4138, 'kadoya': 4139, 'recommends': 4140, 'uum': 4141, 'exploding': 4142, 'creation': 4143, 'alessi': 4144, 'waited': 4145, 'distant': 4146, 'kitchens': 4147, 'jet': 4148, 'ga': 4149, 'pair': 4150, 'wing': 4151, 'delcious': 4152, 'hull': 4153, 'pitted': 4154, 'expectation': 4155, 'alaska': 4156, 'sanding': 4157, 'bugles': 4158, 'xmas': 4159, 'bored': 4160, 'yumyum': 4161, 'og': 4162, 'jones': 4163, 'frothy': 4164, 'burma': 4165, 'porridge': 4166, 'pouch': 4167, 'shredded': 4168, 'callard': 4169, 'licorage': 4170, 'arm': 4171, 'deviled': 4172, 'hansen': 4173, 'zeus': 4174, 'groats': 4175, 'disapointing': 4176, 'rhubarb': 4177, 'havahart': 4178, 'critter': 4179, 'ridder': 4180, 'chile': 4181, 'sherry': 4182, 'write': 4183, 'writes': 4184, 'pen': 4185, 'won': 4186, 'encountered': 4187, 'll': 4188, 'mar': 4189, 'type': 4190, 'ribs': 4191, 'crystalized': 4192, 'spoon': 4193, 'sweetleaf': 4194, 'refills': 4195, 'unnatural': 4196, 'timothys': 4197, 'tire': 4198, 'treads': 4199, 'luvers': 4200, 'cholocate': 4201, 'dove': 4202, 'kenya': 4203, 'aa': 4204, 'york': 4205, 'hmn': 4206, 'masses': 4207, 'fage': 4208, 'salads': 4209, 'boxed': 4210, 'tooo': 4211, 'ultimate': 4212, 'tubs': 4213, 'ah': 4214, 'ahhh': 4215, 'kenyan': 4216, 'book': 4217, 'sweety': 4218, 'accept': 4219, 'omega': 4220, 'cancelled': 4221, 'person': 4222, 'premier': 4223, 'goooooood': 4224, 'luxury': 4225, 'subtly': 4226, 'coo': 4227, 'slowly': 4228, 'image': 4229, 'reported': 4230, 'cigar': 4231, 'sustained': 4232, 'recepie': 4233, 'mannheim': 4234, 'vile': 4235, 'dilute': 4236, 'rib': 4237, 'etc': 4238, 'sediment': 4239, 'stems': 4240, 'dud': 4241, 'minus': 4242, 'disappear': 4243, 'heck': 4244, 'mulling': 4245, 'tasy': 4246, 'nutiva': 4247, 'manna': 4248, 'sustainable': 4249, 'skinner': 4250, 'invented': 4251, 'bilberry': 4252, 'samoa': 4253, 'shoppe': 4254, 'perfecto': 4255, 'sicilian': 4256, 'table': 4257, 'sleepy': 4258, 'code': 4259, 'madras': 4260, 'rica': 4261, 'stack': 4262, 'endurance': 4263, 'america': 4264, 'spill': 4265, 'gouge': 4266, 'whip': 4267, 'arare': 4268, 'mangos': 4269, 'felines': 4270, 'furikake': 4271, 'squashed': 4272, 'forming': 4273, 'policy': 4274, 'glorified': 4275, 'sweetz': 4276, 'manner': 4277, 'thinkthin': 4278, 'clif': 4279, 'lemongrass': 4280, 'starkist': 4281, 'merguez': 4282, 'tillamook': 4283, 'heavens': 4284, 'bull': 4285, 'sixlets': 4286, 'claeys': 4287, 'workouts': 4288, 'olde': 4289, 'shedding': 4290, 'troubles': 4291, 'marmalade': 4292, 'suitable': 4293, 'awe': 4294, 'moisturizer': 4295, 'safflower': 4296, 'notice': 4297, 'pemmican': 4298, 'hangover': 4299, 'butterscotch': 4300, 'ive': 4301, 'deli': 4302, 'chest': 4303, 'bobs': 4304, 'yummi': 4305, 'warehouse': 4306, 'en': 4307, 'floor': 4308, 'shoulder': 4309, 'chik': 4310, 'opposite': 4311, 'chocolove': 4312, 'fence': 4313, 'colony': 4314, 'fours': 4315, 'licorette': 4316, 'till': 4317, 'digging': 4318, 'jus': 4319, 'payday': 4320, 'ran': 4321, 'genetically': 4322, 'modified': 4323, 'hs': 4324, 'sending': 4325, 'glee': 4326, 'honeytree': 4327, 'moravian': 4328, 'ohhhhh': 4329, 'clove': 4330, 'mothers': 4331, 'rush': 4332, 'dew': 4333, 'rare': 4334, 'reeses': 4335, 'ribbon': 4336, 'anyday': 4337, 'literally': 4338, 'tiki': 4339, 'kinds': 4340, 'parachute': 4341, 'brain': 4342, 'bravo': 4343, 'veg': 4344, 'tek': 4345, 'hides': 4346, 'spaetzle': 4347, 'deeeelicious': 4348, 'fern': 4349, 'platinum': 4350, 'buttered': 4351, 'lawn': 4352, 'poppyseed': 4353, 'tilda': 4354, 'whatta': 4355, 'called': 4356, 'jaw': 4357, 'weed': 4358, 'appropriate': 4359, 'sampling': 4360, 'ese': 4361, 'choose': 4362, 'bella': 4363, 'wars': 4364, 'buttermilk': 4365, 'caff': 4366, 'sinful': 4367, 'originals': 4368, 'orders': 4369, 'vice': 4370, 'breed': 4371, 'beagle': 4372, 'useable': 4373, 'dececco': 4374, 'capellini': 4375, 'americana': 4376, 'halvah': 4377, 'crips': 4378, 'enzyme': 4379, 'facial': 4380, 'mask': 4381, 'explore': 4382, 'writers': 4383, 'describe': 4384, 'parma': 4385, 'ditto': 4386, 'familia': 4387, 'pillsbury': 4388, 'caterpillar': 4389, 'israel': 4390, 'sipping': 4391, 'buen': 4392, 'buena': 4393, 'starbuck': 4394, 'sauerkraut': 4395, 'clusters': 4396, 'lightening': 4397, 'purposes': 4398, 'excellently': 4399, 'bttls': 4400, 'def': 4401, 'replaces': 4402, 'awake': 4403, 'sports': 4404, 'superstar': 4405, 'kongs': 4406, 'sodastream': 4407, 'rootbeer': 4408, 'positive': 4409, 'foot': 4410, 'caponata': 4411, 'dependable': 4412, 'sockeye': 4413, 'victorian': 4414, 'cuban': 4415, 'pudge': 4416, 'ayurvedic': 4417, 'sunshine': 4418, 'sounds': 4419, 'unexpected': 4420, 'upper': 4421, 'additives': 4422, 'luxardo': 4423, 'cocktails': 4424, 'manhattan': 4425, 'hops': 4426, 'harrogate': 4427, 'sunkist': 4428, 'nutrisystem': 4429, 'houses': 4430, 'caliente': 4431, 'plate': 4432, 'advertise': 4433, 'terra': 4434, 'krinkle': 4435, 'suprise': 4436, 'gotten': 4437, 'kookaburra': 4438, 'australian': 4439, 'corned': 4440, 'midnight': 4441, 'provider': 4442, 'ruff': 4443, 'devours': 4444, 'gun': 4445, 'dijon': 4446, 'cinnabon': 4447, 'frank': 4448, 'clamato': 4449, 'pepperidge': 4450, 'oloves': 4451, 'scorpion': 4452, 'tor': 4453, 'neo': 4454, 'renal': 4455, 'foie': 4456, 'appreciated': 4457, 'grew': 4458, 'greens': 4459, 'maid': 4460, 'putrid': 4461, 'bionature': 4462, 'clients': 4463, 'ferns': 4464, 'skewers': 4465, 'mcp': 4466, 'fattening': 4467, 'state': 4468, 'parents': 4469, 'zante': 4470, 'currants': 4471, 'fuzzy': 4472, 'ewww': 4473, 'sbux': 4474, 'sans': 4475, 'gluey': 4476, 'waaaay': 4477, 'refined': 4478, 'krispy': 4479, 'envirokidz': 4480, 'xoxo': 4481, 'pike': 4482, 'pikes': 4483, 'camp': 4484, 'fur': 4485, 'men': 4486, 'jerquee': 4487, 'dha': 4488, 'pete': 4489, 'meant': 4490, 'capsule': 4491, 'tester': 4492, 'dig': 4493, 'om': 4494, 'autumn': 4495, 'halo': 4496, 'kmr': 4497, 'bowel': 4498, 'brewing': 4499, 'escargot': 4500, 'entirely': 4501, 'liquer': 4502, 'loacker': 4503, 'dislike': 4504, 'erythritol': 4505, 'truely': 4506, 'sunday': 4507, 'cascadian': 4508, 'mars': 4509, 'included': 4510, 'deet': 4511, 'vinaigrette': 4512, 'burgers': 4513, 'normally': 4514, 'hopefully': 4515, 'catch': 4516, 'fi': 4517, 'shock': 4518, 'evangers': 4519, 'recipients': 4520, 'caffiene': 4521, 'muslin': 4522, 'savu': 4523, 'snickers': 4524, 'boscoli': 4525, 'choo': 4526, 'yep': 4527, 'everybodys': 4528, 'jif': 4529, 'dente': 4530, 'jax': 4531, 'mornings': 4532, 'stik': 4533, 'greenyoung': 4534, 'pacific': 4535, 'ann': 4536, 'expiring': 4537, 'teddy': 4538, 'essenza': 4539, 'fran': 4540, 'rippin': 4541, 'fogchaser': 4542, 'clearly': 4543, 'turns': 4544, 'kalua': 4545, 'saltine': 4546, 'mickey': 4547, 'jims': 4548, 'tinkyada': 4549, 'pounce': 4550, 'panettone': 4551, 'chasing': 4552, 'montreal': 4553, 'snyders': 4554, 'strip': 4555, 'nylabones': 4556, 'bumble': 4557, 'redskin': 4558, 'misunderstood': 4559, 'wildberry': 4560, 'ant': 4561, 'fettucine': 4562, 'twizlers': 4563, 'neighborhood': 4564, 'preventing': 4565, 'freah': 4566, 'cornmeal': 4567, 'iodine': 4568, 'realemon': 4569, 'mood': 4570, 'garbonzo': 4571, 'falafel': 4572, 'reusable': 4573, 'mcclures': 4574, 'dentest': 4575, 'chair': 4576, 'pok': 4577, 'outcome': 4578, 'scott': 4579, 'trucker': 4580, 'chalet': 4581, 'penguin': 4582, 'pooper': 4583, 'feeder': 4584, 'porcini': 4585, 'franch': 4586, 'fully': 4587, 'addicitive': 4588, 'moisture': 4589, 'chivey': 4590, 'gaaak': 4591, 'absotively': 4592, 'posilutely': 4593, 'hill': 4594, 'dripping': 4595, 'yoli': 4596, 'defacto': 4597, 'kiss': 4598, 'vickie': 4599, 'bavarian': 4600, 'weigh': 4601, 'tortill': 4602, 'schrumshist': 4603, 'fanfreakintastic': 4604, 'unparalleled': 4605, 'dum': 4606, 'dums': 4607, 'cuttiest': 4608, 'century': 4609, 'laxative': 4610, 'tao': 4611, 'kleri': 4612, 'ferret': 4613, 'scottie': 4614, 'cocker': 4615, 'strictly': 4616, 'lilly': 4617, 'allday': 4618, 'tasten': 4619, 'sass': 4620, 'shiznit': 4621, 'muselix': 4622, 'ur': 4623, 'plated': 4624, 'award': 4625, 'rays': 4626, 'overdone': 4627, 'sheen': 4628, 'airbrush': 4629, 'blow': 4630, 'beefeaters': 4631, 'swizzles': 4632, 'tripe': 4633, 'anus': 4634, 'digs': 4635, 'dense': 4636, 'themed': 4637, 'marianne': 4638, 'taro': 4639, 'taters': 4640, 'potatoies': 4641, 'maximum': 4642, 'barb': 4643, 'wyzykoski': 4644, 'jgk': 4645, 'chocolot': 4646, 'pwdr': 4647, 'nunaturals': 4648, 'nustevia': 4649, 'devils': 4650, 'shining': 4651, 'bent': 4652, 'jays': 4653, 'vinci': 4654, 'cutter': 4655, 'followers': 4656, 'topchips': 4657, 'weightwatchers': 4658, 'luuuv': 4659, 'cholestrol': 4660, 'hella': 4661, 'lays': 4662, 'sources': 4663, 'gadget': 4664, 'eatten': 4665, 'flecks': 4666, 'martinis': 4667, 'matinis': 4668, 'ddjj': 4669, 'werithers': 4670, 'schmaffles': 4671, 'farmhouse': 4672, 'weekend': 4673, 'versus': 4674, 'penta': 4675, 'mishmash': 4676, 'maca': 4677, 'unfilled': 4678, 'dozen': 4679, 'grammy': 4680, 'satay': 4681, 'tatsy': 4682, 'sludge': 4683, 'ganoush': 4684, 'krinos': 4685, 'result': 4686, 'cigars': 4687, 'announcement': 4688, 'merchandise': 4689, 'cornhusker': 4690, 'concentrated': 4691, 'skyflakes': 4692, 'jja': 4693, 'canadies': 4694, 'dhall': 4695, 'split': 4696, 'gussies': 4697, 'highfat': 4698, 'gettin': 4699, 'caibou': 4700, 'presence': 4701, 'formulation': 4702, 'unbalanced': 4703, 'otto': 4704, 'sojos': 4705, 'goody': 4706, 'gardener': 4707, 'plague': 4708, 'killing': 4709, 'honeybees': 4710, 'fisher': 4711, 'thomy': 4712, 'scharfer': 4713, 'senf': 4714, 'baxter': 4715, 'mays': 4716, 'evaporate': 4717, 'lacey': 4718, 'congou': 4719, 'adzuki': 4720, 'popcord': 4721, 'nonthing': 4722, 'deadheads': 4723, 'thirty': 4724, 'begone': 4725, 'quenching': 4726, 'rejuvenating': 4727, 'piggie': 4728, 'seemingly': 4729, 'impossible': 4730, 'teaching': 4731, 'ahoy': 4732, 'lucas': 4733, 'nt': 4734, 'quanty': 4735, 'changes': 4736, 'feliciaflan': 4737, 'wint': 4738, 'fencing': 4739, 'caramet': 4740, 'grrrrrrrreat': 4741, 'casablanca': 4742, 'failure': 4743, 'supermarkets': 4744, 'suzie': 4745, 'patties': 4746, 'inorganic': 4747, 'shared': 4748, 'lines': 4749, 'warms': 4750, 'swisshot': 4751, 'pepermint': 4752, 'fro': 4753, 'jz': 4754, 'chocholate': 4755, 'olate': 4756, 'sweeatners': 4757, 'pschologically': 4758, 'unsorted': 4759, 'claim': 4760, 'mackerels': 4761, 'mackeral': 4762, 'amarettini': 4763, 'frankenwheat': 4764, 'wants': 4765, 'choloate': 4766, 'tijuana': 4767, 'flats': 4768, 'nobody': 4769, 'dining': 4770, 'outta': 4771, 'geliva': 4772, 'jonesing': 4773, 'amout': 4774, 'rj': 4775, 'completly': 4776, 'norcal': 4777, 'parisian': 4778, 'polyvalent': 4779, 'wallop': 4780, 'wash': 4781, 'settle': 4782, 'indulgent': 4783, 'ehkkkkkkkkkkkkkkk': 4784, 'skinless': 4785, 'satisifed': 4786, 'kuhflecken': 4787, 'adaptor': 4788, 'computer': 4789, 'condensor': 4790, 'bllue': 4791, 'audience': 4792, 'pickup': 4793, 'iffy': 4794, 'lightsaber': 4795, 'intolerant': 4796, 'disease': 4797, 'pakcake': 4798, 'flourer': 4799, 'regualr': 4800, 'which': 4801, 'trusted': 4802, 'hear': 4803, 'cobbler': 4804, 'households': 4805, 'redbard': 4806, 'thief': 4807, 'disguising': 4808, 'exaclty': 4809, 'pico': 4810, 'pica': 4811, 'woderful': 4812, 'chock': 4813, 'mellowed': 4814, 'jazz': 4815, 'jitters': 4816, 'rita': 4817, 'texasgirl': 4818, 'appearance': 4819, 'oldie': 4820, 'fallin': 4821, 'differently': 4822, 'pc': 4823, 'gma': 4824, 'terrifc': 4825, 'finiky': 4826, 'inu': 4827, 'scarf': 4828, 'belong': 4829, 'worries': 4830, 'toffifay': 4831, 'mucus': 4832, 'drainage': 4833, 'humans': 4834, 'flavia': 4835, 'cave': 4836, 'rotton': 4837, 'uh': 4838, 'truthfull': 4839, 'halal': 4840, 'talent': 4841, 'argentina': 4842, 'tamer': 4843, 'meeeeeeowwwwwww': 4844, 'treets': 4845, 'reasonabale': 4846, 'roasters': 4847, 'coofee': 4848, 'accidents': 4849, 'buffy': 4850, 'yummazing': 4851, 'luzianne': 4852, 'thses': 4853, 'sharing': 4854, 'village': 4855, 'kool': 4856, 'appeal': 4857, 'thyme': 4858, 'hight': 4859, 'lapped': 4860, 'giants': 4861, 'standout': 4862, 'crackerbreads': 4863, 'recycled': 4864, 'freezed': 4865, 'hummy': 4866, 'gravey': 4867, 'patchi': 4868, 'df': 4869, 'tigger': 4870, 'thats': 4871, 'burggirl': 4872, 'babysitter': 4873, 'dances': 4874, 'absolutel': 4875, 'decilious': 4876, 'smackin': 4877, 'krunchy': 4878, 'mccanns': 4879, 'steel': 4880, 'amended': 4881, 'eleteamazon': 4882, 'eb': 4883, 'hater': 4884, 'alison': 4885, 'shopper': 4886, 'pluses': 4887, 'xylichew': 4888, 'sayan': 4889, 'dest': 4890, 'compensation': 4891, 'contents': 4892, 'unsulphered': 4893, 'category': 4894, 'saba': 4895, 'antimo': 4896, 'capputo': 4897, 'berres': 4898, 'lie': 4899, 'cheaply': 4900, 'glitter': 4901, 'glitery': 4902, 'vimto': 4903, 'intro': 4904, 'spherification': 4905, 'riceworks': 4906, 'notes': 4907, 'duty': 4908, 'brachs': 4909, 'manderin': 4910, 'flawless': 4911, 'anyhoe': 4912, 'matches': 4913, 'discription': 4914, 'customary': 4915, 'tv': 4916, 'oysters': 4917, 'lick': 4918, 'flatter': 4919, 'legendary': 4920, 'june': 4921, 'mode': 4922, 'seahawks': 4923, 'heartier': 4924, 'bil': 4925, 'jac': 4926, 'distressed': 4927, 'increasing': 4928, 'gfcfefsf': 4929, 'gfcfsf': 4930, 'fudgy': 4931, 'wudgy': 4932, 'fermenting': 4933, 'pail': 4934, 'trashcan': 4935, 'sunchang': 4936, 'gochujang': 4937, 'naked': 4938, 'stinger': 4939, 'hiking': 4940, 'sickening': 4941, 'orangey': 4942, 'tangeriney': 4943, 'carbonation': 4944, 'freak': 4945, 'lugubrious': 4946, 'bevvie': 4947, 'custom': 4948, 'bulky': 4949, 'cuisinart': 4950, 'liquibuy': 4951, 'disposacups': 4952, 'disposible': 4953, 'disposacup': 4954, 'roy': 4955, 'wimps': 4956, 'sahlen': 4957, 'hotdogs': 4958, 'stupid': 4959, 'popcorrn': 4960, 'walley': 4961, 'flackers': 4962, 'butters': 4963, 'js': 4964, 'mist': 4965, 'amyjon': 4966, 'rewarding': 4967, 'venisen': 4968, 'ounc': 4969, 'smithinsight': 4970, 'sevice': 4971, 'guayusa': 4972, 'buzzzzzzzzzz': 4973, 'shouldn': 4974, 'crunchie': 4975, 'grandpa': 4976, 'po': 4977, 'majorly': 4978, 'mgm': 4979, 'correction': 4980, 'signature': 4981, 'chomping': 4982, 'receiving': 4983, 'clouds': 4984, 'goatmilkdrinker': 4985, 'carries': 4986, 'chrysanthemum': 4987, 'lou': 4988, 'hamburger': 4989, 'celebration': 4990, 'herbals': 4991, 'ket': 4992, 'fanastic': 4993, 'beaufort': 4994, 'coma': 4995, 'gal': 4996, 'pupstar': 4997, 'heidi': 4998, 'instruction': 4999, 'translation': 5000, 'solvers': 5001, 'language': 5002, 'barrier': 5003, 'scarce': 5004, 'politicians': 5005, 'colcafe': 5006, 'greaatt': 5007, 'longest': 5008, 'ic': 5009, 'psoriasis': 5010, 'horizon': 5011, 'aspetic': 5012, 'catfood': 5013, 'mori': 5014, 'vomitting': 5015, 'kebob': 5016, 'vinigrette': 5017, 'tocopherol': 5018, 'peta': 5019, 'wp': 5020, 'disfigured': 5021, 'unusable': 5022, 'woflgang': 5023, 'francaise': 5024, 'purist': 5025, 'wolgang': 5026, 'hazlenut': 5027, 'wolfgan': 5028, 'problematic': 5029, 'bolder': 5030, 'jamaca': 5031, 'jamica': 5032, 'wasnt': 5033, 'gang': 5034, 'sleeper': 5035, 'terrrrific': 5036, 'overtones': 5037, 'socks': 5038, 'raya': 5039, 'refrigeration': 5040, 'disagreeable': 5041, 'cautious': 5042, 'stablizer': 5043, 'jeri': 5044, 'ca': 5045, 'aguas': 5046, 'frescas': 5047, 'comment': 5048, 'medaglia': 5049, 'decaaff': 5050, 'happymorning': 5051, 'dessicated': 5052, 'exalant': 5053, 'labradors': 5054, 'dorkie': 5055, 'sourced': 5056, 'enthusiasm': 5057, 'pomeranian': 5058, 'cassoulet': 5059, 'timey': 5060, 'olvatine': 5061, 'hong': 5062, 'tepid': 5063, 'wayyyyyy': 5064, 'mash': 5065, 'buttercream': 5066, 'luwak': 5067, 'benefit': 5068, 'cakeing': 5069, 'agents': 5070, 'tabs': 5071, 'tripping': 5072, 'fruits': 5073, 'experiment': 5074, 'stepens': 5075, 'candycane': 5076, 'across': 5077, 'stephen': 5078, 'stephens': 5079, 'lacquat': 5080, 'jeremiahs': 5081, 'tst': 5082, 'pixy': 5083, 'tunnel': 5084, 'kentucky': 5085, 'thickener': 5086, 'autimatic': 5087, 'versatility': 5088, 'beanboozled': 5089, 'cholesteroal': 5090, 'jablum': 5091, 'curl': 5092, 'sizzling': 5093, 'uuuuuuumm': 5094, 'lowerys': 5095, 'porkrinds': 5096, 'wayyyyyyy': 5097, 'jeff': 5098, 'foxworthy': 5099, 'redneck': 5100, 'origional': 5101, 'lowry': 5102, 'hazard': 5103, 'bigbert': 5104, 'microwavable': 5105, 'maltodextrin': 5106, 'lawry': 5107, 'nightly': 5108, 'chicaronnes': 5109, 'aaaarrrrrgggghhhhh': 5110, 'werthers': 5111, 'orginalai': 5112, 'workers': 5113, 'roadhouse': 5114, 'cheaters': 5115, 'kookoo': 5116, 'shoprite': 5117, 'springs': 5118, 'qick': 5119, 'yippy': 5120, 'grotesque': 5121, 'bd': 5122, 'namaste': 5123, 'amul': 5124, 'wisconsinmade': 5125, 'lauri': 5126, 'alphabet': 5127, 'tarallini': 5128, 'sphynx': 5129, 'reacts': 5130, 'testimonial': 5131, 'chochlate': 5132, 'machin': 5133, 'wilco': 5134, 'cocoawhen': 5135, 'malossol': 5136, 'lovbe': 5137, 'breastfeeding': 5138, 'mommies': 5139, 'bile': 5140, 'horray': 5141, 'skippy': 5142, 'ingedient': 5143, 'luckey': 5144, 'ecology': 5145, 'liters': 5146, 'looseleaf': 5147, 'hottest': 5148, 'schokolade': 5149, 'considers': 5150, 'intollerances': 5151, 'gosh': 5152, 'chocoalte': 5153, 'flavorite': 5154, 'deez': 5155, 'nutz': 5156, 'jamaican': 5157, 'shoe': 5158, 'freight': 5159, 'weaver': 5160, 'obliteration': 5161, 'huh': 5162, 'rudy': 5163, 'repurchase': 5164, 'lungs': 5165, 'lung': 5166, 'boletus': 5167, 'edulis': 5168, 'lifetime': 5169, 'unpeeled': 5170, 'apricots': 5171, 'aprocot': 5172, 'decaff': 5173, 'pirated': 5174, 'billing': 5175, 'intensely': 5176, 'fluoride': 5177, 'course': 5178, 'baths': 5179, 'commuter': 5180, 'germination': 5181, 'oboy': 5182, 'seattle': 5183, 'ohhhhhh': 5184, 'gee': 5185, 'fed': 5186, 'moonstruck': 5187, 'orville': 5188, 'redenbacher': 5189, 'mtb': 5190, 'nostalgic': 5191, 'willibee': 5192, 'tagged': 5193, 'inflation': 5194, 'coupons': 5195, 'clearance': 5196, 'needing': 5197, 'comings': 5198, 'spacesaver': 5199, 'dawer': 5200, 'countertop': 5201, 'slide': 5202, 'cescob': 5203, 'wished': 5204, 'krurig': 5205, 'stylish': 5206, 'discrete': 5207, 'congeneal': 5208, 'profile': 5209, 'decorators': 5210, 'dusting': 5211, 'deeeeeeee': 5212, 'erin': 5213, 'dlicious': 5214, 'mfr': 5215, 'skimpin': 5216, 'bamboo': 5217, 'virginia': 5218, 'eeewwww': 5219, 'terms': 5220, 'unfortunate': 5221, 'nog': 5222, 'glucossamin': 5223, 'chondroitin': 5224, 'umame': 5225, 'aching': 5226, 'joints': 5227, 'goldensrule': 5228, 'heroin': 5229, 'drat': 5230, 'shelter': 5231, 'concerns': 5232, 'chrondrotin': 5233, 'dogslove': 5234, 'delouse': 5235, 'doogswell': 5236, 'dogwell': 5237, 'africa': 5238, 'burrito': 5239, 'plantars': 5240, 'therefor': 5241, 'whitley': 5242, 'overcooked': 5243, 'fontinella': 5244, 'werther': 5245, 'archway': 5246, 'tna': 5247, 'jbertsiesfavs': 5248, 'truffet': 5249, 'flaky': 5250, 'crescent': 5251, 'nums': 5252, 'macadmia': 5253, 'hollow': 5254, 'dissapointing': 5255, 'delishy': 5256, 'function': 5257, 'cheesey': 5258, 'seashells': 5259, 'quest': 5260, 'peices': 5261, 'metal': 5262, 'truest': 5263, 'chintzy': 5264, 'usage': 5265, 'astronaut': 5266, 'artist': 5267, 'title': 5268, 'peter': 5269, 'ordinary': 5270, 'cuious': 5271, 'basset': 5272, 'darjelling': 5273, 'ends': 5274, 'splinters': 5275, 'hempshake': 5276, 'crescendo': 5277, 'anchovian': 5278, 'anchvies': 5279, 'mydog': 5280, 'remind': 5281, 'dunkaroos': 5282, 'gifted': 5283, 'promises': 5284, 'azar': 5285, 'brought': 5286, 'darkchocolate': 5287, 'evidence': 5288, 'virgnia': 5289, 'madness': 5290, 'andes': 5291, 'spain': 5292, 'hariubo': 5293, 'gnocchi': 5294, 'angelo': 5295, 'pietro': 5296, 'airplane': 5297, 'afghanistan': 5298, 'papua': 5299, 'classique': 5300, 'prima': 5301, 'muchrooms': 5302, 'asia': 5303, 'handle': 5304, 'cindi': 5305, 'pusher': 5306, 'kc': 5307, 'katy': 5308, 'nancy': 5309, 'hahaa': 5310, 'spoonful': 5311, 'yums': 5312, 'truflle': 5313, 'flash': 5314, 'goober': 5315, 'beaba': 5316, 'multiportion': 5317, 'freezing': 5318, 'retailer': 5319, 'poptarts': 5320, 'vernors': 5321, 'laika': 5322, 'gray': 5323, 'shareable': 5324, 'confection': 5325, 'cavendar': 5326, 'cordials': 5327, 'fussie': 5328, 'sunstrike': 5329, 'shippers': 5330, 'hamming': 5331, 'gordolobo': 5332, 'fiddle': 5333, 'victoria': 5334, 'damage': 5335, 'rc': 5336, 'babycat': 5337, 'wat': 5338, 'teryiaki': 5339, 'mcnuggets': 5340, 'snowcone': 5341, 'hawwian': 5342, 'vacationing': 5343, 'pupperz': 5344, 'dug': 5345, 'trouble': 5346, 'suited': 5347, 'pawfect': 5348, 'bribe': 5349, 'arfilicious': 5350, 'bengal': 5351, 'raffle': 5352, 'ritz': 5353, 'smores': 5354, 'oregano': 5355, 'digestible': 5356, 'ledhere': 5357, 'convienet': 5358, 'luck': 5359, 'spilt': 5360, 'imagine': 5361, 'hatch': 5362, 'chilis': 5363, 'emerill': 5364, 'cop': 5365, 'similiar': 5366, 'based': 5367, 'lindy': 5368, 'definitively': 5369, 'strainer': 5370, 'gormet': 5371, 'explosive': 5372, 'ermerils': 5373, 'wf': 5374, 'anal': 5375, 'gland': 5376, 'molassis': 5377, 'nurturme': 5378, 'boss': 5379, 'lov': 5380, 'savor': 5381, 'truffless': 5382, 'cc': 5383, 'losses': 5384, 'yumiiii': 5385, 'asume': 5386, 'rid': 5387, 'whilesome': 5388, 'kringle': 5389, 'sanded': 5390, 'nutritiousbar': 5391, 'nairn': 5392, 'dryest': 5393, 'oakcakes': 5394, 'sugarworks': 5395, 'bonus': 5396, 'goood': 5397, 'flapjacks': 5398, 'looses': 5399, 'peet': 5400, 'caesar': 5401, 'track': 5402, 'taken': 5403, 'directed': 5404, 'stoppage': 5405, 'jenny': 5406, 'medi': 5407, 'coke': 5408, 'snouts': 5409, 'sammy': 5410, 'falsely': 5411, 'sbould': 5412, 'crums': 5413, 'jah': 5414, 'trainng': 5415, 'faucet': 5416, 'snobby': 5417, 'stewart': 5418, 'prudhomme': 5419, 'redfish': 5420, 'refrigerator': 5421, 'refuse': 5422, 'baconnaise': 5423, 'blemd': 5424, 'zqueen': 5425, 'blent': 5426, 'recyclable': 5427, 'recycle': 5428, 'missie': 5429, 'amarillo': 5430, 'glitterati': 5431, 'mercy': 5432, 'cadillac': 5433, 'prickly': 5434, 'fingertips': 5435, 'spots': 5436, 'enjoyment': 5437, 'reman': 5438, 'happen': 5439, 'kaffir': 5440, 'deeelish': 5441, 'limerick': 5442, 'spotted': 5443, 'wha': 5444, 'giggle': 5445, 'dose': 5446, 'penicillin': 5447, 'swallowing': 5448, 'mike': 5449, 'smoooooooooth': 5450, 'morin': 5451, 'goto': 5452, 'mountin': 5453, 'bbb': 5454, 'simmons': 5455, 'itsstriketime': 5456, 'dissapionted': 5457, 'christine': 5458, 'gresock': 5459, 'mountian': 5460, 'teacher': 5461, 'room': 5462, 'pizzas': 5463, 'sherri': 5464, 'revoluton': 5465, 'rise': 5466, 'shine': 5467, 'himself': 5468, 'magically': 5469, 'snowpeas': 5470, 'hal': 5471, 'tickles': 5472, 'fruiy': 5473, 'tarty': 5474, 'fanta': 5475, 'rrefreshing': 5476, 'effervescent': 5477, 'definitive': 5478, 'swwwwweet': 5479, 'liscious': 5480, 'unwholesome': 5481, 'spendy': 5482, 'sweetners': 5483, 'peppercorn': 5484, 'screw': 5485, 'carnivorous': 5486, 'queso': 5487, 'menards': 5488, 'strongly': 5489, 'recomend': 5490, 'allmost': 5491, 'intenso': 5492, 'scooby': 5493, 'doo': 5494, 'upgraded': 5495, 'wunderbar': 5496, 'farro': 5497, 'valentines': 5498, 'cappaccino': 5499, 'lokking': 5500, 'rubbing': 5501, 'ago': 5502, 'smoooth': 5503, 'cheat': 5504, 'myyy': 5505, 'glutne': 5506, 'creates': 5507, 'regret': 5508, 'bunnies': 5509, 'coffeelicious': 5510, 'moutain': 5511, 'incorrectly': 5512, 'woulda': 5513, 'shoulda': 5514, 'coulda': 5515, 'kentuckygirl': 5516, 'smooooooth': 5517, 'quicker': 5518, 'grammas': 5519, 'helper': 5520, 'poultry': 5521, 'relieve': 5522, 'hokey': 5523, 'smokes': 5524, 'sarge': 5525, 'bons': 5526, 'mommy': 5527, 'queasy': 5528, 'dragon': 5529, 'cebt': 5530, 'interchangeable': 5531, 'crystalline': 5532, 'froggies': 5533, 'jaffa': 5534, 'sunburst': 5535, 'francais': 5536, 'slurpishly': 5537, 'consume': 5538, 'saving': 5539, 'colombia': 5540, 'ewwwwwwwwww': 5541, 'topslisa': 5542, 'menu': 5543, 'fewer': 5544, 'breakdown': 5545, 'outrageious': 5546, 'conditions': 5547, 'nurserosado': 5548, 'unjustified': 5549, 'dehydrated': 5550, 'infested': 5551, 'jalapenos': 5552, 'purely': 5553, 'malty': 5554, 'snickerdoodle': 5555, 'smkey': 5556, 'drool': 5557, 'aveda': 5558, 'egyptian': 5559, 'sweeet': 5560, 'paskesz': 5561, 'gnat': 5562, 'gnatts': 5563, 'cheated': 5564, 'potting': 5565, 'smartnourish': 5566, 'vegaterian': 5567, 'prone': 5568, 'papillon': 5569, 'trout': 5570, 'indescribably': 5571, 'lotions': 5572, 'dot': 5573, 'saw': 5574, 'tamicon': 5575, 'celcius': 5576, 'milds': 5577, 'pan': 5578, 'avacodo': 5579, 'mgo': 5580, 'roof': 5581, 'deliceous': 5582, 'urinary': 5583, 'kelp': 5584, 'nalewka': 5585, 'babuni': 5586, 'poured': 5587, 'talking': 5588, 'truvia': 5589, 'bottled': 5590, 'droool': 5591, 'modest': 5592, 'gust': 5593, 'lungo': 5594, 'disguist': 5595, 'reednikki': 5596, 'naan': 5597, 'tartaric': 5598, 'aaah': 5599, 'file': 5600, 'homework': 5601, 'necklace': 5602, 'refill': 5603, 'wildside': 5604, 'racer': 5605, 'enrico': 5606, 'whats': 5607, 'schnauzers': 5608, 'aaaa': 5609, 'shakers': 5610, 'rite': 5611, 'amaranth': 5612, 'introduction': 5613, 'quieted': 5614, 'tears': 5615, 'newlife': 5616, 'flawed': 5617, 'elite': 5618, 'boldo': 5619, 'meiji': 5620, 'anchiote': 5621, 'reviewed': 5622, 'liege': 5623, 'belgium': 5624, 'snackwells': 5625, 'rasin': 5626, 'worls': 5627, 'stabilizer': 5628, 'aioli': 5629, 'snackwell': 5630, 'zagreb': 5631, 'barking': 5632, 'hugely': 5633, 'exceeded': 5634, 'bigtaz': 5635, 'names': 5636, 'manifique': 5637, 'bury': 5638, 'lolipops': 5639, 'trading': 5640, 'qualiy': 5641, 'mixture': 5642, 'decide': 5643, 'falavoring': 5644, 'competetive': 5645, 'ordern': 5646, 'pine': 5647, 'dooooo': 5648, 'captains': 5649, 'reminders': 5650, 'nyc': 5651, 'seren': 5652, 'frrozen': 5653, 'aznd': 5654, 'buon': 5655, 'existence': 5656, 'sensations': 5657, 'ponytail': 5658, 'partner': 5659, 'biscuitlets': 5660, 'april': 5661, 'unlucky': 5662, 'packagining': 5663, 'crumbles': 5664, 'xcellent': 5665, 'precut': 5666, 'parchment': 5667, 'sheets': 5668, 'yuuuummy': 5669, 'irregularity': 5670, 'genuine': 5671, 'whiten': 5672, 'pearly': 5673, 'oliver': 5674, 'piccolo': 5675, 'litttle': 5676, 'brushing': 5677, 'younger': 5678, 'suscribe': 5679, 'greeniesmy': 5680, 'favorate': 5681, 'lolas': 5682, 'grenies': 5683, 'moe': 5684, 'dope': 5685, 'weenie': 5686, 'tonytada': 5687, 'owen': 5688, 'gs': 5689, 'dycee': 5690, 'greyhound': 5691, 'grrrrrreat': 5692, 'future': 5693, 'papillions': 5694, 'contradicting': 5695, 'worms': 5696, 'worm': 5697, 'sugars': 5698, 'liking': 5699, 'perchase': 5700, 'awesine': 5701, 'thinne': 5702, 'nicer': 5703, 'peasy': 5704, 'daiquiri': 5705, 'shaken': 5706, 'stirred': 5707, 'buried': 5708, 'siberian': 5709, 'looooong': 5710, 'brightest': 5711, 'investment': 5712, 'interactive': 5713, 'occupier': 5714, 'equipment': 5715, 'puzzler': 5716, 'boisterous': 5717, 'strudy': 5718, 'frustrated': 5719, 'indestructible': 5720, 'tween': 5721, 'war': 5722, 'spills': 5723, 'frustrating': 5724, 'driven': 5725, 'welll': 5726, 'labled': 5727, 'figured': 5728, 'genius': 5729, 'hardwood': 5730, 'floors': 5731, 'apartments': 5732, 'duriable': 5733, 'empties': 5734, 'motivated': 5735, 'endless': 5736, 'construction': 5737, 'noisy': 5738, 'cove': 5739, 'bulgur': 5740, 'prezel': 5741, 'arent': 5742, 'transportation': 5743, 'pruduct': 5744, 'stevita': 5745, 'complement': 5746, 'relaxer': 5747, 'krispies': 5748, 'passionfruit': 5749, 'weights': 5750, 'yours': 5751, 'nutrish': 5752, 'jumps': 5753, 'math': 5754, 'grassy': 5755, 'recommendations': 5756, 'worn': 5757, 'lucid': 5758, 'trofie': 5759, 'alergies': 5760, 'carried': 5761, 'ikea': 5762, 'norman': 5763, 'zuckerman': 5764, 'boise': 5765, 'soybeans': 5766, 'proto': 5767, 'ostrim': 5768, 'properly': 5769, 'toxic': 5770, 'sacrifice': 5771, 'noticeable': 5772, 'frenchy': 5773, 'claims': 5774, 'doll': 5775, 'lemonheads': 5776, 'waters': 5777, 'jr': 5778, 'passs': 5779, 'manischewitz': 5780, 'naturel': 5781, 'bleech': 5782, 'reserve': 5783, 'gouda': 5784, 'scotland': 5785, 'brodies': 5786, 'goldilocks': 5787, 'sensitivities': 5788, 'blegh': 5789, 'personality': 5790, 'kame': 5791, 'challenged': 5792, 'continuing': 5793, 'pampered': 5794, 'betsy': 5795, 'lighting': 5796, 'rod': 5797, 'tendons': 5798, 'chocolast': 5799, 'somthing': 5800, 'contolled': 5801, 'naughtiness': 5802, 'potatoe': 5803, 'indulging': 5804, 'parmesan': 5805, 'greeaat': 5806, 'thme': 5807, 'munchos': 5808, 'robsmom': 5809, 'grandchildren': 5810, 'sweeeeet': 5811, 'sc': 5812, 'fillets': 5813, 'christian': 5814, 'shiitakes': 5815, 'squeeker': 5816, 'cheeselicious': 5817, 'finnska': 5818, 'bushel': 5819, 'emerls': 5820, 'ohhhh': 5821, 'rasberries': 5822, 'bonanza': 5823, 'steps': 5824, 'dancing': 5825, 'suggested': 5826, 'mal': 5827, 'pollux': 5828, 'ziwipeak': 5829, 'foood': 5830, 'domino': 5831, 'marshmallow': 5832, 'granoloa': 5833, 'saccharine': 5834, 'ruins': 5835, 'kuma': 5836, 'gizmo': 5837, 'woww': 5838, 'portato': 5839, 'neither': 5840, 'chemo': 5841, 'wbc': 5842, 'delites': 5843, 'balled': 5844, 'ecstasy': 5845, 'murray': 5846, 'flake': 5847, 'cocoquik': 5848, 'lesley': 5849, 'elizabeth': 5850, 'marie': 5851, 'biscuts': 5852, 'bonz': 5853, 'pins': 5854, 'counters': 5855, 'breakfest': 5856, 'mcclain': 5857, 'bisquik': 5858, 'oooooooooo': 5859, 'hotte': 5860, 'houte': 5861, 'chocolage': 5862, 'vey': 5863, 'converted': 5864, 'brul': 5865, 'hoot': 5866, 'whales': 5867, 'scared': 5868, 'supervised': 5869, 'mel': 5870, 'solve': 5871, 'kyjen': 5872, 'jigsaw': 5873, 'glider': 5874, 'flapper': 5875, 'challenges': 5876, 'radar': 5877, 'maltise': 5878, 'carba': 5879, 'nada': 5880, 'yeahrightsure': 5881, 'noddles': 5882, 'sanskriti': 5883, 'breadcrumbs': 5884, 'lassi': 5885, 'unwrapping': 5886, 'tedious': 5887, 'giveaway': 5888, 'loooovee': 5889, 'ittt': 5890, 'coffeelover': 5891, 'debbie': 5892, 'carne': 5893, 'asada': 5894, 'dorste': 5895, 'mashed': 5896, 'pkgs': 5897, 'pity': 5898, 'cruch': 5899, 'davinci': 5900, 'ouzo': 5901, 'bleargh': 5902, 'wagner': 5903, 'carbonara': 5904, 'suit': 5905, 'powerade': 5906, 'mark': 5907, 'yuccchhhhh': 5908, 'yuuuuuummyyy': 5909, 'snacki': 5910, 'primalspirit': 5911, 'sloooooww': 5912, 'innocent': 5913, 'yummyyyy': 5914, 'faux': 5915, 'hankering': 5916, 'desired': 5917, 'sk': 5918, 'lucini': 5919, 'stupidly': 5920, 'pumped': 5921, 'grapefruity': 5922, 'numminess': 5923, 'pinkgrapefruit': 5924, 'sickly': 5925, 'bodybuilders': 5926, 'yamamotoyama': 5927, 'ivory': 5928, 'conoisseur': 5929, 'sucunat': 5930, 'buiscuits': 5931, 'rad': 5932, 'exceptable': 5933, 'dnb': 5934, 'paino': 5935, 'molassess': 5936, 'napolean': 5937, 'remy': 5938, 'martin': 5939, 'healthys': 5940, 'smack': 5941, 'sexxy': 5942, 'cougar': 5943, 'angelhair': 5944, 'guatemalan': 5945, 'antigua': 5946, 'southwestern': 5947, 'disliked': 5948, 'stream': 5949, 'reader': 5950, 'mung': 5951, 'pathetic': 5952, 'tadka': 5953, 'daal': 5954, 'execellent': 5955, 'grandmother': 5956, 'huckelberry': 5957, 'chunck': 5958, 'olivia': 5959, 'excelente': 5960, 'quanitity': 5961, 'bronchipret': 5962, 'pommie': 5963, 'kay': 5964, 'mehh': 5965, 'crumbled': 5966, 'tavah': 5967, 'berriers': 5968, 'trace': 5969, 'slowest': 5970, 'sweetart': 5971, 'breakables': 5972, 'gro': 5973, 'suites': 5974, 'breeze': 5975, 'chaim': 5976, 'kuchenmeister': 5977, 'resolution': 5978, 'lurve': 5979, 'crotch': 5980, 'liptons': 5981, 'kal': 5982, 'bi': 5983, 'prep': 5984, 'eclipse': 5985, 'refreshes': 5986, 'instantly': 5987, 'quali': 5988, 'grrrreat': 5989, 'ka': 5990, 'threads': 5991, 'adventures': 5992, 'presented': 5993, 'generous': 5994, 'favorits': 5995, 'seek': 5996, 'pringles': 5997, 'sharelyn': 5998, 'cheeeeeeesssseeeesssstttttt': 5999, 'puddingy': 6000, 'grate': 6001, 'menues': 6002, 'wide': 6003, 'changing': 6004, 'houseplant': 6005, 'supremo': 6006, 'kb': 6007, 'kaese': 6008, 'woundcare': 6009, 'wound': 6010, 'lesson': 6011, 'learned': 6012, 'curds': 6013, 'yogurmet': 6014, 'bifidus': 6015, 'yougurt': 6016, 'haennchen': 6017, 'spritzers': 6018, 'carse': 6019, 'cutting': 6020, 'breat': 6021, 'mustards': 6022, 'xs': 6023, 'hilda': 6024, 'stuffin': 6025, 'gm': 6026, 'pooches': 6027, 'retriever': 6028, 'basted': 6029, 'robin': 6030, 'hood': 6031, 'overated': 6032, 'bellagio': 6033, 'cuba': 6034, 'freaken': 6035, 'peardrax': 6036, 'bon': 6037, 'ken': 6038, 'glaces': 6039, 'horses': 6040, 'pms': 6041, 'mares': 6042, 'peelu': 6043, 'feedback': 6044, 'amazone': 6045, 'ojai': 6046, 'lemonaise': 6047, 'adver': 6048, 'dagoba': 6049, 'occassion': 6050, 'powders': 6051, 'aaahhhhhh': 6052, 'kkups': 6053, 'dellicious': 6054, 'bendingly': 6055, 'figaro': 6056, 'fabulosa': 6057, 'aromatherapy': 6058, 'teatea': 6059, 'orance': 6060, 'cs': 6061, 'anybody': 6062, 'mtr': 6063, 'rajma': 6064, 'rejuvenates': 6065, 'mano': 6066, 'alo': 6067, 'vera': 6068, 'icecream': 6069, 'yuppy': 6070, 'throughly': 6071, 'stocked': 6072, 'peal': 6073, 'humas': 6074, 'novus': 6075, 'badda': 6076, 'continue': 6077, 'warehoused': 6078, 'marketplace': 6079, 'milka': 6080, 'schoko': 6081, 'monterrey': 6082, 'contamined': 6083, 'chocolae': 6084, 'percentage': 6085, 'scottish': 6086, 'godson': 6087, 'prostrate': 6088, 'glucose': 6089, 'beachcomber': 6090, 'budds': 6091, 'absolutly': 6092, 'bodog': 6093, 'flintstones': 6094, 'multivitamin': 6095, 'kava': 6096, 'hottttttttttt': 6097, 'methi': 6098, 'surprisely': 6099, 'disgust': 6100, 'sparkle': 6101, 'kumut': 6102, 'nachos': 6103, 'curd': 6104, 'aaaccchhh': 6105, 'absooooooo': 6106, 'lutely': 6107, 'omgz': 6108, 'backyard': 6109, 'tommy': 6110, 'tri': 6111, 'paks': 6112, 'colin': 6113, 'maids': 6114, 'kits': 6115, 'covenient': 6116, 'neighbors': 6117, 'bambinos': 6118, 'tastinf': 6119, 'popocorn': 6120, 'disclaimer': 6121, 'unpop': 6122, 'juuuuust': 6123, 'lacked': 6124, 'bred': 6125, 'delecious': 6126, 'safeway': 6127, 'hateful': 6128, 'invigorating': 6129, 'lightning': 6130, 'toothsaver': 6131, 'vazer': 6132, 'nicest': 6133, 'havestaple': 6134, 'nummers': 6135, 'leafy': 6136, 'recaffienation': 6137, 'amazons': 6138, 'reactions': 6139, 'sorghum': 6140, 'hocus': 6141, 'pocus': 6142, 'pamala': 6143, 'breadmachine': 6144, 'glute': 6145, 'rosita': 6146, 'celiacpro': 6147, 'easyand': 6148, 'pam': 6149, 'lies': 6150, 'barswith': 6151, 'loooooove': 6152, 'sight': 6153, 'yow': 6154, 'favours': 6155, 'cent': 6156, 'hazer': 6157, 'scoops': 6158, 'riuned': 6159, 'goumet': 6160, 'colters': 6161, 'ciocolatta': 6162, 'calda': 6163, 'controlled': 6164, 'east': 6165, 'stingwer': 6166, 'refried': 6167, 'mommyshopper': 6168, 'orderhappy': 6169, 'lous': 6170, 'overpaid': 6171, 'feelings': 6172, 'extravagance': 6173, 'izze': 6174, 'carmine': 6175, 'conflicting': 6176, 'seasoniing': 6177, 'cottage': 6178, 'vanill': 6179, 'shizzle': 6180, 'dduuuuuudddddeee': 6181, 'brandy': 6182, 'dreary': 6183, 'soooooooooo': 6184, 'proven': 6185, 'toxin': 6186, 'untasty': 6187, 'pipe': 6188, 'pomegranted': 6189, 'workmanship': 6190, 'tes': 6191, 'magnificent': 6192, 'kalamata': 6193, 'haves': 6194, 'offseason': 6195, 'mkt': 6196, 'farmers': 6197, 'humongus': 6198, 'pumpkinhead': 6199, 'mistaken': 6200, 'ae': 6201, 'monsters': 6202, 'energizing': 6203, 'dizziness': 6204, 'necassary': 6205, 'slushie': 6206, 'smurfs': 6207, 'amishpopcorn': 6208, 'tmj': 6209, 'chistmas': 6210, 'connoisseur': 6211, 'sophisticated': 6212, 'suggest': 6213, 'sz': 6214, 'gastric': 6215, 'pts': 6216, 'insult': 6217, 'echinacea': 6218, 'deans': 6219, 'fireball': 6220, 'fireballs': 6221, 'seasickness': 6222, 'sickness': 6223, 'throats': 6224, 'congestion': 6225, 'gins': 6226, 'minrt': 6227, 'wylers': 6228, 'teresa': 6229, 'ny': 6230, 'sugard': 6231, 'saturated': 6232, 'juciest': 6233, 'fruitables': 6234, 'iridescent': 6235, 'tempting': 6236, 'decoration': 6237, 'accent': 6238, 'hive': 6239, 'sacha': 6240, 'guava': 6241, 'refresher': 6242, 'quantitiy': 6243, 'orangic': 6244, 'certainly': 6245, 'expierence': 6246, 'hesitated': 6247, 'supervise': 6248, 'chlorhexidine': 6249, 'premiums': 6250, 'newf': 6251, 'foxy': 6252, 'becoming': 6253, 'virbec': 6254, 'thickness': 6255, 'boutique': 6256, 'annoying': 6257, 'verdergetbetterpackageing': 6258, 'kellog': 6259, 'officially': 6260, 'powdder': 6261, 'cirmi': 6262, 'reducing': 6263, 'pressure': 6264, 'feathers': 6265, 'entangled': 6266, 'petals': 6267, 'samatra': 6268, 'fantastically': 6269, 'trolli': 6270, 'azmira': 6271, 'elusive': 6272, 'myself': 6273, 'weim': 6274, 'hearburn': 6275, 'ratings': 6276, 'walden': 6277, 'bioneem': 6278, 'insect': 6279, 'remover': 6280, 'barrista': 6281, 'flashback': 6282, 'preground': 6283, 'tull': 6284, 'consistent': 6285, 'buonissimo': 6286, 'colds': 6287, 'buyers': 6288, 'secure': 6289, 'arrr': 6290, 'pirates': 6291, 'styrofoam': 6292, 'ti': 6293, 'bubblemint': 6294, 'adverstising': 6295, 'cloyingly': 6296, 'misconception': 6297, 'jummy': 6298, 'foulest': 6299, 'wimpy': 6300, 'hetrbal': 6301, 'hawthorne': 6302, 'swears': 6303, 'baaaad': 6304, 'nettle': 6305, 'pond': 6306, 'expedited': 6307, 'hayfever': 6308, 'uti': 6309, 'heathful': 6310, 'dbp': 6311, 'believer': 6312, 'spearment': 6313, 'valerian': 6314, 'promotes': 6315, 'senna': 6316, 'couples': 6317, 'wanna': 6318, 'readible': 6319, 'certs': 6320, 'convinient': 6321, 'shockingly': 6322, 'hulless': 6323, 'cucina': 6324, 'antica': 6325, 'trash': 6326, 'ellie': 6327, 'allows': 6328, 'chewd': 6329, 'chester': 6330, 'supervision': 6331, 'hazzard': 6332, 'barf': 6333, 'marilyn': 6334, 'joker': 6335, 'miles': 6336, 'verona': 6337, 'smile': 6338, 'smoothe': 6339, 'prescription': 6340, 'praline': 6341, 'cry': 6342, 'enthusiast': 6343, 'mackerel': 6344, 'marshmallows': 6345, 'sanlee': 6346, 'wooden': 6347, 'abd': 6348, 'domestic': 6349, 'goodman': 6350, 'shipments': 6351, 'stressful': 6352, 'moments': 6353, 'fing': 6354, 'chailicious': 6355, 'bri': 6356, 'stashi': 6357, 'receved': 6358, 'debris': 6359, 'prouduct': 6360, 'fell': 6361, 'mono': 6362, 'suckin': 6363, 'glutamate': 6364, 'saltie': 6365, 'favorful': 6366, 'quappy': 6367, 'teryaki': 6368, 'drug': 6369, 'trips': 6370, 'precise': 6371, 'centerpiece': 6372, 'harder': 6373, 'hock': 6374, 'kicks': 6375, 'kh': 6376, 'degrees': 6377, 'dosen': 6378, 'lakes': 6379, 'regatta': 6380, 'stormy': 6381, 'porkyland': 6382, 'noirot': 6383, 'mardi': 6384, 'fastic': 6385, 'nad': 6386, 'streusel': 6387, 'quatity': 6388, 'scale': 6389, 'beefsteak': 6390, 'utter': 6391, 'eww': 6392, 'rotted': 6393, 'carton': 6394, 'copy': 6395, 'vaccummed': 6396, 'scotch': 6397, 'outback': 6398, 'steakhouse': 6399, 'alas': 6400, 'sabor': 6401, 'military': 6402, 'baseball': 6403, 'smartwater': 6404, 'earths': 6405, 'permanent': 6406, 'wontons': 6407, 'plasmon': 6408, 'overheated': 6409, 'merchant': 6410, 'cruz': 6411, 'raisen': 6412, 'thunderclusters': 6413, 'poppie': 6414, 'mum': 6415, 'chocs': 6416, 'magma': 6417, 'acknowledged': 6418, 'devil': 6419, 'cog': 6420, 'syddrome': 6421, 'heathers': 6422, 'heather': 6423, 'tamers': 6424, 'pricier': 6425, 'valerie': 6426, 'poisons': 6427, 'tonighy': 6428, 'croissant': 6429, 'driver': 6430, 'curse': 6431, 'grownup': 6432, 'chalk': 6433, 'grating': 6434, 'ciacco': 6435, 'ummy': 6436, 'detastix': 6437, 'massel': 6438, 'ultracubes': 6439, 'compounds': 6440, 'rumsford': 6441, 'barritts': 6442, 'minimum': 6443, 'diffrent': 6444, 'shiratake': 6445, 'gacky': 6446, 'filler': 6447, 'starve': 6448, 'bands': 6449, 'yuckkkkk': 6450, 'wormy': 6451, 'zoology': 6452, 'gut': 6453, 'slo': 6454, 'pokes': 6455, 'wrecked': 6456, 'sri': 6457, 'lanka': 6458, 'dentless': 6459, 'twelve': 6460, 'ave': 6461, 'frappe': 6462, 'lumps': 6463, 'dissolve': 6464, 'prpduct': 6465, 'seneca': 6466, 'dat': 6467, 'aficionado': 6468, 'flours': 6469, 'bbbbbbarley': 6470, 'absence': 6471, 'bc': 6472, 'generic': 6473, 'beads': 6474, 'itty': 6475, 'bitty': 6476, 'lactose': 6477, 'sensitivity': 6478, 'bab': 6479, 'bellini': 6480, 'hundenflocken': 6481, 'justins': 6482, 'porduct': 6483, 'justin': 6484, 'convienient': 6485, 'shiro': 6486, 'fueling': 6487, 'pomegranet': 6488, 'babel': 6489, 'mococcan': 6490, 'cupboard': 6491, 'nussini': 6492, 'maddie': 6493, 'bel': 6494, 'aria': 6495, 'municipal': 6496, 'forgetaboutit': 6497, 'stopper': 6498, 'leaks': 6499, 'oggi': 6500, 'yuch': 6501, 'roland': 6502, 'ripened': 6503, 'wissotzky': 6504, 'wissotsky': 6505, 'awesomest': 6506, 'yukk': 6507, 'replaqcement': 6508, 'tlc': 6509, 'vanished': 6510, 'novelty': 6511, 'lined': 6512, 'ajitsuke': 6513, 'snax': 6514, 'extraneous': 6515, 'pmegranates': 6516, 'informative': 6517, 'chocpoms': 6518, 'suck': 6519, 'bene': 6520, 'louisville': 6521, 'chupa': 6522, 'chups': 6523, 'sand': 6524, 'beatiful': 6525, 'tumeric': 6526, 'oustanding': 6527, 'koi': 6528, 'viva': 6529, 'wal': 6530, 'mart': 6531, 'teariffic': 6532, 'glace': 6533, 'berbere': 6534, 'depth': 6535, 'hounds': 6536, 'marc': 6537, 'dept': 6538, 'medal': 6539, 'flavoured': 6540, 'gentle': 6541, 'sonny': 6542, 'authenic': 6543, 'iveta': 6544, 'kenny': 6545, 'balck': 6546, 'herman': 6547, 'calmer': 6548, 'snafu': 6549, 'canisters': 6550, 'duped': 6551, 'solidified': 6552, 'madmax': 6553, 'afternoons': 6554, 'amazubg': 6555, 'ist': 6556, 'gaaaawwwwdddd': 6557, 'rosehip': 6558, 'cheech': 6559, 'chong': 6560, 'fluoridated': 6561, 'himalyan': 6562, 'decision': 6563, 'muchas': 6564, 'gracias': 6565, 'inhalers': 6566, 'reprehensible': 6567, 'theday': 6568, 'boursin': 6569, 'november': 6570, 'liter': 6571, 'adding': 6572, 'flawlessly': 6573, 'fraps': 6574, 'dispense': 6575, 'qaulity': 6576, 'pumps': 6577, 'spits': 6578, 'tvp': 6579, 'nips': 6580, 'giflt': 6581, 'perhaps': 6582, 'patrick': 6583, 'buttons': 6584, 'compete': 6585, 'unappetizing': 6586, 'metabisulfite': 6587, 'allergenic': 6588, 'jasmati': 6589, 'yumalishus': 6590, 'pigg': 6591, 'eay': 6592, 'cousacous': 6593, 'hybrid': 6594, 'disks': 6595, 'exaggerated': 6596, 'spiciness': 6597, 'gubmo': 6598, 'toaster': 6599, 'chic': 6600, 'rtd': 6601, 'lg': 6602, 'vietnam': 6603, 'default': 6604, 'supersized': 6605, 'tag': 6606, 'rescused': 6607, 'edensoy': 6608, 'guar': 6609, 'damged': 6610, 'agreat': 6611, 'behaive': 6612, 'macrobars': 6613, 'sicily': 6614, 'sesamioil': 6615, 'exir': 6616, 'anchovy': 6617, 'marv': 6618, 'seven': 6619, 'hills': 6620, 'truson': 6621, 'canines': 6622, 'knox': 6623, 'sal': 6624, 'collectables': 6625, 'constipates': 6626, 'ar': 6627, 'mapley': 6628, 'redeeming': 6629, 'bev': 6630, 'potter': 6631, 'inflammatory': 6632, 'istevia': 6633, 'whoopie': 6634, 'enrich': 6635, 'looooonnnnngggg': 6636, 'ssshhhiiipppiiingg': 6637, 'yess': 6638, 'hairballs': 6639, 'purrfect': 6640, 'treatment': 6641, 'wiskas': 6642, 'tricks': 6643, 'fortnightly': 6644, 'become': 6645, 'bobbys': 6646, 'monthly': 6647, 'favour': 6648, 'trained': 6649, 'begs': 6650, 'timing': 6651, 'artdog': 6652, 'bgs': 6653, 'centerpieces': 6654, 'philphan': 6655, 'donna': 6656, 'rec': 6657, 'bacterial': 6658, 'stroopwaffles': 6659, 'smacking': 6660, 'hulls': 6661, 'declicious': 6662, 'applications': 6663, 'unflavorful': 6664, 'poppers': 6665, 'weens': 6666, 'udi': 6667, 'gopher': 6668, 'professor': 6669, 'tenderfully': 6670, 'smothered': 6671, 'sorbate': 6672, 'constipation': 6673, 'spiciest': 6674, 'carmet': 6675, 'starlight': 6676, 'barnie': 6677, 'braided': 6678, 'purcahse': 6679, 'survival': 6680, 'sense': 6681, 'sneaky': 6682, 'adulteration': 6683, 'splecccchhhhda': 6684, 'chocolote': 6685, 'duster': 6686, 'mhic': 6687, 'intenational': 6688, 'chocalicious': 6689, 'cerial': 6690, 'timeliness': 6691, 'biodegradable': 6692, 'workable': 6693, 'responsible': 6694, 'orgran': 6695, 'multigrain': 6696, 'achool': 6697, 'fritos': 6698, 'wishes': 6699, 'introduce': 6700, 'welchs': 6701, 'kippers': 6702, 'kipper': 6703, 'hines': 6704, 'returned': 6705, 'droewors': 6706, 'cran': 6707, 'relative': 6708, 'marukawa': 6709, 'champ': 6710, 'ft': 6711, 'ron': 6712, 'dunlap': 6713, 'neman': 6714, 'cents': 6715, 'barilla': 6716, 'spiedie': 6717, 'lyons': 6718, 'crabcakes': 6719, 'nutro': 6720, 'whay': 6721, 'setup': 6722, 'riceselect': 6723, 'flops': 6724, 'jullienne': 6725, 'taiwan': 6726, 'recvd': 6727, 'maddy': 6728, 'spuds': 6729, 'allowed': 6730, 'produces': 6731, 'torture': 6732, 'gunter': 6733, 'immense': 6734, 'closet': 6735, 'expense': 6736, 'kaia': 6737, 'foreign': 6738, 'material': 6739, 'vegie': 6740, 'soupy': 6741, 'queen': 6742, 'stewpendous': 6743, 'omit': 6744, 'flavordoh': 6745, 'hammer': 6746, 'amazom': 6747, 'purrrrrrrrrrrrrrfect': 6748, 'likesw': 6749, 'climber': 6750, 'choicw': 6751, 'pruchased': 6752, 'overcharged': 6753, 'tastiness': 6754, 'lieberman': 6755, 'vomited': 6756, 'leelee': 6757, 'stella': 6758, 'swell': 6759, 'dogwells': 6760, 'intersting': 6761, 'manhattans': 6762, 'travelling': 6763, 'warheads': 6764, 'hm': 6765, 'jade': 6766, 'everythign': 6767, 'pourable': 6768, 'sucre': 6769, 'mousse': 6770, 'bubba': 6771, 'method': 6772, 'administering': 6773, 'medications': 6774, 'appetizer': 6775, 'coffrr': 6776, 'coffeetime': 6777, 'street': 6778, 'reception': 6779, 'didn': 6780, 'licoirice': 6781, 'groundhogs': 6782, 'peoper': 6783, 'raccoons': 6784, 'japones': 6785, 'jerez': 6786, 'queennabidabi': 6787, 'kernelly': 6788, 'robusta': 6789, 'tolerated': 6790, 'melting': 6791, 'decorator': 6792, 'colouring': 6793, 'chana': 6794, 'raspberries': 6795, 'tortuga': 6796, 'rosa': 6797, 'standby': 6798, 'reordered': 6799, 'como': 6800, 'hice': 6801, 'abuela': 6802, 'vivienne': 6803, 'romano': 6804, 'restaraunts': 6805, 'imagined': 6806, 'wonton': 6807, 'ton': 6808, 'sucked': 6809, 'awsomeness': 6810, 'flavorings': 6811, 'boyajian': 6812, 'sprouter': 6813, 'wonderfull': 6814, 'standing': 6815, 'vergnano': 6816, 'wifes': 6817, 'sou': 6818, 'schoolers': 6819, 'delishious': 6820, 'kawaii': 6821, 'florescent': 6822, 'dimensions': 6823, 'temperature': 6824, 'cri': 6825, 'advertized': 6826, 'output': 6827, 'measurements': 6828, 'teh': 6829, 'extracts': 6830, 'rotties': 6831, 'measuring': 6832, 'bf': 6833, 'moctail': 6834, 'mojito': 6835, 'earthmate': 6836, 'watt': 6837, 'spectrum': 6838, 'bulb': 6839, 'fluorescent': 6840, 'trays': 6841, 'necco': 6842, 'appreciates': 6843, 'history': 6844, 'senchen': 6845, 'licorace': 6846, 'strangely': 6847, 'beet': 6848, 'juince': 6849, 'unwind': 6850, 'baggie': 6851, 'nueske': 6852, 'energets': 6853, 'marred': 6854, 'initial': 6855, 'waxiness': 6856, 'apr': 6857, 'approachable': 6858, 'reservations': 6859, 'yawn': 6860, 'soooooooooooo': 6861, 'colan': 6862, 'braces': 6863, 'theory': 6864, 'practice': 6865, 'kitkat': 6866, 'budget': 6867, 'capelin': 6868, 'evaluation': 6869, 'pauper': 6870, 'microwaveable': 6871, 'cocacola': 6872, 'spreadable': 6873, 'accuratly': 6874, 'dawgs': 6875, 'university': 6876, 'kittykat': 6877, 'catmilk': 6878, 'tee': 6879, 'rific': 6880, 'enerjets': 6881, 'ranger': 6882, 'joseph': 6883, 'das': 6884, 'limey': 6885, 'nomnomnomnomnom': 6886, 'jalepeno': 6887, 'taster': 6888, 'bs': 6889, 'friggen': 6890, 'everrr': 6891, 'keto': 6892, 'darling': 6893, 'voted': 6894, 'aussi': 6895, 'licorce': 6896, 'badness': 6897, 'pgtips': 6898, 'defines': 6899, 'britishness': 6900, 'proper': 6901, 'flavourful': 6902, 'historic': 6903, 'tealovers': 6904, 'thereminists': 6905, 'quarterly': 6906, 'partial': 6907, 'tipping': 6908, 'planing': 6909, 'moxie': 6910, 'julie': 6911, 'ellas': 6912, 'babyfood': 6913, 'hondo': 6914, 'traumatic': 6915, 'unprofitable': 6916, 'spelt': 6917, 'bergin': 6918, 'pinto': 6919, 'pleasent': 6920, 'offset': 6921, 'henry': 6922, 'tannic': 6923, 'underwhelming': 6924, 'popsicle': 6925, 'scores': 6926, 'tullt': 6927, 'heven': 6928, 'magnifique': 6929, 'sucessful': 6930, 'superlative': 6931, 'robot': 6932, 'merry': 6933, 'aleternative': 6934, 'popovers': 6935, 'oven': 6936, 'herbalife': 6937, 'harissa': 6938, 'fussiest': 6939, 'deadly': 6940, 'kiesha': 6941, 'skunk': 6942, 'gnawhide': 6943, 'gnawhides': 6944, 'indomie': 6945, 'hansens': 6946, 'radishes': 6947, 'trappey': 6948, 'rebar': 6949, 'pedigreee': 6950, 'angle': 6951, 'sssoooooo': 6952, 'abot': 6953, 'reversed': 6954, 'overpay': 6955, 'richy': 6956, 'faint': 6957, 'chocoholics': 6958, 'repulsive': 6959, 'confessions': 6960, 'briley': 6961, 'jazzies': 6962, 'sause': 6963, 'ragu': 6964, 'ocean': 6965, 'reva': 6966, 'warmed': 6967, 'corazona': 6968, 'indespensible': 6969, 'measure': 6970, 'ezekiel': 6971, 'alum': 6972, 'reallemon': 6973, 'pgpr': 6974, 'homegrown': 6975, 'bigfamily': 6976, 'muir': 6977, 'glen': 6978, 'hop': 6979, 'geen': 6980, 'delicacy': 6981, 'sprees': 6982, 'oragnic': 6983, 'barecontessa': 6984, 'omgoah': 6985, 'ganoclassic': 6986, 'ganocafe': 6987, 'ornange': 6988, 'peels': 6989, 'orang': 6990, 'lunchbag': 6991, 'faithful': 6992, 'gene': 6993, 'shortbreads': 6994, 'steamroller': 6995, 'slushy': 6996, 'sno': 6997, 'mgr': 6998, 'disappoints': 6999, 'varied': 7000, 'chicago': 7001, 'hotter': 7002, 'valid': 7003, 'emphasis': 7004, 'soothes': 7005, 'barbecued': 7006, 'petsmart': 7007, 'heavier': 7008, 'dolmadakia': 7009, 'hurt': 7010, 'growup': 7011, 'maney': 7012, 'juicer': 7013, 'darjeeling': 7014, 'lodi': 7015, 'gayle': 7016, 'gunpowder': 7017, 'spaniel': 7018, 'floss': 7019, 'cardiac': 7020, 'tune': 7021, 'vital': 7022, 'essentials': 7023, 'starr': 7024, 'aholic': 7025, 'warp': 7026, 'jel': 7027, 'necessity': 7028, 'karley': 7029, 'terriffic': 7030, 'mantova': 7031, 'chickweed': 7032, 'aspertame': 7033, 'cinamon': 7034, 'prize': 7035, 'dreamfields': 7036, 'tandoori': 7037, 'rajah': 7038, 'garam': 7039, 'streit': 7040, 'gem': 7041, 'dreamfilelds': 7042, 'annamaet': 7043, 'impact': 7044, 'jewel': 7045, 'bearcreek': 7046, 'mncook': 7047, 'bfs': 7048, 'rosted': 7049, 'vegables': 7050, 'swp': 7051, 'vacume': 7052, 'allen': 7053, 'field': 7054, 'current': 7055, 'lollipop': 7056, 'pleasures': 7057, 'tooooooooooo': 7058, 'excessively': 7059, 'billbery': 7060, 'alvita': 7061, 'caffine': 7062, 'wheelbarrow': 7063, 'replica': 7064, 'middles': 7065, 'tasteing': 7066, 'sleeping': 7067, 'decades': 7068, 'hellmann': 7069, 'nome': 7070, 'desir': 7071, 'barks': 7072, 'tennesee': 7073, 'mjc': 7074, 'hr': 7075, 'engineering': 7076, 'removable': 7077, 'smoooooth': 7078, 'stonewalll': 7079, 'fluctuations': 7080, 'sleepytime': 7081, 'slept': 7082, 'asafoetida': 7083, 'suprising': 7084, 'suave': 7085, 'clasico': 7086, 'trumps': 7087, 'sup': 7088, 'flaxing': 7089, 'rehydrate': 7090, 'batches': 7091, 'exercise': 7092, 'accidently': 7093, 'hydrate': 7094, 'rehydrating': 7095, 'tempted': 7096, 'passed': 7097, 'buts': 7098, 'woo': 7099, 'asthmatic': 7100, 'outdid': 7101, 'grace': 7102, 'yuumm': 7103, 'looooove': 7104, 'testing': 7105, 'sacrificing': 7106, 'delicously': 7107, 'vox': 7108, 'yuummy': 7109, 'yummlicious': 7110, 'ba': 7111, 'voxbox': 7112, 'ehrrmahgerrdd': 7113, 'banener': 7114, 'nert': 7115, 'breardd': 7116, 'nutritous': 7117, 'lingonberries': 7118, 'watse': 7119, 'ignore': 7120, 'negative': 7121, 'yami': 7122, 'morsels': 7123, 'mip': 7124, 'snicker': 7125, 'barn': 7126, 'solutions': 7127, 'powerhouse': 7128, 'nutive': 7129, 'unsurpassed': 7130, 'connoisseurs': 7131, 'bleached': 7132, 'iphone': 7133, 'nosi': 7134, 'doxie': 7135, 'destructive': 7136, 'mislabeled': 7137, 'cordial': 7138, 'imperial': 7139, 'cinanmon': 7140, 'pirce': 7141, 'biz': 7142, 'throwback': 7143, 'chessy': 7144, 'temptation': 7145, 'emergencies': 7146, 'motts': 7147, 'crawford': 7148, 'identical': 7149, 'bt': 7150, 'crawfoeds': 7151, 'tooooooo': 7152, 'maynards': 7153, 'tapers': 7154, 'wrigleys': 7155, 'solstice': 7156, 'babe': 7157, 'detectable': 7158, 'preservres': 7159, 'cheezy': 7160, 'extremly': 7161, 'licks': 7162, 'produt': 7163, 'ez': 7164, 'sseds': 7165, 'ehhhhh': 7166, 'kats': 7167, 'boullion': 7168, 'nutrients': 7169, 'suffering': 7170, 'cracks': 7171, 'abound': 7172, 'realistic': 7173, 'edward': 7174, 'paramount': 7175, 'burger': 7176, 'blossoms': 7177, 'recimmend': 7178, 'reisiling': 7179, 'azur': 7180, 'greeatest': 7181, 'bittersweet': 7182, 'sassy': 7183, 'omnomnomnomnomnom': 7184, 'boil': 7185, 'grabbers': 7186, 'candys': 7187, 'nicole': 7188, 'spite': 7189, 'efforts': 7190, 'geber': 7191, 'kidney': 7192, 'ty': 7193, 'ling': 7194, 'thompson': 7195, 'coleslaw': 7196, 'newton': 7197, 'losers': 7198, 'doughy': 7199, 'figgie': 7200, 'stops': 7201, 'softens': 7202, 'toilet': 7203, 'smelliest': 7204, 'stinkiest': 7205, 'amla': 7206, 'polisher': 7207, 'shrooms': 7208, 'grinder': 7209, 'whom': 7210, 'blandness': 7211, 'stripe': 7212, 'tries': 7213, 'bestest': 7214, 'pancreatitis': 7215, 'muli': 7216, 'furry': 7217, 'careless': 7218, 'diggin': 7219, 'kongo': 7220, 'meail': 7221, 'marylin': 7222, 'ap': 7223, 'ritif': 7224, 'ade': 7225, 'hubbard': 7226, 'brie': 7227, 'requirements': 7228, 'misrepresention': 7229, 'priority': 7230, 'flavorable': 7231, 'nairns': 7232, 'loooooong': 7233, 'brt': 7234, 'convieniance': 7235, 'curative': 7236, 'tack': 7237, 'cinnemon': 7238, 'cinnamin': 7239, 'cimmion': 7240, 'lavendar': 7241, 'husks': 7242, 'zzzzzzzzz': 7243, 'dreamwater': 7244, 'emptor': 7245, 'reflux': 7246, 'dean': 7247, 'jacobs': 7248, 'tiparos': 7249, 'rusted': 7250, 'bionaturae': 7251, 'pappardell': 7252, 'englis': 7253, 'bugsy': 7254, 'hotsauces': 7255, 'fong': 7256, 'siracha': 7257, 'cheeseeeee': 7258, 'gel': 7259, 'renewing': 7260, 'cel': 7261, 'indispensable': 7262, 'cactus': 7263, 'grillers': 7264, 'loove': 7265, 'metrx': 7266, 'herbs': 7267, 'provence': 7268, 'hazelnunts': 7269, 'fortunes': 7270, 'lactation': 7271, 'flazseed': 7272, 'textur': 7273, 'walks': 7274, 'carmels': 7275, 'trio': 7276, 'fruitofthecali': 7277, 'jasian': 7278, 'flood': 7279, 'kernel': 7280, 'encore': 7281, 'responsibility': 7282, 'towards': 7283, 'gordon': 7284, 'learning': 7285, 'ballerina': 7286, 'molly': 7287, 'research': 7288, 'delectible': 7289, 'maize': 7290, 'tooooo': 7291, 'moos': 7292, 'pdq': 7293, 'mass': 7294, 'ito': 7295, 'macht': 7296, 'kinder': 7297, 'froh': 7298, 'darrell': 7299, 'lea': 7300, 'swimming': 7301, 'pool': 7302, 'laundry': 7303, 'dingooooo': 7304, 'atkins': 7305, 'rank': 7306, 'ugghhhhhh': 7307, 'grav': 7308, 'lox': 7309, 'tarrazu': 7310, 'witout': 7311, 'swapped': 7312, 'vigor': 7313, 'caring': 7314, 'moscato': 7315, 'excelentes': 7316, 'rough': 7317, 'greentea': 7318, 'fullslate': 7319, 'mutt': 7320, 'toasty': 7321, 'blackjack': 7322, 'nutrasweet': 7323, 'chemically': 7324, 'robery': 7325, 'raspbery': 7326, 'begging': 7327, 'poillux': 7328, 'jewlly': 7329, 'jellybellies': 7330, 'pit': 7331, 'integrity': 7332, 'wally': 7333, 'criminally': 7334, 'lana': 7335, 'moscow': 7336, 'mules': 7337, 'petits': 7338, 'suga': 7339, 'terrifice': 7340, 'kasha': 7341, 'mazing': 7342, 'intake': 7343, 'bariatric': 7344, 'patients': 7345, 'ooooh': 7346, 'hopies': 7347, 'mrp': 7348, 'fpod': 7349, 'katie': 7350, 'exudes': 7351, 'mincepie': 7352, 'odense': 7353, 'underweight': 7354, 'tamales': 7355, 'orleans': 7356, 'olivella': 7357, 'hypoallergenic': 7358, 'riot': 7359, 'discriminating': 7360, 'palates': 7361, 'dblg': 7362, 'nastiest': 7363, 'broc': 7364, 'essence': 7365, 'croutons': 7366, 'overload': 7367, 'dukan': 7368, 'rk': 7369, 'ye': 7370, 'partners': 7371, 'wisecrackers': 7372, 'prepared': 7373, 'knocked': 7374, 'zhena': 7375, 'tone': 7376, 'twinkle': 7377, 'grrrrrrreat': 7378, 'canes': 7379, 'dye': 7380, 'shortest': 7381, 'ripples': 7382, 'adulterated': 7383, 'ording': 7384, 'meyer': 7385, 'haiku': 7386, 'timeless': 7387, 'joyful': 7388, 'bouquet': 7389, 'floral': 7390, 'proflower': 7391, 'limbaugh': 7392, 'laughs': 7393, 'vegitable': 7394, 'chino': 7395, 'incompatible': 7396, 'nesspresso': 7397, 'jamacia': 7398, 'peppa': 7399, 'reese': 7400, 'didnot': 7401, 'geeta': 7402, 'sat': 7403, 'weuva': 7404, 'mideast': 7405, 'frenzy': 7406, 'chesie': 7407, 'meows': 7408, 'recognize': 7409, 'mack': 7410, 'calamari': 7411, 'buddies': 7412, 'glossy': 7413, 'coats': 7414, 'yo': 7415, 'tainted': 7416, 'update': 7417, 'shizuoka': 7418, 'lice': 7419, 'ziggies': 7420, 'hollandaise': 7421, 'hilarious': 7422, 'ebelskiver': 7423, 'cell': 7424, 'satisfacation': 7425, 'alfie': 7426, 'brownings': 7427, 'minimized': 7428, 'shady': 7429, 'bos': 7430, 'eliminated': 7431, 'fod': 7432, 'seagull': 7433, 'build': 7434, 'drugs': 7435, 'baileys': 7436, 'grreat': 7437, 'taxgal': 7438, 'overcook': 7439, 'doggys': 7440, 'judith': 7441, 'blelnd': 7442, 'wallet': 7443, 'credit': 7444, 'charged': 7445, 'rahide': 7446, 'pacifiers': 7447, 'palmeritas': 7448, 'schweppes': 7449, 'wayyy': 7450, 'firey': 7451, 'kippered': 7452, 'friggin': 7453, 'lighted': 7454, 'lamp': 7455, 'downside': 7456, 'familiar': 7457, 'familliar': 7458, 'crow': 7459, 'ohs': 7460, 'peek': 7461, 'amanda': 7462, 'biscuiuts': 7463, 'weeds': 7464, 'recive': 7465, 'kolaches': 7466, 'sooooooooooo': 7467, 'scnitzel': 7468, 'aids': 7469, 'drago': 7470, 'domlno': 7471, 'toddy': 7472, 'lemonhead': 7473, 'graduate': 7474, 'lee': 7475, 'legends': 7476, 'seal': 7477, 'juts': 7478, 'exceeds': 7479, 'neutral': 7480, 'allspice': 7481, 'spongy': 7482, 'hygrade': 7483, 'twigs': 7484, 'updating': 7485, 'purrrrfect': 7486, 'dangerously': 7487, 'imaginable': 7488, 'unfiltered': 7489, 'fires': 7490, 'theses': 7491, 'gooooood': 7492, 'expanding': 7493, 'conspiracy': 7494, 'bombs': 7495, 'flavourless': 7496, 'string': 7497, 'muscle': 7498, 'overfilling': 7499, 'healthyfood': 7500, 'yucchhhh': 7501, 'fields': 7502, 'soa': 7503, 'ruv': 7504, 'clicker': 7505, 'feral': 7506, 'cancel': 7507, 'mendous': 7508, 'misrepresenting': 7509, 'crockett': 7510, 'sppedy': 7511, 'philippines': 7512, 'calebaut': 7513, 'callets': 7514, 'charge': 7515, 'decription': 7516, 'wrapper': 7517, 'inaccurate': 7518, 'sentry': 7519, 'mite': 7520, 'creativity': 7521, 'duper': 7522, 'wagging': 7523, 'wellbars': 7524, 'needle': 7525, 'fixins': 7526, 'arnold': 7527, 'palmer': 7528, 'sups': 7529, 'doorstep': 7530, 'hamster': 7531, 'ribeye': 7532, 'pax': 7533, 'romani': 7534, 'aceti': 7535, 'hundred': 7536, 'corny': 7537, 'breakfasts': 7538, 'serendipi': 7539, 'cincy': 7540, 'wrigley': 7541, 'winterfresh': 7542, 'lion': 7543, 'champions': 7544, 'airborne': 7545, 'npa': 7546, 'subways': 7547, 'gumi': 7548, 'beras': 7549, 'gummylicious': 7550, 'juicey': 7551, 'gummiebears': 7552, 'directly': 7553, 'opposed': 7554, 'hardcore': 7555, 'gummie': 7556, 'delicioius': 7557, 'eaa': 7558, 'harbo': 7559, 'judy': 7560, 'starlet': 7561, 'gained': 7562, 'bers': 7563, 'glob': 7564, 'subscribed': 7565, 'diabeetus': 7566, 'dentist': 7567, 'haribos': 7568, 'rummy': 7569, 'drunken': 7570, 'idiots': 7571, 'remove': 7572, 'freaking': 7573, 'cemt': 7574, 'stroganoff': 7575, 'spookily': 7576, 'delgiht': 7577, 'itch': 7578, 'aide': 7579, 'puggle': 7580, 'pekingese': 7581, 'reccomend': 7582, 'refun': 7583, 'sugartwin': 7584, 'lowest': 7585, 'straightforward': 7586, 'beens': 7587, 'unroasted': 7588, 'cecco': 7589, 'nausea': 7590, 'naseau': 7591, 'looong': 7592, 'step': 7593, 'pretz': 7594, 'sensational': 7595, 'greate': 7596, 'equates': 7597, 'bin': 7598, 'kim': 7599, 'chee': 7600, 'considered': 7601, 'romey': 7602, 'stomache': 7603, 'ailments': 7604, 'uplifting': 7605, 'ewwwww': 7606, 'verrry': 7607, 'cripsy': 7608, 'diced': 7609, 'bht': 7610, 'dicey': 7611, 'complements': 7612, 'mansfieldgrp': 7613, 'tires': 7614, 'cavaties': 7615, 'nasal': 7616, 'irrigatiin': 7617, 'crock': 7618, 'botanica': 7619, 'produdt': 7620, 'parakeets': 7621, 'cosmos': 7622, 'grrrrr': 7623, 'nw': 7624, 'ingrediants': 7625, 'fad': 7626, 'allegic': 7627, 'spoken': 7628, 'jackpot': 7629, 'labelling': 7630, 'west': 7631, 'trident': 7632, 'hasta': 7633, 'ahora': 7634, 'tengo': 7635, 'quejas': 7636, 'unsatisfied': 7637, 'decorating': 7638, 'flyboy': 7639, 'keith': 7640, 'beginning': 7641, 'explode': 7642, 'kurieg': 7643, 'budda': 7644, 'sajia': 7645, 'hotttt': 7646, 'luxurious': 7647, 'cupa': 7648, 'pernigotti': 7649, 'orderer': 7650, 'lately': 7651, 'zatarain': 7652, 'rexie': 7653, 'nauture': 7654, 'hoppin': 7655, 'cholate': 7656, 'generator': 7657, 'beau': 7658, 'monde': 7659, 'ibd': 7660, 'spraying': 7661, 'tenderlicious': 7662, 'maltedmultigrain': 7663, 'wafflemix': 7664, 'tay': 7665, 'stee': 7666, 'hdbiker': 7667, 'bouliion': 7668, 'restocked': 7669, 'flatus': 7670, 'salmonella': 7671, 'licked': 7672, 'athletic': 7673, 'dgs': 7674, 'eligible': 7675, 'constipating': 7676, 'ache': 7677, 'heap': 7678, 'bagel': 7679, 'producto': 7680, 'entrega': 7681, 'empaque': 7682, 'bhut': 7683, 'specs': 7684, 'biermann': 7685, 'quck': 7686, 'anergen': 7687, 'deters': 7688, 'overeating': 7689, 'tropic': 7690, 'landjaeger': 7691, 'bors': 7692, 'thicking': 7693, 'millet': 7694, 'organo': 7695, 'madam': 7696, 'pictures': 7697, 'tight': 7698, 'ranchy': 7699, 'barrel': 7700, 'mutlivitamin': 7701, 'jesus': 7702, 'enticement': 7703, 'butler': 7704, 'jstockton': 7705, 'yogart': 7706, 'cookiing': 7707, 'checkout': 7708, 'tim': 7709, 'heidecker': 7710, 'plush': 7711, 'sundae': 7712, 'einstein': 7713, 'uneven': 7714, 'buchu': 7715, 'stable': 7716, 'enegry': 7717, 'exhausting': 7718, 'stacker': 7719, 'amazinggggg': 7720, 'students': 7721, 'crash': 7722, 'hrs': 7723, 'caffeien': 7724, 'employees': 7725, 'tremendous': 7726, 'migraines': 7727, 'anxiety': 7728, 'communications': 7729, 'eray': 7730, 'medical': 7731, 'study': 7732, 'headaches': 7733, 'limits': 7734, 'focused': 7735, 'funfetti': 7736, 'maintaining': 7737, 'stain': 7738, 'checkup': 7739, 'dalmatian': 7740, 'chooses': 7741, 'sor': 7742, 'awsomely': 7743, 'barrels': 7744, 'somethings': 7745, 'nostalgia': 7746, 'smorelly': 7747, 'mallowmars': 7748, 'marshmellow': 7749, 'sylvia': 7750, 'squash': 7751, 'revelation': 7752, 'ahhliv': 7753, 'center': 7754, 'inc': 7755, 'twizzler': 7756, 'yumy': 7757, 'handcooked': 7758, 'lard': 7759, 'surgar': 7760, 'north': 7761, 'shore': 7762, 'luau': 7763, 'chike': 7764, 'illegal': 7765, 'steamed': 7766, 'moderation': 7767, 'forth': 7768, 'suuuper': 7769, 'iranian': 7770, 'buggy': 7771, 'social': 7772, 'mak': 7773, 'marketspice': 7774, 'juices': 7775, 'berrylicious': 7776, 'occasion': 7777, 'prie': 7778, 'sandys': 7779, 'aggressive': 7780, 'luci': 7781, 'carolina': 7782, 'chilada': 7783, 'zang': 7784, 'haldiram': 7785, 'soan': 7786, 'papdi': 7787, 'dassant': 7788, 'summertime': 7789, 'bergamont': 7790, 'greys': 7791, 'shash': 7792, 'bursting': 7793, 'ended': 7794, 'abolt': 7795, 'realized': 7796, 'addicitve': 7797, 'substance': 7798, 'savoring': 7799, 'mispelling': 7800, 'uhmmy': 7801, 'superman': 7802, 'deployment': 7803, 'cape': 7804, 'cod': 7805, 'bog': 7806, 'envirokid': 7807, 'gorilla': 7808, 'eternal': 7809, 'adventurist': 7810, 'frdinker': 7811, 'mccoy': 7812, 'llave': 7813, 'frapp': 7814, 'craft': 7815, 'bazaar': 7816, 'escape': 7817, 'pefect': 7818, 'punkin': 7819, 'ish': 7820, 'totaler': 7821, 'munching': 7822, 'butts': 7823, 'everythingrub': 7824, 'supplements': 7825, 'hemriods': 7826, 'cbou': 7827, 'cheezier': 7828, 'candidate': 7829, 'dea': 7830, 'banned': 7831, 'substances': 7832, 'warn': 7833, 'adout': 7834, 'poping': 7835, 'gagina': 7836, 'doubleshot': 7837, 'sips': 7838, 'picker': 7839, 'finishes': 7840, 'amos': 7841, 'outs': 7842, 'finer': 7843, 'maraschino': 7844, 'yummylicious': 7845, 'sides': 7846, 'petal': 7847, 'forteto': 7848, 'kickn': 7849, 'block': 7850, 'kokumaro': 7851, 'bellys': 7852, 'grandparents': 7853, 'ex': 7854, 'chocoloholic': 7855, 'nighty': 7856, 'pros': 7857, 'backordered': 7858, 'blows': 7859, 'oughtta': 7860, 'gelvalia': 7861, 'bedbathand': 7862, 'drafty': 7863, 'activity': 7864, 'creat': 7865, 'junkie': 7866, 'model': 7867, 'ginerbread': 7868, 'shattered': 7869, 'grandaughters': 7870, 'fryer': 7871, 'gizzmo': 7872, 'assistance': 7873, 'eeeeeeeee': 7874, 'italia': 7875, 'staying': 7876, 'mile': 7877, 'tension': 7878, 'yaow': 7879, 'coleman': 7880, 'whoopalicious': 7881, 'whoop': 7882, 'howard': 7883, 'granma': 7884, 'story': 7885, 'soothling': 7886, 'coolest': 7887, 'decade': 7888, 'anne': 7889, 'grandfather': 7890, 'fido': 7891, 'chiken': 7892, 'chrleston': 7893, 'deeeeeeeeelish': 7894, 'monika': 7895, 'weber': 7896, 'pits': 7897, 'prestigious': 7898, 'greendogs': 7899, 'ong': 7900, 'kettles': 7901, 'surpassed': 7902, 'whew': 7903, 'boooo': 7904, 'semisweet': 7905, 'pyramid': 7906, 'cannied': 7907, 'ume': 7908, 'hurricane': 7909, 'cholesterol': 7910, 'nitrates': 7911, 'vote': 7912, 'sublime': 7913, 'ectasy': 7914, 'croatian': 7915, 'delishhhh': 7916, 'ooh': 7917, 'hero': 7918, 'mean': 7919, 'mw': 7920, 'pregnant': 7921, 'willinghams': 7922, 'wham': 7923, 'whamlicious': 7924, 'lumpy': 7925, 'risebar': 7926, 'pickling': 7927, 'shitake': 7928, 'mouthful': 7929, 'agreed': 7930, 'depression': 7931, 'hula': 7932, 'hoops': 7933, 'yesssss': 7934, 'lawwwwddd': 7935, 'cesaly': 7936, 'approval': 7937, 'pile': 7938, 'coccee': 7939, 'marketing': 7940, 'mattd': 7941, 'flip': 7942, 'loveeeeee': 7943, 'teat': 7944, 'westie': 7945, 'sit': 7946, 'scrumptuous': 7947, 'irresistable': 7948, 'abbey': 7949, 'wrinkle': 7950, 'nose': 7951, 'dries': 7952, 'ferrets': 7953, 'trainning': 7954, 'furkids': 7955, 'cholula': 7956, 'eastman': 7957, 'outdoors': 7958, 'varieties': 7959, 'safey': 7960, 'desolove': 7961, 'daniels': 7962, 'halva': 7963, 'pa': 7964, 'toppings': 7965, 'freshen': 7966, 'cajohn': 7967, 'trinidad': 7968, 'kipling': 7969, 'lumpfish': 7970, 'nuff': 7971, 'reformed': 7972, 'calls': 7973, 'dc': 7974, 'metro': 7975, 'area': 7976, 'tennessee': 7977, 'flovored': 7978, 'shamamed': 7979, 'basketwas': 7980, 'ofcourse': 7981, 'hallelujah': 7982, 'inappropriate': 7983, 'foodies': 7984, 'plato': 7985, 'moode': 7986, 'origonal': 7987, 'cops': 7988, 'delcicious': 7989, 'cuts': 7990, 'agava': 7991, 'madgave': 7992, 'attacks': 7993, 'kitteh': 7994, 'bunniez': 7995, 'twings': 7996, 'marybeth': 7997, 'coast': 7998, 'raisons': 7999, 'caveats': 8000, 'cartilage': 8001, 'vomitous': 8002, 'shiritake': 8003, 'goop': 8004, 'unpleasantly': 8005, 'eez': 8006, 'wiley': 8007, 'blossom': 8008, 'fights': 8009, 'cavities': 8010, 'switcheroo': 8011, 'twinnings': 8012, 'dam': 8013, 'aaa': 8014, 'genuin': 8015, 'soybean': 8016, 'happpy': 8017, 'pollen': 8018, 'moister': 8019, 'swans': 8020, 'maravilloso': 8021, 'cerelac': 8022, 'weakest': 8023, 'lestoil': 8024, 'uhmm': 8025, 'carrie': 8026, 'regarding': 8027, 'horseradish': 8028, 'greta': 8029, 'fentiman': 8030, 'shandy': 8031, 'fungusamongus': 8032, 'clumpiness': 8033, 'mimiccreme': 8034, 'breeds': 8035, 'sandman': 8036, 'dogwood': 8037, 'cornus': 8038, 'pac': 8039, 'detroit': 8040, 'states': 8041, 'anthon': 8042, 'berg': 8043, 'car': 8044, 'tolerates': 8045, 'wakeup': 8046, 'grumbling': 8047, 'caramello': 8048, 'busted': 8049, 'toner': 8050, 'butternut': 8051, 'thoroughly': 8052, 'samplers': 8053, 'parboiled': 8054, 'smiles': 8055, 'waay': 8056, 'sandy': 8057, 'mature': 8058, 'traverse': 8059, 'prop': 8060, 'breaking': 8061, 'costume': 8062, 'currents': 8063, 'hk': 8064, 'honeystix': 8065, 'totes': 8066, 'nutshells': 8067, 'humm': 8068, 'rations': 8069, 'nomnom': 8070, 'refilling': 8071, 'jojo': 8072, 'pronounce': 8073, 'teenage': 8074, 'healthfood': 8075, 'fails': 8076, 'pbandj': 8077, 'snackin': 8078, 'bony': 8079, 'spiky': 8080, 'shilajit': 8081, 'fashoned': 8082, 'fibre': 8083, 'memorable': 8084, 'tident': 8085, 'makin': 8086, 'udon': 8087, 'outrageously': 8088, 'chacun': 8089, 'neck': 8090, 'symptoms': 8091, 'fuirt': 8092, 'pekoe': 8093, 'webs': 8094, 'vintage': 8095, 'gummys': 8096, 'turkery': 8097, 'xclnt': 8098, 'deserve': 8099, 'samples': 8100, 'meowzer': 8101, 'compliments': 8102, 'dreadful': 8103, 'cocohydro': 8104, 'germ': 8105, 'hawaian': 8106, 'puerh': 8107, 'bullmastiff': 8108, 'assume': 8109, 'dissolving': 8110, 'sulfites': 8111, 'islands': 8112, 'amazzzzzz': 8113, 'ing': 8114, 'chewable': 8115, 'ranchers': 8116, 'individual': 8117, 'jagged': 8118, 'corner': 8119, 'moh': 8120, 'appa': 8121, 'pleas': 8122, 'potes': 8123, 'nan': 8124, 'holdover': 8125, 'mealy': 8126, 'reminiscent': 8127, 'common': 8128, 'allergens': 8129, 'depends': 8130, 'categorized': 8131, 'random': 8132, 'scsource': 8133, 'stripes': 8134, 'drugstore': 8135, 'necklaces': 8136, 'brits': 8137, 'lettuce': 8138, 'wholepaycheck': 8139, 'prefers': 8140, 'daytime': 8141, 'cheetah': 8142, 'cofffee': 8143, 'rejuvinating': 8144, 'although': 8145, 'studying': 8146, 'starbuciks': 8147, 'casing': 8148, 'magnefico': 8149, 'yummilicious': 8150, 'respects': 8151, 'francis': 8152, 'americano': 8153, 'furious': 8154, 'phillips': 8155, 'aussies': 8156, 'excellnt': 8157, 'beefeater': 8158, 'wooohooooo': 8159, 'juiced': 8160, 'havent': 8161, 'squeezeable': 8162, 'nutrious': 8163, 'munchers': 8164, 'bodywash': 8165, 'tom': 8166, 'douglas': 8167, 'refuel': 8168, 'gels': 8169, 'bike': 8170, 'addictingly': 8171, 'inspiringly': 8172, 'wave': 8173, 'playdough': 8174, 'shepherds': 8175, 'hunter': 8176, 'terrabone': 8177, 'filberts': 8178, 'oxidized': 8179, 'lock': 8180, 'lace': 8181, 'feminine': 8182, 'teenager': 8183, 'axe': 8184, 'sosour': 8185, 'displeased': 8186, 'tingle': 8187, 'smooths': 8188, 'weighing': 8189, 'boyers': 8190, 'natra': 8191, 'volumizing': 8192, 'antiozidant': 8193, 'dilution': 8194, 'bridget': 8195, 'safers': 8196, 'pepomint': 8197, 'rotini': 8198, 'canadien': 8199, 'alpen': 8200, 'anemic': 8201, 'lysander': 8202, 'methol': 8203, 'scalp': 8204, 'therapy': 8205, 'schooler': 8206, 'orchard': 8207, 'larry': 8208, 'jerkie': 8209, 'reviewers': 8210, 'callaloo': 8211, 'rebranded': 8212, 'importing': 8213, 'wheels': 8214, 'fil': 8215, 'nicolle': 8216, 'bummed': 8217, 'exchange': 8218, 'energize': 8219, 'giner': 8220, 'loooove': 8221, 'bunches': 8222, 'cedrinca': 8223, 'hardtack': 8224, 'hotdog': 8225, 'steamship': 8226, 'babysitting': 8227, 'group': 8228, 'concern': 8229, 'carpet': 8230, 'spoil': 8231, 'pomagranate': 8232, 'mollasses': 8233, 'undrinkably': 8234, 'boyland': 8235, 'squeemish': 8236, 'ramien': 8237, 'allright': 8238, 'slime': 8239, 'droooling': 8240, 'scare': 8241, 'pangs': 8242, 'curbing': 8243, 'pometta': 8244, 'pitbull': 8245, 'anna': 8246, 'grrrrreat': 8247, 'yurgh': 8248, 'roasty': 8249, 'marked': 8250, 'littles': 8251, 'healthsome': 8252, 'sumatran': 8253, 'edema': 8254, 'swollen': 8255, 'ankles': 8256, 'casual': 8257, 'ox': 8258, 'irritable': 8259, 'syndrome': 8260, 'redskins': 8261, 'octopi': 8262, 'existing': 8263, 'leo': 8264, 'romo': 8265, 'according': 8266, 'misrepresentation': 8267, 'jen': 8268, 'kicken': 8269, 'parrot': 8270, 'traded': 8271, 'dull': 8272, 'moment': 8273, 'vacation': 8274, 'volvic': 8275, 'wrappers': 8276, 'cooker': 8277, 'whattachip': 8278, 'ashwagandha': 8279, 'sw': 8280, 'rowntree': 8281, 'industrial': 8282, 'snails': 8283, 'maine': 8284, 'lobsters': 8285, 'agin': 8286, 'fathersday': 8287, 'toolbox': 8288, 'reordering': 8289, 'cantuski': 8290, 'hostess': 8291, 'screwing': 8292, 'borwn': 8293, 'chocolet': 8294, 'mmouthwatering': 8295, 'snapped': 8296, 'hubs': 8297, 'stackable': 8298, 'holds': 8299, 'simplistic': 8300, 'loumidis': 8301, 'papagalos': 8302, 'shoddy': 8303, 'disapointment': 8304, 'crate': 8305, 'wood': 8306, 'liqueur': 8307, 'strewn': 8308, 'absoloutly': 8309, 'slower': 8310, 'orgainic': 8311, 'zeor': 8312, 'hazards': 8313, 'prok': 8314, 'practically': 8315, 'tamale': 8316, 'ranchero': 8317, 'frites': 8318, 'quesadillas': 8319, 'delicioous': 8320, 'comestible': 8321, 'quik': 8322, 'disappionted': 8323, 'refund': 8324, 'victum': 8325, 'avocado': 8326, 'folks': 8327, 'ruby': 8328, 'interestingly': 8329, 'nightcap': 8330, 'muy': 8331, 'titus': 8332, 'hafner': 8333, 'unsaturated': 8334, 'saltly': 8335, 'trition': 8336, 'richard': 8337, 'december': 8338, 'icky': 8339, 'hoy': 8340, 'joymuns': 8341, 'universe': 8342, 'krackers': 8343, 'appetit': 8344, 'iby': 8345, 'respond': 8346, 'teatulie': 8347, 'neem': 8348, 'blessed': 8349, 'zappin': 8350, 'cacoa': 8351, 'otherwise': 8352, 'regimen': 8353, 'cocao': 8354, 'rosamonte': 8355, 'verg': 8356, 'embrassed': 8357, 'travels': 8358, 'cheery': 8359, 'insufficient': 8360, 'lomo': 8361, 'iberico': 8362, 'bellota': 8363, 'loin': 8364, 'enrrgy': 8365, 'oomph': 8366, 'healthpro': 8367, 'dentalnuggets': 8368, 'crispness': 8369, 'waygu': 8370, 'deboles': 8371, 'jerusalem': 8372, 'stinking': 8373, 'sugared': 8374, 'allens': 8375, 'popeye': 8376, 'zupreem': 8377, 'picaridin': 8378, 'rzip': 8379, 'daring': 8380, 'ritter': 8381, 'lapanzanella': 8382, 'ulp': 8383, 'pastuerized': 8384, 'millstone': 8385, 'chereos': 8386, 'hirt': 8387, 'nurseries': 8388, 'comparative': 8389, 'advantage': 8390, 'downsize': 8391, 'dan': 8392, 'rjrich': 8393, 'speaks': 8394, 'manly': 8395, 'bunnell': 8396, 'mt': 8397, 'majic': 8398, 'largest': 8399, 'pj': 8400, 'boldest': 8401, 'decortating': 8402, 'eleven': 8403, 'insects': 8404, 'caught': 8405, 'coldn': 8406, 'worx': 8407, 'nejaime': 8408, 'lavasch': 8409, 'flatbread': 8410, 'droppings': 8411, 'adagio': 8412, 'fabuloso': 8413, 'pickme': 8414, 'maynard': 8415, 'indulge': 8416, 'doggone': 8417, 'sniff': 8418, 'walk': 8419, 'costosa': 8420, 'es': 8421, 'matzo': 8422, 'farfel': 8423, 'fyi': 8424, 'schnoodle': 8425, 'whitefish': 8426, 'retrivers': 8427, 'flow': 8428, 'coated': 8429, 'loubia': 8430, 'polo': 8431, 'knockout': 8432, 'prawn': 8433, 'dare': 8434, 'expensively': 8435, 'muana': 8436, 'macademia': 8437, 'szeged': 8438, 'lying': 8439, 'tunalicious': 8440, 'mystified': 8441, 'tuff': 8442, 'vino': 8443, 'italiano': 8444, 'rosso': 8445, 'magnifico': 8446, 'patient': 8447, 'polar': 8448, 'verry': 8449, 'switchin': 8450, 'third': 8451, 'admirable': 8452, 'uber': 8453, 'smoooooooooooth': 8454, 'merlot': 8455, 'lei': 8456, 'illustrated': 8457, 'evil': 8458, 'arizona': 8459, 'iightly': 8460, 'junket': 8461, 'cella': 8462, 'sascat': 8463, 'bottlecaps': 8464, 'sabroso': 8465, 'oishii': 8466, 'unenjoyable': 8467, 'attach': 8468, 'albanese': 8469, 'delclious': 8470, 'excellente': 8471, 'apollo': 8472, 'vg': 8473, 'gingerale': 8474, 'closeout': 8475, 'pastariso': 8476, 'ramune': 8477, 'liars': 8478, 'capt': 8479, 'unmatched': 8480, 'lentis': 8481, 'okra': 8482, 'foor': 8483, 'berritious': 8484, 'sssshhhh': 8485, 'molassas': 8486, 'lozenges': 8487, 'expelling': 8488, 'wind': 8489, 'colorful': 8490, 'retutned': 8491, 'omygosh': 8492, 'horrendous': 8493, 'brazilian': 8494, 'nummyness': 8495, 'gamble': 8496, 'decreases': 8497, 'drawstring': 8498, 'sachet': 8499, 'unconvincing': 8500, 'pticey': 8501, 'astragalus': 8502, 'rcv': 8503, 'truck': 8504, 'kinle': 8505, 'books': 8506, 'ginseng': 8507, 'happycamper': 8508, 'sailing': 8509, 'swanson': 8510, 'messing': 8511, 'blown': 8512, 'foaming': 8513, 'foam': 8514, 'frother': 8515, 'tatste': 8516, 'deelicious': 8517, 'amond': 8518, 'prominently': 8519, 'ki': 8520, 'existent': 8521, 'chocolat': 8522, 'amaaaaaaazing': 8523, 'levels': 8524, 'filing': 8525, 'succulent': 8526, 'webb': 8527, 'unfortunately': 8528, 'zone': 8529, 'nougat': 8530, 'damp': 8531, 'casein': 8532, 'favered': 8533, 'latest': 8534, 'tabasco': 8535, 'rancher': 8536, 'bonies': 8537, 'gonaturally': 8538, 'staff': 8539, 'deeeeeliiiiiicous': 8540, 'readercook': 8541, 'punctured': 8542, 'mixers': 8543, 'elephant': 8544, 'peri': 8545, 'lelamb': 8546, 'cowjam': 8547, 'deicious': 8548, 'nanna': 8549, 'puffet': 8550, 'char': 8551, 'grrlie': 8552, 'portfolio': 8553, 'glood': 8554, 'kaan': 8555, 'vegi': 8556, 'favoritr': 8557, 'hebal': 8558, 'mightyleaf': 8559, 'greatness': 8560, 'france': 8561, 'lysanders': 8562, 'duo': 8563, 'newbies': 8564, 'tropics': 8565, 'colossal': 8566, 'uggh': 8567, 'muddy': 8568, 'tillandsia': 8569, 'ionantha': 8570, 'wraped': 8571, 'malay': 8572, 'asiago': 8573, 'security': 8574, 'spleanda': 8575, 'whisky': 8576, 'cairn': 8577, 'gastrointestinal': 8578, 'barnies': 8579, 'gaiters': 8580, 'mover': 8581, 'kate': 8582, 'kiki': 8583, 'stange': 8584, 'gonna': 8585, 'martha': 8586, 'pickin': 8587, 'orangy': 8588, 'glaceau': 8589, 'hse': 8590, 'styles': 8591, 'jury': 8592, 'foil': 8593, 'series': 8594, 'prodect': 8595, 'russo': 8596, 'hasnt': 8597, 'noticed': 8598, 'arrives': 8599, 'yohay': 8600, 'restaurents': 8601, 'tapioc': 8602, 'tapoiocca': 8603, 'sensible': 8604, 'cheeta': 8605, 'ask': 8606, 'reall': 8607, 'terric': 8608, 'jivealime': 8609, 'stupendous': 8610, 'hundreds': 8611, 'beauty': 8612, 'otc': 8613, 'laxatives': 8614, 'mice': 8615, 'breakers': 8616, 'bjs': 8617, 'xanthan': 8618, 'emulsifier': 8619, 'variation': 8620, 'gratitude': 8621, 'scoop': 8622, 'sunbuttter': 8623, 'pita': 8624, 'wuppee': 8625, 'gibbel': 8626, 'hanu': 8627, 'fruitchia': 8628, 'dilmah': 8629, 'recommand': 8630, 'momma': 8631, 'kiddo': 8632, 'dumbells': 8633, 'umms': 8634, 'venison': 8635, 'bustelo': 8636, 'tricked': 8637, 'freshner': 8638, 'frech': 8639, 'bellyflop': 8640, 'ot': 8641, 'castellana': 8642, 'crostini': 8643, 'westies': 8644, 'waker': 8645, 'costing': 8646, 'tetra': 8647, 'deliicious': 8648, 'loco': 8649, 'villain': 8650, 'understatement': 8651, 'dunking': 8652, 'tommyo': 8653, 'finncrisp': 8654, 'porportions': 8655, 'kir': 8656, 'europe': 8657, 'cassis': 8658, 'faves': 8659, 'pointless': 8660, 'lesliejune': 8661, 'styrian': 8662, 'miniature': 8663, 'former': 8664, 'vermonter': 8665, 'edited': 8666, 'keifer': 8667, 'multiples': 8668, 'rabbits': 8669, 'spent': 8670, 'float': 8671, 'cabinet': 8672, 'tiggie': 8673, 'langers': 8674, 'pomegran': 8675, 'altura': 8676, 'greece': 8677, 'lining': 8678, 'spillage': 8679, 'siwiec': 8680, 'seesaw': 8681, 'ml': 8682, 'ruffles': 8683, 'ridges': 8684, 'inced': 8685, 'wellington': 8686, 'suburb': 8687, 'pitch': 8688, 'league': 8689, 'fixed': 8690, 'finnegan': 8691, 'houise': 8692, 'visinada': 8693, 'whatever': 8694, 'zucchini': 8695, 'grahms': 8696, 'beekeeper': 8697, 'capsuls': 8698, 'ne': 8699, 'slave': 8700, 'qa': 8701, 'seedlander': 8702, 'sprouty': 8703, 'pablano': 8704, 'drip': 8705, 'charcoal': 8706, 'nothin': 8707, 'keurg': 8708, 'keurigs': 8709, 'ecomonical': 8710, 'cupped': 8711, 'richer': 8712, 'jo': 8713, 'yucko': 8714, 'patently': 8715, 'ashtray': 8716, 'nutrititious': 8717, 'wellnes': 8718, 'started': 8719, 'bamboos': 8720, 'yuuuuuum': 8721, 'sanfrancisco': 8722, 'polyanna': 8723, 'pinch': 8724, 'involved': 8725, 'endorsement': 8726, 'caser': 8727, 'lorenzo': 8728, 'boo': 8729, 'adrenalin': 8730, 'jmac': 8731, 'chases': 8732, 'chaxer': 8733, 'openning': 8734, 'biold': 8735, 'larissa': 8736, 'noh': 8737, 'haupia': 8738, 'mande': 8739, 'enoyable': 8740, 'pf': 8741, 'changs': 8742, 'loaves': 8743, 'cherished': 8744, 'sweeties': 8745, 'fizzilicious': 8746, 'pale': 8747, 'scwt': 8748, 'lambs': 8749, 'camomile': 8750, 'alaea': 8751, 'alcoholic': 8752, 'plz': 8753, 'ridge': 8754, 'yucker': 8755, 'mucker': 8756, 'teens': 8757, 'lava': 8758, 'severely': 8759, 'firehouse': 8760, 'supports': 8761, 'tangfastic': 8762, 'sweetie': 8763, 'mre': 8764, 'jacked': 8765, 'gumballs': 8766, 'hearts': 8767, 'omgoodness': 8768, 'necter': 8769, 'fer': 8770, 'tx': 8771, 'ma': 8772, 'bday': 8773, 'grands': 8774, 'gardenia': 8775, 'fashion': 8776, 'florist': 8777, 'awesomes': 8778, 'longtime': 8779, 'honestly': 8780, 'midel': 8781, 'att': 8782, 'liner': 8783, 'cinninot': 8784, 'mento': 8785, 'pkg': 8786, 'broadway': 8787, 'basketeers': 8788, 'mckee': 8789, 'tia': 8790, 'wuyi': 8791, 'togarashi': 8792, 'crepes': 8793, 'maryann': 8794, 'tradicional': 8795, 'palos': 8796, 'spangler': 8797, 'airpop': 8798, 'pho': 8799, 'nursery': 8800, 'untitled': 8801, 'ymmv': 8802, 'discusting': 8803, 'vadouvan': 8804, 'stunningly': 8805, 'evalution': 8806, 'akmak': 8807, 'yucccky': 8808, 'genmai': 8809, 'unsure': 8810, 'sanitation': 8811, 'robinson': 8812, 'shrinkage': 8813, 'passes': 8814, 'multipurpose': 8815, 'seasonal': 8816, 'yowza': 8817, 'ghc': 8818, 'jungle': 8819, 'sanka': 8820, 'slurp': 8821, 'lori': 8822, 'changer': 8823, 'scones': 8824, 'pepto': 8825, 'bismol': 8826, 'discovering': 8827, 'deficient': 8828, 'domatcha': 8829, 'falls': 8830, 'learn': 8831, 'corozonas': 8832, 'ski': 8833, 'heath': 8834, 'corazonas': 8835, 'karen': 8836, 'channa': 8837, 'paducah': 8838, 'taking': 8839, 'norway': 8840, 'restaruant': 8841, 'separates': 8842, 'horchata': 8843, 'antlers': 8844, 'wearing': 8845, 'gnawing': 8846, 'wilkes': 8847, 'county': 8848, 'nc': 8849, 'roca': 8850, 'saucesome': 8851, 'bless': 8852, 'holmes': 8853, 'homebrewers': 8854, 'eyes': 8855, 'delallo': 8856, 'bravi': 8857, 'gemelli': 8858, 'tarragon': 8859, 'flicks': 8860, 'panera': 8861, 'joulie': 8862, 'oilcancharley': 8863, 'brisket': 8864, 'milano': 8865, 'anaya': 8866, 'chunks': 8867, 'picagomas': 8868, 'stools': 8869, 'upside': 8870, 'vapoorizer': 8871, 'successful': 8872, 'nitrogen': 8873, 'zap': 8874, 'somebody': 8875, 'specifications': 8876, 'apocalypse': 8877, 'licking': 8878, 'presels': 8879, 'mississippi': 8880, 'mathmom': 8881, 'feeds': 8882, 'finished': 8883, 'cubano': 8884, 'wt': 8885, 'fromm': 8886, 'biased': 8887, 'atrocious': 8888, 'tha': 8889, 'measured': 8890, 'jules': 8891, 'tomatos': 8892, 'grimy': 8893, 'figlets': 8894, 'humidity': 8895, 'doys': 8896, 'jaws': 8897, 'frenchbull': 8898, 'shepered': 8899, 'frenchie': 8900, 'owners': 8901, 'dinos': 8902, 'nubby': 8903, 'bumps': 8904, 'brick': 8905, 'dino': 8906, 'extict': 8907, 'extinct': 8908, 'respect': 8909, 'lacy': 8910, 'dura': 8911, 'durability': 8912, 'purrrfect': 8913, 'sleeps': 8914, 'mouse': 8915, 'pucca': 8916, 'elderberry': 8917, 'opion': 8918, 'chefrand': 8919, 'pizzelle': 8920, 'wonferful': 8921, 'bridal': 8922, 'pappys': 8923, 'hammered': 8924, 'nail': 8925, 'keen': 8926, 'zagnuts': 8927, 'colored': 8928, 'unexciting': 8929, 'juniors': 8930, 'brush': 8931, 'lw': 8932, 'brag': 8933, 'performer': 8934, 'wiggly': 8935, 'picante': 8936, 'grit': 8937, 'glove': 8938, 'goodbar': 8939, 'trix': 8940, 'unreasonably': 8941, 'pasteurized': 8942, 'giggity': 8943, 'verrryyyy': 8944, 'pungent': 8945, 'fact': 8946, 'flavacol': 8947, 'mowcafe': 8948, 'thankful': 8949, 'phenominal': 8950, 'mildew': 8951, 'intestinal': 8952, 'crunchies': 8953, 'nong': 8954, 'shim': 8955, 'neoguri': 8956, 'rascal': 8957, 'poopsie': 8958, 'canister': 8959, 'mollie': 8960, 'rd': 8961, 'shin': 8962, 'overal': 8963, 'kimchi': 8964, 'hairy': 8965, 'ghanouge': 8966, 'closed': 8967, 'babaganouge': 8968, 'greathoney': 8969, 'gret': 8970, 'clover': 8971, 'palatable': 8972, 'frap': 8973, 'maeda': 8974, 'unlocks': 8975, 'kaj': 8976, 'li': 8977, 'hing': 8978, 'rex': 8979, 'mixoligy': 8980, 'fin': 8981, 'silly': 8982, 'popcornopolis': 8983, 'greatttttttttttttt': 8984, 'prepares': 8985, 'dole': 8986, 'boneless': 8987, 'squirrel': 8988, 'repeller': 8989, 'deer': 8990, 'bullysticks': 8991, 'skimpy': 8992, 'thinner': 8993, 'snobs': 8994, 'overprice': 8995, 'woooooooooooooooooooonderful': 8996, 'refuses': 8997, 'youre': 8998, 'doting': 8999, 'struck': 9000, 'beam': 9001, 'fleur': 9002, 'sel': 9003, 'smith': 9004, 'liquidy': 9005, 'medley': 9006, 'convent': 9007, 'aphids': 9008, 'kar': 9009, 'sant': 9010, 'eustachio': 9011, 'demerara': 9012, 'eve': 9013, 'buellton': 9014, 'sir': 9015, 'anyway': 9016, 'stover': 9017, 'immediate': 9018, 'cooldown': 9019, 'meiu': 9020, 'yrs': 9021, 'seedling': 9022, 'token': 9023, 'collice': 9024, 'taki': 9025, 'print': 9026, 'maggiensa': 9027, 'prce': 9028, 'aone': 9029, 'heights': 9030, 'matters': 9031, 'frito': 9032, 'mudcat': 9033, 'flakey': 9034, 'detest': 9035, 'infuser': 9036, 'jamison': 9037, 'share': 9038, 'abroad': 9039, 'fettucini': 9040, 'hazel': 9041, 'nuttiness': 9042, 'imitation': 9043, 'sushilover': 9044, 'gimmick': 9045, 'loaf': 9046, 'taylors': 9047, 'fortnum': 9048, 'mason': 9049, 'meaningful': 9050}\n"
     ]
    }
   ],
   "source": [
    "reverse_target_word_index=y_tokenizer.index_word\n",
    "reverse_source_word_index=x_tokenizer.index_word\n",
    "target_word_index=y_tokenizer.word_index\n",
    "print(target_word_index)"
   ]
  },
  {
   "cell_type": "markdown",
   "metadata": {},
   "source": [
    "# inference"
   ]
  },
  {
   "cell_type": "code",
   "execution_count": 34,
   "metadata": {},
   "outputs": [],
   "source": [
    "# Encode the input sequence to get the feature vector\n",
    "encoder_model = Model(inputs=encoder_inputs,outputs=[encoder_outputs, state_h, state_c])\n",
    "\n",
    "# Decoder setup\n",
    "# Below tensors will hold the states of the previous time step\n",
    "decoder_state_input_h = Input(shape=(latent_dim,))\n",
    "decoder_state_input_c = Input(shape=(latent_dim,))\n",
    "decoder_hidden_state_input = Input(shape=(max_text_len,latent_dim))\n",
    "\n",
    "# Get the embeddings of the decoder sequence\n",
    "dec_emb2= dec_emb_layer(decoder_inputs) \n",
    "# To predict the next word in the sequence, set the initial states to the states from the previous time step\n",
    "decoder_outputs2, state_h2, state_c2 = decoder_lstm(dec_emb2, initial_state=[decoder_state_input_h, decoder_state_input_c])\n",
    "\n",
    "#attention inference\n",
    "attn_out_inf, attn_states_inf = attn_layer([decoder_hidden_state_input, decoder_outputs2])\n",
    "decoder_inf_concat = Concatenate(axis=-1, name='concat')([decoder_outputs2, attn_out_inf])\n",
    "\n",
    "# A dense softmax layer to generate prob dist. over the target vocabulary\n",
    "decoder_outputs2 = decoder_dense(decoder_inf_concat) \n",
    "\n",
    "# Final decoder model\n",
    "decoder_model = Model(\n",
    "    [decoder_inputs] + [decoder_hidden_state_input,decoder_state_input_h, decoder_state_input_c],\n",
    "    [decoder_outputs2] + [state_h2, state_c2])"
   ]
  },
  {
   "cell_type": "code",
   "execution_count": 35,
   "metadata": {},
   "outputs": [],
   "source": [
    "def decode_sequence(input_seq):\n",
    "    # Encode the input as state vectors.\n",
    "    e_out, e_h, e_c = encoder_model.predict(input_seq)\n",
    "    \n",
    "    # Generate empty target sequence of length 1.\n",
    "    target_seq = np.zeros((1,1))\n",
    "    \n",
    "    # Populate the first word of target sequence with the start word.\n",
    "    target_seq[0, 0] = target_word_index['sostok']\n",
    "\n",
    "    stop_condition = False\n",
    "    decoded_sentence = ''\n",
    "    while not stop_condition:\n",
    "      \n",
    "        output_tokens, h, c = decoder_model.predict([target_seq] + [e_out, e_h, e_c])\n",
    "\n",
    "        # Sample a token\n",
    "        sampled_token_index = np.argmax(output_tokens[0, -1, :])\n",
    "        sampled_token = reverse_target_word_index[sampled_token_index]\n",
    "        \n",
    "        if(sampled_token!='eostok'):\n",
    "            decoded_sentence += ' '+sampled_token\n",
    "\n",
    "        # Exit condition: either hit max length or find stop word.\n",
    "        if (sampled_token == 'eostok'  or len(decoded_sentence.split()) >= (max_summary_len-1)):\n",
    "            stop_condition = True\n",
    "\n",
    "        # Update the target sequence (of length 1).\n",
    "        target_seq = np.zeros((1,1))\n",
    "        target_seq[0, 0] = sampled_token_index\n",
    "\n",
    "        # Update internal states\n",
    "        e_h, e_c = h, c\n",
    "\n",
    "    return decoded_sentence"
   ]
  },
  {
   "cell_type": "code",
   "execution_count": 36,
   "metadata": {},
   "outputs": [],
   "source": [
    "def seq2summary(input_seq):\n",
    "    newString=''\n",
    "    for i in input_seq:\n",
    "        if((i!=0 and i!=target_word_index['sostok']) and i!=target_word_index['eostok']):\n",
    "            newString=newString+reverse_target_word_index[i]+' '\n",
    "    return newString\n",
    "\n",
    "def seq2text(input_seq):\n",
    "    newString=''\n",
    "    for i in input_seq:\n",
    "        if(i!=0):\n",
    "            newString=newString+reverse_source_word_index[i]+' '\n",
    "    return newString"
   ]
  },
  {
   "cell_type": "code",
   "execution_count": 37,
   "metadata": {},
   "outputs": [
    {
     "name": "stdout",
     "output_type": "stream",
     "text": [
      "[  34  205 6128  550   30   25  143   43    2   80    5  473    3 2586\n",
      " 1311  443  407   23 4117 1663 6129    5   23    0    0    0    0    0\n",
      "    0    0]\n",
      "(30,)\n",
      "Review: bought several vitality canned dog food products found good quality product looks like stew processed meat smells better labrador finicky appreciates product better \n",
      "Original summary: good quality dog food \n",
      "Predicted summary:  my dog loves this\n",
      "\n",
      "\n"
     ]
    }
   ],
   "source": [
    "print(x_tr[0])\n",
    "print(x_tr[0].shape)\n",
    "print(\"Review:\",seq2text(x_tr[0]))\n",
    "print(\"Original summary:\",seq2summary(y_tr[0]))\n",
    "print(\"Predicted summary:\",decode_sequence(x_tr[0].reshape(1,max_text_len)))\n",
    "print(\"\\n\")"
   ]
  },
  {
   "cell_type": "code",
   "execution_count": 38,
   "metadata": {},
   "outputs": [
    {
     "name": "stdout",
     "output_type": "stream",
     "text": [
      "Model: \"model\"\n",
      "__________________________________________________________________________________________________\n",
      "Layer (type)                    Output Shape         Param #     Connected to                     \n",
      "==================================================================================================\n",
      "input_1 (InputLayer)            [(None, 30)]         0                                            \n",
      "__________________________________________________________________________________________________\n",
      "embedding (Embedding)           (None, 30, 100)      843300      input_1[0][0]                    \n",
      "__________________________________________________________________________________________________\n",
      "lstm (LSTM)                     [(None, 30, 300), (N 481200      embedding[0][0]                  \n",
      "__________________________________________________________________________________________________\n",
      "input_2 (InputLayer)            [(None, None)]       0                                            \n",
      "__________________________________________________________________________________________________\n",
      "lstm_1 (LSTM)                   [(None, 30, 300), (N 721200      lstm[0][0]                       \n",
      "__________________________________________________________________________________________________\n",
      "embedding_1 (Embedding)         (None, None, 100)    198500      input_2[0][0]                    \n",
      "__________________________________________________________________________________________________\n",
      "lstm_2 (LSTM)                   [(None, 30, 300), (N 721200      lstm_1[0][0]                     \n",
      "__________________________________________________________________________________________________\n",
      "lstm_3 (LSTM)                   [(None, None, 300),  481200      embedding_1[0][0]                \n",
      "                                                                 lstm_2[0][1]                     \n",
      "                                                                 lstm_2[0][2]                     \n",
      "__________________________________________________________________________________________________\n",
      "attention_layer (AttentionLayer ((None, None, 300),  180300      lstm_2[0][0]                     \n",
      "                                                                 lstm_3[0][0]                     \n",
      "__________________________________________________________________________________________________\n",
      "concat_layer (Concatenate)      (None, None, 600)    0           lstm_3[0][0]                     \n",
      "                                                                 attention_layer[0][0]            \n",
      "__________________________________________________________________________________________________\n",
      "time_distributed (TimeDistribut (None, None, 1985)   1192985     concat_layer[0][0]               \n",
      "==================================================================================================\n",
      "Total params: 4,819,885\n",
      "Trainable params: 4,819,885\n",
      "Non-trainable params: 0\n",
      "__________________________________________________________________________________________________\n"
     ]
    }
   ],
   "source": [
    "model.summary()"
   ]
  },
  {
   "cell_type": "code",
   "execution_count": 39,
   "metadata": {},
   "outputs": [],
   "source": [
    "model = Model([encoder_inputs, decoder_inputs], decoder_outputs)\n",
    "model.compile(optimizer='rmsprop', loss='sparse_categorical_crossentropy', metrics=['accuracy'])\n",
    "model.load_weights('trainedModel_weights3.h5')"
   ]
  },
  {
   "cell_type": "code",
   "execution_count": 40,
   "metadata": {},
   "outputs": [
    {
     "name": "stdout",
     "output_type": "stream",
     "text": [
      "Review: bought several vitality canned dog food products found good quality product looks like stew processed meat smells better labrador finicky appreciates product better \n",
      "Original summary: good quality dog food \n",
      "Predicted summary:  my dog loves this\n",
      "\n",
      "\n",
      "Review: product arrived labeled jumbo salted peanuts peanuts actually small sized unsalted sure error vendor intended product jumbo \n",
      "Original summary: not as advertised \n",
      "Predicted summary:  melted\n",
      "\n",
      "\n",
      "Review: looking secret ingredient believe found got addition root beer extract ordered made cherry soda flavor medicinal \n",
      "Original summary: cough medicine \n",
      "Predicted summary:  not the best\n",
      "\n",
      "\n",
      "Review: great taffy great price wide assortment yummy taffy delivery quick taffy lover deal \n",
      "Original summary: great taffy \n",
      "Predicted summary:  great gift\n",
      "\n",
      "\n",
      "Review: taffy great flavors soft chewy candy individually wrapped well none candies stuck together happen expensive version would highly recommend candy served beach themed party everyone loved \n",
      "Original summary: just as good as the expensive brands \n",
      "Predicted summary:  haribo gummi bears\n",
      "\n",
      "\n",
      "Review: taffy good soft chewy flavors amazing would definitely recommend buying satisfying \n",
      "Original summary: wonderful tasty taffy \n",
      "Predicted summary:  best ever\n",
      "\n",
      "\n",
      "Review: right mostly sprouting cats eat grass love rotate around wheatgrass rye \n",
      "Original summary: yay barley \n",
      "Predicted summary:  cats love it\n",
      "\n",
      "\n",
      "Review: healthy dog food good digestion also good small puppies dog eats required amount every feeding \n",
      "Original summary: healthy dog food \n",
      "Predicted summary:  great dog food\n",
      "\n",
      "\n",
      "Review: good flavor came securely packed fresh delicious love twizzlers \n",
      "Original summary: fresh and greasy \n",
      "Predicted summary:  great tasting\n",
      "\n",
      "\n",
      "Review: strawberry twizzlers guilty pleasure yummy six pounds around son \n",
      "Original summary: strawberry twizzlers yummy \n",
      "Predicted summary:  yummy\n",
      "\n",
      "\n",
      "Review: daughter loves twizzlers shipment six pounds really hit spot exactly would expect six packages strawberry twizzlers \n",
      "Original summary: lots of twizzlers just what you expect \n",
      "Predicted summary:  not as good as other brands\n",
      "\n",
      "\n",
      "Review: love eating good watching tv looking movies sweet like transfer zip lock baggie stay fresh take time eating \n",
      "Original summary: poor taste \n",
      "Predicted summary:  great taste\n",
      "\n",
      "\n",
      "Review: satisfied purchase shared others enjoyed definitely ordering \n",
      "Original summary: love it \n",
      "Predicted summary:  great flavor\n",
      "\n",
      "\n",
      "Review: candy delivered fast purchased reasonable price home bound unable get store perfect \n",
      "Original summary: home delivered \n",
      "Predicted summary:  great gift\n",
      "\n",
      "\n",
      "Review: husband twizzlers addict bought many times amazon employees living overseas cannot get country always fresh tasty packed well arrive timely manner \n",
      "Original summary: always fresh \n",
      "Predicted summary:  great gift\n",
      "\n",
      "\n",
      "Review: bought husband currently overseas loves apparently staff likes also generous amounts twizzlers ounce bag well worth price twizzlers strawberry ounce bags \n",
      "Original summary: twizzlers \n",
      "Predicted summary:  good but pricey\n",
      "\n",
      "\n",
      "Review: remember buying candy kid quality dropped years still superb product disappointed \n",
      "Original summary: delicious product \n",
      "Predicted summary:  great cookies\n",
      "\n",
      "\n",
      "Review: love candy weight watchers cut back still craving \n",
      "Original summary: twizzlers \n",
      "Predicted summary:  great snack\n",
      "\n",
      "\n",
      "Review: lived us yrs miss twizzlers go back visit someone visits always stock say yum sell mexico faithful buyer often able buy right \n",
      "Original summary: please these in \n",
      "Predicted summary:  great gift\n",
      "\n",
      "\n",
      "Review: product received advertised twizzlers strawberry ounce bags \n",
      "Original summary: twizzlers strawberry \n",
      "Predicted summary:  not what expected\n",
      "\n",
      "\n",
      "Review: candy red flavor plan chewy would never buy \n",
      "Original summary: nasty no flavor \n",
      "Predicted summary:  haribo gummi bears\n",
      "\n",
      "\n",
      "Review: glad amazon carried hard time finding elsewhere unique size need garage door opener great deal price \n",
      "Original summary: great bargain for the price \n",
      "Predicted summary:  great product\n",
      "\n",
      "\n",
      "Review: offer great price great taste thanks amazon selling product \n",
      "Original summary: this is my taste \n",
      "Predicted summary:  great product\n",
      "\n",
      "\n",
      "Review: us celiac disease product lifesaver could better getting almost half price grocery health food store love mccann instant oatmeal flavors thanks \n",
      "Original summary: love gluten free oatmeal \n",
      "Predicted summary:  great product\n",
      "\n",
      "\n",
      "Review: else need know oatmeal instant expensive kroger store brand oatmeal maybe little tastier better texture something still oatmeal mm convenient \n",
      "Original summary: it is oatmeal \n",
      "Predicted summary:  great cereal\n",
      "\n",
      "\n",
      "Review: ordered wife reccomended daughter almost every morning likes flavors happy happy mccann instant irish oatmeal variety pack regular apples cinnamon maple brown sugar count boxes \n",
      "Original summary: wife favorite breakfast \n",
      "Predicted summary:  great breakfast\n",
      "\n",
      "\n",
      "Review: mccann oatmeal every morning ordering amazon able save almost per box great product tastes great healthy \n",
      "Original summary: food great \n",
      "Predicted summary:  great cereal\n",
      "\n",
      "\n",
      "Review: mccann oatmeal good quality choice favorite apples cinnamon find none overly sugary good hot breakfast minutes excellent \n",
      "Original summary: good hot breakfast \n",
      "Predicted summary:  great breakfast\n",
      "\n",
      "\n",
      "Review: really like mccann steel cut oats find cook often tastes much better grocery store brands convenient anything keeps eating oatmeal regularly good thing \n",
      "Original summary: great taste and convenience \n",
      "Predicted summary:  great product\n",
      "\n",
      "\n",
      "Review: seems little wholesome supermarket brands somewhat mushy quite much flavor either pass kids probably buy \n",
      "Original summary: hearty oatmeal \n",
      "Predicted summary:  not for me\n",
      "\n",
      "\n",
      "Review: good oatmeal like apple cinnamon best though would follow directions package since always comes soupy taste could since like oatmeal really thick add milk top \n",
      "Original summary: good \n",
      "Predicted summary:  great tasting\n",
      "\n",
      "\n",
      "Review: flavors good however see oats brand mushy \n",
      "Original summary: mushy \n",
      "Predicted summary:  good but not great\n",
      "\n",
      "\n",
      "Review: stuff buy big box stores nothing healthy carbs sugars save money get something least taste \n",
      "Original summary: same stuff \n",
      "Predicted summary:  good but pricey\n",
      "\n",
      "\n",
      "Review: oatmeal good mushy soft like quaker oats way go \n",
      "Original summary: do not like it \n",
      "Predicted summary:  great taste\n",
      "\n",
      "\n",
      "Review: used spicy foods south texas spicy doubt much habanero used could take notch two \n",
      "Original summary: not ass \n",
      "Predicted summary:  great sauce\n",
      "\n",
      "\n",
      "Review: roast large cast iron pan grill smell wonderful roasted beans taste delicious importantly coffee smooth bitter aftertaste numerous occasions send roasted beans home friends like much \n",
      "Original summary: our love it \n",
      "Predicted summary:  great coffee\n",
      "\n",
      "\n",
      "Review: deal awesome arrived halloween indicated enough satisfy trick treaters love quality product much less expensive local store candy \n",
      "Original summary: awesome deal \n",
      "Predicted summary:  great gift\n",
      "\n",
      "\n",
      "Review: chocolate say great variety everything family loves family six goes fast perfect variety kit kat reeses take five \n",
      "Original summary: how can you go wrong \n",
      "Predicted summary:  great chocolate\n",
      "\n",
      "\n",
      "Review: great product nice combination chocolates perfect size bags plenty shipped promptly kids neighborhood liked candies \n",
      "Original summary: awsome kids in loved us \n",
      "Predicted summary:  great gift\n",
      "\n",
      "\n",
      "Review: halloween sent bag daughters class share chocolate fresh enjoyed many \n",
      "Original summary: great deal \n",
      "Predicted summary:  great gift\n",
      "\n",
      "\n",
      "Review: watch prices assortment good get gold box purchase price less target \n",
      "Original summary: better price for this at \n",
      "Predicted summary:  great product\n",
      "\n",
      "\n",
      "Review: bag candy online pretty expensive cheaper order compete grocery stores good combination favorite candy \n",
      "Original summary: pretty expensive \n",
      "Predicted summary:  delicious\n",
      "\n",
      "\n",
      "Review: arrived days stale could eat bags \n",
      "Original summary: stale product \n",
      "Predicted summary:  stale\n",
      "\n",
      "\n",
      "Review: product serves well source electrolytes long run bike ride tried flavors really like grapefruit flavor taste actually like slight carbonation use hammer products really like whole product line \n",
      "Original summary: great source of \n",
      "Predicted summary:  great product\n",
      "\n",
      "\n",
      "Review: stuff really works preventing cramping middle latter rides pop water bottle set flavor fine goes easy \n",
      "Original summary: great for \n",
      "Predicted summary:  great product\n",
      "\n",
      "\n",
      "Review: sooooo bad ate em fast gained fault \n",
      "Original summary: pretzel \n",
      "Predicted summary:  not as good as other brands\n",
      "\n",
      "\n",
      "Review: okay would go way buy \n",
      "Original summary: nothing special \n"
     ]
    },
    {
     "name": "stdout",
     "output_type": "stream",
     "text": [
      "Predicted summary:  not worth it\n",
      "\n",
      "\n",
      "Review: tea flavor whole brunch flavors returnable wasted bucks \n",
      "Original summary: no tea flavor \n",
      "Predicted summary:  great tea\n",
      "\n",
      "\n",
      "Review: taste great berries melted may order winter order cold weather enjoy flavor \n",
      "Original summary: order only in cold weather \n",
      "Predicted summary:  good but\n",
      "\n",
      "\n",
      "Review: know cannot make tea good granted south know never enjoyed tea sweet without sweet tastes crisp \n",
      "Original summary: this is the best \n",
      "Predicted summary:  great tea\n",
      "\n",
      "\n",
      "Review: peppermint stick delicious fun eat dad got one christmas remembered similar one little girl love \n",
      "Original summary: delicious \n",
      "Predicted summary:  great gift\n",
      "\n",
      "\n",
      "Review: great gift ages purchased giant canes recipients loved much kept would eat \n",
      "Original summary: great \n",
      "Predicted summary:  great gift\n",
      "\n",
      "\n",
      "Review: three dogs love food bought specifically one dogs food allergies works great hot spots tummy problems love ships right door free shipping \n",
      "Original summary: great food \n",
      "Predicted summary:  great dog food\n",
      "\n",
      "\n",
      "Review: shepherd collie mix ibs vet recommended limited ingredient food really helped symptoms likes always buy amazon cheaper free shipping \n",
      "Original summary: great for stomach problems \n",
      "Predicted summary:  great dog food\n",
      "\n",
      "\n",
      "Review: great food love idea one food ages breeds real convenience well really good product dogs eat less almost gas poop regular perfect consistency else mom ask \n",
      "Original summary: great food \n",
      "Predicted summary:  great food\n",
      "\n",
      "\n",
      "Review: great dog food dog allergies brand one feed \n",
      "Original summary: great dog food \n",
      "Predicted summary:  great dog food\n",
      "\n",
      "\n",
      "Review: food great ages dogs year old puppy soft hardly ever get sick food good especially amazon prime shipping \n",
      "Original summary: mm mm good \n",
      "Predicted summary:  great dog food\n",
      "\n",
      "\n",
      "Review: food get pet store delivered door price slightly less \n",
      "Original summary: so convenient \n",
      "Predicted summary:  great product\n",
      "\n",
      "\n",
      "Review: pup experienced allergies forms itching dog foods cheap buy anywhere food crazy preservatives cause health problems pets food works wonders reducing allergies dog loves food message approved \n",
      "Original summary: allergy sensitive dog food dogs love it \n",
      "Predicted summary:  my dog loves these\n",
      "\n",
      "\n",
      "Review: fed golden retriever hated would eat gave terrible diarrhea buying also super expensive \n",
      "Original summary: bad \n",
      "Predicted summary:  not bad\n",
      "\n",
      "\n",
      "Review: mouth says love thee let count ways like apple products must item draw back shipping cost heavy \n",
      "Original summary: taste it is star item \n",
      "Predicted summary:  not as good as expected\n",
      "\n",
      "\n",
      "Review: arrived slightly parents would accept however company helpful issued full refund \n",
      "Original summary: great support \n",
      "Predicted summary:  great product\n",
      "\n",
      "\n",
      "Review: crust tarts perfect husband loves crazy sour tart taste eat crust hubby takes filling kids think great maybe \n",
      "Original summary: tart \n",
      "Predicted summary:  great for baking\n",
      "\n",
      "\n",
      "Review: absolutely husband love however another customer put expensive ship cost shipping \n",
      "Original summary: omaha apple \n",
      "Predicted summary:  great product\n",
      "\n",
      "\n",
      "Review: nice alternative apple pie love fact easy prepare also loved fact make fresh whenever needed \n",
      "Original summary: loved these \n",
      "Predicted summary:  great product\n",
      "\n",
      "\n",
      "Review: like creme brulee loved easy sprinkle sugar came look amazing taste great guess thought really went way really took minutes ordering \n",
      "Original summary: the best \n",
      "Predicted summary:  great flavor\n",
      "\n",
      "\n",
      "Review: expecting terms company reputation excellent home delivery products \n",
      "Original summary: disappointing \n",
      "Predicted summary:  great price\n",
      "\n",
      "\n",
      "Review: love asparagus recently never pickled asparagus oh goodness friend introduced exact brand could believe great stuff tasted loved much bought six pack got jars left gonna need \n",
      "Original summary: bliss \n",
      "Predicted summary:  great product\n",
      "\n",
      "\n",
      "Review: diappointed flavor texture mix usually like low carb things tried diappointed specific one \n",
      "Original summary: low carb angel food puffs \n",
      "Predicted summary:  not bad\n",
      "\n",
      "\n",
      "Review: drinking tea long time used purchase doctor office available elsewhere glad buy amazon com drink tea throughout day like folks drink coffee wonderful taste \n",
      "Original summary: delicious tea \n",
      "Predicted summary:  great tea\n",
      "\n",
      "\n",
      "Review: one best teas ever tasted clean bright fresh great delivery quality try \n",
      "Original summary: the best tea ever bright clean \n",
      "Predicted summary:  great tea\n",
      "\n",
      "\n",
      "Review: love love green tea hard find area places internet charge big price usually get many boxes merchant definitely order seller thanks depend green tea fix everyday \n",
      "Original summary: tea review \n",
      "Predicted summary:  great tea\n",
      "\n",
      "\n",
      "Review: love tea helps curb eating day mom given friends try \n",
      "Original summary: wonderful tea \n",
      "Predicted summary:  great tea\n",
      "\n",
      "\n",
      "Review: italian lived italy years used buy cookies everyday breakfast italian espresso could find anywhere bay area great \n",
      "Original summary: great cookies \n",
      "Predicted summary:  great coffee\n",
      "\n",
      "\n",
      "Review: one cats allergic fish beef formula one eat much better ingredients prescription diets available vet kitties active soft shiny fur neither fat dry food reduces tartar buildup teeth also \n",
      "Original summary: wonderful food perfect for allergic kitties \n",
      "Predicted summary:  my cats love it\n",
      "\n",
      "\n",
      "Review: cats thrive extremely well dry cat food definitely much less hair ball throw ups fur great fit weight vendor ships extremely fast one top amazon suppliers book \n",
      "Original summary: cat food \n",
      "Predicted summary:  my cats love it\n",
      "\n",
      "\n",
      "Review: fan hot spicy ramen long time enjoy spice love ramen love product bad way expensive amazon per walmart \n",
      "Original summary: great love hot spicy bad price here \n",
      "Predicted summary:  great sauce\n",
      "\n",
      "\n",
      "Review: eating ramen noodles since little kid never found better flavor hot spicy chicken hot like sure good \n",
      "Original summary: my favorite ramen \n",
      "Predicted summary:  great flavor\n",
      "\n",
      "\n",
      "Review: love spicy ramen whatever reasons thing burns stomach badly burning sensation go away like hours sure healthy buy walmart way cheaper amazon \n",
      "Original summary: it \n",
      "Predicted summary:  great flavor\n",
      "\n",
      "\n",
      "Review: always fan ramen quick easy meal finding amazon decent price delivered door case amazing situation anyone find \n",
      "Original summary: amazing to the last bite \n",
      "Predicted summary:  love this stuff\n",
      "\n",
      "\n",
      "Review: must bit soup tastes imagine fire might taste typically like spicy food good flavor find case soup flavor killed burn \n",
      "Original summary: not for me \n",
      "Predicted summary:  not as good as other flavors\n",
      "\n",
      "\n",
      "Review: really loved spicy flavor found liking broth noodles usually opposite used heat might bother like hot hot foods might enough \n",
      "Original summary: great spicy flavor \n",
      "Predicted summary:  great sauce\n",
      "\n",
      "\n",
      "Review: bought allot different flavors happens one favorites getting soon \n",
      "Original summary: great flavor \n",
      "Predicted summary:  great flavor\n",
      "\n",
      "\n",
      "Review: love flavor ramen eat flavors anymore taste bland comparison convenience delivered home price amazon bad still cheaper run pick case grocery store \n",
      "Original summary: tastes great but is cheaper locally \n",
      "Predicted summary:  great taste\n",
      "\n",
      "\n",
      "Review: best investment ever made ginger unbelievable like real ginger spicy kick perfect sugar calms worth lbs getting soon use topper ginger cupcakes cookies \n",
      "Original summary: tastes awesome looks beautiful \n",
      "Predicted summary:  best hot sauce ever\n",
      "\n",
      "\n",
      "Review: delicious cannot get australian ginger live compares favorably australian ginger purchased enjoy without traveling \n",
      "Original summary: happy \n",
      "Predicted summary:  best ever\n",
      "\n",
      "\n",
      "Review: keep trying brands cheaper brands stupid ginger soooo worth money tender moist never let \n",
      "Original summary: simply the best \n",
      "Predicted summary:  great flavor\n",
      "\n",
      "\n",
      "Review: bought office give people something sweet snack bite size easier people grab couple pieces rather entire licorice stick complaint one bags broke open shipping \n",
      "Original summary: nice snack \n",
      "Predicted summary:  great snack\n",
      "\n",
      "\n",
      "Review: twizzlers brand licorice much better well known brand get package free good deal black cherry good taste strawberry taste delicate barely \n",
      "Original summary: good licorice \n",
      "Predicted summary:  licorice\n",
      "\n",
      "\n",
      "Review: love tasty infact think addicted buying packs bags reasonable going target getting bag savings bag use subscribe save several product love subscribe save \n",
      "Original summary: love these \n",
      "Predicted summary:  love these\n",
      "\n",
      "\n",
      "Review: one best salsas found long time stay away variety pack two come worth money \n",
      "Original summary: love the salsa \n",
      "Predicted summary:  great flavor\n",
      "\n",
      "\n",
      "Review: best cornmeal made regular cornbread hot water cornbread meal outstanding also fried oysters meal gave great texture flovor \n",
      "Original summary: awesome \n"
     ]
    },
    {
     "name": "stdout",
     "output_type": "stream",
     "text": [
      "Predicted summary:  best ever\n",
      "\n",
      "\n",
      "Review: fabulous marinade love use chicken either baked oven grill enough flavor flair even used dinner parties receive rave reviews guests definitely worth price super cheap super easy love \n",
      "Original summary: great marinade \n",
      "Predicted summary:  great seasoning\n",
      "\n",
      "\n",
      "Review: works chicken fish beef pork fast easy makes taste excellent plus buying bulk box stores \n",
      "Original summary: awesome stuff \n",
      "Predicted summary:  great seasoning\n",
      "\n",
      "\n",
      "Review: got brother cruise diet decided try one actually tastes pretty good \n",
      "Original summary: tastes good \n",
      "Predicted summary:  good stuff\n",
      "\n",
      "\n",
      "Review: singles sell store box singles sure amazon selling box singles hazelnut coffee creamer favorite truly good buy \n",
      "Original summary: rip off price \n",
      "Predicted summary:  not as good as hoped\n",
      "\n",
      "\n",
      "Review: deal healthiest salt use box last family year problem iodized sea salt raise blood pressure regular salt \n",
      "Original summary: great deal \n",
      "Predicted summary:  great salt\n",
      "\n",
      "\n",
      "Review: perfect size sea salt table picnic basket love shakes well clumping \n",
      "Original summary: great tasting sea salt with \n",
      "Predicted summary:  great salt\n",
      "\n",
      "\n",
      "Review: never heard brand tired trying typical pouches chicken sea really surprised thought bit better brands less seasoning \n",
      "Original summary: simple but good \n",
      "Predicted summary:  great taste\n",
      "\n",
      "\n",
      "Review: best tasting tuna pack make opinion make great go snack really satisfying tomato \n",
      "Original summary: tasty \n",
      "Predicted summary:  great\n",
      "\n",
      "\n"
     ]
    }
   ],
   "source": [
    "for i in range(100):\n",
    "    print(\"Review:\",seq2text(x_tr[i]))\n",
    "    print(\"Original summary:\",seq2summary(y_tr[i]))\n",
    "    print(\"Predicted summary:\",decode_sequence(x_tr[i].reshape(1,max_text_len)))\n",
    "    print(\"\\n\")"
   ]
  },
  {
   "cell_type": "code",
   "execution_count": null,
   "metadata": {},
   "outputs": [],
   "source": []
  }
 ],
 "metadata": {
  "kernelspec": {
   "display_name": "Python 3",
   "language": "python",
   "name": "python3"
  },
  "language_info": {
   "codemirror_mode": {
    "name": "ipython",
    "version": 3
   },
   "file_extension": ".py",
   "mimetype": "text/x-python",
   "name": "python",
   "nbconvert_exporter": "python",
   "pygments_lexer": "ipython3",
   "version": "3.7.1"
  }
 },
 "nbformat": 4,
 "nbformat_minor": 2
}
